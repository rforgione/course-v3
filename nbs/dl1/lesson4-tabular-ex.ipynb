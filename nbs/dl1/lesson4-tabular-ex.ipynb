{
 "cells": [
  {
   "cell_type": "markdown",
   "metadata": {},
   "source": [
    "# Tabular models"
   ]
  },
  {
   "cell_type": "code",
   "execution_count": 1,
   "metadata": {},
   "outputs": [],
   "source": [
    "from fastai.tabular import *"
   ]
  },
  {
   "cell_type": "markdown",
   "metadata": {},
   "source": [
    "Untar the data from `URLs.ADULT_SAMPLE` and save the result to `path`. Read the data from `path/'adult.csv'` to the variable `df`."
   ]
  },
  {
   "cell_type": "markdown",
   "metadata": {},
   "source": [
    "Set the `dep_var` to 'salary'. Set the `cat_names` to:\n",
    "- 'workclass'\n",
    "- 'education'\n",
    "- 'marital-status'\n",
    "- 'occupation'\n",
    "- 'relationship'\n",
    "- 'race'\n",
    "\n",
    "Set `cont_names` to:\n",
    "- 'age'\n",
    "- 'fnlwgt'\n",
    "- 'education-num'\n",
    "\n",
    "Set `procs` to:\n",
    "- FillMissing\n",
    "- Categorify\n",
    "- Normalize"
   ]
  },
  {
   "cell_type": "markdown",
   "metadata": {},
   "source": [
    "Create a `TabularList` from `df` at indices 800-1000 as the test set. Assign it to variable `test`."
   ]
  },
  {
   "cell_type": "markdown",
   "metadata": {},
   "source": [
    "Create a `TabularList.from_df` using the stuff you've created so far, split by index, label from the `dep_var` column, add the test set you created, and turn it all into a data bunch."
   ]
  },
  {
   "cell_type": "markdown",
   "metadata": {},
   "source": [
    "Show a batch."
   ]
  },
  {
   "cell_type": "markdown",
   "metadata": {},
   "source": [
    "Create a learner using `tabular_learner` with layers [200, 100] and using the `accuracy` metric."
   ]
  },
  {
   "cell_type": "markdown",
   "metadata": {},
   "source": [
    "Fit the learner with one epoch, lr=1e-2."
   ]
  },
  {
   "cell_type": "markdown",
   "metadata": {},
   "source": [
    "## Inference"
   ]
  },
  {
   "cell_type": "markdown",
   "metadata": {},
   "source": [
    "Get a single row."
   ]
  },
  {
   "cell_type": "markdown",
   "metadata": {},
   "source": [
    "Call learn.predict on it."
   ]
  }
 ],
 "metadata": {
  "kernelspec": {
   "display_name": "Python 3",
   "language": "python",
   "name": "python3"
  },
  "language_info": {
   "codemirror_mode": {
    "name": "ipython",
    "version": 3
   },
   "file_extension": ".py",
   "mimetype": "text/x-python",
   "name": "python",
   "nbconvert_exporter": "python",
   "pygments_lexer": "ipython3",
   "version": "3.6.8"
  }
 },
 "nbformat": 4,
 "nbformat_minor": 2
}
