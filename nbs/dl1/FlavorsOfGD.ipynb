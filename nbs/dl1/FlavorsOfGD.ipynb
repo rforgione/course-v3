{
 "cells": [
  {
   "cell_type": "code",
   "execution_count": 1,
   "metadata": {
    "collapsed": true
   },
   "outputs": [],
   "source": [
    "%matplotlib inline"
   ]
  },
  {
   "cell_type": "code",
   "execution_count": 2,
   "metadata": {
    "collapsed": true
   },
   "outputs": [],
   "source": [
    "import numpy as np\n",
    "from numpy.random import normal\n",
    "from matplotlib import pyplot as plt\n",
    "import seaborn as sns\n",
    "sns.set()"
   ]
  },
  {
   "cell_type": "code",
   "execution_count": 3,
   "metadata": {
    "collapsed": true
   },
   "outputs": [],
   "source": [
    "import torch"
   ]
  },
  {
   "cell_type": "markdown",
   "metadata": {},
   "source": [
    "# Generate Some Data"
   ]
  },
  {
   "cell_type": "code",
   "execution_count": 99,
   "metadata": {
    "collapsed": true
   },
   "outputs": [],
   "source": [
    "a, b = 30, 15"
   ]
  },
  {
   "cell_type": "code",
   "execution_count": 100,
   "metadata": {},
   "outputs": [],
   "source": [
    "x = np.linspace(0, 100, 1000)"
   ]
  },
  {
   "cell_type": "code",
   "execution_count": 101,
   "metadata": {
    "collapsed": true
   },
   "outputs": [],
   "source": [
    "y = a * x + b"
   ]
  },
  {
   "cell_type": "code",
   "execution_count": 102,
   "metadata": {},
   "outputs": [
    {
     "data": {
      "text/plain": [
       "[<matplotlib.lines.Line2D at 0x7f30eb04c358>]"
      ]
     },
     "execution_count": 102,
     "metadata": {},
     "output_type": "execute_result"
    },
    {
     "data": {
      "image/png": "[encoded data removed]",
      "text/plain": [
       "<Figure size 432x288 with 1 Axes>"
      ]
     },
     "metadata": {},
     "output_type": "display_data"
    }
   ],
   "source": [
    "fig = plt.figure()\n",
    "ax = fig.add_subplot(111)\n",
    "ax.plot(x,y)"
   ]
  },
  {
   "cell_type": "code",
   "execution_count": 116,
   "metadata": {
    "collapsed": true
   },
   "outputs": [],
   "source": [
    "x_train = np.linspace(0, 100, 100)"
   ]
  },
  {
   "cell_type": "code",
   "execution_count": 117,
   "metadata": {
    "collapsed": true
   },
   "outputs": [],
   "source": [
    "y_train = a * x_train + b + normal(size=len(x_train))"
   ]
  },
  {
   "cell_type": "code",
   "execution_count": 105,
   "metadata": {},
   "outputs": [
    {
     "data": {
      "text/plain": [
       "[<matplotlib.lines.Line2D at 0x7f30eb2e8630>]"
      ]
     },
     "execution_count": 105,
     "metadata": {},
     "output_type": "execute_result"
    },
    {
     "data": {
      "image/png": "[encoded data removed]",
      "text/plain": [
       "<Figure size 432x288 with 1 Axes>"
      ]
     },
     "metadata": {},
     "output_type": "display_data"
    }
   ],
   "source": [
    "fig = plt.figure()\n",
    "ax = fig.add_subplot(111)\n",
    "ax.scatter(x_train, y_train)\n",
    "ax.plot(x, y, color=\"red\")"
   ]
  },
  {
   "cell_type": "markdown",
   "metadata": {},
   "source": [
    "# Basic SGD"
   ]
  },
  {
   "cell_type": "code",
   "execution_count": 106,
   "metadata": {},
   "outputs": [
    {
     "name": "stdout",
     "output_type": "stream",
     "text": [
      "The most recent avg. loss after epoch 0 is 3060577.3116064374\n",
      "a_hat is 20.25167818562907\n",
      "b_hat is 0.30299507299488154\n",
      "The most recent avg. loss after epoch 10000 is 19.776452355586915\n",
      "a_hat is 30.133468627534512\n",
      "b_hat is 6.124610991374234\n",
      "The most recent avg. loss after epoch 20000 is 7.859625776850287\n",
      "a_hat is 30.08249319357843\n",
      "b_hat is 9.539878038970278\n",
      "The most recent avg. loss after epoch 30000 is 3.540399243851789\n",
      "a_hat is 30.05180413167792\n",
      "b_hat is 11.595992792613108\n",
      "The most recent avg. loss after epoch 40000 is 1.9749054674591013\n",
      "a_hat is 30.033328202249937\n",
      "b_hat is 12.833848521383567\n",
      "Best loss:  1.4075285680262726\n"
     ]
    }
   ],
   "source": [
    "epochs = 50000\n",
    "a_hat, b_hat = 0, 0\n",
    "lr = 1e-4\n",
    "basic_losses = []\n",
    "\n",
    "for i in range(epochs):\n",
    "    basic_losses.append([])\n",
    "    grad_as = []\n",
    "    grad_bs = []\n",
    "    predictions = np.dot(a_hat, x_train) + b_hat\n",
    "    loss = (predictions - y_train)**2\n",
    "    basic_losses[-1].append(loss.mean())\n",
    "    grad_b = (2 * (predictions - y_train)).mean()\n",
    "    grad_a = (2 * (predictions - y_train) * x_train).mean()\n",
    "    a_hat = a_hat - grad_a * lr\n",
    "    b_hat = b_hat - grad_b * lr\n",
    "    if (i % 10000 == 0):\n",
    "        print(\"The most recent avg. loss after epoch %s is %s\" % (i, np.mean(basic_losses[-1])))\n",
    "        print(\"a_hat is %s\" % a_hat)\n",
    "        print(\"b_hat is %s\" % b_hat)\n",
    "print(\"Best loss: \", min(map(lambda x: np.mean(x), basic_losses)))"
   ]
  },
  {
   "cell_type": "code",
   "execution_count": 12,
   "metadata": {},
   "outputs": [
    {
     "data": {
      "text/plain": [
       "<matplotlib.collections.PathCollection at 0x7f30e888ee48>"
      ]
     },
     "execution_count": 12,
     "metadata": {},
     "output_type": "execute_result"
    },
    {
     "data": {
      "image/png": "[encoded data removed]",
      "text/plain": [
       "<Figure size 432x288 with 1 Axes>"
      ]
     },
     "metadata": {},
     "output_type": "display_data"
    }
   ],
   "source": [
    "fig = plt.figure()\n",
    "ax = fig.add_subplot(111)\n",
    "ax.plot(x_train * a_hat + b_hat)\n",
    "ax.plot(x_train * a + b, color=\"red\")\n",
    "ax.scatter(x_train, y_train)\n",
    "ax.scatter(x, y, color=\"red\")"
   ]
  },
  {
   "cell_type": "code",
   "execution_count": 13,
   "metadata": {},
   "outputs": [
    {
     "data": {
      "image/png": "[encoded data removed]",
      "text/plain": [
       "<Figure size 432x288 with 1 Axes>"
      ]
     },
     "metadata": {},
     "output_type": "display_data"
    }
   ],
   "source": [
    "def plot_losses(losses, xlim=5):\n",
    "    fig = plt.figure()\n",
    "    ax = fig.add_subplot(111)\n",
    "    ax.set_xlim(0,xlim)\n",
    "    ax.plot(list(map(lambda x: np.mean(x), losses)))\n",
    "plot_losses(basic_losses[1:], 1000)"
   ]
  },
  {
   "cell_type": "code",
   "execution_count": 14,
   "metadata": {},
   "outputs": [
    {
     "name": "stdout",
     "output_type": "stream",
     "text": [
      "29.99256923512227 14.934871562451411\n"
     ]
    }
   ],
   "source": [
    "print(a_hat, b_hat)"
   ]
  },
  {
   "cell_type": "markdown",
   "metadata": {},
   "source": [
    "## SGD Basic - PyTorch Version"
   ]
  },
  {
   "cell_type": "code",
   "execution_count": 107,
   "metadata": {},
   "outputs": [],
   "source": [
    "w = torch.nn.Parameter(torch.tensor([0.,0.]).double())"
   ]
  },
  {
   "cell_type": "code",
   "execution_count": 108,
   "metadata": {},
   "outputs": [],
   "source": [
    "x_train_torch = torch.tensor(np.concatenate((x_train[:,np.newaxis], np.ones((len(x_train)))[:,np.newaxis]), axis=1)).double()"
   ]
  },
  {
   "cell_type": "code",
   "execution_count": 109,
   "metadata": {},
   "outputs": [
    {
     "data": {
      "text/plain": [
       "(torch.Size([100, 2]), torch.Size([2]))"
      ]
     },
     "execution_count": 109,
     "metadata": {},
     "output_type": "execute_result"
    }
   ],
   "source": [
    "x_train_torch.shape, w.shape"
   ]
  },
  {
   "cell_type": "code",
   "execution_count": 110,
   "metadata": {},
   "outputs": [
    {
     "data": {
      "text/plain": [
       "tensor([[0.0000, 1.0000],\n",
       "        [1.0101, 1.0000],\n",
       "        [2.0202, 1.0000],\n",
       "        [3.0303, 1.0000],\n",
       "        [4.0404, 1.0000]], dtype=torch.float64)"
      ]
     },
     "execution_count": 110,
     "metadata": {},
     "output_type": "execute_result"
    }
   ],
   "source": [
    "x_train_torch[:5]"
   ]
  },
  {
   "cell_type": "code",
   "execution_count": 111,
   "metadata": {
    "collapsed": true
   },
   "outputs": [],
   "source": [
    "def mse(y_true, y_pred): return ((y_true - y_pred)**2).mean()"
   ]
  },
  {
   "cell_type": "code",
   "execution_count": 115,
   "metadata": {},
   "outputs": [
    {
     "name": "stderr",
     "output_type": "stream",
     "text": [
      "/home/paperspace/anaconda3/lib/python3.6/site-packages/ipykernel_launcher.py:1: UserWarning: To copy construct from a tensor, it is recommended to use sourceTensor.clone().detach() or sourceTensor.clone().detach().requires_grad_(True), rather than torch.tensor(sourceTensor).\n",
      "  \"\"\"Entry point for launching an IPython kernel.\n"
     ]
    }
   ],
   "source": [
    "y_train_torch = torch.tensor(y_train)"
   ]
  },
  {
   "cell_type": "code",
   "execution_count": 113,
   "metadata": {},
   "outputs": [
    {
     "name": "stdout",
     "output_type": "stream",
     "text": [
      "tensor(3060577.3116, dtype=torch.float64, grad_fn=<MeanBackward1>)\n",
      "tensor(19.7765, dtype=torch.float64, grad_fn=<MeanBackward1>)\n",
      "tensor(7.8596, dtype=torch.float64, grad_fn=<MeanBackward1>)\n",
      "tensor(3.5404, dtype=torch.float64, grad_fn=<MeanBackward1>)\n",
      "tensor(1.9749, dtype=torch.float64, grad_fn=<MeanBackward1>)\n"
     ]
    }
   ],
   "source": [
    "lr = 1e-4\n",
    "for i in range(50000):\n",
    "    pred = x_train_torch@w\n",
    "    loss = mse(y_train_torch, pred)\n",
    "    if i % 10000 == 0: print(loss)\n",
    "    loss.backward()\n",
    "    with torch.no_grad():\n",
    "        w.sub_(lr * w.grad)\n",
    "        w.grad.zero_() "
   ]
  },
  {
   "cell_type": "markdown",
   "metadata": {},
   "source": [
    "# Momentum"
   ]
  },
  {
   "cell_type": "code",
   "execution_count": 142,
   "metadata": {},
   "outputs": [
    {
     "name": "stdout",
     "output_type": "stream",
     "text": [
      "The most recent loss after epoch 0 is 3060464.207543531\n",
      "a_hat is 2.025129188316874\n",
      "b_hat is 0.030301580431714013\n",
      "The most recent loss after epoch 10000 is 20.867970269894553\n",
      "a_hat is 30.12982141368765\n",
      "b_hat is 6.3303803084961014\n",
      "The most recent loss after epoch 20000 is 8.05315776103057\n",
      "a_hat is 30.076948670102453\n",
      "b_hat is 9.872763862073834\n",
      "The most recent loss after epoch 30000 is 3.4106126184887438\n",
      "a_hat is 30.045124741889197\n",
      "b_hat is 12.004912721178007\n",
      "The most recent loss after epoch 40000 is 1.7287132238911138\n",
      "a_hat is 30.02597002552214\n",
      "b_hat is 13.28824601601219\n"
     ]
    }
   ],
   "source": [
    "epochs = 50000\n",
    "a_hat, b_hat = 0., 0.\n",
    "lr = 1e-4\n",
    "mom = 0.9\n",
    "mom_losses = []\n",
    "grad_a = 0.0\n",
    "grad_b = 0.0\n",
    "for i in range(epochs):\n",
    "    mom_losses.append([])\n",
    "    iter_num = len(x_train) * i + j\n",
    "    prediction = np.dot(a_hat, x_train) + b_hat\n",
    "    loss = np.mean((prediction - y_train)**2)\n",
    "    mom_losses[-1].append(loss)\n",
    "    grad_a = np.mean(2 * (prediction - y_train) * x_train) * (1 - mom) + grad_a * mom\n",
    "    grad_b = np.mean(2 * (prediction - y_train)) * (1 - mom) + grad_b * mom\n",
    "    a_hat = a_hat - grad_a * lr\n",
    "    b_hat = b_hat - grad_b * lr\n",
    "    if (i % 10000 == 0):\n",
    "        print(\"The most recent loss after epoch %s is %s\" % (i, loss))\n",
    "        print(\"a_hat is %s\" % a_hat)\n",
    "        print(\"b_hat is %s\" % b_hat)\n",
    "# print(\"Best loss: \", min(mom_losses))"
   ]
  },
  {
   "cell_type": "code",
   "execution_count": 121,
   "metadata": {
    "collapsed": true
   },
   "outputs": [],
   "source": [
    "def loss_list(losses):\n",
    "    return list(map(lambda x: np.mean(x), losses))"
   ]
  },
  {
   "cell_type": "code",
   "execution_count": 122,
   "metadata": {},
   "outputs": [
    {
     "data": {
      "text/plain": [
       "[<matplotlib.lines.Line2D at 0x7f30eb1e4d68>]"
      ]
     },
     "execution_count": 122,
     "metadata": {},
     "output_type": "execute_result"
    },
    {
     "data": {
      "image/png": "[encoded data removed]",
      "text/plain": [
       "<Figure size 432x288 with 1 Axes>"
      ]
     },
     "metadata": {},
     "output_type": "display_data"
    }
   ],
   "source": [
    "fig = plt.figure()\n",
    "ax = fig.add_subplot(111)\n",
    "# momentum_losses = losses\n",
    "ax.set_xlim(0,3000)\n",
    "ax.set_ylim(0,20)\n",
    "plt.plot(loss_list(mom_losses), color=\"blue\")\n",
    "plt.plot(loss_list(basic_losses), color=\"red\")\n",
    "# plot_losses(losses[1:], 1000)"
   ]
  },
  {
   "cell_type": "markdown",
   "metadata": {},
   "source": [
    "We see that the model converges a bit more slowly, but hits a better loss -- 1.72 v.s. 2.04."
   ]
  },
  {
   "cell_type": "markdown",
   "metadata": {},
   "source": [
    "## Momentum - PyTorch Version"
   ]
  },
  {
   "cell_type": "code",
   "execution_count": 146,
   "metadata": {},
   "outputs": [
    {
     "name": "stdout",
     "output_type": "stream",
     "text": [
      "tensor(3060577.3116, dtype=torch.float64, grad_fn=<MeanBackward1>)\n",
      "tensor(19.7782, dtype=torch.float64, grad_fn=<MeanBackward1>)\n",
      "tensor(7.8602, dtype=torch.float64, grad_fn=<MeanBackward1>)\n",
      "tensor(3.5406, dtype=torch.float64, grad_fn=<MeanBackward1>)\n",
      "tensor(1.9750, dtype=torch.float64, grad_fn=<MeanBackward1>)\n"
     ]
    }
   ],
   "source": [
    "w = torch.nn.Parameter(torch.tensor([0.,0.]).double())\n",
    "lr = 1e-4\n",
    "mom = 0.9\n",
    "grad = torch.tensor([0,0]).double()\n",
    "for i in range(50000):\n",
    "    pred = x_train_torch@w\n",
    "    loss = mse(y_train_torch, pred)\n",
    "    if i % 10000 == 0: print(loss)\n",
    "    loss.backward()\n",
    "    with torch.no_grad():\n",
    "        grad_mom = mom * grad + (1 - mom) * w.grad\n",
    "        w.sub_(lr * grad_mom)\n",
    "        grad = w.grad\n",
    "        w.grad.zero_() "
   ]
  },
  {
   "cell_type": "markdown",
   "metadata": {},
   "source": [
    "# RMSProp"
   ]
  },
  {
   "cell_type": "code",
   "execution_count": 98,
   "metadata": {
    "scrolled": false
   },
   "outputs": [
    {
     "name": "stdout",
     "output_type": "stream",
     "text": [
      "The most recent after epoch 0 is 802017.8116038730879\n",
      "a_hat is 14.751660850007654506\n",
      "b_hat is 2.5909878274131463779\n",
      "The most recent after epoch 1000 is 2.844305886980223356\n",
      "a_hat is 29.975564101891991317\n",
      "b_hat is 17.235959257561684036\n",
      "The most recent after epoch 2000 is 2.2803998817741332607\n",
      "a_hat is 29.982413759749922543\n",
      "b_hat is 16.694623823447716057\n",
      "The most recent after epoch 3000 is 1.94728014045275623\n",
      "a_hat is 29.987831864937153697\n",
      "b_hat is 16.28757541300921167\n",
      "The most recent after epoch 4000 is 1.8815974721430217491\n",
      "a_hat is 29.989058841940001812\n",
      "b_hat is 16.192846042445374698\n",
      "The most recent after epoch 5000 is 1.8726053675090534326\n",
      "a_hat is 29.98923148032457333\n",
      "b_hat is 16.179368810715597841\n",
      "The most recent after epoch 6000 is 1.8713847188096447777\n",
      "a_hat is 29.989255009352629614\n",
      "b_hat is 16.177529140099791682\n",
      "The most recent after epoch 7000 is 1.8712190699593260839\n",
      "a_hat is 29.989258204122919019\n",
      "b_hat is 16.177279296972858658\n",
      "The most recent after epoch 8000 is 1.87119659106399978\n",
      "a_hat is 29.989258637692197032\n",
      "b_hat is 16.177245389242569917\n",
      "The most recent after epoch 9000 is 1.8711935406407286423\n",
      "a_hat is 29.989258696528859465\n",
      "b_hat is 16.177240787843109508\n",
      "The most recent after epoch 10000 is 1.8711931266934244651\n",
      "a_hat is 29.989258704513099362\n",
      "b_hat is 16.177240163424676607\n",
      "The most recent after epoch 11000 is 1.871193070520118405\n",
      "a_hat is 29.989258705596573588\n",
      "b_hat is 16.17724007869008251\n",
      "The most recent after epoch 12000 is 1.871193062897311649\n",
      "a_hat is 29.989258705743602761\n",
      "b_hat is 16.1772400671914633\n",
      "The most recent after epoch 13000 is 1.871193061862884787\n",
      "a_hat is 29.989258705763554855\n",
      "b_hat is 16.177240065631082412\n",
      "The most recent after epoch 14000 is 1.8711930617225114343\n",
      "a_hat is 29.989258705766262382\n",
      "b_hat is 16.177240065419336349\n",
      "The most recent after epoch 15000 is 1.8711930617034625218\n",
      "a_hat is 29.9892587057666298\n",
      "b_hat is 16.17724006539060207\n",
      "The most recent after epoch 16000 is 1.8711930617008777572\n",
      "a_hat is 29.989258705766679652\n",
      "b_hat is 16.177240065386703153\n",
      "The most recent after epoch 17000 is 1.8711930617005264704\n",
      "a_hat is 29.989258705766686432\n",
      "b_hat is 16.177240065386173186\n",
      "The most recent after epoch 18000 is 1.8711930617004781802\n",
      "a_hat is 29.989258705766687363\n",
      "b_hat is 16.177240065386100421\n",
      "The most recent after epoch 19000 is 1.8711930617004745676\n",
      "a_hat is 29.98925870576668743\n",
      "b_hat is 16.177240065386094903\n",
      "Best loss:  1.8711930617004745675\n"
     ]
    }
   ],
   "source": [
    "epochs = 20000\n",
    "a_hat, b_hat = 0, 0\n",
    "lr = 1e-3\n",
    "rms_param = 0.3\n",
    "rms_losses = []\n",
    "grad_bs = []\n",
    "grad_as = []\n",
    "for i in range(epochs):\n",
    "    rms_losses.append([])\n",
    "    for j in range(len(x_train)):\n",
    "        iter_num = i * len(x_train) + j\n",
    "        prediction = a_hat * x_train[j] + b_hat\n",
    "        loss = (prediction - y_train[j])**2\n",
    "        rms_losses[-1].append(loss)\n",
    "        grad_bs.append(2 * (prediction - y_train[j]))\n",
    "        grad_as.append(2 * (prediction - y_train[j]) * x_train[j])\n",
    "        if (iter_num >= 10):\n",
    "            a_hat = a_hat - np.divide(grad_as[iter_num]*lr, np.sqrt(rms_param*np.longdouble(grad_as[iter_num - 1])**2 + (1 - rms_param)*np.longdouble(grad_as[iter_num])**2))\n",
    "            b_hat = b_hat - np.divide(grad_bs[iter_num]*lr, np.sqrt(rms_param*np.longdouble(grad_bs[iter_num - 1])**2 + (1 - rms_param)*np.longdouble(grad_bs[iter_num])**2))\n",
    "        else:\n",
    "            a_hat = a_hat - grad_as[iter_num] * lr\n",
    "            b_hat = b_hat - grad_bs[iter_num] * lr           \n",
    "    if (i % 1000 == 0):\n",
    "        print(\"The most recent after epoch %s is %s\" % (i, np.mean(rms_losses[-1])))\n",
    "        print(\"a_hat is %s\" % a_hat)\n",
    "        print(\"b_hat is %s\" % b_hat)\n",
    "print(\"Best loss: \", min(map(lambda x: np.mean(x), rms_losses)))"
   ]
  },
  {
   "cell_type": "code",
   "execution_count": 117,
   "metadata": {
    "scrolled": true
   },
   "outputs": [
    {
     "data": {
      "text/plain": [
       "[<matplotlib.lines.Line2D at 0x7f31149cc470>]"
      ]
     },
     "execution_count": 117,
     "metadata": {},
     "output_type": "execute_result"
    },
    {
     "data": {
      "image/png": "[encoded data removed]",
      "text/plain": [
       "<Figure size 432x288 with 1 Axes>"
      ]
     },
     "metadata": {},
     "output_type": "display_data"
    }
   ],
   "source": [
    "fig = plt.figure()\n",
    "ax = fig.add_subplot(111)\n",
    "# momentum_losses = losses\n",
    "ax.set_xlim(0,5000)\n",
    "ax.set_ylim(0,10)\n",
    "plt.plot(loss_list(mom_losses), color=\"blue\")\n",
    "plt.plot(loss_list(basic_losses), color=\"red\")\n",
    "plt.plot(loss_list(rms_losses), color=\"green\")"
   ]
  },
  {
   "cell_type": "markdown",
   "metadata": {},
   "source": [
    "# Adam"
   ]
  },
  {
   "cell_type": "code",
   "execution_count": 100,
   "metadata": {},
   "outputs": [
    {
     "name": "stdout",
     "output_type": "stream",
     "text": [
      "The most recent after epoch 0 is 19955.431978851429259\n",
      "a_hat is 27.836912111528414125\n",
      "b_hat is 5.63060179666048893\n",
      "The most recent after epoch 1000 is 1.7871369178379331396\n",
      "a_hat is 29.99174046201688297\n",
      "b_hat is 15.931307885528224598\n",
      "The most recent after epoch 2000 is 1.7931569036606346878\n",
      "a_hat is 29.991582977362539445\n",
      "b_hat is 15.9459713023267433615\n",
      "The most recent after epoch 3000 is 1.7931569036606362768\n",
      "a_hat is 29.991582977362539407\n",
      "b_hat is 15.945971302326747281\n",
      "The most recent after epoch 4000 is 1.7931569036606362768\n",
      "a_hat is 29.991582977362539407\n",
      "b_hat is 15.945971302326747281\n",
      "The most recent after epoch 5000 is 1.7931569036606362768\n",
      "a_hat is 29.991582977362539407\n",
      "b_hat is 15.945971302326747281\n",
      "The most recent after epoch 6000 is 1.7931569036606362768\n",
      "a_hat is 29.991582977362539407\n",
      "b_hat is 15.945971302326747281\n",
      "The most recent after epoch 7000 is 1.7931569036606362768\n",
      "a_hat is 29.991582977362539407\n",
      "b_hat is 15.945971302326747281\n",
      "The most recent after epoch 8000 is 1.7931569036606362768\n",
      "a_hat is 29.991582977362539407\n",
      "b_hat is 15.945971302326747281\n",
      "The most recent after epoch 9000 is 1.7931569036606362768\n",
      "a_hat is 29.991582977362539407\n",
      "b_hat is 15.945971302326747281\n",
      "The most recent after epoch 10000 is 1.7931569036606362768\n",
      "a_hat is 29.991582977362539407\n",
      "b_hat is 15.945971302326747281\n",
      "The most recent after epoch 11000 is 1.7931569036606362768\n",
      "a_hat is 29.991582977362539407\n",
      "b_hat is 15.945971302326747281\n",
      "The most recent after epoch 12000 is 1.7931569036606362768\n",
      "a_hat is 29.991582977362539407\n",
      "b_hat is 15.945971302326747281\n",
      "The most recent after epoch 13000 is 1.7931569036606362768\n",
      "a_hat is 29.991582977362539407\n",
      "b_hat is 15.945971302326747281\n",
      "The most recent after epoch 14000 is 1.7931569036606362768\n",
      "a_hat is 29.991582977362539407\n",
      "b_hat is 15.945971302326747281\n",
      "The most recent after epoch 15000 is 1.7931569036606362768\n",
      "a_hat is 29.991582977362539407\n",
      "b_hat is 15.945971302326747281\n",
      "The most recent after epoch 16000 is 1.7931569036606362768\n",
      "a_hat is 29.991582977362539407\n",
      "b_hat is 15.945971302326747281\n",
      "The most recent after epoch 17000 is 1.7931569036606362768\n",
      "a_hat is 29.991582977362539407\n",
      "b_hat is 15.945971302326747281\n",
      "The most recent after epoch 18000 is 1.7931569036606362768\n",
      "a_hat is 29.991582977362539407\n",
      "b_hat is 15.945971302326747281\n",
      "The most recent after epoch 19000 is 1.7931569036606362768\n",
      "a_hat is 29.991582977362539407\n",
      "b_hat is 15.945971302326747281\n",
      "Best loss:  1.4875943224168340427\n"
     ]
    }
   ],
   "source": [
    "epochs = 20000\n",
    "a_hat, b_hat = 0, 0\n",
    "lr = 3e-3\n",
    "rms_param = 0.3\n",
    "mom = 0.9\n",
    "adam_losses = []\n",
    "grad_bs = []\n",
    "grad_as = []\n",
    "for i in range(epochs):\n",
    "    adam_losses.append([])\n",
    "    for j in range(len(x_train)):\n",
    "        iter_num = i * len(x_train) + j\n",
    "        prediction = a_hat * x_train[j] + b_hat\n",
    "        loss = (prediction - y_train[j])**2\n",
    "        adam_losses[-1].append(loss)\n",
    "        grad_bs.append(2 * (prediction - y_train[j]))\n",
    "        grad_as.append(2 * (prediction - y_train[j]) * x_train[j])\n",
    "        if (iter_num >= 10):\n",
    "            a_hat = a_hat - (grad_as[iter_num] * (1 - mom) + grad_as[iter_num - 1] * mom) * np.divide(lr, np.sqrt(rms_param*np.longdouble(grad_as[iter_num - 1])**2 + (1 - rms_param)*np.longdouble(grad_as[iter_num])**2))\n",
    "            b_hat = b_hat - (grad_bs[iter_num] * (1 - mom) + grad_bs[iter_num - 1] * mom) * np.divide(lr, np.sqrt(rms_param*np.longdouble(grad_bs[iter_num - 1])**2 + (1 - rms_param)*np.longdouble(grad_bs[iter_num])**2))\n",
    "        else:\n",
    "            a_hat = a_hat - grad_as[iter_num] * lr\n",
    "            b_hat = b_hat - grad_bs[iter_num] * lr           \n",
    "    if (i % 1000 == 0):\n",
    "        print(\"The most recent after epoch %s is %s\" % (i, np.mean(adam_losses[-1])))\n",
    "        print(\"a_hat is %s\" % a_hat)\n",
    "        print(\"b_hat is %s\" % b_hat)\n",
    "print(\"Best loss: \", min(map(lambda x: np.mean(x), adam_losses)))"
   ]
  },
  {
   "cell_type": "code",
   "execution_count": 118,
   "metadata": {
    "scrolled": true
   },
   "outputs": [
    {
     "data": {
      "text/plain": [
       "[<matplotlib.lines.Line2D at 0x7f311491b2e8>]"
      ]
     },
     "execution_count": 118,
     "metadata": {},
     "output_type": "execute_result"
    },
    {
     "data": {
      "image/png": "[encoded data removed]",
      "text/plain": [
       "<Figure size 432x288 with 1 Axes>"
      ]
     },
     "metadata": {},
     "output_type": "display_data"
    }
   ],
   "source": [
    "fig = plt.figure()\n",
    "ax = fig.add_subplot(111)\n",
    "# momentum_losses = losses\n",
    "ax.set_xlim(0,3000)\n",
    "ax.set_ylim(0,20)\n",
    "plt.plot(loss_list(mom_losses), color=\"blue\")\n",
    "plt.plot(loss_list(basic_losses), color=\"red\")\n",
    "plt.plot(loss_list(rms_losses), color=\"green\")\n",
    "plt.plot(loss_list(adam_losses), color=\"orange\")"
   ]
  },
  {
   "cell_type": "code",
   "execution_count": 82,
   "metadata": {},
   "outputs": [
    {
     "data": {
      "image/png": "[encoded data removed]",
      "text/plain": [
       "<Figure size 432x288 with 1 Axes>"
      ]
     },
     "metadata": {
      "needs_background": "light"
     },
     "output_type": "display_data"
    }
   ],
   "source": [
    "fig = plt.figure()\n",
    "ax = fig.add_subplot(111)\n",
    "ax.set_xlim(3000, 5000)\n",
    "ax.set_ylim(0,3)\n",
    "plt.plot(loss_list(mom_losses), color=\"blue\")\n",
    "plt.plot(loss_list(basic_losses), color=\"red\")\n",
    "plt.plot(loss_list(rms_losses), color=\"green\")\n",
    "plt.plot(loss_list(adam_losses), color=\"orange\")\n",
    "plt.show()"
   ]
  },
  {
   "cell_type": "markdown",
   "metadata": {},
   "source": [
    "Adam gives us the same initial \"pop\" that we get from RMSProp, but the loss curve is much smoother, and the loss is consistently lower throughout training. Adam gives us the lowest loss overall and is consistently lower than other methods until convergence. The momentum-only model is comparable to the Adam model, but I have a strong suspicion that we could turn the learning rate down to capture some additional gains. It would be interesting to see how the different optimizers respond to follow-on training cycles with lower learning rates. "
   ]
  }
 ],
 "metadata": {
  "kernelspec": {
   "display_name": "Python 3",
   "language": "python",
   "name": "python3"
  },
  "language_info": {
   "codemirror_mode": {
    "name": "ipython",
    "version": 3
   },
   "file_extension": ".py",
   "mimetype": "text/x-python",
   "name": "python",
   "nbconvert_exporter": "python",
   "pygments_lexer": "ipython3",
   "version": "3.6.8"
  }
 },
 "nbformat": 4,
 "nbformat_minor": 2
}
