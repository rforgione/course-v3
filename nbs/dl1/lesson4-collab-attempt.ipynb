{
 "cells": [
  {
   "cell_type": "code",
   "execution_count": 43,
   "metadata": {
    "collapsed": true
   },
   "outputs": [],
   "source": [
    "%matplotlib inline\n",
    "\n",
    "from fastai.collab import *\n",
    "from fastai.tabular import *"
   ]
  },
  {
   "cell_type": "markdown",
   "metadata": {},
   "source": [
    "## Collaborative filtering example"
   ]
  },
  {
   "cell_type": "code",
   "execution_count": 3,
   "metadata": {
    "collapsed": true
   },
   "outputs": [],
   "source": [
    "user,item,title = 'userId','movieId','title'"
   ]
  },
  {
   "cell_type": "markdown",
   "metadata": {},
   "source": [
    "Untar the data at url `URLs.ML_SAMPLE`."
   ]
  },
  {
   "cell_type": "code",
   "execution_count": 4,
   "metadata": {
    "collapsed": true
   },
   "outputs": [],
   "source": [
    "path = untar_data(URLs.ML_SAMPLE)"
   ]
  },
  {
   "cell_type": "markdown",
   "metadata": {},
   "source": [
    "Read the csv at `path/'ratings.csv'` to variable `ratings`, and show the first few rows."
   ]
  },
  {
   "cell_type": "code",
   "execution_count": 5,
   "metadata": {
    "collapsed": true
   },
   "outputs": [],
   "source": [
    "ratings = pd.read_csv(path/'ratings.csv')"
   ]
  },
  {
   "cell_type": "markdown",
   "metadata": {},
   "source": [
    "Create a `CollabDataBunch` from the df, using the ratings dataframe and a random seed of 42."
   ]
  },
  {
   "cell_type": "code",
   "execution_count": 6,
   "metadata": {
    "collapsed": true
   },
   "outputs": [],
   "source": [
    "data = CollabDataBunch.from_df(ratings, seed=42)"
   ]
  },
  {
   "cell_type": "markdown",
   "metadata": {},
   "source": [
    "Set a variable `y_range` as a 2-element array of [0, 5.5]."
   ]
  },
  {
   "cell_type": "code",
   "execution_count": 7,
   "metadata": {
    "collapsed": true
   },
   "outputs": [],
   "source": [
    "y_range = [0, 5.5]"
   ]
  },
  {
   "cell_type": "markdown",
   "metadata": {},
   "source": [
    "Create a `collab_learner` from the data bunch, with 50 factors and the y_range created above."
   ]
  },
  {
   "cell_type": "code",
   "execution_count": 8,
   "metadata": {
    "collapsed": true
   },
   "outputs": [],
   "source": [
    "learn = collab_learner(data, n_factors=50, y_range=y_range)"
   ]
  },
  {
   "cell_type": "markdown",
   "metadata": {},
   "source": [
    "Fit this learner for a cycle (lr = 5e-3)."
   ]
  },
  {
   "cell_type": "code",
   "execution_count": 9,
   "metadata": {},
   "outputs": [
    {
     "data": {
      "text/html": [
       "Total time: 00:01 <p><table style='width:300px; margin-bottom:10px'>\n",
       "  <tr>\n",
       "    <th>epoch</th>\n",
       "    <th>train_loss</th>\n",
       "    <th>valid_loss</th>\n",
       "    <th>time</th>\n",
       "  </tr>\n",
       "  <tr>\n",
       "    <th>0</th>\n",
       "    <th>1.479564</th>\n",
       "    <th>1.292616</th>\n",
       "    <th>00:01</th>\n",
       "  </tr>\n",
       "</table>\n"
      ],
      "text/plain": [
       "<IPython.core.display.HTML object>"
      ]
     },
     "metadata": {},
     "output_type": "display_data"
    }
   ],
   "source": [
    "learn.fit_one_cycle(1, 5e-3)"
   ]
  },
  {
   "cell_type": "markdown",
   "metadata": {},
   "source": [
    "## Movielens 100k"
   ]
  },
  {
   "cell_type": "markdown",
   "metadata": {},
   "source": [
    "Create a new variable `path` set to the result of `Config.data_path()/'ml-100k'`."
   ]
  },
  {
   "cell_type": "code",
   "execution_count": 27,
   "metadata": {},
   "outputs": [],
   "source": [
    "# ! wget http://files.grouplens.org/datasets/movielens/ml-100k.zip -P {Config.data_path()} && unzip {Config.data_path()}/'ml-100k.zip' -d {Config.data_path()}\n",
    "path = Config.data_path()/'ml-100k'"
   ]
  },
  {
   "cell_type": "code",
   "execution_count": 22,
   "metadata": {},
   "outputs": [
    {
     "data": {
      "text/plain": [
       "True"
      ]
     },
     "execution_count": 22,
     "metadata": {},
     "output_type": "execute_result"
    }
   ],
   "source": [
    "(Config.data_path()/'ml-100k').exists()"
   ]
  },
  {
   "cell_type": "markdown",
   "metadata": {},
   "source": [
    "Create another ratings dataframe, but this time:\n",
    "- the path should be `path/'u.data'`\n",
    "- the delimiter should be `\\t`\n",
    "- there should be no header\n",
    "- the column names should be `userId`, `movieId`, `rating`, and `timestamp`\n",
    "    \n",
    "Why do you need these extra specifications, as compared to the original dataframe?"
   ]
  },
  {
   "cell_type": "markdown",
   "metadata": {},
   "source": [
    "We need the extra options to get the dataframe into the format we want."
   ]
  },
  {
   "cell_type": "code",
   "execution_count": 28,
   "metadata": {},
   "outputs": [
    {
     "data": {
      "text/plain": [
       "[PosixPath('/home/paperspace/.fastai/data/ml-100k/u.genre'),\n",
       " PosixPath('/home/paperspace/.fastai/data/ml-100k/ua.base'),\n",
       " PosixPath('/home/paperspace/.fastai/data/ml-100k/u4.base'),\n",
       " PosixPath('/home/paperspace/.fastai/data/ml-100k/u.item'),\n",
       " PosixPath('/home/paperspace/.fastai/data/ml-100k/u5.test'),\n",
       " PosixPath('/home/paperspace/.fastai/data/ml-100k/u1.base'),\n",
       " PosixPath('/home/paperspace/.fastai/data/ml-100k/ua.test'),\n",
       " PosixPath('/home/paperspace/.fastai/data/ml-100k/README'),\n",
       " PosixPath('/home/paperspace/.fastai/data/ml-100k/u4.test'),\n",
       " PosixPath('/home/paperspace/.fastai/data/ml-100k/allbut.pl'),\n",
       " PosixPath('/home/paperspace/.fastai/data/ml-100k/ub.test'),\n",
       " PosixPath('/home/paperspace/.fastai/data/ml-100k/u.info'),\n",
       " PosixPath('/home/paperspace/.fastai/data/ml-100k/u.occupation'),\n",
       " PosixPath('/home/paperspace/.fastai/data/ml-100k/u5.base'),\n",
       " PosixPath('/home/paperspace/.fastai/data/ml-100k/u.user'),\n",
       " PosixPath('/home/paperspace/.fastai/data/ml-100k/mku.sh'),\n",
       " PosixPath('/home/paperspace/.fastai/data/ml-100k/u.data'),\n",
       " PosixPath('/home/paperspace/.fastai/data/ml-100k/u3.base'),\n",
       " PosixPath('/home/paperspace/.fastai/data/ml-100k/ub.base'),\n",
       " PosixPath('/home/paperspace/.fastai/data/ml-100k/u2.test'),\n",
       " PosixPath('/home/paperspace/.fastai/data/ml-100k/u3.test'),\n",
       " PosixPath('/home/paperspace/.fastai/data/ml-100k/u1.test'),\n",
       " PosixPath('/home/paperspace/.fastai/data/ml-100k/u2.base')]"
      ]
     },
     "execution_count": 28,
     "metadata": {},
     "output_type": "execute_result"
    }
   ],
   "source": [
    "path.ls()"
   ]
  },
  {
   "cell_type": "code",
   "execution_count": 29,
   "metadata": {},
   "outputs": [
    {
     "data": {
      "text/plain": [
       "True"
      ]
     },
     "execution_count": 29,
     "metadata": {},
     "output_type": "execute_result"
    }
   ],
   "source": [
    "(path/'u.data').exists()"
   ]
  },
  {
   "cell_type": "code",
   "execution_count": 30,
   "metadata": {},
   "outputs": [
    {
     "data": {
      "text/html": [
       "<div>\n",
       "<style scoped>\n",
       "    .dataframe tbody tr th:only-of-type {\n",
       "        vertical-align: middle;\n",
       "    }\n",
       "\n",
       "    .dataframe tbody tr th {\n",
       "        vertical-align: top;\n",
       "    }\n",
       "\n",
       "    .dataframe thead th {\n",
       "        text-align: right;\n",
       "    }\n",
       "</style>\n",
       "<table border=\"1\" class=\"dataframe\">\n",
       "  <thead>\n",
       "    <tr style=\"text-align: right;\">\n",
       "      <th></th>\n",
       "      <th>userId</th>\n",
       "      <th>movieId</th>\n",
       "      <th>rating</th>\n",
       "      <th>timestamp</th>\n",
       "    </tr>\n",
       "  </thead>\n",
       "  <tbody>\n",
       "    <tr>\n",
       "      <th>0</th>\n",
       "      <td>196</td>\n",
       "      <td>242</td>\n",
       "      <td>3</td>\n",
       "      <td>881250949</td>\n",
       "    </tr>\n",
       "    <tr>\n",
       "      <th>1</th>\n",
       "      <td>186</td>\n",
       "      <td>302</td>\n",
       "      <td>3</td>\n",
       "      <td>891717742</td>\n",
       "    </tr>\n",
       "    <tr>\n",
       "      <th>2</th>\n",
       "      <td>22</td>\n",
       "      <td>377</td>\n",
       "      <td>1</td>\n",
       "      <td>878887116</td>\n",
       "    </tr>\n",
       "    <tr>\n",
       "      <th>3</th>\n",
       "      <td>244</td>\n",
       "      <td>51</td>\n",
       "      <td>2</td>\n",
       "      <td>880606923</td>\n",
       "    </tr>\n",
       "    <tr>\n",
       "      <th>4</th>\n",
       "      <td>166</td>\n",
       "      <td>346</td>\n",
       "      <td>1</td>\n",
       "      <td>886397596</td>\n",
       "    </tr>\n",
       "  </tbody>\n",
       "</table>\n",
       "</div>"
      ],
      "text/plain": [
       "   userId  movieId  rating  timestamp\n",
       "0     196      242       3  881250949\n",
       "1     186      302       3  891717742\n",
       "2      22      377       1  878887116\n",
       "3     244       51       2  880606923\n",
       "4     166      346       1  886397596"
      ]
     },
     "execution_count": 30,
     "metadata": {},
     "output_type": "execute_result"
    }
   ],
   "source": [
    "ratings = pd.read_csv(path/'u.data', delimiter='\\t', header=None, names=['userId', 'movieId', 'rating', 'timestamp'])\n",
    "ratings.head()"
   ]
  },
  {
   "cell_type": "markdown",
   "metadata": {},
   "source": [
    "Create a movies CSV, with:\n",
    "- path = `path/'u.item'`\n",
    "- delimiter='|'\n",
    "- encoding='latin-1'\n",
    "- no header\n",
    "- names = ['movieId', 'title', 'date', 'N', 'url', 'g0'-'g18']\n",
    "\n",
    "Show the first few rows of this dataframe."
   ]
  },
  {
   "cell_type": "code",
   "execution_count": 31,
   "metadata": {
    "collapsed": true
   },
   "outputs": [],
   "source": [
    "movies = pd.read_csv(path/'u.item', delimiter='|', encoding='latin-1', header=None, names=['movieId', 'title', 'date', 'N', 'url', *['g%d' % i for i in range(19)]])"
   ]
  },
  {
   "cell_type": "code",
   "execution_count": 32,
   "metadata": {},
   "outputs": [
    {
     "data": {
      "text/plain": [
       "PosixPath('/home/paperspace/.fastai/data/ml-100k/u.item')"
      ]
     },
     "execution_count": 32,
     "metadata": {},
     "output_type": "execute_result"
    }
   ],
   "source": [
    "path/'u.item'"
   ]
  },
  {
   "cell_type": "code",
   "execution_count": 33,
   "metadata": {},
   "outputs": [
    {
     "data": {
      "text/html": [
       "<div>\n",
       "<style scoped>\n",
       "    .dataframe tbody tr th:only-of-type {\n",
       "        vertical-align: middle;\n",
       "    }\n",
       "\n",
       "    .dataframe tbody tr th {\n",
       "        vertical-align: top;\n",
       "    }\n",
       "\n",
       "    .dataframe thead th {\n",
       "        text-align: right;\n",
       "    }\n",
       "</style>\n",
       "<table border=\"1\" class=\"dataframe\">\n",
       "  <thead>\n",
       "    <tr style=\"text-align: right;\">\n",
       "      <th></th>\n",
       "      <th>movieId</th>\n",
       "      <th>title</th>\n",
       "      <th>date</th>\n",
       "      <th>N</th>\n",
       "      <th>url</th>\n",
       "      <th>g0</th>\n",
       "      <th>g1</th>\n",
       "      <th>g2</th>\n",
       "      <th>g3</th>\n",
       "      <th>g4</th>\n",
       "      <th>...</th>\n",
       "      <th>g9</th>\n",
       "      <th>g10</th>\n",
       "      <th>g11</th>\n",
       "      <th>g12</th>\n",
       "      <th>g13</th>\n",
       "      <th>g14</th>\n",
       "      <th>g15</th>\n",
       "      <th>g16</th>\n",
       "      <th>g17</th>\n",
       "      <th>g18</th>\n",
       "    </tr>\n",
       "  </thead>\n",
       "  <tbody>\n",
       "    <tr>\n",
       "      <th>0</th>\n",
       "      <td>1</td>\n",
       "      <td>Toy Story (1995)</td>\n",
       "      <td>01-Jan-1995</td>\n",
       "      <td>NaN</td>\n",
       "      <td>http://us.imdb.com/M/title-exact?Toy%20Story%2...</td>\n",
       "      <td>0</td>\n",
       "      <td>0</td>\n",
       "      <td>0</td>\n",
       "      <td>1</td>\n",
       "      <td>1</td>\n",
       "      <td>...</td>\n",
       "      <td>0</td>\n",
       "      <td>0</td>\n",
       "      <td>0</td>\n",
       "      <td>0</td>\n",
       "      <td>0</td>\n",
       "      <td>0</td>\n",
       "      <td>0</td>\n",
       "      <td>0</td>\n",
       "      <td>0</td>\n",
       "      <td>0</td>\n",
       "    </tr>\n",
       "    <tr>\n",
       "      <th>1</th>\n",
       "      <td>2</td>\n",
       "      <td>GoldenEye (1995)</td>\n",
       "      <td>01-Jan-1995</td>\n",
       "      <td>NaN</td>\n",
       "      <td>http://us.imdb.com/M/title-exact?GoldenEye%20(...</td>\n",
       "      <td>0</td>\n",
       "      <td>1</td>\n",
       "      <td>1</td>\n",
       "      <td>0</td>\n",
       "      <td>0</td>\n",
       "      <td>...</td>\n",
       "      <td>0</td>\n",
       "      <td>0</td>\n",
       "      <td>0</td>\n",
       "      <td>0</td>\n",
       "      <td>0</td>\n",
       "      <td>0</td>\n",
       "      <td>0</td>\n",
       "      <td>1</td>\n",
       "      <td>0</td>\n",
       "      <td>0</td>\n",
       "    </tr>\n",
       "    <tr>\n",
       "      <th>2</th>\n",
       "      <td>3</td>\n",
       "      <td>Four Rooms (1995)</td>\n",
       "      <td>01-Jan-1995</td>\n",
       "      <td>NaN</td>\n",
       "      <td>http://us.imdb.com/M/title-exact?Four%20Rooms%...</td>\n",
       "      <td>0</td>\n",
       "      <td>0</td>\n",
       "      <td>0</td>\n",
       "      <td>0</td>\n",
       "      <td>0</td>\n",
       "      <td>...</td>\n",
       "      <td>0</td>\n",
       "      <td>0</td>\n",
       "      <td>0</td>\n",
       "      <td>0</td>\n",
       "      <td>0</td>\n",
       "      <td>0</td>\n",
       "      <td>0</td>\n",
       "      <td>1</td>\n",
       "      <td>0</td>\n",
       "      <td>0</td>\n",
       "    </tr>\n",
       "    <tr>\n",
       "      <th>3</th>\n",
       "      <td>4</td>\n",
       "      <td>Get Shorty (1995)</td>\n",
       "      <td>01-Jan-1995</td>\n",
       "      <td>NaN</td>\n",
       "      <td>http://us.imdb.com/M/title-exact?Get%20Shorty%...</td>\n",
       "      <td>0</td>\n",
       "      <td>1</td>\n",
       "      <td>0</td>\n",
       "      <td>0</td>\n",
       "      <td>0</td>\n",
       "      <td>...</td>\n",
       "      <td>0</td>\n",
       "      <td>0</td>\n",
       "      <td>0</td>\n",
       "      <td>0</td>\n",
       "      <td>0</td>\n",
       "      <td>0</td>\n",
       "      <td>0</td>\n",
       "      <td>0</td>\n",
       "      <td>0</td>\n",
       "      <td>0</td>\n",
       "    </tr>\n",
       "    <tr>\n",
       "      <th>4</th>\n",
       "      <td>5</td>\n",
       "      <td>Copycat (1995)</td>\n",
       "      <td>01-Jan-1995</td>\n",
       "      <td>NaN</td>\n",
       "      <td>http://us.imdb.com/M/title-exact?Copycat%20(1995)</td>\n",
       "      <td>0</td>\n",
       "      <td>0</td>\n",
       "      <td>0</td>\n",
       "      <td>0</td>\n",
       "      <td>0</td>\n",
       "      <td>...</td>\n",
       "      <td>0</td>\n",
       "      <td>0</td>\n",
       "      <td>0</td>\n",
       "      <td>0</td>\n",
       "      <td>0</td>\n",
       "      <td>0</td>\n",
       "      <td>0</td>\n",
       "      <td>1</td>\n",
       "      <td>0</td>\n",
       "      <td>0</td>\n",
       "    </tr>\n",
       "  </tbody>\n",
       "</table>\n",
       "<p>5 rows × 24 columns</p>\n",
       "</div>"
      ],
      "text/plain": [
       "   movieId              title         date   N  \\\n",
       "0        1   Toy Story (1995)  01-Jan-1995 NaN   \n",
       "1        2   GoldenEye (1995)  01-Jan-1995 NaN   \n",
       "2        3  Four Rooms (1995)  01-Jan-1995 NaN   \n",
       "3        4  Get Shorty (1995)  01-Jan-1995 NaN   \n",
       "4        5     Copycat (1995)  01-Jan-1995 NaN   \n",
       "\n",
       "                                                 url  g0  g1  g2  g3  g4  ...  \\\n",
       "0  http://us.imdb.com/M/title-exact?Toy%20Story%2...   0   0   0   1   1  ...   \n",
       "1  http://us.imdb.com/M/title-exact?GoldenEye%20(...   0   1   1   0   0  ...   \n",
       "2  http://us.imdb.com/M/title-exact?Four%20Rooms%...   0   0   0   0   0  ...   \n",
       "3  http://us.imdb.com/M/title-exact?Get%20Shorty%...   0   1   0   0   0  ...   \n",
       "4  http://us.imdb.com/M/title-exact?Copycat%20(1995)   0   0   0   0   0  ...   \n",
       "\n",
       "   g9  g10  g11  g12  g13  g14  g15  g16  g17  g18  \n",
       "0   0    0    0    0    0    0    0    0    0    0  \n",
       "1   0    0    0    0    0    0    0    1    0    0  \n",
       "2   0    0    0    0    0    0    0    1    0    0  \n",
       "3   0    0    0    0    0    0    0    0    0    0  \n",
       "4   0    0    0    0    0    0    0    1    0    0  \n",
       "\n",
       "[5 rows x 24 columns]"
      ]
     },
     "execution_count": 33,
     "metadata": {},
     "output_type": "execute_result"
    }
   ],
   "source": [
    "movies.head()"
   ]
  },
  {
   "cell_type": "markdown",
   "metadata": {},
   "source": [
    "Take a look at the length of the ratings dataframe."
   ]
  },
  {
   "cell_type": "code",
   "execution_count": 34,
   "metadata": {},
   "outputs": [
    {
     "data": {
      "text/plain": [
       "100000"
      ]
     },
     "execution_count": 34,
     "metadata": {},
     "output_type": "execute_result"
    }
   ],
   "source": [
    "ratings.shape[0]"
   ]
  },
  {
   "cell_type": "markdown",
   "metadata": {},
   "source": [
    "Merge the ratings and the movie dataframes into one big one that has columns:\n",
    "- userId\n",
    "- movieId\n",
    "- rating\n",
    "- timestamp\n",
    "- title\n",
    "\n",
    "Print out the head of this dataframe."
   ]
  },
  {
   "cell_type": "code",
   "execution_count": 35,
   "metadata": {},
   "outputs": [
    {
     "data": {
      "text/plain": [
       "PosixPath('/home/paperspace/.fastai/data/ml-100k')"
      ]
     },
     "execution_count": 35,
     "metadata": {},
     "output_type": "execute_result"
    }
   ],
   "source": [
    "path"
   ]
  },
  {
   "cell_type": "code",
   "execution_count": 36,
   "metadata": {},
   "outputs": [
    {
     "data": {
      "text/html": [
       "<div>\n",
       "<style scoped>\n",
       "    .dataframe tbody tr th:only-of-type {\n",
       "        vertical-align: middle;\n",
       "    }\n",
       "\n",
       "    .dataframe tbody tr th {\n",
       "        vertical-align: top;\n",
       "    }\n",
       "\n",
       "    .dataframe thead th {\n",
       "        text-align: right;\n",
       "    }\n",
       "</style>\n",
       "<table border=\"1\" class=\"dataframe\">\n",
       "  <thead>\n",
       "    <tr style=\"text-align: right;\">\n",
       "      <th></th>\n",
       "      <th>userId</th>\n",
       "      <th>movieId</th>\n",
       "      <th>rating</th>\n",
       "      <th>timestamp</th>\n",
       "      <th>title</th>\n",
       "    </tr>\n",
       "  </thead>\n",
       "  <tbody>\n",
       "    <tr>\n",
       "      <th>0</th>\n",
       "      <td>196</td>\n",
       "      <td>242</td>\n",
       "      <td>3</td>\n",
       "      <td>881250949</td>\n",
       "      <td>Kolya (1996)</td>\n",
       "    </tr>\n",
       "    <tr>\n",
       "      <th>1</th>\n",
       "      <td>63</td>\n",
       "      <td>242</td>\n",
       "      <td>3</td>\n",
       "      <td>875747190</td>\n",
       "      <td>Kolya (1996)</td>\n",
       "    </tr>\n",
       "    <tr>\n",
       "      <th>2</th>\n",
       "      <td>226</td>\n",
       "      <td>242</td>\n",
       "      <td>5</td>\n",
       "      <td>883888671</td>\n",
       "      <td>Kolya (1996)</td>\n",
       "    </tr>\n",
       "    <tr>\n",
       "      <th>3</th>\n",
       "      <td>154</td>\n",
       "      <td>242</td>\n",
       "      <td>3</td>\n",
       "      <td>879138235</td>\n",
       "      <td>Kolya (1996)</td>\n",
       "    </tr>\n",
       "    <tr>\n",
       "      <th>4</th>\n",
       "      <td>306</td>\n",
       "      <td>242</td>\n",
       "      <td>5</td>\n",
       "      <td>876503793</td>\n",
       "      <td>Kolya (1996)</td>\n",
       "    </tr>\n",
       "  </tbody>\n",
       "</table>\n",
       "</div>"
      ],
      "text/plain": [
       "   userId  movieId  rating  timestamp         title\n",
       "0     196      242       3  881250949  Kolya (1996)\n",
       "1      63      242       3  875747190  Kolya (1996)\n",
       "2     226      242       5  883888671  Kolya (1996)\n",
       "3     154      242       3  879138235  Kolya (1996)\n",
       "4     306      242       5  876503793  Kolya (1996)"
      ]
     },
     "execution_count": 36,
     "metadata": {},
     "output_type": "execute_result"
    }
   ],
   "source": [
    "full = ratings.merge(movies, on='movieId').loc[:, ['userId', 'movieId', 'rating', 'timestamp', 'title']]\n",
    "full.head()"
   ]
  },
  {
   "cell_type": "markdown",
   "metadata": {},
   "source": [
    "Create a `CollabDataBunch` from this dataframe, with random seed 42, valid_pct 0.1, item_name 'movieId'."
   ]
  },
  {
   "cell_type": "code",
   "execution_count": 129,
   "metadata": {
    "collapsed": true
   },
   "outputs": [],
   "source": [
    "cdb = CollabDataBunch.from_df(full, seed=42, valid_pct=0.1, item_name='title')"
   ]
  },
  {
   "cell_type": "markdown",
   "metadata": {},
   "source": [
    "Show a batch from this dataframe."
   ]
  },
  {
   "cell_type": "code",
   "execution_count": 130,
   "metadata": {},
   "outputs": [
    {
     "data": {
      "text/html": [
       "<table border=\"1\" class=\"dataframe\">\n",
       "  <thead>\n",
       "    <tr style=\"text-align: right;\">\n",
       "      <th>userId</th>\n",
       "      <th>title</th>\n",
       "      <th>target</th>\n",
       "    </tr>\n",
       "  </thead>\n",
       "  <tbody>\n",
       "    <tr>\n",
       "      <td>151</td>\n",
       "      <td>Conspiracy Theory (1997)</td>\n",
       "      <td>3.0</td>\n",
       "    </tr>\n",
       "    <tr>\n",
       "      <td>320</td>\n",
       "      <td>Army of Darkness (1993)</td>\n",
       "      <td>5.0</td>\n",
       "    </tr>\n",
       "    <tr>\n",
       "      <td>758</td>\n",
       "      <td>Home for the Holidays (1995)</td>\n",
       "      <td>2.0</td>\n",
       "    </tr>\n",
       "    <tr>\n",
       "      <td>458</td>\n",
       "      <td>English Patient, The (1996)</td>\n",
       "      <td>4.0</td>\n",
       "    </tr>\n",
       "    <tr>\n",
       "      <td>561</td>\n",
       "      <td>Tin Cup (1996)</td>\n",
       "      <td>1.0</td>\n",
       "    </tr>\n",
       "  </tbody>\n",
       "</table>"
      ],
      "text/plain": [
       "<IPython.core.display.HTML object>"
      ]
     },
     "metadata": {},
     "output_type": "display_data"
    }
   ],
   "source": [
    "cdb.show_batch()"
   ]
  },
  {
   "cell_type": "markdown",
   "metadata": {},
   "source": [
    "Set `y_range` to [0, 5.5] once again."
   ]
  },
  {
   "cell_type": "code",
   "execution_count": 131,
   "metadata": {
    "collapsed": true
   },
   "outputs": [],
   "source": [
    "y_range = [0, 5.5]"
   ]
  },
  {
   "cell_type": "markdown",
   "metadata": {},
   "source": [
    "Create a collab_learner from the data bunch above, with 40 factors, using the y_range from above, with weight decay 1e-1."
   ]
  },
  {
   "cell_type": "code",
   "execution_count": 132,
   "metadata": {
    "collapsed": true
   },
   "outputs": [],
   "source": [
    "learn = collab_learner(cdb, n_factors=40, y_range=y_range, wd=1e-1)"
   ]
  },
  {
   "cell_type": "markdown",
   "metadata": {},
   "source": [
    "Find an appropriate learning rate."
   ]
  },
  {
   "cell_type": "code",
   "execution_count": 133,
   "metadata": {},
   "outputs": [
    {
     "data": {
      "text/html": [],
      "text/plain": [
       "<IPython.core.display.HTML object>"
      ]
     },
     "metadata": {},
     "output_type": "display_data"
    },
    {
     "name": "stdout",
     "output_type": "stream",
     "text": [
      "LR Finder is complete, type {learner_name}.recorder.plot() to see the graph.\n"
     ]
    }
   ],
   "source": [
    "learn.lr_find()"
   ]
  },
  {
   "cell_type": "code",
   "execution_count": 134,
   "metadata": {},
   "outputs": [
    {
     "data": {
      "image/png": "[encoded data removed]",
      "text/plain": [
       "<Figure size 432x288 with 1 Axes>"
      ]
     },
     "metadata": {},
     "output_type": "display_data"
    }
   ],
   "source": [
    "learn.recorder.plot(skip_end=15)"
   ]
  },
  {
   "cell_type": "markdown",
   "metadata": {},
   "source": [
    "If everything is correct so far, your learning rate should be somewhere around 5e-3."
   ]
  },
  {
   "cell_type": "markdown",
   "metadata": {},
   "source": [
    "Fit a 5-epoch cycle with your learning rate."
   ]
  },
  {
   "cell_type": "code",
   "execution_count": 135,
   "metadata": {},
   "outputs": [
    {
     "data": {
      "text/html": [
       "Total time: 00:45 <p><table style='width:300px; margin-bottom:10px'>\n",
       "  <tr>\n",
       "    <th>epoch</th>\n",
       "    <th>train_loss</th>\n",
       "    <th>valid_loss</th>\n",
       "    <th>time</th>\n",
       "  </tr>\n",
       "  <tr>\n",
       "    <th>0</th>\n",
       "    <th>0.921039</th>\n",
       "    <th>0.946324</th>\n",
       "    <th>00:09</th>\n",
       "  </tr>\n",
       "  <tr>\n",
       "    <th>1</th>\n",
       "    <th>0.872470</th>\n",
       "    <th>0.892294</th>\n",
       "    <th>00:09</th>\n",
       "  </tr>\n",
       "  <tr>\n",
       "    <th>2</th>\n",
       "    <th>0.772686</th>\n",
       "    <th>0.834110</th>\n",
       "    <th>00:09</th>\n",
       "  </tr>\n",
       "  <tr>\n",
       "    <th>3</th>\n",
       "    <th>0.654336</th>\n",
       "    <th>0.811339</th>\n",
       "    <th>00:09</th>\n",
       "  </tr>\n",
       "  <tr>\n",
       "    <th>4</th>\n",
       "    <th>0.558716</th>\n",
       "    <th>0.810298</th>\n",
       "    <th>00:08</th>\n",
       "  </tr>\n",
       "</table>\n"
      ],
      "text/plain": [
       "<IPython.core.display.HTML object>"
      ]
     },
     "metadata": {},
     "output_type": "display_data"
    }
   ],
   "source": [
    "learn.fit_one_cycle(5, 5e-3)"
   ]
  },
  {
   "cell_type": "markdown",
   "metadata": {},
   "source": [
    "The best losses should be in the low 0.8's. "
   ]
  },
  {
   "cell_type": "markdown",
   "metadata": {},
   "source": [
    "Save the model under the name `dotprod`."
   ]
  },
  {
   "cell_type": "code",
   "execution_count": 136,
   "metadata": {
    "collapsed": true
   },
   "outputs": [],
   "source": [
    "learn.save('dotprod')"
   ]
  },
  {
   "cell_type": "markdown",
   "metadata": {},
   "source": [
    "## Interpretation"
   ]
  },
  {
   "cell_type": "markdown",
   "metadata": {},
   "source": [
    "### Setup"
   ]
  },
  {
   "cell_type": "markdown",
   "metadata": {},
   "source": [
    "Load the `dotprod` model from above."
   ]
  },
  {
   "cell_type": "code",
   "execution_count": 137,
   "metadata": {},
   "outputs": [
    {
     "data": {
      "text/plain": [
       "CollabLearner(data=TabularDataBunch;\n",
       "\n",
       "Train: LabelList (90000 items)\n",
       "x: CollabList\n",
       "userId 196; title Kolya (1996); ,userId 63; title Kolya (1996); ,userId 226; title Kolya (1996); ,userId 154; title Kolya (1996); ,userId 306; title Kolya (1996); \n",
       "y: FloatList\n",
       "3.0,3.0,5.0,3.0,5.0\n",
       "Path: .;\n",
       "\n",
       "Valid: LabelList (10000 items)\n",
       "x: CollabList\n",
       "userId 498; title Casino (1995); ,userId 642; title Pocahontas (1995); ,userId 58; title 2001: A Space Odyssey (1968); ,userId 495; title Cat People (1982); ,userId 618; title Philadelphia (1993); \n",
       "y: FloatList\n",
       "3.0,5.0,4.0,3.0,3.0\n",
       "Path: .;\n",
       "\n",
       "Test: None, model=EmbeddingDotBias(\n",
       "  (u_weight): Embedding(944, 40)\n",
       "  (i_weight): Embedding(1654, 40)\n",
       "  (u_bias): Embedding(944, 1)\n",
       "  (i_bias): Embedding(1654, 1)\n",
       "), opt_func=functools.partial(<class 'torch.optim.adam.Adam'>, betas=(0.9, 0.99)), loss_func=FlattenedLoss of MSELoss(), metrics=[], true_wd=True, bn_wd=True, wd=0.1, train_bn=True, path=PosixPath('.'), model_dir='models', callback_fns=[functools.partial(<class 'fastai.basic_train.Recorder'>, add_time=True)], callbacks=[], layer_groups=[Sequential(\n",
       "  (0): Embedding(944, 40)\n",
       "  (1): Embedding(1654, 40)\n",
       "  (2): Embedding(944, 1)\n",
       "  (3): Embedding(1654, 1)\n",
       ")], add_time=True)"
      ]
     },
     "execution_count": 137,
     "metadata": {},
     "output_type": "execute_result"
    }
   ],
   "source": [
    "learn.load('dotprod')"
   ]
  },
  {
   "cell_type": "markdown",
   "metadata": {},
   "source": [
    "Group the `rating_movie` dataset by title, and get a count of the `rating` field. Sort the values descending, and return the titles of the top 1000 rated movies."
   ]
  },
  {
   "cell_type": "code",
   "execution_count": 148,
   "metadata": {},
   "outputs": [
    {
     "data": {
      "text/plain": [
       "array(['Star Wars (1977)', 'Contact (1997)', 'Fargo (1996)', 'Return of the Jedi (1983)', ..., 'Dark City (1998)',\n",
       "       'Waiting to Exhale (1995)', 'Jaws 3-D (1983)', 'Gang Related (1997)'], dtype=object)"
      ]
     },
     "execution_count": 148,
     "metadata": {},
     "output_type": "execute_result"
    }
   ],
   "source": [
    "full.groupby('title').count().sort_values('rating', ascending=False).index.values[:1000]"
   ]
  },
  {
   "cell_type": "markdown",
   "metadata": {},
   "source": [
    "### Movie bias"
   ]
  },
  {
   "cell_type": "markdown",
   "metadata": {},
   "source": [
    "Get the biases for the top movies using `learn.bias`. Hint: what should `is_item` be if we want movie biases?  What does the `item` variable tell us from the beginning of this notebook?"
   ]
  },
  {
   "cell_type": "markdown",
   "metadata": {},
   "source": [
    "`is_item` tells our collaborative filtering model how to distinguish between the fields representing the \"items\" in our data set, i.e. the things being rated, and the users rating them."
   ]
  },
  {
   "cell_type": "code",
   "execution_count": 143,
   "metadata": {},
   "outputs": [],
   "source": [
    "top_rated = full.groupby('title').count().sort_values('rating', ascending=False).index.values[:1000]\n",
    "# .index.sort_values(ascending=False)[:1000]"
   ]
  },
  {
   "cell_type": "code",
   "execution_count": 144,
   "metadata": {},
   "outputs": [
    {
     "data": {
      "text/plain": [
       "array(['Star Wars (1977)', 'Contact (1997)', 'Fargo (1996)', 'Return of the Jedi (1983)', 'Liar Liar (1997)',\n",
       "       'English Patient, The (1996)', 'Scream (1996)', 'Toy Story (1995)', 'Air Force One (1997)',\n",
       "       'Independence Day (ID4) (1996)'], dtype=object)"
      ]
     },
     "execution_count": 144,
     "metadata": {},
     "output_type": "execute_result"
    }
   ],
   "source": [
    "top_rated[:10]"
   ]
  },
  {
   "cell_type": "code",
   "execution_count": 176,
   "metadata": {},
   "outputs": [],
   "source": [
    "movie_bias = learn.bias(top_rated, is_item=True)"
   ]
  },
  {
   "cell_type": "markdown",
   "metadata": {},
   "source": [
    "Get the average movie rating by title. Then put together a list of 3-tuples, each with the bias of the movie, the title of the movie, and the mean rating of the movie, for each of the top movies. Call this `movie_ratings`."
   ]
  },
  {
   "cell_type": "code",
   "execution_count": 170,
   "metadata": {},
   "outputs": [],
   "source": [
    "avg_rating = full.groupby('title').mean()['rating']"
   ]
  },
  {
   "cell_type": "code",
   "execution_count": 171,
   "metadata": {},
   "outputs": [
    {
     "data": {
      "text/plain": [
       "title\n",
       "'Til There Was You (1997)    2.333333\n",
       "1-900 (1994)                 2.600000\n",
       "101 Dalmatians (1996)        2.908257\n",
       "12 Angry Men (1957)          4.344000\n",
       "187 (1997)                   3.024390\n",
       "Name: rating, dtype: float64"
      ]
     },
     "execution_count": 171,
     "metadata": {},
     "output_type": "execute_result"
    }
   ],
   "source": [
    "avg_rating.head()"
   ]
  },
  {
   "cell_type": "code",
   "execution_count": 177,
   "metadata": {},
   "outputs": [],
   "source": [
    "movie_ratings = [(bias, title, avg_rating.loc[title]) for bias, title in zip(movie_bias, top_rated)]"
   ]
  },
  {
   "cell_type": "code",
   "execution_count": 178,
   "metadata": {},
   "outputs": [
    {
     "data": {
      "text/plain": [
       "[(tensor(0.5282), 'Star Wars (1977)', 4.3584905660377355),\n",
       " (tensor(0.3934), 'Contact (1997)', 3.8035363457760316),\n",
       " (tensor(0.4047), 'Fargo (1996)', 4.155511811023622),\n",
       " (tensor(0.3749), 'Return of the Jedi (1983)', 4.007889546351085),\n",
       " (tensor(0.1222), 'Liar Liar (1997)', 3.156701030927835),\n",
       " (tensor(0.1423), 'English Patient, The (1996)', 3.656964656964657),\n",
       " (tensor(0.2030), 'Scream (1996)', 3.4414225941422596),\n",
       " (tensor(0.3108), 'Toy Story (1995)', 3.8783185840707963),\n",
       " (tensor(0.3075), 'Air Force One (1997)', 3.6310904872389793),\n",
       " (tensor(0.1647), 'Independence Day (ID4) (1996)', 3.438228438228438),\n",
       " (tensor(0.4401), 'Raiders of the Lost Ark (1981)', 4.252380952380952),\n",
       " (tensor(0.4529), 'Godfather, The (1972)', 4.283292978208232),\n",
       " (tensor(0.3246), 'Pulp Fiction (1994)', 4.060913705583756),\n",
       " (tensor(0.3177), 'Twelve Monkeys (1995)', 3.798469387755102),\n",
       " (tensor(0.5374), 'Silence of the Lambs, The (1991)', 4.28974358974359),\n",
       " (tensor(0.2166), 'Jerry Maguire (1996)', 3.7109375),\n",
       " (tensor(0.2105), 'Chasing Amy (1997)', 3.8390501319261214),\n",
       " (tensor(0.2633), 'Rock, The (1996)', 3.693121693121693),\n",
       " (tensor(0.3821), 'Empire Strikes Back, The (1980)', 4.204359673024523),\n",
       " (tensor(0.2485), 'Star Trek: First Contact (1996)', 3.66027397260274),\n",
       " (tensor(0.5967), 'Titanic (1997)', 4.2457142857142856),\n",
       " (tensor(0.2572), 'Back to the Future (1985)', 3.834285714285714),\n",
       " (tensor(0.1346), 'Mission: Impossible (1996)', 3.313953488372093),\n",
       " (tensor(0.4192), 'Fugitive, The (1993)', 4.044642857142857),\n",
       " (tensor(0.3460),\n",
       "  'Indiana Jones and the Last Crusade (1989)',\n",
       "  3.930513595166163),\n",
       " (tensor(0.1376),\n",
       "  'Willy Wonka and the Chocolate Factory (1971)',\n",
       "  3.6319018404907975),\n",
       " (tensor(0.3738), 'Princess Bride, The (1987)', 4.172839506172839),\n",
       " (tensor(0.2492), 'Forrest Gump (1994)', 3.853582554517134),\n",
       " (tensor(0.0396), 'Saint, The (1997)', 3.1234177215189876),\n",
       " (tensor(0.3145),\n",
       "  'Monty Python and the Holy Grail (1974)',\n",
       "  4.0664556962025316),\n",
       " (tensor(0.3719), 'Full Monty, The (1997)', 3.926984126984127),\n",
       " (tensor(0.2612), 'Men in Black (1997)', 3.745874587458746),\n",
       " (tensor(0.3392), 'Terminator, The (1984)', 3.9335548172757475),\n",
       " (tensor(0.2057), 'E.T. the Extra-Terrestrial (1982)', 3.8333333333333335),\n",
       " (tensor(0.2225), 'Dead Man Walking (1995)', 3.8963210702341136),\n",
       " (tensor(0.1663), 'Leaving Las Vegas (1995)', 3.697986577181208),\n",
       " (tensor(0.6128), \"Schindler's List (1993)\", 4.466442953020135),\n",
       " (tensor(0.3136), 'Braveheart (1995)', 4.151515151515151),\n",
       " (tensor(0.5304), 'L.A. Confidential (1997)', 4.161616161616162),\n",
       " (tensor(0.1969), 'Conspiracy Theory (1997)', 3.4237288135593222),\n",
       " (tensor(0.3631), 'Terminator 2: Judgment Day (1991)', 4.0067796610169495),\n",
       " (tensor(0.1422), 'Birdcage, The (1996)', 3.4436860068259385),\n",
       " (tensor(0.0219), 'Twister (1996)', 3.2150170648464163),\n",
       " (tensor(0.2195), \"Mr. Holland's Opus (1995)\", 3.7781569965870307),\n",
       " (tensor(0.3791), 'Alien (1979)', 4.034364261168385),\n",
       " (tensor(0.2697), 'When Harry Met Sally... (1989)', 3.910344827586207),\n",
       " (tensor(0.2810), 'Aliens (1986)', 3.9471830985915495),\n",
       " (tensor(0.5622), 'Shawshank Redemption, The (1994)', 4.445229681978798),\n",
       " (tensor(0.1750), 'Jaws (1975)', 3.775),\n",
       " (tensor(0.2317), 'Groundhog Day (1993)', 3.7642857142857142),\n",
       " (tensor(0.3474), 'Apollo 13 (1995)', 3.931159420289855),\n",
       " (tensor(0.3517), 'Amadeus (1984)', 4.163043478260869),\n",
       " (tensor(0.4150), 'Blade Runner (1982)', 4.138181818181818),\n",
       " (tensor(0.1198), 'Truth About Cats & Dogs, The (1996)', 3.485294117647059),\n",
       " (tensor(0.3129), 'Sense and Sensibility (1995)', 4.0111940298507465),\n",
       " (tensor(0.2565), 'Ransom (1996)', 3.644194756554307),\n",
       " (tensor(0.4963), 'Usual Suspects, The (1995)', 4.385767790262173),\n",
       " (tensor(0.4601), \"One Flew Over the Cuckoo's Nest (1975)\", 4.291666666666667),\n",
       " (tensor(0.2512), 'Jurassic Park (1993)', 3.7203065134099615),\n",
       " (tensor(-0.0739), 'Evita (1996)', 2.9806949806949805),\n",
       " (tensor(0.2181), '2001: A Space Odyssey (1968)', 3.969111969111969),\n",
       " (tensor(0.2634), 'Raising Arizona (1987)', 3.875),\n",
       " (tensor(0.2086), 'Dances with Wolves (1990)', 3.79296875),\n",
       " (tensor(-0.0397), 'Broken Arrow (1996)', 3.031496062992126),\n",
       " (tensor(0.2937), 'Dead Poets Society (1989)', 3.9163346613545817),\n",
       " (tensor(0.2877), 'Blues Brothers, The (1980)', 3.8366533864541834),\n",
       " (tensor(0.1630), 'Four Weddings and a Funeral (1994)', 3.6613545816733066),\n",
       " (tensor(0.2615), 'Game, The (1997)', 3.593625498007968),\n",
       " (tensor(0.2081), 'Trainspotting (1996)', 3.884),\n",
       " (tensor(0.2212), 'Fish Called Wanda, A (1988)', 3.785425101214575),\n",
       " (tensor(0.2890), 'Wizard of Oz, The (1939)', 4.0772357723577235),\n",
       " (tensor(0.2333), 'Star Trek: The Wrath of Khan (1982)', 3.8155737704918034),\n",
       " (tensor(0.1772), 'Phenomenon (1996)', 3.557377049180328),\n",
       " (tensor(0.4909), 'Casablanca (1942)', 4.45679012345679),\n",
       " (tensor(0.2539), 'Die Hard (1988)', 3.8724279835390947),\n",
       " (tensor(0.3291), 'Sting, The (1973)', 4.058091286307054),\n",
       " (tensor(0.0359), \"Devil's Own, The (1997)\", 3.1083333333333334),\n",
       " (tensor(-0.0326), \"Dante's Peak (1997)\", 2.933333333333333),\n",
       " (tensor(0.2832), 'Graduate, The (1967)', 4.104602510460251),\n",
       " (tensor(0.3213), 'Psycho (1960)', 4.100418410041841),\n",
       " (tensor(0.2025), 'Seven (Se7en) (1995)', 3.847457627118644),\n",
       " (tensor(0.2158), 'Time to Kill, A (1996)', 3.685344827586207),\n",
       " (tensor(0.3462), \"It's a Wonderful Life (1946)\", 4.121212121212121),\n",
       " (tensor(0.1104), 'In & Out (1997)', 3.3043478260869565),\n",
       " (tensor(0.2000), 'Speed (1994)', 3.6478260869565218),\n",
       " (tensor(0.2909), 'Hunt for Red October, The (1990)', 3.8634361233480177),\n",
       " (tensor(0.2881), 'Stand by Me (1986)', 3.881057268722467),\n",
       " (tensor(0.1976), 'GoodFellas (1990)', 3.9513274336283186),\n",
       " (tensor(0.1893), 'Heat (1995)', 3.569506726457399),\n",
       " (tensor(0.2933), 'Sound of Music, The (1965)', 3.765765765765766),\n",
       " (tensor(0.1937), 'Clockwork Orange, A (1971)', 3.909502262443439),\n",
       " (tensor(0.1970), 'Courage Under Fire (1996)', 3.6108597285067874),\n",
       " (tensor(0.1808), 'Apocalypse Now (1979)', 4.04524886877828),\n",
       " (tensor(0.1394), 'Top Gun (1986)', 3.481818181818182),\n",
       " (tensor(0.2281), 'Lion King, The (1994)', 3.7818181818181817),\n",
       " (tensor(0.2016), 'Aladdin (1992)', 3.8127853881278537),\n",
       " (tensor(0.3048), 'Babe (1995)', 3.9954337899543377),\n",
       " (tensor(-0.0133), 'Volcano (1997)', 2.808219178082192),\n",
       " (tensor(0.4516), 'To Kill a Mockingbird (1962)', 4.292237442922374),\n",
       " (tensor(0.0776), 'Murder at 1600 (1997)', 3.0871559633027523),\n",
       " (tensor(-0.0839), 'Mars Attacks! (1996)', 2.847926267281106),\n",
       " (tensor(0.1635),\n",
       "  'Butch Cassidy and the Sundance Kid (1969)',\n",
       "  3.949074074074074),\n",
       " (tensor(0.1657), 'People vs. Larry Flynt, The (1996)', 3.5953488372093023),\n",
       " (tensor(0.0488), 'Sleepless in Seattle (1993)', 3.539906103286385),\n",
       " (tensor(0.0800), 'Field of Dreams (1989)', 3.69811320754717),\n",
       " (tensor(0.1450), 'Starship Troopers (1997)', 3.2322274881516586),\n",
       " (tensor(0.1023), 'Get Shorty (1995)', 3.550239234449761),\n",
       " (tensor(0.2927), 'Godfather: Part II, The (1974)', 4.186602870813397),\n",
       " (tensor(0.5461), 'Rear Window (1954)', 4.3875598086124405),\n",
       " (tensor(0.1393), 'True Lies (1994)', 3.5625),\n",
       " (tensor(0.1832), 'Brazil (1985)', 3.8173076923076925),\n",
       " (tensor(0.1914), 'M*A*S*H (1970)', 3.912621359223301),\n",
       " (tensor(0.0412), 'Eraser (1996)', 3.150485436893204),\n",
       " (tensor(0.2807), 'Shining, The (1980)', 3.825242718446602),\n",
       " (tensor(0.1976), 'Beauty and the Beast (1991)', 3.792079207920792),\n",
       " (tensor(0.4872), 'Boot, Das (1981)', 4.203980099502488),\n",
       " (tensor(0.1071), 'Batman (1989)', 3.427860696517413),\n",
       " (tensor(0.3254), 'Young Frankenstein (1974)', 3.945),\n",
       " (tensor(0.0991), 'Star Trek IV: The Voyage Home (1986)', 3.4472361809045227),\n",
       " (tensor(0.5058), 'Good Will Hunting (1997)', 4.262626262626263),\n",
       " (tensor(0.3782), 'Citizen Kane (1941)', 4.292929292929293),\n",
       " (tensor(0.2649), 'Fifth Element, The (1997)', 3.4771573604060912),\n",
       " (tensor(0.3281), 'Gandhi (1982)', 4.02051282051282),\n",
       " (tensor(0.3876),\n",
       "  'Dr. Strangelove or: How I Learned to Stop Worrying and Love the Bomb (1963)',\n",
       "  4.252577319587629),\n",
       " (tensor(0.3316), 'Face/Off (1997)', 3.768041237113402),\n",
       " (tensor(0.0092), 'Tin Cup (1996)', 3.160621761658031),\n",
       " (tensor(0.1015), 'Mrs. Doubtfire (1993)', 3.4114583333333335),\n",
       " (tensor(0.2062), 'This Is Spinal Tap (1984)', 3.905759162303665),\n",
       " (tensor(0.1363), 'Sabrina (1995)', 3.5),\n",
       " (tensor(0.1542), 'Boogie Nights (1997)', 3.5873015873015874),\n",
       " (tensor(0.2934), \"Devil's Advocate, The (1997)\", 3.515957446808511),\n",
       " (tensor(0.2875), 'Lone Star (1996)', 4.053475935828877),\n",
       " (tensor(0.1196), 'Long Kiss Goodnight, The (1996)', 3.4702702702702704),\n",
       " (tensor(0.1688), \"Ulee's Gold (1997)\", 3.760869565217391),\n",
       " (tensor(0.0986), 'Mighty Aphrodite (1995)', 3.4184782608695654),\n",
       " (tensor(0.2539), 'Postino, Il (1994)', 3.9672131147540983),\n",
       " (tensor(0.3183), 'Unforgiven (1992)', 3.868131868131868),\n",
       " (tensor(0.3170), 'Taxi Driver (1976)', 4.1208791208791204),\n",
       " (tensor(0.1816), 'Dave (1993)', 3.65),\n",
       " (tensor(0.2327), 'Fly Away Home (1996)', 3.6),\n",
       " (tensor(0.1456), 'Tomorrow Never Dies (1997)', 3.4277777777777776),\n",
       " (tensor(0.1510), 'Annie Hall (1977)', 3.911111111111111),\n",
       " (tensor(0.4289), 'North by Northwest (1959)', 4.284916201117318),\n",
       " (tensor(0.4798), 'Vertigo (1958)', 4.251396648044692),\n",
       " (tensor(0.1991), 'Clear and Present Danger (1994)', 3.569832402234637),\n",
       " (tensor(0.1926), 'Primal Fear (1996)', 3.601123595505618),\n",
       " (tensor(0.2021), 'Mary Poppins (1964)', 3.7247191011235956),\n",
       " (tensor(0.2184), 'Emma (1996)', 3.7175141242937855),\n",
       " (tensor(0.0786), 'That Thing You Do! (1996)', 3.465909090909091),\n",
       " (tensor(0.3985), 'Much Ado About Nothing (1993)', 4.0625),\n",
       " (tensor(0.0863), 'Cop Land (1997)', 3.3771428571428572),\n",
       " (tensor(0.1517), 'Quiz Show (1994)', 3.645714285714286),\n",
       " (tensor(0.0797), 'G.I. Jane (1997)', 3.36),\n",
       " (tensor(0.2282), 'Fantasia (1940)', 3.7701149425287355),\n",
       " (tensor(0.1297), 'Rumble in the Bronx (1995)', 3.4482758620689653),\n",
       " (tensor(0.1392), \"Monty Python's Life of Brian (1979)\", 3.7471264367816093),\n",
       " (tensor(0.3251), 'Lawrence of Arabia (1962)', 4.23121387283237),\n",
       " (tensor(0.0864), \"My Best Friend's Wedding (1997)\", 3.36046511627907),\n",
       " (tensor(0.1756),\n",
       "  'Snow White and the Seven Dwarfs (1937)',\n",
       "  3.7093023255813953),\n",
       " (tensor(0.3516), 'Glory (1989)', 4.076023391812866),\n",
       " (tensor(0.2926), 'Gone with the Wind (1939)', 3.871345029239766),\n",
       " (tensor(0.2127), 'Cape Fear (1991)', 3.456140350877193),\n",
       " (tensor(0.2087), 'Heathers (1989)', 3.690058479532164),\n",
       " (tensor(0.0553),\n",
       "  'Star Trek III: The Search for Spock (1984)',\n",
       "  3.111111111111111),\n",
       " (tensor(0.1717), 'Big Night (1996)', 3.9005847953216373),\n",
       " (tensor(0.1064), 'Ghost (1990)', 3.4647058823529413),\n",
       " (tensor(0.1941), 'Full Metal Jacket (1987)', 3.6823529411764704),\n",
       " (tensor(0.0872), 'Grease (1978)', 3.347058823529412),\n",
       " (tensor(0.1984), 'Clueless (1995)', 3.458823529411765),\n",
       " (tensor(-0.0125), 'Mother (1996)', 3.1301775147928996),\n",
       " (tensor(0.2124), 'In the Line of Fire (1993)', 3.7928994082840237),\n",
       " (tensor(0.1896), 'Sleepers (1996)', 3.514792899408284),\n",
       " (tensor(0.1059), 'Everyone Says I Love You (1996)', 3.2738095238095237),\n",
       " (tensor(0.1787), 'Piano, The (1993)', 3.6011904761904763),\n",
       " (tensor(0.1149), 'Die Hard 2 (1990)', 3.355421686746988),\n",
       " (tensor(0.3404), 'Bridge on the River Kwai, The (1957)', 4.175757575757576),\n",
       " (tensor(0.2865), 'Cool Hand Luke (1967)', 3.9939024390243905),\n",
       " (tensor(0.1833), 'American President, The (1995)', 3.6280487804878048),\n",
       " (tensor(0.0134), 'Pretty Woman (1990)', 3.323170731707317),\n",
       " (tensor(-0.0368), 'Nutty Professor, The (1996)', 2.914110429447853),\n",
       " (tensor(0.2134), 'Birds, The (1963)', 3.808641975308642),\n",
       " (tensor(0.3093), 'Secrets & Lies (1996)', 4.265432098765432),\n",
       " (tensor(-0.0024), 'Kingpin (1996)', 3.1296296296296298),\n",
       " (tensor(0.1335), 'While You Were Sleeping (1995)', 3.549382716049383),\n",
       " (tensor(0.0270), 'George of the Jungle (1997)', 2.685185185185185),\n",
       " (tensor(0.0597),\n",
       "  'Star Trek VI: The Undiscovered Country (1991)',\n",
       "  3.279503105590062),\n",
       " (tensor(0.0058), 'First Wives Club, The (1996)', 3.01875),\n",
       " (tensor(0.4725), 'Apt Pupil (1998)', 4.1),\n",
       " (tensor(0.1879), 'Grosse Pointe Blank (1997)', 3.675),\n",
       " (tensor(0.0056), 'Lost World: Jurassic Park, The (1997)', 2.9430379746835444),\n",
       " (tensor(-0.0063), 'Dragonheart (1996)', 3.0822784810126582),\n",
       " (tensor(0.2804), 'Right Stuff, The (1983)', 3.917197452229299),\n",
       " (tensor(0.1507), 'Swingers (1996)', 3.828025477707006),\n",
       " (tensor(0.0943), 'Executive Decision (1996)', 3.356687898089172),\n",
       " (tensor(-0.0935),\n",
       "  'Beavis and Butt-head Do America (1996)',\n",
       "  2.7884615384615383),\n",
       " (tensor(0.1154), 'Seven Years in Tibet (1997)', 3.458064516129032),\n",
       " (tensor(0.1294), 'Crimson Tide (1995)', 3.6298701298701297),\n",
       " (tensor(0.1049), 'Highlander (1986)', 3.5359477124183005),\n",
       " (tensor(0.2030), 'Fried Green Tomatoes (1991)', 3.764705882352941),\n",
       " (tensor(0.3328), 'African Queen, The (1951)', 4.184210526315789),\n",
       " (tensor(0.1459), 'Abyss, The (1989)', 3.589403973509934),\n",
       " (tensor(0.0725), 'Die Hard: With a Vengeance (1995)', 3.2847682119205297),\n",
       " (tensor(0.0615), 'Firm, The (1993)', 3.2781456953642385),\n",
       " (tensor(0.1863), 'Remains of the Day, The (1993)', 3.94),\n",
       " (tensor(0.1325), 'Sneakers (1992)', 3.513333333333333),\n",
       " (tensor(0.1625), 'Professional, The (1994)', 3.704697986577181),\n",
       " (tensor(0.0828), 'Happy Gilmore (1996)', 3.389261744966443),\n",
       " (tensor(0.0133), 'Grumpier Old Men (1995)', 3.0405405405405403),\n",
       " (tensor(0.1671), 'Clerks (1994)', 3.804054054054054),\n",
       " (tensor(0.2184),\n",
       "  'Like Water For Chocolate (Como agua para chocolate) (1992)',\n",
       "  3.804054054054054),\n",
       " (tensor(0.2643), 'Reservoir Dogs (1992)', 3.9864864864864864),\n",
       " (tensor(0.2138), 'Donnie Brasco (1997)', 3.802721088435374),\n",
       " (tensor(0.1646), 'Chinatown (1974)', 4.136054421768708),\n",
       " (tensor(0.0048), 'River Wild, The (1994)', 3.143835616438356),\n",
       " (tensor(0.2796), 'Rainmaker, The (1997)', 3.6),\n",
       " (tensor(0.1306), \"Jackie Chan's First Strike (1996)\", 3.2551724137931033),\n",
       " (tensor(0.1494),\n",
       "  'Nightmare Before Christmas, The (1993)',\n",
       "  3.5874125874125875),\n",
       " (tensor(-0.0333), 'Spawn (1997)', 2.6153846153846154),\n",
       " (tensor(0.2150), 'Kiss the Girls (1997)', 3.4615384615384617),\n",
       " (tensor(-0.0936), 'Batman Returns (1992)', 2.683098591549296),\n",
       " (tensor(0.3722), 'Maltese Falcon, The (1941)', 4.2101449275362315),\n",
       " (tensor(0.2520), 'Searching for Bobby Fischer (1993)', 3.9057971014492754),\n",
       " (tensor(0.1628), 'Con Air (1997)', 3.45985401459854),\n",
       " (tensor(0.2033), \"Singin' in the Rain (1952)\", 3.9927007299270074),\n",
       " (tensor(0.2298), 'Wag the Dog (1997)', 3.510948905109489),\n",
       " (tensor(0.2353), 'Philadelphia (1993)', 3.854014598540146),\n",
       " (tensor(0.2805),\n",
       "  'Good, The Bad and The Ugly, The (1966)',\n",
       "  3.8613138686131387),\n",
       " (tensor(0.0414), 'Interview with the Vampire (1994)', 3.1824817518248176),\n",
       " (tensor(0.1126), 'Home Alone (1990)', 3.0875912408759123),\n",
       " (tensor(0.3211), 'Gattaca (1997)', 3.5955882352941178),\n",
       " (tensor(0.3570), 'Sling Blade (1996)', 4.198529411764706),\n",
       " (tensor(0.3353), 'Patton (1970)', 3.9926470588235294),\n",
       " (tensor(0.0625), 'Peacemaker, The (1997)', 3.2720588235294117),\n",
       " (tensor(0.1297), 'Crow, The (1994)', 3.417910447761194),\n",
       " (tensor(0.2628), 'Room with a View, A (1986)', 3.985074626865672),\n",
       " (tensor(-0.0997), 'Multiplicity (1996)', 2.8358208955223883),\n",
       " (tensor(0.1057), 'Ed Wood (1994)', 3.601503759398496),\n",
       " (tensor(-0.1641), 'Jungle2Jungle (1997)', 2.4393939393939394),\n",
       " (tensor(0.3699), 'Manchurian Candidate, The (1962)', 4.259541984732825),\n",
       " (tensor(0.0665), 'GoldenEye (1995)', 3.2061068702290076),\n",
       " (tensor(0.1513),\n",
       "  'Mystery Science Theater 3000: The Movie (1996)',\n",
       "  3.4307692307692306),\n",
       " (tensor(-0.0065),\n",
       "  'Austin Powers: International Man of Mystery (1997)',\n",
       "  3.246153846153846),\n",
       " (tensor(0.1239), 'Cinderella (1950)', 3.5813953488372094),\n",
       " (tensor(0.0960), 'Mask, The (1994)', 3.193798449612403),\n",
       " (tensor(0.2464), 'Bound (1996)', 3.8217054263565893),\n",
       " (tensor(0.2078), 'Shine (1996)', 3.9224806201550386),\n",
       " (tensor(0.1132), 'Ghost and the Darkness, The (1996)', 3.203125),\n",
       " (tensor(-0.0563), 'Father of the Bride Part II (1995)', 2.8984375),\n",
       " (tensor(-0.0702), 'Crash (1996)', 2.546875),\n",
       " (tensor(0.1917), 'Last of the Mohicans, The (1992)', 3.546875),\n",
       " (tensor(0.2365), 'Some Like It Hot (1959)', 3.984375),\n",
       " (tensor(-0.0739), 'Natural Born Killers (1994)', 2.953125),\n",
       " (tensor(0.2003), 'Maverick (1994)', 3.46875),\n",
       " (tensor(0.1077), 'Stargate (1994)', 3.141732283464567),\n",
       " (tensor(0.1316), 'Absolute Power (1997)', 3.37007874015748),\n",
       " (tensor(0.3232), 'Nikita (La Femme Nikita) (1990)', 4.0078740157480315),\n",
       " (tensor(0.1561), 'Hunchback of Notre Dame, The (1996)', 3.377952755905512),\n",
       " (tensor(-0.1108), 'Event Horizon (1997)', 2.574803149606299),\n",
       " (tensor(0.1110), 'Platoon (1986)', 3.6929133858267718),\n",
       " (tensor(-0.0537), 'James and the Giant Peach (1996)', 3.126984126984127),\n",
       " (tensor(0.1920), 'Jackie Brown (1997)', 3.642857142857143),\n",
       " (tensor(0.1777), 'Cold Comfort Farm (1995)', 3.824),\n",
       " (tensor(0.3784), '12 Angry Men (1957)', 4.344),\n",
       " (tensor(-0.0145), 'Lost Highway (1997)', 3.136),\n",
       " (tensor(0.2133), 'My Fair Lady (1964)', 3.816),\n",
       " (tensor(0.2042), 'Amistad (1997)', 3.8548387096774195),\n",
       " (tensor(0.0783), 'Alien: Resurrection (1997)', 3.096774193548387),\n",
       " (tensor(0.4389), 'Henry V (1989)', 4.137096774193548),\n",
       " (tensor(0.2405), 'Ben-Hur (1959)', 3.8306451612903225),\n",
       " (tensor(0.3340), 'Great Escape, The (1963)', 4.104838709677419),\n",
       " (tensor(0.0724), 'Under Siege (1992)', 3.2903225806451615),\n",
       " (tensor(0.0615), 'Dumbo (1941)', 3.4959349593495936),\n",
       " (tensor(0.1710), 'Bonnie and Clyde (1967)', 3.819672131147541),\n",
       " (tensor(0.2126), 'Cinema Paradiso (1988)', 4.1735537190082646),\n",
       " (tensor(0.3426), 'Killing Fields, The (1984)', 4.132231404958677),\n",
       " (tensor(0.2055), 'Harold and Maude (1971)', 3.8181818181818183),\n",
       " (tensor(0.1914), 'Carrie (1976)', 3.5041322314049586),\n",
       " (tensor(0.1701), 'Magnificent Seven, The (1954)', 3.9421487603305785),\n",
       " (tensor(0.1809), 'My Left Foot (1989)', 3.8512396694214877),\n",
       " (tensor(0.0637), \"Bram Stoker's Dracula (1992)\", 3.158333333333333),\n",
       " (tensor(0.0398), 'Net, The (1995)', 3.0083333333333333),\n",
       " (tensor(0.1581), 'Deer Hunter, The (1978)', 3.8333333333333335),\n",
       " (tensor(-0.0003), 'Michael (1996)', 3.319327731092437),\n",
       " (tensor(0.2644), 'Real Genius (1985)', 3.6638655462184873),\n",
       " (tensor(0.0984), 'Crying Game, The (1992)', 3.6218487394957983),\n",
       " (tensor(0.4114), 'Wrong Trousers, The (1993)', 4.466101694915254),\n",
       " (tensor(0.3131), 'Kolya (1996)', 3.9914529914529915),\n",
       " (tensor(0.0614), 'Star Trek: The Motion Picture (1979)', 3.034188034188034),\n",
       " (tensor(0.2514), 'Hoop Dreams (1994)', 4.094017094017094),\n",
       " (tensor(0.2221), 'Raging Bull (1980)', 4.120689655172414),\n",
       " (tensor(0.0791), 'Star Trek: Generations (1994)', 3.336206896551724),\n",
       " (tensor(0.1957), 'Being There (1979)', 3.9051724137931036),\n",
       " (tensor(0.0565), 'Army of Darkness (1993)', 3.4310344827586206),\n",
       " (tensor(0.1126), 'Beautiful Girls (1996)', 3.391304347826087),\n",
       " (tensor(0.2778), 'Arsenic and Old Lace (1944)', 4.078260869565217),\n",
       " (tensor(-0.0255), 'Frighteners, The (1996)', 3.234782608695652),\n",
       " (tensor(0.1704), \"What's Eating Gilbert Grape (1993)\", 3.5391304347826087),\n",
       " (tensor(0.0248), 'Pink Floyd - The Wall (1982)', 3.3508771929824563),\n",
       " (tensor(-0.0124), 'Batman Forever (1995)', 2.6666666666666665),\n",
       " (tensor(0.2606), 'Rosewood (1997)', 3.6666666666666665),\n",
       " (tensor(0.2443), 'Edge, The (1997)', 3.5398230088495577),\n",
       " (tensor(0.1445), 'Welcome to the Dollhouse (1995)', 3.7232142857142856),\n",
       " (tensor(0.5362), 'As Good As It Gets (1997)', 4.196428571428571),\n",
       " (tensor(0.0880), 'One Fine Day (1996)', 3.232142857142857),\n",
       " (tensor(0.4195), 'Close Shave, A (1995)', 4.491071428571429),\n",
       " (tensor(0.0277), 'Nightmare on Elm Street, A (1984)', 3.171171171171171),\n",
       " (tensor(0.1258),\n",
       "  'Adventures of Priscilla, Queen of the Desert, The (1994)',\n",
       "  3.5945945945945947),\n",
       " (tensor(0.0275), 'Hudsucker Proxy, The (1994)', 3.5545454545454547),\n",
       " (tensor(-0.0275), '101 Dalmatians (1996)', 2.908256880733945),\n",
       " (tensor(0.1708), 'Tombstone (1993)', 3.6666666666666665),\n",
       " (tensor(0.1500), 'Ice Storm, The (1997)', 3.611111111111111),\n",
       " (tensor(0.0556), 'Conan the Barbarian (1981)', 3.046728971962617),\n",
       " (tensor(0.0761),\n",
       "  \"William Shakespeare's Romeo and Juliet (1996)\",\n",
       "  3.5943396226415096),\n",
       " (tensor(-0.2924), 'Cable Guy, The (1996)', 2.339622641509434),\n",
       " (tensor(0.0633), 'On Golden Pond (1981)', 3.556603773584906),\n",
       " (tensor(0.1057), 'Scream 2 (1997)', 3.2169811320754715),\n",
       " (tensor(0.2962), 'Mr. Smith Goes to Washington (1939)', 4.123809523809523),\n",
       " (tensor(-0.0428), 'Craft, The (1996)', 3.1153846153846154),\n",
       " (tensor(0.0933), 'True Romance (1993)', 3.6153846153846154),\n",
       " (tensor(0.0408), 'Outbreak (1995)', 3.2403846153846154),\n",
       " (tensor(0.3129), 'Strictly Ballroom (1992)', 4.028846153846154),\n",
       " (tensor(0.2664), 'Philadelphia Story, The (1940)', 4.115384615384615),\n",
       " (tensor(0.0150), 'Ace Ventura: Pet Detective (1994)', 3.0485436893203883),\n",
       " (tensor(0.3097), 'In the Name of the Father (1993)', 3.911764705882353),\n",
       " (tensor(-0.1014), 'Waterworld (1995)', 2.803921568627451),\n",
       " (tensor(0.1804), 'Little Women (1994)', 3.676470588235294),\n",
       " (tensor(0.0971), 'Benny & Joon (1993)', 3.4607843137254903),\n",
       " (tensor(0.0402), 'Young Guns (1988)', 3.207920792079208),\n",
       " (tensor(0.1103), 'Basic Instinct (1992)', 3.227722772277228),\n",
       " (tensor(0.0641), 'Sex, Lies, and Videotape (1989)', 3.4752475247524752),\n",
       " (tensor(-0.0628), 'Down Periscope (1996)', 2.702970297029703),\n",
       " (tensor(0.1340), 'Miracle on 34th Street (1994)', 3.722772277227723),\n",
       " (tensor(0.0913), 'Pinocchio (1940)', 3.6732673267326734),\n",
       " (tensor(-0.0656), 'Mimic (1997)', 2.742574257425743),\n",
       " (tensor(0.1191), 'Private Parts (1997)', 3.53),\n",
       " (tensor(-0.0476), 'Alien 3 (1992)', 2.83),\n",
       " (tensor(0.0112), 'I Know What You Did Last Summer (1997)', 3.06),\n",
       " (tensor(0.1097), \"Muriel's Wedding (1994)\", 3.55),\n",
       " (tensor(0.1560),\n",
       "  'American Werewolf in London, An (1981)',\n",
       "  3.5353535353535355),\n",
       " (tensor(0.0545),\n",
       "  \"Romy and Michele's High School Reunion (1997)\",\n",
       "  3.061224489795918),\n",
       " (tensor(0.0317), 'Dirty Dancing (1987)', 3.1020408163265305),\n",
       " (tensor(0.1816), 'Streetcar Named Desire, A (1951)', 3.816326530612245),\n",
       " (tensor(0.3697), 'Day the Earth Stood Still, The (1951)', 3.9381443298969074),\n",
       " (tensor(0.1438), 'Desperado (1995)', 3.4536082474226806),\n",
       " (tensor(0.1784), 'Spitfire Grill, The (1996)', 3.804123711340206),\n",
       " (tensor(0.0146), 'Client, The (1994)', 3.381443298969072),\n",
       " (tensor(0.1432), 'City of Lost Children, The (1995)', 3.7916666666666665),\n",
       " (tensor(0.0391), 'Fierce Creatures (1997)', 3.1145833333333335),\n",
       " (tensor(0.2943),\n",
       "  'Mrs. Brown (Her Majesty, Mrs. Brown) (1997)',\n",
       "  3.9479166666666665),\n",
       " (tensor(0.0632), 'Jumanji (1995)', 3.3125),\n",
       " (tensor(-0.0730), 'So I Married an Axe Murderer (1993)', 3.0526315789473686),\n",
       " (tensor(0.1287), \"Breakfast at Tiffany's (1961)\", 3.7263157894736842),\n",
       " (tensor(0.0532), 'Matilda (1996)', 3.210526315789474),\n",
       " (tensor(0.2633),\n",
       "  'My Life as a Dog (Mitt liv som hund) (1985)',\n",
       "  3.978494623655914),\n",
       " (tensor(-0.0606), 'Space Jam (1996)', 2.774193548387097),\n",
       " (tensor(0.2434), 'Duck Soup (1933)', 4.0),\n",
       " (tensor(0.0067), 'Cliffhanger (1993)', 3.021505376344086),\n",
       " (tensor(0.0459), '2 Days in the Valley (1996)', 3.225806451612903),\n",
       " (tensor(-0.1023), 'Very Brady Sequel, A (1996)', 2.3978494623655915),\n",
       " (tensor(0.2021), 'Rob Roy (1995)', 3.5652173913043477),\n",
       " (tensor(0.0467), 'Money Talks (1997)', 2.8152173913043477),\n",
       " (tensor(0.1339),\n",
       "  'Return of the Pink Panther, The (1974)',\n",
       "  3.5543478260869565),\n",
       " (tensor(0.0080),\n",
       "  'Unbearable Lightness of Being, The (1988)',\n",
       "  3.4565217391304346),\n",
       " (tensor(0.0050), 'Demolition Man (1993)', 3.152173913043478),\n",
       " (tensor(0.1214), 'Michael Collins (1996)', 3.4565217391304346),\n",
       " (tensor(-0.0125), 'From Dusk Till Dawn (1996)', 3.119565217391304),\n",
       " (tensor(0.0916), 'Casino (1995)', 3.6483516483516483),\n",
       " (tensor(0.1221), 'Escape from New York (1981)', 3.241758241758242),\n",
       " (tensor(-0.1553), 'Escape from L.A. (1996)', 2.4615384615384617),\n",
       " (tensor(-0.0706), 'Bean (1997)', 2.659340659340659),\n",
       " (tensor(0.1223), 'Madness of King George, The (1994)', 3.769230769230769),\n",
       " (tensor(0.1167), 'Manhattan (1979)', 3.769230769230769),\n",
       " (tensor(0.2935),\n",
       "  'Rosencrantz and Guildenstern Are Dead (1990)',\n",
       "  3.888888888888889),\n",
       " (tensor(0.1052), 'Nixon (1995)', 3.1222222222222222),\n",
       " (tensor(0.2864), 'Hamlet (1996)', 4.011111111111111),\n",
       " (tensor(0.1630), 'Rebel Without a Cause (1955)', 3.8555555555555556),\n",
       " (tensor(0.0445), 'Four Rooms (1995)', 3.033333333333333),\n",
       " (tensor(0.0745), 'Evil Dead II (1987)', 3.5168539325842696),\n",
       " (tensor(0.0717), 'Grifters, The (1990)', 3.4831460674157304),\n",
       " (tensor(0.2514), 'Richard III (1995)', 3.831460674157303),\n",
       " (tensor(0.1291), 'Three Musketeers, The (1993)', 3.303370786516854),\n",
       " (tensor(0.0804), \"Miller's Crossing (1990)\", 3.651685393258427),\n",
       " (tensor(0.3391), 'High Noon (1952)', 4.1022727272727275),\n",
       " (tensor(-0.0003), 'Jackal, The (1997)', 3.1494252873563218),\n",
       " (tensor(0.0207), 'Strange Days (1995)', 3.264367816091954),\n",
       " (tensor(-0.0027), 'Addams Family Values (1993)', 2.8160919540229883),\n",
       " (tensor(-0.0228), 'To Die For (1995)', 3.2758620689655173),\n",
       " (tensor(-0.0212), 'First Knight (1995)', 3.0232558139534884),\n",
       " (tensor(-0.1816), 'Beautician and the Beast, The (1997)', 2.313953488372093),\n",
       " (tensor(0.1249), 'Bullets Over Broadway (1994)', 3.7209302325581395),\n",
       " (tensor(0.1899), 'Cape Fear (1962)', 3.5232558139534884),\n",
       " (tensor(0.0501), 'My Fellow Americans (1996)', 3.1627906976744184),\n",
       " (tensor(0.1162), 'Copycat (1995)', 3.302325581395349),\n",
       " (tensor(-0.0149), 'Up Close and Personal (1996)', 3.1882352941176473),\n",
       " (tensor(0.1594), 'Jungle Book, The (1994)', 3.5647058823529414),\n",
       " (tensor(0.1208), 'Bob Roberts (1992)', 3.7411764705882353),\n",
       " (tensor(0.1846), 'Omen, The (1976)', 3.388235294117647),\n",
       " (tensor(0.0598), 'White Squall (1996)', 3.4),\n",
       " (tensor(-0.0070), 'French Kiss (1995)', 3.3333333333333335),\n",
       " (tensor(-0.0136), 'Muppet Treasure Island (1996)', 2.761904761904762),\n",
       " (tensor(-0.0234), 'Arrival, The (1996)', 3.036144578313253),\n",
       " (tensor(0.2523), 'Three Colors: Red (1994)', 4.0602409638554215),\n",
       " (tensor(-0.0731), 'Juror, The (1996)', 2.817073170731707),\n",
       " (tensor(0.0437), 'Mulholland Falls (1996)', 2.8780487804878048),\n",
       " (tensor(-0.0566),\n",
       "  'Cook the Thief His Wife & Her Lover, The (1989)',\n",
       "  3.024390243902439),\n",
       " (tensor(0.0375), 'Somewhere in Time (1980)', 3.426829268292683),\n",
       " (tensor(0.1726), 'Sleeper (1973)', 3.6341463414634148),\n",
       " (tensor(0.1062), 'Sword in the Stone, The (1963)', 3.3292682926829267),\n",
       " (tensor(0.0421), 'Santa Clause, The (1994)', 3.097560975609756),\n",
       " (tensor(0.1069), 'Legends of the Fall (1994)', 3.45679012345679),\n",
       " (tensor(0.1865), 'Alice in Wonderland (1951)', 3.6666666666666665),\n",
       " (tensor(0.1154), 'Nell (1994)', 3.4814814814814814),\n",
       " (tensor(0.0674), 'Crumb (1994)', 3.7901234567901234),\n",
       " (tensor(0.0008), 'Picture Perfect (1997)', 2.962962962962963),\n",
       " (tensor(0.2523), 'It Happened One Night (1934)', 4.012345679012346),\n",
       " (tensor(0.0315), 'I.Q. (1994)', 3.3209876543209877),\n",
       " (tensor(0.3666), 'Treasure of the Sierra Madre, The (1948)', 4.1),\n",
       " (tensor(0.2387), 'Eat Drink Man Woman (1994)', 4.05),\n",
       " (tensor(-0.0899), 'Chain Reaction (1996)', 2.7),\n",
       " (tensor(-0.0040), 'Midnight in the Garden of Good and Evil (1997)', 3.1625),\n",
       " (tensor(-0.0867), 'Phantom, The (1996)', 2.575),\n",
       " (tensor(0.1689), 'Man Who Would Be King, The (1975)', 4.025),\n",
       " (tensor(0.2203), 'Better Off Dead... (1985)', 3.569620253164557),\n",
       " (tensor(0.1325), 'Secret Garden, The (1993)', 3.5443037974683542),\n",
       " (tensor(0.0927), 'Pump Up the Volume (1990)', 3.4177215189873418),\n",
       " (tensor(-0.0104), 'Dolores Claiborne (1994)', 3.3417721518987342),\n",
       " (tensor(0.0334), 'City Hall (1996)', 3.1392405063291138),\n",
       " (tensor(0.1369), \"Marvin's Room (1996)\", 3.58974358974359),\n",
       " (tensor(0.1994), 'Shadowlands (1993)', 3.9358974358974357),\n",
       " (tensor(-0.0388), 'Reality Bites (1994)', 2.961038961038961),\n",
       " (tensor(0.0411), 'Victor/Victoria (1982)', 3.3376623376623376),\n",
       " (tensor(0.1078), 'Crucible, The (1996)', 3.3376623376623376),\n",
       " (tensor(0.1040), 'Breakdown (1997)', 3.4025974025974026),\n",
       " (tensor(-0.0173), 'Brady Bunch Movie, The (1995)', 2.8026315789473686),\n",
       " (tensor(0.1683), 'Don Juan DeMarco (1995)', 3.5526315789473686),\n",
       " (tensor(0.0683), 'Circle of Friends (1995)', 3.486842105263158),\n",
       " (tensor(0.2528), 'Wings of the Dove, The (1997)', 3.68),\n",
       " (tensor(0.1597), 'Winnie the Pooh and the Blustery Day (1968)', 3.8),\n",
       " (tensor(-0.1260), 'Vegas Vacation (1997)', 2.4),\n",
       " (tensor(-0.0210), 'Robin Hood: Prince of Thieves (1991)', 3.2266666666666666),\n",
       " (tensor(0.1294), 'Smoke (1995)', 3.6216216216216215),\n",
       " (tensor(0.1257), 'Breaking the Waves (1996)', 3.72972972972973),\n",
       " (tensor(0.2198), 'Six Degrees of Separation (1993)', 3.77027027027027),\n",
       " (tensor(-0.1435), 'Sgt. Bilko (1996)', 2.5675675675675675),\n",
       " (tensor(-0.1064), 'Parent Trap, The (1961)', 3.095890410958904),\n",
       " (tensor(0.1386), 'Big Sleep, The (1946)', 4.027397260273973),\n",
       " (tensor(0.0404), 'Brothers McMullen, The (1995)', 3.452054794520548),\n",
       " (tensor(-0.0148), \"She's the One (1996)\", 3.0136986301369864),\n",
       " (tensor(0.0846), 'Heavy Metal (1981)', 3.26027397260274),\n",
       " (tensor(-0.0052), 'Hoodlum (1997)', 2.9315068493150687),\n",
       " (tensor(0.0385),\n",
       "  'Seventh Seal, The (Sjunde inseglet, Det) (1957)',\n",
       "  3.5416666666666665),\n",
       " (tensor(0.1147), 'Othello (1995)', 3.611111111111111),\n",
       " (tensor(0.2991), 'Third Man, The (1949)', 4.333333333333333),\n",
       " (tensor(-0.0038), 'Angels and Insects (1995)', 3.4166666666666665),\n",
       " (tensor(0.0611), '20,000 Leagues Under the Sea (1954)', 3.5),\n",
       " (tensor(0.1055), 'Desperate Measures (1998)', 3.3194444444444446),\n",
       " (tensor(0.1155), 'Wedding Singer, The (1998)', 3.486111111111111),\n",
       " (tensor(0.1524), 'Secret of Roan Inish, The (1994)', 3.859154929577465),\n",
       " (tensor(-0.0367),\n",
       "  \"Things to Do in Denver when You're Dead (1995)\",\n",
       "  3.1549295774647885),\n",
       " (tensor(0.1024), 'How to Make an American Quilt (1995)', 3.3380281690140845),\n",
       " (tensor(0.0284), 'Diabolique (1996)', 2.887323943661972),\n",
       " (tensor(0.0308), 'Restoration (1995)', 3.464788732394366),\n",
       " (tensor(0.0471), 'Jack (1996)', 3.142857142857143),\n",
       " (tensor(0.1298), 'Enchanted April (1991)', 3.9285714285714284),\n",
       " (tensor(0.1876), 'Ran (1985)', 4.1),\n",
       " (tensor(0.0828), 'Heavenly Creatures (1994)', 3.6714285714285713),\n",
       " (tensor(-0.0647), 'Kull the Conqueror (1997)', 2.63768115942029),\n",
       " (tensor(0.2836), \"Antonia's Line (1995)\", 3.9565217391304346),\n",
       " (tensor(-0.2094), \"McHale's Navy (1997)\", 2.1884057971014492),\n",
       " (tensor(0.2874), 'Christmas Carol, A (1938)', 4.057971014492754),\n",
       " (tensor(-0.0729), 'Body Snatchers (1993)', 2.971014492753623),\n",
       " (tensor(0.1241), 'Glengarry Glen Ross (1992)', 3.463768115942029),\n",
       " (tensor(-0.0206),\n",
       "  'Naked Gun 33 1/3: The Final Insult (1994)',\n",
       "  2.782608695652174),\n",
       " (tensor(0.0532), 'Dumb & Dumber (1994)', 3.0),\n",
       " (tensor(0.2199), 'Roman Holiday (1953)', 4.102941176470588),\n",
       " (tensor(0.1730), 'Man Without a Face, The (1993)', 3.5441176470588234),\n",
       " (tensor(-0.0467), \"Preacher's Wife, The (1996)\", 2.926470588235294),\n",
       " (tensor(-0.0661), 'Hot Shots! Part Deux (1993)', 2.764705882352941),\n",
       " (tensor(0.0363), 'Cool Runnings (1993)', 3.161764705882353),\n",
       " (tensor(0.1177), 'Dial M for Murder (1954)', 4.0),\n",
       " (tensor(0.1823), 'Bringing Up Baby (1938)', 3.838235294117647),\n",
       " (tensor(0.3094), 'Forbidden Planet (1956)', 3.8358208955223883),\n",
       " (tensor(-0.1201), 'Wolf (1994)', 2.701492537313433),\n",
       " (tensor(-0.2516), 'Striptease (1996)', 2.2388059701492535),\n",
       " (tensor(-0.0321), 'Private Benjamin (1980)', 2.955223880597015),\n",
       " (tensor(0.2248), 'Adventures of Robin Hood, The (1938)', 3.791044776119403),\n",
       " (tensor(-0.0276),\n",
       "  'Bridges of Madison County, The (1995)',\n",
       "  3.1641791044776117),\n",
       " (tensor(0.1766), 'Short Cuts (1993)', 3.7761194029850746),\n",
       " (tensor(0.3710),\n",
       "  'Wallace & Gromit: The Best of Aardman Animation (1996)',\n",
       "  4.447761194029851),\n",
       " (tensor(0.2709), 'Quiet Man, The (1952)', 4.029850746268656),\n",
       " (tensor(0.1743), 'Anastasia (1997)', 3.4242424242424243),\n",
       " (tensor(0.0672), 'Shallow Grave (1994)', 3.8181818181818183),\n",
       " (tensor(0.2497), 'All About Eve (1950)', 4.045454545454546),\n",
       " (tensor(0.1180), 'Cyrano de Bergerac (1990)', 3.8181818181818183),\n",
       " (tensor(0.3505), 'Grand Day Out, A (1992)', 4.106060606060606),\n",
       " (tensor(0.0704), 'Mirror Has Two Faces, The (1996)', 3.3636363636363638),\n",
       " (tensor(0.1250), 'In the Company of Men (1997)', 3.712121212121212),\n",
       " (tensor(-0.0423), 'Tommy Boy (1995)', 2.909090909090909),\n",
       " (tensor(0.1027), 'Hercules (1997)', 3.515151515151515),\n",
       " (tensor(0.2317), 'Rebecca (1940)', 3.9696969696969697),\n",
       " (tensor(0.1175), 'Diva (1981)', 3.727272727272727),\n",
       " (tensor(-0.1787), 'Jaws 2 (1978)', 2.6666666666666665),\n",
       " (tensor(0.0850), 'Delicatessen (1991)', 3.876923076923077),\n",
       " (tensor(0.1046), 'Deconstructing Harry (1997)', 3.4),\n",
       " (tensor(-0.1223), 'Candyman (1992)', 2.723076923076923),\n",
       " (tensor(0.1337), 'Supercop (1992)', 3.5384615384615383),\n",
       " (tensor(-0.1849), 'Lawnmower Man, The (1992)', 2.4461538461538463),\n",
       " (tensor(-0.0021), 'Kids in the Hall: Brain Candy (1996)', 3.076923076923077),\n",
       " (tensor(0.2506), 'Sunset Blvd. (1950)', 4.2),\n",
       " (tensor(0.0681), 'Age of Innocence, The (1993)', 3.3846153846153846),\n",
       " (tensor(0.0902), 'Dazed and Confused (1993)', 3.46875),\n",
       " (tensor(0.1031), 'Night of the Living Dead (1968)', 3.421875),\n",
       " (tensor(0.2281), 'Three Colors: Blue (1993)', 4.015625),\n",
       " (tensor(0.1910), \"Eve's Bayou (1997)\", 3.609375),\n",
       " (tensor(0.0079), 'U Turn (1997)', 3.359375),\n",
       " (tensor(0.0866), 'Old Yeller (1957)', 3.484375),\n",
       " (tensor(0.1443), 'Rudy (1993)', 3.3125),\n",
       " (tensor(0.2974), 'Jean de Florette (1986)', 4.109375),\n",
       " (tensor(0.0882), 'Extreme Measures (1996)', 3.171875),\n",
       " (tensor(0.0348), 'Fan, The (1996)', 3.09375),\n",
       " (tensor(0.1935), 'Sabrina (1954)', 3.796875),\n",
       " (tensor(0.1049), 'Stealing Beauty (1996)', 3.375),\n",
       " (tensor(0.2207), 'Local Hero (1983)', 3.9682539682539684),\n",
       " (tensor(0.0828), 'Jane Eyre (1996)', 3.4761904761904763),\n",
       " (tensor(0.1488), 'Walk in the Clouds, A (1995)', 3.2857142857142856),\n",
       " (tensor(-0.1088),\n",
       "  'Star Trek V: The Final Frontier (1989)',\n",
       "  2.3968253968253967),\n",
       " (tensor(0.0618), 'Immortal Beloved (1994)', 3.4603174603174605),\n",
       " (tensor(0.1728), 'Apartment, The (1960)', 3.9365079365079363),\n",
       " (tensor(-0.0007), 'Forget Paris (1995)', 3.193548387096774),\n",
       " (tensor(-0.1185), 'Batman & Robin (1997)', 2.4516129032258065),\n",
       " (tensor(0.0367), 'My Favorite Year (1982)', 3.532258064516129),\n",
       " (tensor(0.2672), 'Cat on a Hot Tin Roof (1958)', 3.9516129032258065),\n",
       " (tensor(0.0222),\n",
       "  'Homeward Bound: The Incredible Journey (1993)',\n",
       "  3.2131147540983607),\n",
       " (tensor(-0.0610), 'Fox and the Hound, The (1981)', 3.1475409836065573),\n",
       " (tensor(0.2724), 'Thin Man, The (1934)', 4.15),\n",
       " (tensor(-0.1485), \"Weekend at Bernie's (1989)\", 2.6166666666666667),\n",
       " (tensor(0.1058), 'Bed of Roses (1996)', 3.2333333333333334),\n",
       " (tensor(0.2810), 'Murder in the First (1995)', 3.6),\n",
       " (tensor(0.1591), 'Father of the Bride (1950)', 3.5833333333333335),\n",
       " (tensor(0.1795), 'Three Colors: White (1994)', 3.864406779661017),\n",
       " (tensor(-0.0438), 'Kalifornia (1993)', 3.2203389830508473),\n",
       " (tensor(-0.0399), 'Last Action Hero (1993)', 2.7457627118644066),\n",
       " (tensor(-0.0443), 'Sirens (1994)', 2.983050847457627),\n",
       " (tensor(0.0331), 'Soul Food (1997)', 3.169491525423729),\n",
       " (tensor(0.0895), 'Around the World in 80 Days (1956)', 3.6610169491525424),\n",
       " (tensor(0.1969), 'East of Eden (1955)', 3.864406779661017),\n",
       " (tensor(0.2557), '39 Steps, The (1935)', 4.0508474576271185),\n",
       " (tensor(-0.0422), \"Mary Shelley's Frankenstein (1994)\", 3.0677966101694913),\n",
       " (tensor(0.1973), 'Some Kind of Wonderful (1987)', 3.6610169491525424),\n",
       " (tensor(0.1170), 'Last Supper, The (1995)', 3.4482758620689653),\n",
       " (tensor(0.0429), 'Postman, The (1997)', 3.2241379310344827),\n",
       " (tensor(0.2019), \"Sophie's Choice (1982)\", 3.896551724137931),\n",
       " (tensor(0.0161), 'Home for the Holidays (1995)', 3.1551724137931036),\n",
       " (tensor(0.2822), 'Raise the Red Lantern (1991)', 4.155172413793103),\n",
       " (tensor(-0.1097), 'Nine Months (1995)', 2.9310344827586206),\n",
       " (tensor(-0.0243), 'Ref, The (1994)', 3.0344827586206895),\n",
       " (tensor(0.2822),\n",
       "  'Manon of the Spring (Manon des sources) (1986)',\n",
       "  4.120689655172414),\n",
       " (tensor(0.0998), 'Red Corner (1997)', 3.3859649122807016),\n",
       " (tensor(0.2180), 'Wings of Desire (1987)', 4.0),\n",
       " (tensor(0.0365), 'Bad Boys (1995)', 3.1052631578947367),\n",
       " (tensor(0.1623), 'Bananas (1971)', 3.7017543859649122),\n",
       " (tensor(0.0341), 'Devil in a Blue Dress (1995)', 3.3859649122807016),\n",
       " (tensor(-0.1222), 'Daylight (1996)', 2.7719298245614037),\n",
       " (tensor(-0.0245), 'Bedknobs and Broomsticks (1971)', 3.0701754385964914),\n",
       " (tensor(-0.2264), 'Island of Dr. Moreau, The (1996)', 2.1578947368421053),\n",
       " (tensor(0.0634),\n",
       "  'To Wong Foo, Thanks for Everything! Julie Newmar (1995)',\n",
       "  2.8947368421052633),\n",
       " (tensor(-0.0589), 'Robin Hood: Men in Tights (1993)', 2.5892857142857144),\n",
       " (tensor(0.2647), 'His Girl Friday (1940)', 4.0),\n",
       " (tensor(0.2123), 'Celluloid Closet, The (1995)', 3.892857142857143),\n",
       " (tensor(-0.1062), 'Black Sheep (1996)', 2.6363636363636362),\n",
       " (tensor(0.1692), 'Looking for Richard (1996)', 3.727272727272727),\n",
       " (tensor(-0.1643),\n",
       "  'Tales from the Crypt Presents: Bordello of Blood (1996)',\n",
       "  2.6363636363636362),\n",
       " (tensor(0.2630), 'Apostle, The (1997)', 3.6545454545454548),\n",
       " (tensor(0.1270), 'Mallrats (1995)', 3.4444444444444446),\n",
       " (tensor(0.0296), 'Addicted to Love (1997)', 3.1666666666666665),\n",
       " (tensor(-0.0698), 'Serial Mom (1994)', 2.814814814814815),\n",
       " (tensor(0.1806),\n",
       "  'Nosferatu (Nosferatu, eine Symphonie des Grauens) (1922)',\n",
       "  3.5555555555555554),\n",
       " (tensor(0.0347), \"Carlito's Way (1993)\", 3.4074074074074074),\n",
       " (tensor(0.0889), 'Aristocats, The (1970)', 3.1296296296296298),\n",
       " (tensor(-0.0690), 'Days of Thunder (1990)', 2.7169811320754715),\n",
       " (tensor(-0.0910), 'Flubber (1997)', 2.7547169811320753),\n",
       " (tensor(0.0280), 'Koyaanisqatsi (1983)', 3.490566037735849),\n",
       " (tensor(-0.0690), 'Barcelona (1994)', 3.018867924528302),\n",
       " (tensor(0.0089), 'Life Less Ordinary, A (1997)', 3.0754716981132075),\n",
       " (tensor(-0.0886), \"She's So Lovely (1997)\", 2.7358490566037736),\n",
       " (tensor(-0.1253), 'Amityville Horror, The (1979)', 2.5660377358490565),\n",
       " (tensor(-0.0983), 'Last Man Standing (1996)', 2.660377358490566),\n",
       " (tensor(0.0556), 'Casper (1995)', 3.076923076923077),\n",
       " (tensor(-0.0889), 'Excess Baggage (1997)', 2.5384615384615383),\n",
       " (tensor(0.2641), 'Notorious (1946)', 4.115384615384615),\n",
       " (tensor(0.0197), 'Man Who Knew Too Little, The (1997)', 2.923076923076923),\n",
       " (tensor(0.1316), 'Red Rock West (1992)', 3.5961538461538463),\n",
       " (tensor(0.1265), 'MatchMaker, The (1997)', 3.176470588235294),\n",
       " (tensor(-0.0490), 'Pocahontas (1995)', 2.5294117647058822),\n",
       " (tensor(0.1917), 'Giant (1956)', 3.7450980392156863),\n",
       " (tensor(0.0789), 'Tin Men (1987)', 3.0784313725490198),\n",
       " (tensor(0.0311), 'Trees Lounge (1996)', 3.24),\n",
       " (tensor(0.1131), 'American in Paris, An (1951)', 3.7),\n",
       " (tensor(-0.1133), 'Love Bug, The (1969)', 2.78),\n",
       " (tensor(0.0848), 'Akira (1988)', 3.38),\n",
       " (tensor(0.1479), 'Perfect World, A (1993)', 3.68),\n",
       " (tensor(0.0296), 'Once Upon a Time in America (1984)', 3.4),\n",
       " (tensor(0.0341), 'Wyatt Earp (1994)', 3.1),\n",
       " (tensor(0.1859), 'To Catch a Thief (1955)', 4.02),\n",
       " (tensor(0.1353), 'Menace II Society (1993)', 3.46),\n",
       " (tensor(-0.0389), 'Great White Hype, The (1996)', 2.7551020408163267),\n",
       " (tensor(-0.1884), 'Thinner (1996)', 2.4489795918367347),\n",
       " (tensor(0.0052), 'Mortal Kombat (1995)', 2.877551020408163),\n",
       " (tensor(-0.0206), 'Kids (1995)', 3.061224489795918),\n",
       " (tensor(0.0220), 'Before Sunrise (1995)', 3.4081632653061225),\n",
       " (tensor(0.1428), 'Bulletproof (1996)', 3.204081632653061),\n",
       " (tensor(-0.0670), 'Substitute, The (1996)', 2.693877551020408),\n",
       " (tensor(-0.0702), 'Rocket Man (1997)', 2.4081632653061225),\n",
       " (tensor(0.0774), \"Smilla's Sense of Snow (1997)\", 3.1666666666666665),\n",
       " (tensor(0.2206), 'Bronx Tale, A (1993)', 3.7916666666666665),\n",
       " (tensor(-0.1583), 'Booty Call (1997)', 2.1666666666666665),\n",
       " (tensor(0.0916), 'Powder (1995)', 3.2083333333333335),\n",
       " (tensor(-0.2155), 'Beverly Hills Ninja (1997)', 2.3125),\n",
       " (tensor(-0.0208), 'Quick and the Dead, The (1995)', 3.2083333333333335),\n",
       " (tensor(-0.0107), 'Cat People (1982)', 2.8958333333333335),\n",
       " (tensor(-0.0951), 'Glimmer Man, The (1996)', 2.75),\n",
       " (tensor(-0.1105), 'Under Siege 2: Dark Territory (1995)', 2.4583333333333335),\n",
       " (tensor(0.0872), 'Mad City (1997)', 3.25531914893617),\n",
       " (tensor(0.0460), 'Up in Smoke (1978)', 3.25531914893617),\n",
       " (tensor(0.3033), 'Waiting for Guffman (1996)', 4.127659574468085),\n",
       " (tensor(-0.0552), 'Sudden Death (1995)', 2.723404255319149),\n",
       " (tensor(0.0500), 'Swimming with Sharks (1995)', 3.574468085106383),\n",
       " (tensor(0.0756), 'Dangerous Minds (1995)', 3.3404255319148937),\n",
       " (tensor(0.1789), 'Great Dictator, The (1940)', 4.021739130434782),\n",
       " (tensor(0.1085), 'It Could Happen to You (1994)', 3.652173913043478),\n",
       " (tensor(0.1192), 'Paris, Texas (1984)', 3.5434782608695654),\n",
       " (tensor(0.0542), 'Malice (1993)', 3.1739130434782608),\n",
       " (tensor(-0.0150), 'With Honors (1994)', 3.0652173913043477),\n",
       " (tensor(0.2671), 'Farewell My Concubine (1993)', 3.9782608695652173),\n",
       " (tensor(-0.1075), 'Blob, The (1958)', 2.717391304347826),\n",
       " (tensor(0.2888), 'Shall We Dance? (1996)', 4.260869565217392),\n",
       " (tensor(-0.1394), 'Screamers (1995)', 2.652173913043478),\n",
       " (tensor(0.0792), \"Nobody's Fool (1994)\", 3.608695652173913),\n",
       " (tensor(0.1083), 'Bride of Frankenstein (1935)', 3.608695652173913),\n",
       " (tensor(0.0305), 'Doors, The (1991)', 2.9782608695652173),\n",
       " (tensor(0.0277), 'Junior (1994)', 3.022222222222222),\n",
       " (tensor(0.0505), \"What's Love Got to Do with It (1993)\", 3.488888888888889),\n",
       " (tensor(-0.0576), 'Species (1995)', 2.8666666666666667),\n",
       " (tensor(-0.0475), 'Shadow, The (1994)', 2.888888888888889),\n",
       " (tensor(0.0040), 'Blue in the Face (1995)', 3.1777777777777776),\n",
       " (tensor(-0.2098), \"Joe's Apartment (1996)\", 2.2444444444444445),\n",
       " (tensor(0.1735), 'Family Thing, A (1996)', 3.5555555555555554),\n",
       " (tensor(0.1520), 'Citizen Ruth (1996)', 3.6222222222222222),\n",
       " (tensor(-0.1023),\n",
       "  \"City Slickers II: The Legend of Curly's Gold (1994)\",\n",
       "  2.5454545454545454),\n",
       " (tensor(0.1624), 'When We Were Kings (1996)', 4.045454545454546),\n",
       " (tensor(0.0378),\n",
       "  'To Gillian on Her 37th Birthday (1996)',\n",
       "  3.0681818181818183),\n",
       " (tensor(0.0607), 'Bottle Rocket (1996)', 3.4545454545454546),\n",
       " (tensor(0.2757), 'Sweet Hereafter, The (1997)', 3.772727272727273),\n",
       " (tensor(-0.0491), 'Mouse Hunt (1997)', 2.477272727272727),\n",
       " (tensor(0.1754), 'M (1931)', 4.0),\n",
       " (tensor(-0.0399), 'Shadow Conspiracy (1997)', 2.8636363636363638),\n",
       " (tensor(0.1091), 'Ridicule (1996)', 3.7045454545454546),\n",
       " (tensor(0.1764), 'Persuasion (1995)', 4.045454545454546),\n",
       " (tensor(0.0412), 'Basquiat (1996)', 3.25),\n",
       " (tensor(-0.0218), 'Fire Down Below (1997)', 2.9318181818181817),\n",
       " (tensor(-0.1804), 'Leave It to Beaver (1997)', 1.8409090909090908),\n",
       " (tensor(0.1933),\n",
       "  'Return of Martin Guerre, The (Retour de Martin Guerre, Le) (1982)',\n",
       "  3.772727272727273),\n",
       " (tensor(0.0417), 'Nick of Time (1995)', 3.0454545454545454),\n",
       " (tensor(0.0692), 'Fear (1996)', 3.159090909090909),\n",
       " (tensor(-0.0643), 'Young Guns II (1990)', 2.772727272727273),\n",
       " (tensor(0.0781), 'Renaissance Man (1994)', 3.0),\n",
       " (tensor(-0.0411),\n",
       "  'Tales From the Crypt Presents: Demon Knight (1995)',\n",
       "  2.9767441860465116),\n",
       " (tensor(-0.2696), 'Mortal Kombat: Annihilation (1997)', 1.9534883720930232),\n",
       " (tensor(0.0335), 'Chamber, The (1996)', 3.0930232558139537),\n",
       " (tensor(-0.0840), 'Air Bud (1997)', 2.558139534883721),\n",
       " (tensor(0.1933), 'Wild Bunch, The (1969)', 4.023255813953488),\n",
       " (tensor(0.1176), 'Ghost and Mrs. Muir, The (1947)', 3.6511627906976742),\n",
       " (tensor(0.0762), 'Rising Sun (1993)', 2.9069767441860463),\n",
       " (tensor(-0.1050), 'Money Train (1995)', 2.511627906976744),\n",
       " (tensor(-0.0468), 'Spy Hard (1996)', 2.511627906976744),\n",
       " (tensor(-0.1404), \"Pete's Dragon (1977)\", 2.7209302325581395),\n",
       " (tensor(-0.0961), 'Playing God (1997)', 2.627906976744186),\n",
       " (tensor(0.0351), 'Freeway (1996)', 3.357142857142857),\n",
       " (tensor(0.3269), 'Big Lebowski, The (1998)', 3.8333333333333335),\n",
       " (tensor(0.2180), 'Kundun (1997)', 3.6904761904761907),\n",
       " (tensor(0.1876), 'Flirting With Disaster (1996)', 3.6904761904761907),\n",
       " (tensor(0.1128), 'Moll Flanders (1996)', 3.5),\n",
       " (tensor(-0.0511), 'Congo (1995)', 2.4523809523809526),\n",
       " (tensor(-0.0072), 'Love Jones (1997)', 3.0952380952380953),\n",
       " (tensor(-0.1053), 'Johnny Mnemonic (1995)', 2.6341463414634148),\n",
       " (tensor(-0.0380), 'Sphere (1998)', 2.926829268292683),\n",
       " (tensor(-0.0620), 'That Darn Cat! (1997)', 2.4634146341463414),\n",
       " (tensor(0.2556),\n",
       "  'Some Folks Call It a Sling Blade (1993)',\n",
       "  4.2926829268292686),\n",
       " (tensor(0.0174), 'Fallen (1998)', 3.1463414634146343),\n",
       " (tensor(0.0735), \"Young Poisoner's Handbook, The (1995)\", 3.341463414634146),\n",
       " (tensor(0.1367), 'Little Princess, A (1995)', 3.658536585365854),\n",
       " (tensor(-0.0123), 'Associate, The (1996)', 3.2439024390243905),\n",
       " (tensor(-0.0827), 'Coneheads (1993)', 2.2195121951219514),\n",
       " (tensor(-0.1030), 'Tank Girl (1995)', 2.8536585365853657),\n",
       " (tensor(0.0094), '187 (1997)', 3.024390243902439),\n",
       " (tensor(0.1255), 'Gigi (1958)', 3.658536585365854),\n",
       " (tensor(0.1045), 'Tin Drum, The (Blechtrommel, Die) (1979)', 3.7),\n",
       " (tensor(0.2101), 'Charade (1963)', 3.925),\n",
       " (tensor(0.2496), 'Priest (1994)', 4.0),\n",
       " (tensor(-0.1248), 'Eddie (1996)', 2.7),\n",
       " (tensor(0.1213), 'Basketball Diaries, The (1995)', 3.425),\n",
       " (tensor(0.0923), 'Disclosure (1994)', 3.0),\n",
       " (tensor(0.1170), 'Paper, The (1994)', 3.225),\n",
       " (tensor(-0.0657), 'First Kid (1996)', 2.925),\n",
       " (tensor(0.1090), 'Killing Zoe (1994)', 3.475),\n",
       " (tensor(-0.0780), 'Harriet the Spy (1996)', 2.7),\n",
       " (tensor(-0.0718), 'Hard Target (1993)', 2.7),\n",
       " (tensor(0.2189), 'Laura (1944)', 4.1),\n",
       " (tensor(0.0221), 'Replacement Killers, The (1998)', 3.3076923076923075),\n",
       " (tensor(-0.0500), 'Mary Reilly (1996)', 2.8205128205128207),\n",
       " (tensor(-0.0495), 'Angels in the Outfield (1994)', 2.923076923076923),\n",
       " (tensor(0.0411), 'Corrina, Corrina (1994)', 3.1538461538461537),\n",
       " (tensor(0.0190), 'French Twist (Gazon maudit) (1995)', 3.2051282051282053),\n",
       " (tensor(-0.0318), 'Indian in the Cupboard, The (1995)', 2.8205128205128207),\n",
       " (tensor(0.0212), 'Assassins (1995)', 2.871794871794872),\n",
       " (tensor(0.1459), 'Candidate, The (1972)', 3.641025641025641),\n",
       " (tensor(0.1114), 'Career Girls (1997)', 3.2564102564102564),\n",
       " (tensor(0.0807), 'When a Man Loves a Woman (1994)', 3.4871794871794872),\n",
       " (tensor(-0.0095), 'Only You (1994)', 3.1538461538461537),\n",
       " (tensor(-0.0254), 'Adventures of Pinocchio, The (1996)', 3.051282051282051),\n",
       " (tensor(0.0431), 'Judge Dredd (1995)', 2.8974358974358974),\n",
       " (tensor(-0.1912), 'Son in Law (1993)', 2.4871794871794872),\n",
       " (tensor(-0.2359), 'Crow: City of Angels, The (1996)', 1.9487179487179487),\n",
       " (tensor(0.1420), 'Swiss Family Robinson (1960)', 3.358974358974359),\n",
       " (tensor(-0.1570), 'Anaconda (1997)', 2.289473684210526),\n",
       " (tensor(-0.0893), 'Virtuosity (1995)', 2.736842105263158),\n",
       " (tensor(0.0754), 'Get on the Bus (1996)', 3.3157894736842106),\n",
       " (tensor(0.1553), '8 1/2 (1963)', 3.8157894736842106),\n",
       " (tensor(-0.1966), 'Speed 2: Cruise Control (1997)', 2.1315789473684212),\n",
       " (tensor(0.0060), 'Howling, The (1981)', 3.026315789473684),\n",
       " (tensor(0.2910), 'Once Upon a Time in the West (1969)', 3.8684210526315788),\n",
       " (tensor(-0.0043), 'Ace Ventura: When Nature Calls (1995)', 2.675675675675676),\n",
       " (tensor(-0.0823), 'Sliver (1993)', 2.4054054054054053),\n",
       " (tensor(-0.1023), 'Milk Money (1994)', 2.72972972972973),\n",
       " (tensor(-0.0381), 'Romeo Is Bleeding (1993)', 3.0),\n",
       " (tensor(0.1375), 'Thousand Acres, A (1997)', 3.4054054054054053),\n",
       " (tensor(0.0706), 'I Shot Andy Warhol (1996)', 3.3783783783783785),\n",
       " (tensor(0.2191), 'Belle de jour (1967)', 3.945945945945946),\n",
       " (tensor(0.0056), 'Billy Madison (1995)', 3.081081081081081),\n",
       " (tensor(-0.0344), 'Metro (1997)', 2.9166666666666665),\n",
       " (tensor(-0.0245), 'Speechless (1994)', 3.0833333333333335),\n",
       " (tensor(0.1822), 'Night on Earth (1991)', 3.8333333333333335),\n",
       " (tensor(0.0948), 'Down by Law (1986)', 3.7714285714285714),\n",
       " (tensor(0.1506), 'Thin Blue Line, The (1988)', 3.7714285714285714),\n",
       " (tensor(0.1595), 'Gaslight (1944)', 3.8857142857142857),\n",
       " (tensor(0.0792), 'Trigger Effect, The (1996)', 3.2),\n",
       " (tensor(-0.0264),\n",
       "  \"Don't Be a Menace to South Central While Drinking Your Juice in the Hood (1996)\",\n",
       "  2.7714285714285714),\n",
       " (tensor(-0.0505), \"Wes Craven's New Nightmare (1994)\", 2.8),\n",
       " (tensor(0.1292), 'Mediterraneo (1991)', 3.676470588235294),\n",
       " (tensor(0.0278), 'Orlando (1993)', 3.6176470588235294),\n",
       " (tensor(0.1379), 'Jeffrey (1995)', 3.5294117647058822),\n",
       " (tensor(0.1209), 'Washington Square (1997)', 3.2941176470588234),\n",
       " (tensor(-0.1535), 'Fled (1996)', 2.6470588235294117),\n",
       " (tensor(-0.0024), 'Terminal Velocity (1994)', 2.676470588235294),\n",
       " (tensor(0.2412), 'Lost Horizon (1937)', 3.9411764705882355),\n",
       " (tensor(0.0016), 'Boys on the Side (1995)', 3.1470588235294117),\n",
       " (tensor(0.1684), 'Touch of Evil (1958)', 3.911764705882353),\n",
       " (tensor(0.1523), 'Dead Man (1995)', 3.823529411764706),\n",
       " (tensor(0.0782), 'Unforgettable (1996)', 3.323529411764706),\n",
       " (tensor(0.1398), 'Anna Karenina (1997)', 3.090909090909091),\n",
       " (tensor(0.0224), 'Clockers (1995)', 3.0),\n",
       " (tensor(0.2533), 'Paths of Glory (1957)', 4.212121212121212),\n",
       " (tensor(-0.1293), 'Free Willy (1993)', 2.4545454545454546),\n",
       " (tensor(-0.0671), 'Hackers (1995)', 2.606060606060606),\n",
       " (tensor(0.0226), 'Night Falls on Manhattan (1997)', 3.375),\n",
       " (tensor(0.0981), 'Eye for an Eye (1996)', 3.03125),\n",
       " (tensor(-0.0560), \"Cats Don't Dance (1997)\", 2.84375),\n",
       " (tensor(0.0808),\n",
       "  'Englishman Who Went Up a Hill, But Came Down a Mountain, The (1995)',\n",
       "  3.375),\n",
       " (tensor(0.0908), 'Fast, Cheap & Out of Control (1997)', 3.4375),\n",
       " (tensor(0.0370), 'Tie Me Up! Tie Me Down! (1990)', 3.1875),\n",
       " (tensor(0.2004), 'Brassed Off (1996)', 3.9375),\n",
       " (tensor(0.0071), 'Homeward Bound II: Lost in San Francisco (1996)', 2.78125),\n",
       " (tensor(0.0129), 'Old Man and the Sea, The (1958)', 3.34375),\n",
       " (tensor(-0.0288), 'Transformers: The Movie, The (1986)', 2.84375),\n",
       " (tensor(-0.0894), 'Feeling Minnesota (1996)', 2.625),\n",
       " (tensor(-0.1429), 'Airheads (1994)', 2.34375),\n",
       " (tensor(0.0152), 'Prophecy, The (1995)', 2.9375),\n",
       " (tensor(-0.0184), 'Boomerang (1992)', 2.8125),\n",
       " (tensor(0.0900), 'Great Race, The (1965)', 3.2903225806451615),\n",
       " (tensor(-0.1431), 'Flintstones, The (1994)', 2.064516129032258),\n",
       " (tensor(-0.0018), 'Kiss Me, Guido (1997)', 3.161290322580645),\n",
       " (tensor(-0.1091), \"Fathers' Day (1997)\", 2.5806451612903225),\n",
       " (tensor(0.0267), 'Threesome (1994)', 2.838709677419355),\n",
       " (tensor(-0.0214), 'Program, The (1993)', 2.838709677419355),\n",
       " (tensor(-0.0593), 'Drop Zone (1994)', 2.5483870967741935),\n",
       " (tensor(-0.1128), 'Operation Dumbo Drop (1995)', 2.5161290322580645),\n",
       " (tensor(0.3184),\n",
       "  'Die xue shuang xiong (Killer, The) (1989)',\n",
       "  3.967741935483871),\n",
       " (tensor(-0.2222), 'Bio-Dome (1996)', 1.903225806451613),\n",
       " (tensor(0.0153), 'Hard Rain (1998)', 2.903225806451613),\n",
       " (tensor(0.0284), 'Meet Me in St. Louis (1944)', 3.3548387096774195),\n",
       " (tensor(0.1126), 'Timecop (1994)', 3.096774193548387),\n",
       " (tensor(0.2864), 'Once Were Warriors (1994)', 4.064516129032258),\n",
       " (tensor(0.1445), 'Higher Learning (1995)', 3.3333333333333335),\n",
       " (tensor(-0.0401), 'Escape to Witch Mountain (1975)', 2.966666666666667),\n",
       " (tensor(0.0006), 'Georgia (1995)', 2.9),\n",
       " (tensor(-0.0134), 'Shaggy Dog, The (1959)', 3.0),\n",
       " (tensor(0.2306), 'Spellbound (1945)', 3.933333333333333),\n",
       " (tensor(-0.2117), 'Barb Wire (1996)', 1.9333333333333333),\n",
       " (tensor(0.0948), 'FairyTale: A True Story (1997)', 2.966666666666667),\n",
       " (tensor(0.1531), 'My Own Private Idaho (1991)', 3.6333333333333333),\n",
       " (tensor(-0.0741), 'If Lucy Fell (1996)', 2.7586206896551726),\n",
       " (tensor(-0.0079), 'Deceiver (1997)', 2.8275862068965516),\n",
       " (tensor(0.2881), 'Beautiful Thing (1996)', 3.9655172413793105),\n",
       " (tensor(0.1076), 'Ghosts of Mississippi (1996)', 3.4827586206896552),\n",
       " (tensor(-0.1875), \"Stephen King's The Langoliers (1995)\", 2.413793103448276),\n",
       " (tensor(-0.0304), 'Blown Away (1994)', 2.7586206896551726),\n",
       " (tensor(0.0902), 'Twelfth Night (1996)', 3.413793103448276),\n",
       " (tensor(-0.0033), 'Evening Star, The (1996)', 2.9310344827586206),\n",
       " (tensor(-0.1381), 'High School High (1996)', 2.6206896551724137),\n",
       " (tensor(-0.1084), 'Canadian Bacon (1994)', 2.413793103448276),\n",
       " (tensor(0.0783), 'In Love and War (1996)', 3.4285714285714284),\n",
       " (tensor(-0.0104), 'Blues Brothers 2000 (1998)', 2.8214285714285716),\n",
       " (tensor(0.1491), 'Chungking Express (1994)', 3.5714285714285716),\n",
       " (tensor(0.0230), 'Passion Fish (1992)', 3.1785714285714284),\n",
       " (tensor(-0.1192), 'Beverly Hills Cop III (1994)', 2.392857142857143),\n",
       " (tensor(0.0459), 'Death and the Maiden (1994)', 3.4285714285714284),\n",
       " (tensor(0.0514),\n",
       "  'Once Upon a Time... When We Were Colored (1995)',\n",
       "  3.2857142857142856),\n",
       " (tensor(0.0398), 'Just Cause (1995)', 3.142857142857143),\n",
       " (tensor(-0.0561), 'Another Stakeout (1993)', 2.5),\n",
       " (tensor(0.0342), 'Crossing Guard, The (1995)', 3.0),\n",
       " (tensor(-0.0988), 'Barbarella (1968)', 2.5714285714285716),\n",
       " (tensor(0.1564), 'Living in Oblivion (1995)', 3.740740740740741),\n",
       " (tensor(0.1137), 'Manhattan Murder Mystery (1993)', 3.6296296296296298),\n",
       " (tensor(0.0231), 'Pollyanna (1960)', 3.1481481481481484),\n",
       " (tensor(-0.1752), \"Heaven's Prisoners (1996)\", 2.5185185185185186),\n",
       " (tensor(0.0356), 'Spanking the Monkey (1994)', 3.074074074074074),\n",
       " (tensor(0.0766), 'Black Beauty (1994)', 3.4444444444444446),\n",
       " (tensor(-0.2121), 'Free Willy 3: The Rescue (1997)', 1.7407407407407407),\n",
       " (tensor(-0.0939), 'Wishmaster (1997)', 2.4444444444444446),\n",
       " (tensor(-0.1661), 'Tales from the Hood (1995)', 2.037037037037037),\n",
       " (tensor(0.2149), 'Paris Is Burning (1990)', 3.814814814814815),\n",
       " (tensor(0.2149), 'My Man Godfrey (1936)', 4.037037037037037),\n",
       " (tensor(0.1857), 'Vanya on 42nd Street (1994)', 3.5925925925925926),\n",
       " (tensor(-0.0532), 'Made in America (1993)', 2.5185185185185186),\n",
       " (tensor(0.0657), 'Great Expectations (1998)', 3.2222222222222223),\n",
       " (tensor(0.1343), 'Exotica (1994)', 3.5555555555555554),\n",
       " (tensor(-0.1154), 'Quest, The (1996)', 2.5185185185185186),\n",
       " (tensor(0.1147), 'Love! Valour! Compassion! (1997)', 3.6153846153846154),\n",
       " (tensor(-0.1657), 'Super Mario Bros. (1993)', 2.076923076923077),\n",
       " (tensor(0.1191), 'Ninotchka (1939)', 3.769230769230769),\n",
       " (tensor(-0.0791), 'Before and After (1996)', 2.8461538461538463),\n",
       " (tensor(0.0645),\n",
       "  'Shanghai Triad (Yao a yao yao dao waipo qiao) (1995)',\n",
       "  3.576923076923077),\n",
       " (tensor(0.1238), 'Pillow Book, The (1995)', 3.6923076923076925),\n",
       " (tensor(0.1253), 'Friday (1995)', 3.4615384615384617),\n",
       " (tensor(0.1986), 'Affair to Remember, An (1957)', 4.1923076923076925),\n",
       " (tensor(0.0076), 'In the Mouth of Madness (1995)', 2.8846153846153846),\n",
       " (tensor(0.1874), 'Walkabout (1971)', 3.8461538461538463),\n",
       " (tensor(-0.1198), 'Spice World (1997)', 2.1153846153846154),\n",
       " (tensor(-0.0775), 'Something to Talk About (1995)', 2.769230769230769),\n",
       " (tensor(-0.0388),\n",
       "  'Aladdin and the King of Thieves (1996)',\n",
       "  2.8461538461538463),\n",
       " (tensor(0.1750),\n",
       "  'Ghost in the Shell (Kokaku kidotai) (1995)',\n",
       "  3.6538461538461537),\n",
       " (tensor(-0.0475), 'Portrait of a Lady, The (1996)', 2.68),\n",
       " (tensor(-0.1810), 'Halloween: The Curse of Michael Myers (1995)', 2.2),\n",
       " (tensor(0.0324), 'Apple Dumpling Gang, The (1975)', 2.84),\n",
       " (tensor(-0.1028), 'House Arrest (1996)', 2.52),\n",
       " (tensor(0.0973), 'Meet John Doe (1941)', 3.92),\n",
       " (tensor(0.0868), 'Naked (1993)', 3.24),\n",
       " (tensor(-0.0554), 'Judgment Night (1993)', 2.68),\n",
       " (tensor(-0.0988), 'Girl 6 (1996)', 2.76),\n",
       " (tensor(-0.1482), 'Two if by Sea (1996)', 2.6),\n",
       " (tensor(0.0178), 'Relic, The (1997)', 2.88),\n",
       " (tensor(-0.1306), 'Keys to Tulsa (1997)', 2.24),\n",
       " (tensor(0.1164), 'Fearless (1993)', 3.24),\n",
       " (tensor(0.0616), 'Smile Like Yours, A (1997)', 2.88),\n",
       " (tensor(-0.1306), 'Dracula: Dead and Loving It (1995)', 2.28),\n",
       " (tensor(-0.1608), 'Lord of Illusions (1995)', 2.4166666666666665),\n",
       " (tensor(0.1129), 'Burnt By the Sun (1994)', 3.7083333333333335),\n",
       " (tensor(0.0401), 'House of the Spirits, The (1993)', 3.0416666666666665),\n",
       " (tensor(-0.0277), 'Houseguest (1994)', 2.8333333333333335),\n",
       " (tensor(0.1357),\n",
       "  'Garden of Finzi-Contini, The (Giardino dei Finzi-Contini, Il) (1970)',\n",
       "  3.9166666666666665),\n",
       " (tensor(-0.1829), 'Grease 2 (1982)', 2.0),\n",
       " (tensor(0.0974), 'Queen Margot (Reine Margot, La) (1994)', 3.5),\n",
       " (tensor(0.1682), 'Cry, the Beloved Country (1995)', 3.75),\n",
       " (tensor(-0.0460), 'Fools Rush In (1997)', 3.0),\n",
       " (tensor(-0.0274), 'Now and Then (1995)', 3.4583333333333335),\n",
       " (tensor(-0.0222), 'Drop Dead Fred (1991)', 2.75),\n",
       " (tensor(0.1014), \"Microcosmos: Le peuple de l'herbe (1996)\", 3.75),\n",
       " (tensor(-0.0964), 'Turbulence (1997)', 2.5652173913043477),\n",
       " (tensor(-0.0879), 'Trial and Error (1997)', 2.5217391304347827),\n",
       " (tensor(-0.1340), 'Mr. Wrong (1996)', 2.3043478260869565),\n",
       " (tensor(-0.1374), 'Kansas City (1996)', 2.260869565217391),\n",
       " (tensor(0.0065),\n",
       "  'Until the End of the World (Bis ans Ende der Welt) (1991)',\n",
       "  2.8260869565217392),\n",
       " (tensor(-0.0108), 'Jude (1996)', 3.0),\n",
       " (tensor(-0.0497),\n",
       "  'Cemetery Man (Dellamorte Dellamore) (1994)',\n",
       "  2.869565217391304),\n",
       " (tensor(0.0782), 'Inventing the Abbotts (1997)', 3.130434782608696),\n",
       " (tensor(0.0767), 'Ruby in Paradise (1993)', 3.130434782608696),\n",
       " (tensor(0.0504), 'Live Nude Girls (1995)', 3.0869565217391304),\n",
       " (tensor(-0.0292), 'Fog, The (1980)', 2.739130434782609),\n",
       " (tensor(-0.2116), 'Showgirls (1995)', 1.9565217391304348),\n",
       " (tensor(0.0209), 'Village of the Damned (1995)', 2.6818181818181817),\n",
       " (tensor(0.1332), 'Welcome To Sarajevo (1997)', 3.3636363636363638),\n",
       " (tensor(-0.0378), 'Marked for Death (1990)', 2.5),\n",
       " (tensor(0.0104), 'Mother Night (1996)', 3.1818181818181817),\n",
       " (tensor(0.1180),\n",
       "  'Double vie de Véronique, La (Double Life of Veronique, The) (1991)',\n",
       "  3.6818181818181817),\n",
       " (tensor(-0.1025), 'Pallbearer, The (1996)', 2.3181818181818183),\n",
       " (tensor(0.0468), 'Unstrung Heroes (1995)', 3.3181818181818183),\n",
       " (tensor(0.0072),\n",
       "  'Mrs. Parker and the Vicious Circle (1994)',\n",
       "  3.272727272727273),\n",
       " (tensor(0.0557), 'Three Caballeros, The (1945)', 3.272727272727273),\n",
       " (tensor(0.0736), 'Kama Sutra: A Tale of Love (1996)', 3.3181818181818183),\n",
       " (tensor(-0.0324), 'Bogus (1996)', 2.5454545454545454),\n",
       " (tensor(0.1581), 'Body Snatcher, The (1945)', 3.5),\n",
       " (tensor(0.0561), 'Little Buddha (1993)', 3.3181818181818183),\n",
       " (tensor(-0.1122), \"Kid in King Arthur's Court, A (1995)\", 2.727272727272727),\n",
       " (tensor(0.0294), 'Blood & Wine (1997)', 2.8636363636363638),\n",
       " (tensor(-0.0123), 'Mrs. Winterbourne (1996)', 3.0454545454545454),\n",
       " (tensor(-0.0139), 'Oliver & Company (1988)', 2.772727272727273),\n",
       " (tensor(-0.1455), 'Funeral, The (1996)', 2.4285714285714284),\n",
       " (tensor(0.1784), 'My Family (1995)', 3.6666666666666665),\n",
       " (tensor(-0.3135),\n",
       "  'Lawnmower Man 2: Beyond Cyberspace (1996)',\n",
       "  1.7142857142857142),\n",
       " (tensor(0.1038), 'Funny Face (1957)', 3.6666666666666665),\n",
       " (tensor(0.1249), 'Top Hat (1935)', 4.0476190476190474),\n",
       " (tensor(-0.1266),\n",
       "  'Candyman: Farewell to the Flesh (1995)',\n",
       "  2.4285714285714284),\n",
       " (tensor(0.0552), 'Misérables, Les (1995)', 3.619047619047619),\n",
       " (tensor(-0.1326), 'How to Be a Player (1997)', 2.761904761904762),\n",
       " (tensor(0.1009),\n",
       "  'Umbrellas of Cherbourg, The (Parapluies de Cherbourg, Les) (1964)',\n",
       "  3.761904761904762),\n",
       " (tensor(0.1015), \"It's My Party (1995)\", 3.2857142857142856),\n",
       " (tensor(0.2547), 'Anne Frank Remembered (1995)', 3.857142857142857),\n",
       " (tensor(0.0528), 'Oscar & Lucinda (1997)', 3.1904761904761907),\n",
       " (tensor(-0.1034), 'Richie Rich (1994)', 2.4285714285714284),\n",
       " (tensor(-0.0824), 'Beverly Hillbillies, The (1993)', 2.25),\n",
       " (tensor(0.0876), 'Indian Summer (1996)', 3.25),\n",
       " (tensor(-0.0225), 'Half Baked (1998)', 2.5),\n",
       " (tensor(0.1617), 'For Whom the Bell Tolls (1943)', 4.0),\n",
       " (tensor(-0.1399), 'Flipper (1996)', 2.45),\n",
       " (tensor(0.0793), 'Ma vie en rose (My Life in Pink) (1997)', 3.45),\n",
       " (tensor(0.0015), 'Prophecy II, The (1998)', 2.7),\n",
       " (tensor(-0.0918), 'Specialist, The (1994)', 2.25),\n",
       " (tensor(-0.0155), 'Kiss of Death (1995)', 2.85),\n",
       " (tensor(-0.0171), 'Maximum Risk (1996)', 2.8),\n",
       " (tensor(-0.0117), 'Goofy Movie, A (1995)', 2.9),\n",
       " (tensor(0.1998),\n",
       "  'Paradise Lost: The Child Murders at Robin Hood Hills (1996)',\n",
       "  4.05),\n",
       " (tensor(0.0189), 'Amos & Andrew (1993)', 2.6842105263157894),\n",
       " (tensor(-0.0540), 'Out to Sea (1997)', 2.6842105263157894),\n",
       " (tensor(-0.1274), 'D3: The Mighty Ducks (1996)', 2.5789473684210527),\n",
       " (tensor(0.0528), 'Fatal Instinct (1993)', 2.6315789473684212),\n",
       " (tensor(0.0602), 'Star Maps (1997)', 3.0526315789473686),\n",
       " (tensor(-0.1055), 'Steel (1997)', 2.1578947368421053),\n",
       " (tensor(-0.0978), 'That Darn Cat! (1965)', 2.473684210526316),\n",
       " (tensor(0.0970), 'Set It Off (1996)', 3.4210526315789473),\n",
       " (tensor(0.0716), \"Gridlock'd (1997)\", 3.210526315789474),\n",
       " (tensor(0.0254), 'Surviving Picasso (1996)', 3.1052631578947367),\n",
       " (tensor(0.1511), 'Trust (1990)', 3.789473684210526),\n",
       " (tensor(0.0308), 'Blink (1994)', 3.0),\n",
       " (tensor(-0.1913), 'Home Alone 3 (1997)', 1.894736842105263),\n",
       " (tensor(-0.3834),\n",
       "  'Children of the Corn: The Gathering (1996)',\n",
       "  1.3157894736842106),\n",
       " (tensor(0.1562), \"Widows' Peak (1994)\", 3.5789473684210527),\n",
       " (tensor(-0.0649), 'Major Payne (1994)', 2.473684210526316),\n",
       " (tensor(-0.1559), 'Cowboy Way, The (1994)', 2.210526315789474),\n",
       " (tensor(0.1221), 'Backbeat (1993)', 3.473684210526316),\n",
       " (tensor(0.0847), 'Amateur (1994)', 3.1666666666666665),\n",
       " (tensor(0.1357), 'Assignment, The (1997)', 3.5),\n",
       " (tensor(0.0358), 'Afterglow (1997)', 3.111111111111111),\n",
       " (tensor(0.0138), 'Beyond Rangoon (1995)', 3.0555555555555554),\n",
       " (tensor(0.0179), 'Andre (1994)', 3.111111111111111),\n",
       " (tensor(-0.0261), \"Robert A. Heinlein's The Puppet Masters (1994)\", 3.0),\n",
       " (tensor(-0.0296), 'Dead Presidents (1995)', 2.7222222222222223),\n",
       " (tensor(0.1123),\n",
       "  'Blue Angel, The (Blaue Engel, Der) (1930)',\n",
       "  3.7777777777777777),\n",
       " (tensor(-0.1169), 'Cutthroat Island (1995)', 2.4444444444444446),\n",
       " (tensor(0.0875), 'Picnic (1955)', 3.611111111111111),\n",
       " (tensor(-0.1678), 'Hellraiser: Bloodline (1996)', 2.0),\n",
       " (tensor(0.0832), 'Lost in Space (1998)', 3.1666666666666665),\n",
       " (tensor(-0.0579), 'Little Rascals, The (1994)', 2.7222222222222223),\n",
       " (tensor(-0.0914), 'Jingle All the Way (1996)', 2.111111111111111),\n",
       " (tensor(0.0984), 'Hate (Haine, La) (1995)', 3.5),\n",
       " (tensor(0.0791), 'To Be or Not to Be (1942)', 3.611111111111111),\n",
       " (tensor(0.0682), 'House of Yes, The (1997)', 3.0),\n",
       " (tensor(-0.1689), 'Ready to Wear (Pret-A-Porter) (1994)', 1.8333333333333333),\n",
       " (tensor(0.0175), 'Inspector General, The (1949)', 3.7222222222222223),\n",
       " (tensor(-0.0365), 'Firestorm (1998)', 2.8333333333333335),\n",
       " (tensor(-0.0279), 'M. Butterfly (1993)', 3.2222222222222223),\n",
       " (tensor(-0.0498), 'Getaway, The (1994)', 2.3333333333333335),\n",
       " (tensor(0.2040),\n",
       "  'Thirty-Two Short Films About Glenn Gould (1993)',\n",
       "  3.9444444444444446),\n",
       " (tensor(-0.0822), 'In the Army Now (1994)', 2.2777777777777777),\n",
       " (tensor(-0.1336), 'Jade (1995)', 2.2941176470588234),\n",
       " (tensor(-0.0780), 'Madonna: Truth or Dare (1991)', 2.4705882352941178),\n",
       " (tensor(-0.0551), 'Road to Wellville, The (1994)', 2.2941176470588234),\n",
       " (tensor(0.0373), \"I'm Not Rappaport (1996)\", 3.0),\n",
       " (tensor(-0.1289), 'Stupids, The (1996)', 2.0),\n",
       " (tensor(0.0053), 'Mute Witness (1994)', 2.9411764705882355),\n",
       " (tensor(0.1014), 'Big Blue, The (Grand bleu, Le) (1988)', 3.235294117647059),\n",
       " (tensor(0.1199), 'Shall We Dance? (1937)', 3.7058823529411766),\n",
       " (tensor(-0.0369), 'Farinelli: il castrato (1994)', 3.1176470588235294),\n",
       " (tensor(-0.0583), 'Switchback (1997)', 2.823529411764706),\n",
       " (tensor(0.0195), 'Party Girl (1995)', 2.875),\n",
       " (tensor(-0.0384), 'Little Big League (1994)', 2.875),\n",
       " (tensor(0.0967), 'Selena (1997)', 3.625),\n",
       " (tensor(-0.1575), 'Highlander III: The Sorcerer (1994)', 2.125),\n",
       " (tensor(0.1247), 'In the Bleak Midwinter (1995)', 3.6875),\n",
       " (tensor(-0.0885), 'Believers, The (1987)', 2.25),\n",
       " (tensor(0.1042),\n",
       "  'When the Cats Away (Chacun cherche son chat) (1996)',\n",
       "  3.5625),\n",
       " (tensor(0.0592), 'Bastard Out of Carolina (1996)', 2.875),\n",
       " (tensor(-0.0334), 'Cabin Boy (1994)', 2.5625),\n",
       " (tensor(0.0767), 'Balto (1995)', 3.0),\n",
       " (tensor(-0.1575), 'Stuart Saves His Family (1995)', 2.125),\n",
       " (tensor(-0.0220), 'Exit to Eden (1994)', 2.75),\n",
       " (tensor(0.0289), 'Bad Taste (1987)', 3.375),\n",
       " (tensor(0.1325), 'Dark City (1998)', 3.5),\n",
       " (tensor(-0.0991), 'Waiting to Exhale (1995)', 2.5),\n",
       " (tensor(-0.1363), 'Jaws 3-D (1983)', 1.9375),\n",
       " (tensor(0.0246), 'Gang Related (1997)', 2.6875)]"
      ]
     },
     "execution_count": 178,
     "metadata": {},
     "output_type": "execute_result"
    }
   ],
   "source": [
    "movie_ratings"
   ]
  },
  {
   "cell_type": "markdown",
   "metadata": {},
   "source": [
    "Create a function `item0` that grabs o[0] for some item o."
   ]
  },
  {
   "cell_type": "code",
   "execution_count": 179,
   "metadata": {
    "collapsed": true
   },
   "outputs": [],
   "source": [
    "item0 = lambda x: x[0]"
   ]
  },
  {
   "cell_type": "markdown",
   "metadata": {},
   "source": [
    "Sort the movie ratings by this function and print out the top 15 to get the worst movies."
   ]
  },
  {
   "cell_type": "code",
   "execution_count": 180,
   "metadata": {},
   "outputs": [
    {
     "data": {
      "text/plain": [
       "[(tensor(-0.3834),\n",
       "  'Children of the Corn: The Gathering (1996)',\n",
       "  1.3157894736842106),\n",
       " (tensor(-0.3135),\n",
       "  'Lawnmower Man 2: Beyond Cyberspace (1996)',\n",
       "  1.7142857142857142),\n",
       " (tensor(-0.2924), 'Cable Guy, The (1996)', 2.339622641509434),\n",
       " (tensor(-0.2696), 'Mortal Kombat: Annihilation (1997)', 1.9534883720930232),\n",
       " (tensor(-0.2516), 'Striptease (1996)', 2.2388059701492535),\n",
       " (tensor(-0.2359), 'Crow: City of Angels, The (1996)', 1.9487179487179487),\n",
       " (tensor(-0.2264), 'Island of Dr. Moreau, The (1996)', 2.1578947368421053),\n",
       " (tensor(-0.2222), 'Bio-Dome (1996)', 1.903225806451613),\n",
       " (tensor(-0.2155), 'Beverly Hills Ninja (1997)', 2.3125),\n",
       " (tensor(-0.2121), 'Free Willy 3: The Rescue (1997)', 1.7407407407407407),\n",
       " (tensor(-0.2117), 'Barb Wire (1996)', 1.9333333333333333),\n",
       " (tensor(-0.2116), 'Showgirls (1995)', 1.9565217391304348),\n",
       " (tensor(-0.2098), \"Joe's Apartment (1996)\", 2.2444444444444445),\n",
       " (tensor(-0.2094), \"McHale's Navy (1997)\", 2.1884057971014492),\n",
       " (tensor(-0.1966), 'Speed 2: Cruise Control (1997)', 2.1315789473684212)]"
      ]
     },
     "execution_count": 180,
     "metadata": {},
     "output_type": "execute_result"
    }
   ],
   "source": [
    "sorted(movie_ratings, key=item0)[:15]"
   ]
  },
  {
   "cell_type": "markdown",
   "metadata": {},
   "source": [
    "Sort the movie ratings by the reverse of this function to get the best movies."
   ]
  },
  {
   "cell_type": "code",
   "execution_count": 182,
   "metadata": {},
   "outputs": [
    {
     "data": {
      "text/plain": [
       "[(tensor(0.6128), \"Schindler's List (1993)\", 4.466442953020135),\n",
       " (tensor(0.5967), 'Titanic (1997)', 4.2457142857142856),\n",
       " (tensor(0.5622), 'Shawshank Redemption, The (1994)', 4.445229681978798),\n",
       " (tensor(0.5461), 'Rear Window (1954)', 4.3875598086124405),\n",
       " (tensor(0.5374), 'Silence of the Lambs, The (1991)', 4.28974358974359),\n",
       " (tensor(0.5362), 'As Good As It Gets (1997)', 4.196428571428571),\n",
       " (tensor(0.5304), 'L.A. Confidential (1997)', 4.161616161616162),\n",
       " (tensor(0.5282), 'Star Wars (1977)', 4.3584905660377355),\n",
       " (tensor(0.5058), 'Good Will Hunting (1997)', 4.262626262626263),\n",
       " (tensor(0.4963), 'Usual Suspects, The (1995)', 4.385767790262173),\n",
       " (tensor(0.4909), 'Casablanca (1942)', 4.45679012345679),\n",
       " (tensor(0.4872), 'Boot, Das (1981)', 4.203980099502488),\n",
       " (tensor(0.4798), 'Vertigo (1958)', 4.251396648044692),\n",
       " (tensor(0.4725), 'Apt Pupil (1998)', 4.1),\n",
       " (tensor(0.4601), \"One Flew Over the Cuckoo's Nest (1975)\", 4.291666666666667)]"
      ]
     },
     "execution_count": 182,
     "metadata": {},
     "output_type": "execute_result"
    }
   ],
   "source": [
    "sorted(movie_ratings, key=item0, reverse=True)[:15]"
   ]
  },
  {
   "cell_type": "markdown",
   "metadata": {},
   "source": [
    "### Movie weights"
   ]
  },
  {
   "cell_type": "markdown",
   "metadata": {},
   "source": [
    "Get the movie weights using `learn.weight`. Call this `movie_w`. Print out the shape."
   ]
  },
  {
   "cell_type": "code",
   "execution_count": 187,
   "metadata": {},
   "outputs": [],
   "source": [
    "movie_w = learn.weight(top_rated)"
   ]
  },
  {
   "cell_type": "code",
   "execution_count": 188,
   "metadata": {},
   "outputs": [
    {
     "data": {
      "text/plain": [
       "torch.Size([1000, 40])"
      ]
     },
     "execution_count": 188,
     "metadata": {},
     "output_type": "execute_result"
    }
   ],
   "source": [
    "movie_w.shape"
   ]
  },
  {
   "cell_type": "markdown",
   "metadata": {},
   "source": [
    "Get the first three principal components of `movie_w`. Call this `movie_pca`. Print out the shape."
   ]
  },
  {
   "cell_type": "code",
   "execution_count": 191,
   "metadata": {},
   "outputs": [
    {
     "data": {
      "text/plain": [
       "torch.Size([1000, 3])"
      ]
     },
     "execution_count": 191,
     "metadata": {},
     "output_type": "execute_result"
    }
   ],
   "source": [
    "movie_pca = movie_w.pca(3)\n",
    "movie_pca.shape"
   ]
  },
  {
   "cell_type": "markdown",
   "metadata": {},
   "source": [
    "Set the first three factors of `movie_pca` to variables `fac0`, `fac1`, `fac2`. Create a list of 2-tuples of the factor value and the title. Call this `movie_comp`."
   ]
  },
  {
   "cell_type": "code",
   "execution_count": 194,
   "metadata": {},
   "outputs": [],
   "source": [
    "fac0, fac1, fac2 = movie_pca[:,0], movie_pca[:,1], movie_pca[:,2]"
   ]
  },
  {
   "cell_type": "code",
   "execution_count": 197,
   "metadata": {},
   "outputs": [
    {
     "data": {
      "text/plain": [
       "tensor([-8.2130e-01, -8.4633e-02, -7.8981e-01, -2.0114e-01,  6.4854e-01,\n",
       "        -4.5604e-01,  3.1700e-01, -1.8601e-01,  4.4011e-01,  4.9682e-01,\n",
       "        -5.1955e-01, -9.6228e-01, -7.8322e-01, -1.8756e-01, -7.2262e-01,\n",
       "         1.0409e-02, -5.5523e-01,  2.1043e-01, -5.3301e-01,  9.7951e-02,\n",
       "        -3.5650e-02, -1.4247e-01,  3.4504e-01, -1.9262e-01, -7.5037e-02,\n",
       "        -4.3661e-01, -6.3206e-01, -1.1749e-01,  5.4943e-01, -8.0134e-01,\n",
       "        -5.3984e-01,  2.6896e-02, -2.6664e-01, -4.2705e-01, -8.0569e-01,\n",
       "        -6.0526e-01, -6.3461e-01, -4.1836e-01, -5.1394e-01,  4.3477e-01,\n",
       "        -1.6453e-01, -7.0962e-02,  6.2086e-01,  2.3155e-02, -5.6135e-01,\n",
       "        -3.9313e-01, -3.7807e-01, -6.7388e-01, -3.1608e-01, -1.9875e-01,\n",
       "        -1.0143e-01, -7.5640e-01, -5.6049e-01, -4.1420e-02, -5.8003e-01,\n",
       "         4.1485e-01, -8.7836e-01, -8.3647e-01,  3.3654e-02,  9.6919e-02,\n",
       "        -7.2036e-01, -5.7019e-01, -2.2692e-01,  4.5352e-01, -3.8703e-01,\n",
       "        -1.9698e-01, -3.0187e-01,  2.3587e-01, -5.6845e-01, -4.2847e-01,\n",
       "        -6.8695e-01, -2.2516e-01,  2.4325e-01, -1.1029e+00, -2.9972e-01,\n",
       "        -5.1470e-01,  3.7659e-01,  7.1349e-01, -8.5521e-01, -7.3814e-01,\n",
       "        -2.8972e-01,  2.3044e-01, -5.0471e-01,  8.5472e-02,  4.6009e-02,\n",
       "        -7.4689e-05, -4.2743e-01, -6.9731e-01, -1.0371e-01,  3.7524e-02,\n",
       "        -7.8719e-01,  8.5851e-02, -9.1238e-01,  2.2005e-01, -7.9613e-02,\n",
       "        -8.4771e-02, -3.8464e-01,  8.3109e-01, -7.8931e-01,  6.8399e-01,\n",
       "         2.6196e-01, -6.1117e-01, -3.8706e-01, -1.2637e-02, -3.1052e-01,\n",
       "         3.3633e-01, -2.8653e-01, -9.3395e-01, -7.9854e-01,  1.9961e-01,\n",
       "        -5.9124e-01, -7.5509e-01,  6.0182e-01, -3.0815e-01, -1.5723e-01,\n",
       "        -7.5474e-01,  2.3377e-02, -4.4564e-01,  3.4336e-02, -5.7411e-01,\n",
       "        -9.3269e-01,  1.9880e-01, -5.4338e-01, -9.5398e-01,  1.3747e-01,\n",
       "         1.0917e-01,  2.8131e-01, -6.7590e-01,  1.7997e-01, -4.3672e-01,\n",
       "         1.7516e-01, -8.0765e-01,  1.4238e-01, -4.9045e-01, -2.4380e-01,\n",
       "        -6.7412e-01, -3.7399e-01, -7.0886e-01, -1.2413e-01,  6.1119e-02,\n",
       "         1.1650e-01, -6.8809e-01, -8.8346e-01, -6.5996e-01,  2.9807e-02,\n",
       "        -3.3301e-02, -1.2441e-01, -2.6981e-01, -2.4831e-02, -2.8050e-01,\n",
       "        -1.4696e-01, -3.0175e-01,  3.0094e-01, -3.9457e-01, -2.2551e-02,\n",
       "        -5.9130e-01, -9.8632e-01,  3.4758e-01, -2.9766e-01, -5.4741e-01,\n",
       "        -2.9990e-01,  1.3287e-01, -2.4325e-01,  2.8270e-01, -6.8267e-01,\n",
       "         1.6205e-01, -3.7673e-01,  1.4352e-01,  1.5024e-01, -1.5085e-02,\n",
       "        -1.7386e-01, -2.5738e-02, -5.9582e-02, -2.5279e-01,  2.2295e-01,\n",
       "        -7.6797e-01, -6.4682e-01,  1.9714e-01,  2.7458e-01,  3.3169e-01,\n",
       "        -4.7595e-01, -9.0500e-01, -8.1988e-03,  2.6918e-01,  7.9131e-01,\n",
       "         1.3201e-01,  5.3043e-01, -2.8075e-01, -3.0680e-01,  6.6701e-01,\n",
       "         4.8664e-01, -4.5404e-01, -5.9229e-01,  2.5299e-01,  3.5469e-01,\n",
       "         5.0629e-02, -1.4107e-01, -7.2308e-02, -2.7417e-01, -6.4430e-01,\n",
       "        -3.8762e-02,  2.7529e-01,  1.6121e-01, -6.1632e-01,  4.7662e-02,\n",
       "        -4.3777e-01,  1.7702e-01,  6.3718e-01, -4.0105e-01, -4.1175e-01,\n",
       "        -4.7175e-01, -5.2114e-01, -1.0864e+00,  2.8463e-01,  2.3367e-01,\n",
       "         2.3000e-01, -2.3183e-01,  7.3677e-01,  3.1782e-01,  4.3999e-01,\n",
       "        -8.2059e-01, -3.7923e-01,  3.8291e-01, -5.5287e-01, -9.1307e-02,\n",
       "        -3.9174e-01, -4.6246e-01,  2.3270e-01,  5.5737e-01,  2.2062e-01,\n",
       "        -6.4677e-01, -4.4886e-01,  3.6806e-01, -1.5253e-02, -5.3304e-01,\n",
       "         6.8139e-01, -3.4696e-01,  1.2166e+00, -8.3039e-01,  2.9044e-01,\n",
       "         1.2619e-01,  3.2727e-02, -3.0156e-02,  2.0381e-01, -2.2344e-01,\n",
       "        -5.4917e-01,  6.2751e-01,  6.7874e-01,  4.4763e-01,  5.1058e-02,\n",
       "        -7.0618e-01,  1.0404e-01,  3.1048e-01,  4.4999e-01,  3.2345e-01,\n",
       "        -4.9717e-01,  1.4708e-01,  5.5780e-01, -3.9304e-01, -2.1269e-01,\n",
       "        -4.3135e-01, -5.7615e-01, -9.0607e-01, -1.0777e-01, -2.3878e-01,\n",
       "        -6.4168e-01,  3.1370e-01, -5.6822e-01, -4.0193e-01, -5.5945e-01,\n",
       "         2.5224e-01, -2.8350e-01, -5.4646e-01, -7.3689e-01, -6.6560e-01,\n",
       "        -6.7039e-01, -1.7608e-01, -6.8383e-01, -6.8522e-01,  1.8872e-01,\n",
       "         6.5858e-01, -6.9795e-01,  4.6989e-01, -1.0522e-01, -4.9387e-01,\n",
       "        -1.0917e+00, -7.3543e-01,  4.0518e-01, -7.3915e-01, -7.1658e-01,\n",
       "         1.8149e-02, -5.8031e-01, -1.1119e-01, -2.1850e-02, -6.5086e-01,\n",
       "         8.5705e-02, -3.1242e-01, -1.9004e-01,  9.2818e-01, -2.0726e-01,\n",
       "        -9.1682e-03, -4.2318e-01, -4.3375e-01,  3.7997e-01, -1.1063e+00,\n",
       "         1.6157e-01, -2.3353e-01, -4.9626e-01,  4.4624e-01, -8.8855e-02,\n",
       "        -3.4178e-01,  1.2225e-01, -2.3830e-01,  2.1032e-01, -3.6437e-01,\n",
       "         6.1837e-01, -7.6643e-01,  4.5290e-01, -3.5297e-01,  2.2334e-01,\n",
       "        -5.5911e-01, -7.0861e-01,  3.9112e-01, -5.4310e-01,  4.9440e-01,\n",
       "        -3.9778e-02, -1.3890e-01,  1.0132e-01,  2.3863e-01, -3.9159e-01,\n",
       "         8.3670e-01, -2.7942e-01, -3.0520e-01,  2.6815e-01, -4.3058e-02,\n",
       "         3.8997e-01,  7.4102e-01, -4.3627e-01, -2.3924e-01,  2.1201e-01,\n",
       "         5.0156e-01, -5.4306e-01, -4.5681e-01,  5.7560e-02, -2.2762e-01,\n",
       "        -3.5589e-02, -5.8325e-01,  1.6062e-01, -5.7243e-01,  3.2464e-01,\n",
       "         4.0765e-02, -4.8906e-01, -1.8095e-02, -5.8611e-01,  5.6291e-01,\n",
       "        -6.2595e-01,  3.1792e-01, -1.6374e-01,  5.1848e-01, -1.5737e-01,\n",
       "         5.7078e-01, -2.0346e-01, -3.6997e-01,  4.4865e-01, -1.4974e-01,\n",
       "         3.2473e-01, -4.9504e-01,  6.3926e-02,  5.8754e-01,  5.5237e-01,\n",
       "        -5.3899e-01, -6.0892e-01, -3.9006e-01,  1.4663e-01, -5.2618e-01,\n",
       "        -5.7813e-01,  2.0350e-01, -2.2427e-01, -3.7638e-01, -3.0313e-01,\n",
       "         2.0572e-01, -5.9598e-01, -7.1688e-01,  3.4977e-01, -1.0491e-01,\n",
       "         3.2931e-01, -3.2879e-01,  7.8855e-01,  9.1086e-01, -5.1183e-01,\n",
       "        -8.9663e-02,  2.9832e-01,  2.7771e-01,  5.2171e-01,  2.0660e-01,\n",
       "        -6.3770e-01,  1.2904e-01,  7.1033e-02,  2.2235e-01,  5.9090e-01,\n",
       "         3.1727e-01, -6.8889e-01,  6.4731e-01,  3.1983e-01, -5.9792e-02,\n",
       "         2.1703e-02, -2.3910e-01,  8.5623e-02,  5.3645e-01,  8.0368e-03,\n",
       "        -2.6195e-01,  1.0538e-01, -5.0841e-01,  4.6888e-01, -5.2489e-01,\n",
       "         1.5011e-01, -4.6152e-01, -7.8333e-01,  8.6129e-01,  1.3885e-01,\n",
       "         7.6262e-01, -7.3617e-01, -2.6502e-02, -2.2765e-01, -6.6677e-02,\n",
       "        -1.4678e-01,  1.9902e-01, -1.1474e-01, -2.4702e-01,  3.8697e-01,\n",
       "        -7.9111e-02,  4.7971e-02,  4.7996e-02,  2.6237e-01, -2.1383e-01,\n",
       "        -2.8227e-01, -3.0980e-01, -3.0408e-01,  8.6408e-01,  1.9514e-01,\n",
       "        -3.5062e-01, -3.6715e-01, -3.6588e-01,  5.3493e-01,  1.0362e-01,\n",
       "        -8.5070e-01, -1.2415e-01,  9.3363e-02,  7.4995e-02,  5.9101e-02,\n",
       "        -4.5070e-01, -3.6859e-01, -8.9198e-01, -4.8772e-01, -2.3819e-01,\n",
       "         3.1982e-01,  7.2149e-02, -4.8844e-01,  3.9580e-02,  6.1965e-02,\n",
       "         4.9756e-01, -3.0300e-01,  4.3576e-01, -5.7238e-01, -1.0518e+00,\n",
       "        -4.9884e-01,  6.1850e-01, -5.2461e-01,  1.3122e+00, -5.3767e-01,\n",
       "         5.4608e-02, -2.0298e-01,  4.8702e-01,  5.2432e-01, -7.2252e-01,\n",
       "         2.4359e-01,  6.5101e-01,  3.7167e-01,  3.2293e-01, -6.9637e-01,\n",
       "        -3.5749e-01, -1.9254e-01,  3.4607e-01,  8.9670e-01,  2.4633e-01,\n",
       "        -2.6818e-01,  9.7072e-02, -3.6907e-01, -9.8875e-01, -5.8587e-01,\n",
       "         2.7168e-01, -6.7957e-01, -5.7033e-01, -6.5439e-01, -5.0852e-01,\n",
       "         4.0996e-01, -5.3103e-01,  4.8901e-01, -1.0521e-01, -6.1905e-01,\n",
       "        -4.6898e-01,  4.9741e-01, -7.6136e-01, -1.3422e-01,  2.1162e-01,\n",
       "         3.5936e-04,  6.6263e-01, -2.6921e-01, -6.7396e-01, -1.1910e-01,\n",
       "        -2.8341e-01, -2.5365e-01, -6.6680e-01, -5.0461e-01, -9.1593e-02,\n",
       "        -1.2640e-01,  2.4162e-01, -6.3736e-01,  3.2485e-01,  5.8950e-01,\n",
       "        -2.7156e-01, -3.6205e-02, -5.0470e-01, -4.1735e-01,  3.6814e-01,\n",
       "         6.1679e-01, -1.0103e-01, -6.4246e-01,  3.1717e-01,  9.6810e-01,\n",
       "        -4.1034e-01, -5.3090e-01,  6.1093e-01,  9.3155e-02, -7.3521e-01,\n",
       "         4.4949e-01,  4.4906e-01,  2.2273e-01,  5.7892e-02, -4.1358e-01,\n",
       "        -2.9916e-01,  3.7629e-01,  3.5617e-02, -2.2215e-01, -3.5860e-02,\n",
       "        -4.0837e-01, -6.1888e-01,  1.5396e-01,  5.6718e-02, -4.9076e-02,\n",
       "         1.4473e-01, -5.9487e-01,  1.9293e-01, -6.6042e-01,  6.1512e-02,\n",
       "         2.4987e-01, -5.3296e-01,  2.5237e-01, -5.2564e-01,  1.4746e-01,\n",
       "        -2.0250e-01, -3.0620e-01,  6.1304e-01,  9.3249e-02,  6.9951e-01,\n",
       "         5.1066e-01,  8.2422e-01, -5.7999e-01, -3.0601e-01,  5.3254e-01,\n",
       "        -3.7186e-01,  5.0195e-01, -3.6877e-01, -1.0894e-02,  3.4794e-01,\n",
       "        -1.1796e-01, -7.0857e-02, -2.0000e-01,  3.8769e-01,  3.7998e-01,\n",
       "         5.1969e-01, -3.7620e-01, -7.3961e-02, -3.1776e-02,  1.3541e-01,\n",
       "         3.2637e-01,  4.1665e-01,  5.8884e-01,  5.7800e-01, -6.0043e-01,\n",
       "         2.5774e-01, -3.7938e-01,  3.3928e-01,  6.9897e-01, -2.6521e-01,\n",
       "         1.8513e-01,  9.5089e-03, -2.2659e-01,  1.5445e-01, -3.0702e-01,\n",
       "        -2.5244e-01, -4.2253e-01,  2.5816e-01, -7.4573e-01, -2.4173e-01,\n",
       "         2.2204e-01,  4.0600e-01,  6.2060e-01, -1.0907e-01, -2.4933e-01,\n",
       "         4.7637e-01,  5.0282e-01,  6.6180e-01,  5.9230e-02, -3.2402e-01,\n",
       "         7.0321e-01,  3.7634e-01,  7.9650e-01,  2.5212e-01,  3.1177e-01,\n",
       "         6.3877e-01,  6.4471e-01,  2.3862e-01, -8.5539e-02, -4.6618e-01,\n",
       "         5.4291e-01, -3.4390e-01,  2.5718e-01, -7.5621e-01,  8.2773e-02,\n",
       "        -3.4730e-01,  2.7891e-01,  3.3944e-01, -5.5615e-01, -1.1392e-01,\n",
       "        -8.9783e-01,  5.7133e-01, -3.6666e-01, -5.3559e-01,  2.7383e-01,\n",
       "         5.9388e-01, -3.1968e-01,  4.7909e-01,  2.3974e-01, -9.4283e-02,\n",
       "         5.6032e-01, -1.6911e-01, -3.7095e-01,  7.4472e-01, -1.0079e+00,\n",
       "         5.5289e-01, -2.5372e-01, -2.7259e-01,  7.7840e-01, -7.6314e-01,\n",
       "         9.0370e-01, -5.4135e-01, -9.2111e-01, -1.5785e-01,  7.6562e-01,\n",
       "         1.1104e+00, -6.0234e-01,  4.0138e-01,  5.9810e-01,  5.7556e-01,\n",
       "         6.8509e-01,  3.8357e-01,  1.0146e+00,  2.7679e-01,  5.3426e-01,\n",
       "        -3.9569e-01, -2.0547e-01,  4.5183e-01,  5.5693e-01,  6.0137e-01,\n",
       "         2.8922e-01,  3.3202e-01, -3.9601e-01, -4.0933e-01, -4.0430e-01,\n",
       "        -2.3867e-01, -2.9284e-01,  1.1504e+00, -3.5264e-01,  3.7361e-01,\n",
       "         2.4391e-01,  8.5659e-01, -8.8896e-01,  3.8767e-02, -1.1956e-01,\n",
       "        -2.0656e-01,  4.3458e-01,  7.6974e-01,  1.5690e-01,  8.1893e-02,\n",
       "        -4.3516e-01, -4.7950e-01, -5.2589e-01, -5.9390e-01,  7.3283e-01,\n",
       "        -8.5991e-02,  2.7799e-01,  1.3734e-01,  7.7816e-01, -3.1671e-02,\n",
       "         2.9297e-01,  5.8116e-01, -6.2331e-01,  2.2137e-02,  7.3862e-01,\n",
       "         6.2617e-01,  4.6151e-01, -2.7760e-01,  4.2446e-01,  6.8444e-01,\n",
       "        -4.0283e-01,  7.0611e-02,  5.9165e-02,  1.8535e-01,  2.4296e-01,\n",
       "         5.7313e-01,  5.3407e-01,  8.2808e-01, -8.6451e-02,  8.5661e-01,\n",
       "         5.0508e-01, -9.8973e-02, -6.5604e-01,  9.2616e-01,  1.7506e-01,\n",
       "        -5.8125e-01,  4.7923e-01,  9.3489e-01,  6.8508e-01, -5.1555e-02,\n",
       "         1.7847e-01, -3.3836e-01, -5.4134e-01,  1.8071e-01,  3.5071e-01,\n",
       "         4.2810e-01, -5.3799e-01, -7.5124e-01, -5.5941e-01, -5.0597e-01,\n",
       "         9.1857e-02,  3.4837e-01,  4.9861e-01, -2.8191e-01, -4.0291e-01,\n",
       "        -1.3895e-01,  1.7314e-01,  5.6532e-01,  6.2848e-01, -5.9034e-01,\n",
       "         1.0140e-01, -6.6165e-01, -4.1955e-01,  3.3553e-01,  3.4479e-01,\n",
       "        -1.3547e-01, -7.5378e-01,  8.3316e-01,  5.8841e-01, -2.2916e-01,\n",
       "         7.3170e-01,  3.8532e-01, -9.1081e-02, -3.5642e-01, -8.2502e-02,\n",
       "        -5.7155e-01,  8.8479e-01, -4.4531e-01,  3.3051e-01,  2.9263e-01,\n",
       "         6.1166e-01,  3.8476e-01,  2.9741e-01,  3.1425e-01,  8.7067e-01,\n",
       "        -3.4007e-01,  7.1799e-01,  3.3624e-01,  3.9776e-01,  7.0872e-01,\n",
       "         7.5337e-01, -5.9151e-01,  1.1138e+00,  5.1880e-01, -2.6894e-01,\n",
       "         2.6287e-01, -5.1073e-01,  1.9739e-01, -2.7464e-02,  2.0803e-01,\n",
       "         1.0006e-01, -3.2499e-01,  9.0792e-01, -1.2709e-02, -5.2471e-01,\n",
       "         1.0628e-01,  6.7639e-01, -6.6903e-01,  3.0427e-01,  2.7065e-01,\n",
       "         3.9713e-01, -3.2775e-01,  4.5993e-01,  4.7071e-01,  5.3095e-01,\n",
       "         2.2445e-01,  1.8259e-01, -4.6022e-01, -1.6338e-01,  8.5767e-01,\n",
       "        -1.5556e-01, -3.4268e-01,  2.9392e-01,  7.1259e-01,  8.5561e-02,\n",
       "         1.8689e-01, -3.7232e-01, -2.5183e-01,  2.4523e-01,  5.3569e-01,\n",
       "        -1.1392e-02,  9.6225e-02,  1.0510e+00,  6.3668e-01,  8.1829e-01,\n",
       "        -3.9259e-01, -2.9924e-01, -2.1720e-01,  4.9094e-01,  4.9042e-02,\n",
       "        -1.8401e-01,  6.1232e-01, -6.6243e-02,  8.9954e-01, -4.8814e-01,\n",
       "         1.4595e-01, -4.2464e-01, -4.0290e-01,  1.3719e-01, -3.3317e-01,\n",
       "         4.1319e-01, -4.9932e-01,  3.7412e-01,  4.8499e-01,  3.1707e-01,\n",
       "        -2.8253e-01,  3.9508e-01,  9.3818e-01,  4.2189e-01,  6.1100e-01,\n",
       "        -6.9430e-01, -2.6132e-01,  3.5206e-01,  1.3424e-01,  7.0565e-01,\n",
       "         8.2334e-01,  5.5917e-01, -1.8345e-01,  3.9655e-01,  6.0999e-01,\n",
       "         4.4862e-01, -3.9171e-01,  2.6778e-01,  4.3505e-01, -2.0817e-01,\n",
       "         1.0043e+00, -3.9155e-01, -3.2934e-01,  4.3500e-01,  2.8328e-01,\n",
       "         7.5576e-01, -1.6180e-01,  9.3921e-01,  5.5532e-01,  9.4613e-01,\n",
       "         3.9269e-01,  2.4190e-01, -8.5205e-02,  2.6784e-01,  1.5274e-01,\n",
       "         1.4444e-01, -1.7100e-01,  3.0354e-01,  7.4183e-01,  5.0629e-01,\n",
       "        -3.8439e-01,  5.5704e-01, -3.4326e-01, -5.3181e-01,  5.2172e-01,\n",
       "        -1.5113e-02, -2.6236e-01,  1.8670e-01, -2.3927e-01,  4.9693e-01,\n",
       "        -4.5121e-01,  1.9208e-02,  4.9846e-01,  3.7868e-01,  6.2217e-01,\n",
       "         4.4036e-01,  3.0677e-01, -2.9760e-01,  9.3326e-01, -1.7015e-01,\n",
       "        -7.4878e-01,  6.0981e-01, -4.0048e-01,  9.9689e-02, -4.6877e-01,\n",
       "        -4.1872e-02, -4.1802e-01,  1.8172e-03,  1.0022e+00,  9.1283e-01,\n",
       "         3.1994e-02,  6.1618e-01, -5.7709e-01,  9.3783e-01, -1.2372e-01,\n",
       "         4.0918e-01,  8.0317e-01,  1.6758e-01,  5.4841e-01,  3.0776e-01,\n",
       "        -3.8495e-01,  4.9719e-01,  8.7920e-01,  1.1221e+00,  5.0201e-01,\n",
       "         3.1133e-01,  7.4560e-01,  3.5712e-01, -1.4103e-01, -4.1983e-02,\n",
       "        -1.5069e-02, -6.0029e-01,  2.8996e-01,  1.3750e+00,  1.1092e+00,\n",
       "        -1.3179e-01,  6.4529e-01,  5.7010e-01, -2.6507e-01, -3.2425e-01,\n",
       "         5.3317e-02,  1.0583e-01,  2.6934e-01,  5.2815e-01,  3.8568e-01,\n",
       "         1.4105e-01, -3.9062e-01,  9.2490e-01, -2.6561e-01,  9.4187e-01,\n",
       "         2.9715e-01,  7.0863e-01,  8.8241e-01, -2.1050e-01, -4.0091e-01,\n",
       "        -3.0319e-01,  7.4005e-01, -4.0900e-01,  7.1985e-01, -2.4252e-01,\n",
       "         3.8175e-01, -3.2186e-01,  5.9934e-01,  4.9215e-01,  4.5648e-01,\n",
       "         8.2969e-01,  1.1227e-01,  8.8190e-01, -2.5028e-02, -4.3163e-01,\n",
       "        -3.5534e-01, -3.6488e-01,  3.5886e-02,  2.7280e-01,  6.7993e-01,\n",
       "        -1.2165e-01,  8.1827e-01, -5.5832e-01,  6.6114e-01, -3.2953e-01,\n",
       "         5.2989e-01,  6.4743e-01,  3.0313e-01,  1.5643e-01,  5.1203e-01,\n",
       "        -5.7583e-01,  6.4313e-02,  2.9076e-01,  9.1814e-01,  1.7954e-01])"
      ]
     },
     "execution_count": 197,
     "metadata": {},
     "output_type": "execute_result"
    }
   ],
   "source": [
    "fac0"
   ]
  },
  {
   "cell_type": "markdown",
   "metadata": {},
   "source": [
    "Sort the factor/title tuple by the factor value descending and print out the top 10."
   ]
  },
  {
   "cell_type": "code",
   "execution_count": 209,
   "metadata": {},
   "outputs": [
    {
     "data": {
      "text/plain": [
       "[(tensor(1.3750), 'Home Alone 3 (1997)'),\n",
       " (tensor(1.3122), \"McHale's Navy (1997)\"),\n",
       " (tensor(1.2166), 'Jungle2Jungle (1997)'),\n",
       " (tensor(1.1504), 'Congo (1995)'),\n",
       " (tensor(1.1221), 'D3: The Mighty Ducks (1996)'),\n",
       " (tensor(1.1138), 'Bio-Dome (1996)'),\n",
       " (tensor(1.1104), 'Leave It to Beaver (1997)'),\n",
       " (tensor(1.1092), 'Children of the Corn: The Gathering (1996)'),\n",
       " (tensor(1.0510), 'Free Willy 3: The Rescue (1997)'),\n",
       " (tensor(1.0146), 'Mortal Kombat: Annihilation (1997)')]"
      ]
     },
     "execution_count": 209,
     "metadata": {},
     "output_type": "execute_result"
    }
   ],
   "source": [
    "sorted([(fac0[idx], title) for idx,title in enumerate(top_rated)], key=item0, reverse=True)[:10]"
   ]
  },
  {
   "cell_type": "markdown",
   "metadata": {},
   "source": [
    "Do the same, but not descending, and print out the first 10."
   ]
  },
  {
   "cell_type": "code",
   "execution_count": 210,
   "metadata": {},
   "outputs": [
    {
     "data": {
      "text/plain": [
       "[(tensor(-1.1063), 'Close Shave, A (1995)'),\n",
       " (tensor(-1.1029), 'Casablanca (1942)'),\n",
       " (tensor(-1.0917), 'Wrong Trousers, The (1993)'),\n",
       " (tensor(-1.0864), 'Chinatown (1974)'),\n",
       " (tensor(-1.0518), 'Ran (1985)'),\n",
       " (tensor(-1.0079), 'When We Were Kings (1996)'),\n",
       " (tensor(-0.9888), 'Wallace & Gromit: The Best of Aardman Animation (1996)'),\n",
       " (tensor(-0.9863), 'Lawrence of Arabia (1962)'),\n",
       " (tensor(-0.9623), 'Godfather, The (1972)'),\n",
       " (tensor(-0.9540),\n",
       "  'Dr. Strangelove or: How I Learned to Stop Worrying and Love the Bomb (1963)')]"
      ]
     },
     "execution_count": 210,
     "metadata": {},
     "output_type": "execute_result"
    }
   ],
   "source": [
    "sorted([(fac0[idx], title) for idx,title in enumerate(top_rated)], key=item0)[:10]"
   ]
  },
  {
   "cell_type": "markdown",
   "metadata": {},
   "source": [
    "Do the same process both descending and ascending for factor 1."
   ]
  },
  {
   "cell_type": "code",
   "execution_count": 211,
   "metadata": {},
   "outputs": [
    {
     "data": {
      "text/plain": [
       "[(tensor(0.8173), 'Sweet Hereafter, The (1997)'),\n",
       " (tensor(0.7831), 'Ready to Wear (Pret-A-Porter) (1994)'),\n",
       " (tensor(0.7759), 'Jude (1996)'),\n",
       " (tensor(0.7643), 'Trainspotting (1996)'),\n",
       " (tensor(0.7635), 'Dead Man (1995)'),\n",
       " (tensor(0.7619), 'Big Night (1996)'),\n",
       " (tensor(0.7537), 'Keys to Tulsa (1997)'),\n",
       " (tensor(0.7233), 'Nosferatu (Nosferatu, eine Symphonie des Grauens) (1922)'),\n",
       " (tensor(0.7212), 'Crumb (1994)'),\n",
       " (tensor(0.7196), 'Very Brady Sequel, A (1996)')]"
      ]
     },
     "execution_count": 211,
     "metadata": {},
     "output_type": "execute_result"
    }
   ],
   "source": [
    "sorted([(fac1[idx], title) for idx,title in enumerate(top_rated)], key=item0, reverse=True)[:10]"
   ]
  },
  {
   "cell_type": "code",
   "execution_count": 212,
   "metadata": {},
   "outputs": [
    {
     "data": {
      "text/plain": [
       "[(tensor(-1.1529), 'Braveheart (1995)'),\n",
       " (tensor(-1.0667), 'Raiders of the Lost Ark (1981)'),\n",
       " (tensor(-1.0390), 'Titanic (1997)'),\n",
       " (tensor(-0.9453), 'American President, The (1995)'),\n",
       " (tensor(-0.9001), \"It's a Wonderful Life (1946)\"),\n",
       " (tensor(-0.8784), 'Forrest Gump (1994)'),\n",
       " (tensor(-0.8399), 'Independence Day (ID4) (1996)'),\n",
       " (tensor(-0.8390), 'Top Gun (1986)'),\n",
       " (tensor(-0.8367), \"Mr. Holland's Opus (1995)\"),\n",
       " (tensor(-0.8268), 'Pretty Woman (1990)')]"
      ]
     },
     "execution_count": 212,
     "metadata": {},
     "output_type": "execute_result"
    }
   ],
   "source": [
    "sorted([(fac1[idx], title) for idx,title in enumerate(top_rated)], key=item0)[:10]"
   ]
  },
  {
   "cell_type": "markdown",
   "metadata": {},
   "source": [
    "Get 50 random movies. Set X and Y to `fac0` and `fac2`. Create a pyplot figure with a scatterplot for these. Label each with the title and make each a different color. "
   ]
  },
  {
   "cell_type": "code",
   "execution_count": 214,
   "metadata": {},
   "outputs": [
    {
     "data": {
      "text/plain": [
       "array(['Adventures of Robin Hood, The (1938)', 'Englishman Who Went Up a Hill, But Came Down a Mountain, The (1995)',\n",
       "       'Happy Gilmore (1996)', 'Game, The (1997)', ..., 'To Gillian on Her 37th Birthday (1996)', 'Money Talks (1997)',\n",
       "       'Pump Up the Volume (1990)', 'Desperate Measures (1998)'], dtype=object)"
      ]
     },
     "execution_count": 214,
     "metadata": {},
     "output_type": "execute_result"
    }
   ],
   "source": [
    "idx"
   ]
  },
  {
   "cell_type": "code",
   "execution_count": 241,
   "metadata": {},
   "outputs": [],
   "source": [
    "idx = np.random.permutation(50)\n",
    "X = [float(fac0[i]) for i in idx]\n",
    "Y = [float(fac1[i]) for i in idx]"
   ]
  },
  {
   "cell_type": "code",
   "execution_count": 242,
   "metadata": {},
   "outputs": [
    {
     "data": {
      "text/plain": [
       "([-0.634607195854187,\n",
       "  -0.1875649094581604,\n",
       "  0.5494259595870972,\n",
       "  0.34503787755966187,\n",
       "  -0.6320604681968689,\n",
       "  0.49682092666625977,\n",
       "  -0.14247441291809082,\n",
       "  -0.5195496678352356,\n",
       "  -0.7226171493530273,\n",
       "  -0.539836049079895],\n",
       " [-0.7299769520759583,\n",
       "  0.1645178496837616,\n",
       "  -0.39220333099365234,\n",
       "  -0.4656534790992737,\n",
       "  -0.3752273917198181,\n",
       "  -0.839872419834137,\n",
       "  -0.7858480215072632,\n",
       "  -1.0667059421539307,\n",
       "  -0.38158679008483887,\n",
       "  0.3365621566772461])"
      ]
     },
     "execution_count": 242,
     "metadata": {},
     "output_type": "execute_result"
    }
   ],
   "source": [
    "X[:10], Y[:10]"
   ]
  },
  {
   "cell_type": "code",
   "execution_count": 243,
   "metadata": {},
   "outputs": [
    {
     "data": {
      "text/plain": [
       "(50, 50)"
      ]
     },
     "execution_count": 243,
     "metadata": {},
     "output_type": "execute_result"
    }
   ],
   "source": [
    "len(X), len(Y)"
   ]
  },
  {
   "cell_type": "code",
   "execution_count": 244,
   "metadata": {},
   "outputs": [
    {
     "data": {
      "text/plain": [
       "array([\"Schindler's List (1993)\", 'Twelve Monkeys (1995)', 'Saint, The (1997)', 'Mission: Impossible (1996)',\n",
       "       'Princess Bride, The (1987)', 'Independence Day (ID4) (1996)', 'Back to the Future (1985)',\n",
       "       'Raiders of the Lost Ark (1981)', 'Silence of the Lambs, The (1991)', 'Full Monty, The (1997)',\n",
       "       'Titanic (1997)', 'Terminator 2: Judgment Day (1991)', 'Willy Wonka and the Chocolate Factory (1971)',\n",
       "       'Fugitive, The (1993)', 'Contact (1997)', 'Groundhog Day (1993)', 'Fargo (1996)', 'Twister (1996)',\n",
       "       'Return of the Jedi (1983)', 'Toy Story (1995)', 'Conspiracy Theory (1997)', 'Men in Black (1997)',\n",
       "       'Rock, The (1996)', 'Forrest Gump (1994)', 'Jerry Maguire (1996)', 'Liar Liar (1997)',\n",
       "       'Indiana Jones and the Last Crusade (1989)', 'Terminator, The (1984)', 'E.T. the Extra-Terrestrial (1982)',\n",
       "       'Dead Man Walking (1995)', 'Air Force One (1997)', 'Godfather, The (1972)', 'Star Trek: First Contact (1996)',\n",
       "       'Shawshank Redemption, The (1994)', 'Aliens (1986)', 'Monty Python and the Holy Grail (1974)',\n",
       "       'Empire Strikes Back, The (1980)', 'L.A. Confidential (1997)', 'When Harry Met Sally... (1989)',\n",
       "       'Birdcage, The (1996)', 'Leaving Las Vegas (1995)', \"Mr. Holland's Opus (1995)\", 'Chasing Amy (1997)',\n",
       "       'Braveheart (1995)', 'Pulp Fiction (1994)', 'Star Wars (1977)', 'Alien (1979)', 'Scream (1996)',\n",
       "       'English Patient, The (1996)', 'Jaws (1975)'], dtype=object)"
      ]
     },
     "execution_count": 244,
     "metadata": {},
     "output_type": "execute_result"
    }
   ],
   "source": [
    "top_rated[idx]"
   ]
  },
  {
   "cell_type": "code",
   "execution_count": 277,
   "metadata": {},
   "outputs": [
    {
     "data": {
      "image/png": "[encoded data removed]",
      "text/plain": [
       "<Figure size 1080x864 with 1 Axes>"
      ]
     },
     "metadata": {},
     "output_type": "display_data"
    }
   ],
   "source": [
    "from cycler import cycler\n",
    "fig, ax = plt.subplots()\n",
    "fig.set_size_inches(15,12)\n",
    "col_cycler = cycler(color=['b', 'g', 'r', 'c', 'm', 'y', 'k'])\n",
    "# col_cycler = cycler(color=['red'])\n",
    "ax.set_prop_cycle(col_cycler)\n",
    "for e,txt in enumerate(top_rated[idx]):\n",
    "    ax.scatter(X[e], Y[e])\n",
    "    ax.annotate(txt, (X[e], Y[e]))\n",
    "plt.show()"
   ]
  }
 ],
 "metadata": {
  "kernelspec": {
   "display_name": "Python 3",
   "language": "python",
   "name": "python3"
  },
  "language_info": {
   "codemirror_mode": {
    "name": "ipython",
    "version": 3
   },
   "file_extension": ".py",
   "mimetype": "text/x-python",
   "name": "python",
   "nbconvert_exporter": "python",
   "pygments_lexer": "ipython3",
   "version": "3.6.8"
  }
 },
 "nbformat": 4,
 "nbformat_minor": 2
}
