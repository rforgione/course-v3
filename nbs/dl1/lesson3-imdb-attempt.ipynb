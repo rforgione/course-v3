{
 "cells": [
  {
   "cell_type": "markdown",
   "metadata": {},
   "source": [
    "# IMDB"
   ]
  },
  {
   "cell_type": "code",
   "execution_count": 1,
   "metadata": {},
   "outputs": [],
   "source": [
    "%reload_ext autoreload\n",
    "%autoreload 2\n",
    "%matplotlib inline"
   ]
  },
  {
   "cell_type": "code",
   "execution_count": 2,
   "metadata": {},
   "outputs": [],
   "source": [
    "from fastai.text import *"
   ]
  },
  {
   "cell_type": "markdown",
   "metadata": {},
   "source": [
    "## Preparing the data"
   ]
  },
  {
   "cell_type": "markdown",
   "metadata": {},
   "source": [
    "Untar the data at `URLs.IMDB_SAMPLE` and save the path to `path`."
   ]
  },
  {
   "cell_type": "code",
   "execution_count": 3,
   "metadata": {},
   "outputs": [],
   "source": [
    "path = untar_data(URLs.IMDB_SAMPLE)"
   ]
  },
  {
   "cell_type": "markdown",
   "metadata": {},
   "source": [
    "Open the csv file at `path/'texts.csv'` and show the first few rows."
   ]
  },
  {
   "cell_type": "code",
   "execution_count": 4,
   "metadata": {},
   "outputs": [
    {
     "ename": "NameError",
     "evalue": "name 'path' is not defined",
     "output_type": "error",
     "traceback": [
      "\u001b[0;31m---------------------------------------------------------------------------\u001b[0m",
      "\u001b[0;31mNameError\u001b[0m                                 Traceback (most recent call last)",
      "\u001b[0;32m<ipython-input-4-bb5f2a8e40f9>\u001b[0m in \u001b[0;36m<module>\u001b[0;34m\u001b[0m\n\u001b[0;32m----> 1\u001b[0;31m \u001b[0mdf\u001b[0m \u001b[0;34m=\u001b[0m \u001b[0mpd\u001b[0m\u001b[0;34m.\u001b[0m\u001b[0mread_csv\u001b[0m\u001b[0;34m(\u001b[0m\u001b[0mpath\u001b[0m\u001b[0;34m/\u001b[0m\u001b[0;34m'texts.csv'\u001b[0m\u001b[0;34m)\u001b[0m\u001b[0;34m\u001b[0m\u001b[0;34m\u001b[0m\u001b[0m\n\u001b[0m",
      "\u001b[0;31mNameError\u001b[0m: name 'path' is not defined"
     ]
    }
   ],
   "source": [
    "df = pd.read_csv(path/'texts.csv')"
   ]
  },
  {
   "cell_type": "markdown",
   "metadata": {},
   "source": [
    "Show the `text` field contents at index 1."
   ]
  },
  {
   "cell_type": "code",
   "execution_count": 5,
   "metadata": {},
   "outputs": [
    {
     "data": {
      "text/html": [
       "<div>\n",
       "<style scoped>\n",
       "    .dataframe tbody tr th:only-of-type {\n",
       "        vertical-align: middle;\n",
       "    }\n",
       "\n",
       "    .dataframe tbody tr th {\n",
       "        vertical-align: top;\n",
       "    }\n",
       "\n",
       "    .dataframe thead th {\n",
       "        text-align: right;\n",
       "    }\n",
       "</style>\n",
       "<table border=\"1\" class=\"dataframe\">\n",
       "  <thead>\n",
       "    <tr style=\"text-align: right;\">\n",
       "      <th></th>\n",
       "      <th>label</th>\n",
       "      <th>text</th>\n",
       "      <th>is_valid</th>\n",
       "    </tr>\n",
       "  </thead>\n",
       "  <tbody>\n",
       "    <tr>\n",
       "      <th>0</th>\n",
       "      <td>negative</td>\n",
       "      <td>Un-bleeping-believable! Meg Ryan doesn't even ...</td>\n",
       "      <td>False</td>\n",
       "    </tr>\n",
       "    <tr>\n",
       "      <th>1</th>\n",
       "      <td>positive</td>\n",
       "      <td>This is a extremely well-made film. The acting...</td>\n",
       "      <td>False</td>\n",
       "    </tr>\n",
       "    <tr>\n",
       "      <th>2</th>\n",
       "      <td>negative</td>\n",
       "      <td>Every once in a long while a movie will come a...</td>\n",
       "      <td>False</td>\n",
       "    </tr>\n",
       "    <tr>\n",
       "      <th>3</th>\n",
       "      <td>positive</td>\n",
       "      <td>Name just says it all. I watched this movie wi...</td>\n",
       "      <td>False</td>\n",
       "    </tr>\n",
       "    <tr>\n",
       "      <th>4</th>\n",
       "      <td>negative</td>\n",
       "      <td>This movie succeeds at being one of the most u...</td>\n",
       "      <td>False</td>\n",
       "    </tr>\n",
       "  </tbody>\n",
       "</table>\n",
       "</div>"
      ],
      "text/plain": [
       "      label                                               text  is_valid\n",
       "0  negative  Un-bleeping-believable! Meg Ryan doesn't even ...     False\n",
       "1  positive  This is a extremely well-made film. The acting...     False\n",
       "2  negative  Every once in a long while a movie will come a...     False\n",
       "3  positive  Name just says it all. I watched this movie wi...     False\n",
       "4  negative  This movie succeeds at being one of the most u...     False"
      ]
     },
     "execution_count": 5,
     "metadata": {},
     "output_type": "execute_result"
    }
   ],
   "source": [
    "df.head()"
   ]
  },
  {
   "cell_type": "code",
   "execution_count": 6,
   "metadata": {},
   "outputs": [
    {
     "data": {
      "text/plain": [
       "'This is a extremely well-made film. The acting, script and camera-work are all first-rate. The music is good, too, though it is mostly early in the film, when things are still relatively cheery. There are no really superstars in the cast, though several faces will be familiar. The entire cast does an excellent job with the script.<br /><br />But it is hard to watch, because there is no good end to a situation like the one presented. It is now fashionable to blame the British for setting Hindus and Muslims against each other, and then cruelly separating them into two countries. There is some merit in this view, but it\\'s also true that no one forced Hindus and Muslims in the region to mistreat each other as they did around the time of partition. It seems more likely that the British simply saw the tensions between the religions and were clever enough to exploit them to their own ends.<br /><br />The result is that there is much cruelty and inhumanity in the situation and this is very unpleasant to remember and to see on the screen. But it is never painted as a black-and-white case. There is baseness and nobility on both sides, and also the hope for change in the younger generation.<br /><br />There is redemption of a sort, in the end, when Puro has to make a hard choice between a man who has ruined her life, but also truly loved her, and her family which has disowned her, then later come looking for her. But by that point, she has no option that is without great pain for her.<br /><br />This film carries the message that both Muslims and Hindus have their grave faults, and also that both can be dignified and caring people. The reality of partition makes that realisation all the more wrenching, since there can never be real reconciliation across the India/Pakistan border. In that sense, it is similar to \"Mr & Mrs Iyer\".<br /><br />In the end, we were glad to have seen the film, even though the resolution was heartbreaking. If the UK and US could deal with their own histories of racism with this kind of frankness, they would certainly be better off.'"
      ]
     },
     "execution_count": 6,
     "metadata": {},
     "output_type": "execute_result"
    }
   ],
   "source": [
    "df['text'][1]"
   ]
  },
  {
   "cell_type": "markdown",
   "metadata": {},
   "source": [
    "Create a data bunch from the csv, ignoring the `is_valid` field for now."
   ]
  },
  {
   "cell_type": "code",
   "execution_count": 3,
   "metadata": {},
   "outputs": [
    {
     "ename": "NameError",
     "evalue": "name 'df' is not defined",
     "output_type": "error",
     "traceback": [
      "\u001b[0;31m---------------------------------------------------------------------------\u001b[0m",
      "\u001b[0;31mNameError\u001b[0m                                 Traceback (most recent call last)",
      "\u001b[0;32m<ipython-input-3-25b983a79014>\u001b[0m in \u001b[0;36m<module>\u001b[0;34m\u001b[0m\n\u001b[0;32m----> 1\u001b[0;31m data_lm = (TextList.from_df(df)\n\u001b[0m\u001b[1;32m      2\u001b[0m     \u001b[0;34m.\u001b[0m\u001b[0msplit_by_rand_pct\u001b[0m\u001b[0;34m(\u001b[0m\u001b[0;34m)\u001b[0m\u001b[0;34m\u001b[0m\u001b[0;34m\u001b[0m\u001b[0m\n\u001b[1;32m      3\u001b[0m     \u001b[0;34m.\u001b[0m\u001b[0mlabel_for_lm\u001b[0m\u001b[0;34m(\u001b[0m\u001b[0;34m)\u001b[0m\u001b[0;34m\u001b[0m\u001b[0;34m\u001b[0m\u001b[0m\n\u001b[1;32m      4\u001b[0m     .databunch())\n",
      "\u001b[0;31mNameError\u001b[0m: name 'df' is not defined"
     ]
    }
   ],
   "source": [
    "data_lm = (TextList.from_df(df)\n",
    "    .split_by_rand_pct()\n",
    "    .label_for_lm()\n",
    "    .databunch())"
   ]
  },
  {
   "cell_type": "markdown",
   "metadata": {},
   "source": [
    "Save the databunch you just created."
   ]
  },
  {
   "cell_type": "code",
   "execution_count": 18,
   "metadata": {},
   "outputs": [],
   "source": [
    "data_lm.save()"
   ]
  },
  {
   "cell_type": "markdown",
   "metadata": {},
   "source": [
    "Load the data from `path`."
   ]
  },
  {
   "cell_type": "code",
   "execution_count": 9,
   "metadata": {},
   "outputs": [],
   "source": [
    "data_lm = load_data(path)"
   ]
  },
  {
   "cell_type": "markdown",
   "metadata": {},
   "source": [
    "### Tokenization"
   ]
  },
  {
   "cell_type": "markdown",
   "metadata": {},
   "source": [
    "Create a `TextClasDataBunch` from the `texts.csv` file and save it to `data`. Show a batch."
   ]
  },
  {
   "cell_type": "code",
   "execution_count": 9,
   "metadata": {},
   "outputs": [
    {
     "data": {
      "text/html": [
       "<table border=\"1\" class=\"dataframe\">\n",
       "  <thead>\n",
       "    <tr style=\"text-align: right;\">\n",
       "      <th>text</th>\n",
       "      <th>target</th>\n",
       "    </tr>\n",
       "  </thead>\n",
       "  <tbody>\n",
       "    <tr>\n",
       "      <td>xxbos xxmaj raising xxmaj victor xxmaj vargas : a xxmaj review \\n \\n  xxmaj you know , xxmaj raising xxmaj victor xxmaj vargas is like sticking your hands into a big , steaming bowl of xxunk . xxmaj it 's warm and gooey , but you 're not sure if it feels right . xxmaj try as i might , no matter how warm and gooey xxmaj raising xxmaj</td>\n",
       "      <td>negative</td>\n",
       "    </tr>\n",
       "    <tr>\n",
       "      <td>xxbos xxup the xxup shop xxup around xxup the xxup corner is one of the sweetest and most feel - good romantic comedies ever made . xxmaj there 's just no getting around that , and it 's hard to actually put one 's feeling for this film into words . xxmaj it 's not one of those films that tries too hard , nor does it come up with</td>\n",
       "      <td>positive</td>\n",
       "    </tr>\n",
       "    <tr>\n",
       "      <td>xxbos xxmaj now that xxmaj che(2008 ) has finished its relatively short xxmaj australian cinema run ( extremely limited xxunk screen in xxmaj sydney , after xxunk ) , i can xxunk join both xxunk of \" xxmaj at xxmaj the xxmaj movies \" in taking xxmaj steven xxmaj soderbergh to task . \\n \\n  xxmaj it 's usually satisfying to watch a film director change his style /</td>\n",
       "      <td>negative</td>\n",
       "    </tr>\n",
       "    <tr>\n",
       "      <td>xxbos xxmaj this film sat on my xxmaj tivo for weeks before i watched it . i dreaded a self - indulgent xxunk flick about relationships gone bad . i was wrong ; this was an xxunk xxunk into the screwed - up xxunk of xxmaj new xxmaj yorkers . \\n \\n  xxmaj the format is the same as xxmaj max xxmaj xxunk ' \" xxmaj la xxmaj ronde</td>\n",
       "      <td>positive</td>\n",
       "    </tr>\n",
       "    <tr>\n",
       "      <td>xxbos xxmaj many neglect that this is n't just a classic due to the fact that it 's the first xxup 3d game , or even the first xxunk - up . xxmaj it 's also one of the first stealth games , one of the xxunk definitely the first ) truly claustrophobic games , and just a pretty well - xxunk gaming experience in general . xxmaj with graphics</td>\n",
       "      <td>positive</td>\n",
       "    </tr>\n",
       "  </tbody>\n",
       "</table>"
      ],
      "text/plain": [
       "<IPython.core.display.HTML object>"
      ]
     },
     "metadata": {},
     "output_type": "display_data"
    }
   ],
   "source": [
    "data = TextClasDataBunch.from_csv(path, 'texts.csv')\n",
    "data.show_batch()"
   ]
  },
  {
   "cell_type": "markdown",
   "metadata": {},
   "source": [
    "What are the four main things we did *in addition to* just splitting the text into words?"
   ]
  },
  {
   "cell_type": "markdown",
   "metadata": {},
   "source": [
    "- we split the `'s'` into a separate token\n",
    "- we separated unknown tokens into their own thing\n",
    "- we cleaned out any html\n",
    "- contractions like `didn't` were split into their parts like `did` and `n't`"
   ]
  },
  {
   "cell_type": "markdown",
   "metadata": {},
   "source": [
    "### Numericalization"
   ]
  },
  {
   "cell_type": "markdown",
   "metadata": {},
   "source": [
    "Print out the first 10 vocab values."
   ]
  },
  {
   "cell_type": "code",
   "execution_count": 11,
   "metadata": {},
   "outputs": [
    {
     "data": {
      "text/plain": [
       "['xxunk',\n",
       " 'xxpad',\n",
       " 'xxbos',\n",
       " 'xxeos',\n",
       " 'xxfld',\n",
       " 'xxmaj',\n",
       " 'xxup',\n",
       " 'xxrep',\n",
       " 'xxwrep',\n",
       " 'the']"
      ]
     },
     "execution_count": 11,
     "metadata": {},
     "output_type": "execute_result"
    }
   ],
   "source": [
    "data.vocab.itos[:10]"
   ]
  },
  {
   "cell_type": "markdown",
   "metadata": {},
   "source": [
    "Show the first example in the training dataset represented as text."
   ]
  },
  {
   "cell_type": "code",
   "execution_count": 12,
   "metadata": {},
   "outputs": [
    {
     "data": {
      "text/plain": [
       "Text xxbos xxmaj apparently there 's a very good reason why i never heard about \" xxmaj dr. xxmaj hackenstein \" before me and a couple of mates accidentally stumbled upon it and stupidly decided to give it a chance . xxmaj that reason is : it sucks ! xxmaj it 's a very pointless , dull , xxunk and totally xxunk horror comedy / parody . xxmaj actually , to be honest , i 'm not even sure if this was meant as a comedy because sometimes the script takes itself quite seriously and tries really hard to be a really ambitious and original late 80 's horror effort . xxmaj in the year xxunk , at the dawn of a new era in medical science according to the opening sequences , xxmaj dr. xxmaj elliot xxmaj hackenstein needs exactly three women  no more , no less  to xxunk his beloved wife whom he accidentally killed . xxmaj she 's only just a living head left now , but the stupid body xxunk only provide male cadavers . xxmaj so when xxmaj dr. xxmaj hackenstein yells out \" i need three female bodies to bring back my wife \" , his words are n't even cold and there just miraculously appear three young females ( and one really annoying nerdy kid ) with car trouble show up at his doorstep . xxmaj why does n't that ever happen to me ? \" i need a bunch of sexy xxunk women to fill up my empty xxunk ! ! ! \" \n",
       "  xxmaj see , nothing ! xxmaj anyway , the good xxmaj doctor sees his wish xxunk , but unfortunately  for science that is  he develops sympathy for one of the three girls . \" xxmaj dr. xxmaj hackenstein \" is a lame film that tries to cash in on the success of \" xxmaj re - xxmaj xxunk \" and even blatantly steal some of the comical aspects of that classic , like a severed head talking one - liners . xxmaj it 's easy to see why this film is never mentioned anywhere , as it does n't appeal to fans of neither the horror nor the comedy genre . xxmaj the funniest character is undoubtedly the loud - speaking female grave robber xxmaj ruby ; depicted by the anti - xxunk xxmaj anne xxmaj xxunk . 80 's horror buffs will certainly remember her from xxmaj wes xxmaj craven 's \" xxmaj deadly xxmaj friend \" , where she played the nasty old hag neighbor who gets decapitated by a basketball . \" xxmaj dr. xxmaj hackenstein \" supposedly takes place in the early 1900 's , but there are hardly any attempts to re - create the atmosphere of that era ( except maybe for some xxunk ) . xxmaj dr. xxmaj hackenstein 's laboratory is a quite clichéd 80 's set piece , with all sorts of xxunk xxunk and test xxunk full of xxunk colors ."
      ]
     },
     "execution_count": 12,
     "metadata": {},
     "output_type": "execute_result"
    }
   ],
   "source": [
    "data.train_ds[0][0]"
   ]
  },
  {
   "cell_type": "markdown",
   "metadata": {},
   "source": [
    "Show the first example in the training dataset represented as numbers (i.e. in numericalized form)."
   ]
  },
  {
   "cell_type": "code",
   "execution_count": 13,
   "metadata": {},
   "outputs": [
    {
     "data": {
      "text/plain": [
       "array([  2,   5, 649,  55,  23,  13,  70,  68, 343, 163])"
      ]
     },
     "execution_count": 13,
     "metadata": {},
     "output_type": "execute_result"
    }
   ],
   "source": [
    "data.train_ds[0][0].data[:10]"
   ]
  },
  {
   "cell_type": "markdown",
   "metadata": {},
   "source": [
    "### With the data block API"
   ]
  },
  {
   "cell_type": "markdown",
   "metadata": {},
   "source": [
    "Use the datablock API to create a databunch. Hints:\n",
    "- You'll want to start with a `TextList`\n",
    "- You'll want to split the data based on the `is_valid` column\n",
    "- You'll want to label the df using the label"
   ]
  },
  {
   "cell_type": "code",
   "execution_count": 14,
   "metadata": {},
   "outputs": [],
   "source": [
    "data = (TextList.from_csv(path, 'texts.csv')\n",
    "        .split_from_df('is_valid')\n",
    "        .label_from_df('label')\n",
    "        .databunch()) "
   ]
  },
  {
   "cell_type": "markdown",
   "metadata": {},
   "source": [
    "## Language model"
   ]
  },
  {
   "cell_type": "markdown",
   "metadata": {},
   "source": [
    "Batch size should be 48; assign it to `bs`."
   ]
  },
  {
   "cell_type": "code",
   "execution_count": 5,
   "metadata": {},
   "outputs": [],
   "source": [
    "bs = 48"
   ]
  },
  {
   "cell_type": "markdown",
   "metadata": {},
   "source": [
    "Untar the full dataset at `URLs.IMDB` and save the path to `path`. Show the contents of `path`."
   ]
  },
  {
   "cell_type": "code",
   "execution_count": 7,
   "metadata": {},
   "outputs": [
    {
     "data": {
      "text/plain": [
       "[PosixPath('/home/paperspace/.fastai/data/imdb/data_clas.pkl'),\n",
       " PosixPath('/home/paperspace/.fastai/data/imdb/data_save.pkl'),\n",
       " PosixPath('/home/paperspace/.fastai/data/imdb/tmp_lm'),\n",
       " PosixPath('/home/paperspace/.fastai/data/imdb/test'),\n",
       " PosixPath('/home/paperspace/.fastai/data/imdb/tmp_clas'),\n",
       " PosixPath('/home/paperspace/.fastai/data/imdb/README'),\n",
       " PosixPath('/home/paperspace/.fastai/data/imdb/imdb.vocab'),\n",
       " PosixPath('/home/paperspace/.fastai/data/imdb/unsup'),\n",
       " PosixPath('/home/paperspace/.fastai/data/imdb/data_clas'),\n",
       " PosixPath('/home/paperspace/.fastai/data/imdb/models'),\n",
       " PosixPath('/home/paperspace/.fastai/data/imdb/data_lm.pkl'),\n",
       " PosixPath('/home/paperspace/.fastai/data/imdb/data_lm'),\n",
       " PosixPath('/home/paperspace/.fastai/data/imdb/train')]"
      ]
     },
     "execution_count": 7,
     "metadata": {},
     "output_type": "execute_result"
    }
   ],
   "source": [
    "path = untar_data(URLs.IMDB)\n",
    "path.ls()"
   ]
  },
  {
   "cell_type": "markdown",
   "metadata": {},
   "source": [
    "Show the contents of `path/'train'`."
   ]
  },
  {
   "cell_type": "code",
   "execution_count": 8,
   "metadata": {},
   "outputs": [
    {
     "data": {
      "text/plain": [
       "[PosixPath('/home/paperspace/.fastai/data/imdb/train/neg'),\n",
       " PosixPath('/home/paperspace/.fastai/data/imdb/train/labeledBow.feat'),\n",
       " PosixPath('/home/paperspace/.fastai/data/imdb/train/unsupBow.feat'),\n",
       " PosixPath('/home/paperspace/.fastai/data/imdb/train/pos')]"
      ]
     },
     "execution_count": 8,
     "metadata": {},
     "output_type": "execute_result"
    }
   ],
   "source": [
    "(path/'train').ls()"
   ]
  },
  {
   "cell_type": "markdown",
   "metadata": {},
   "source": [
    "Create a language model from the data at `path`. Include the `unsup` folder this time. We're going to create a language model, which predicts the next word in a sequence. This will be a useful starting point for our sentiment analysis model."
   ]
  },
  {
   "cell_type": "code",
   "execution_count": 9,
   "metadata": {},
   "outputs": [],
   "source": [
    "data_full = (TextList.from_folder(path)\n",
    "             .filter_by_folder(['train', 'valid', 'unsup'])\n",
    "             .split_by_rand_pct()\n",
    "             .label_for_lm()\n",
    "             .databunch(bs=bs))"
   ]
  },
  {
   "cell_type": "markdown",
   "metadata": {},
   "source": [
    "This is where the unlabelled data is going to be useful to us, as we can use it to fine-tune our model. Let's create our data object with the data block API (next line takes a few minutes). Save the data to `data_lm.pkl`."
   ]
  },
  {
   "cell_type": "code",
   "execution_count": 60,
   "metadata": {},
   "outputs": [],
   "source": [
    "data_full.save('data_lm')"
   ]
  },
  {
   "cell_type": "markdown",
   "metadata": {},
   "source": [
    "Load the data from `data_lm.pkl` to `data_lm`."
   ]
  },
  {
   "cell_type": "code",
   "execution_count": 10,
   "metadata": {},
   "outputs": [],
   "source": [
    "data_lm = load_data(path, 'data_lm.pkl', bs=bs)"
   ]
  },
  {
   "cell_type": "markdown",
   "metadata": {},
   "source": [
    "Show a batch."
   ]
  },
  {
   "cell_type": "code",
   "execution_count": 11,
   "metadata": {},
   "outputs": [
    {
     "data": {
      "text/html": [
       "<table border=\"1\" class=\"dataframe\">\n",
       "  <thead>\n",
       "    <tr style=\"text-align: right;\">\n",
       "      <th>idx</th>\n",
       "      <th>text</th>\n",
       "    </tr>\n",
       "  </thead>\n",
       "  <tbody>\n",
       "    <tr>\n",
       "      <td>0</td>\n",
       "      <td>are xxmaj ringing \" , both of which opened with very similar views ( and both of which had lyrics by xxmaj adolph xxmaj green , who appears in the film as xxmaj leo ) . xxmaj there are many parallels to classic comedy in a broader sense as well , like the relationship between has - been swashbuckling icon xxmaj alan xxmaj swann ( xxmaj peter o'toole ) and</td>\n",
       "    </tr>\n",
       "    <tr>\n",
       "      <td>1</td>\n",
       "      <td>found myself hooked watching this film after about 20 minutes . a multi - layered , memorable performance from the xxmaj queen of the xxmaj hangers . xxbos xxmaj policewoman xxmaj carole xxmaj mathews goes \" undercover \" to join xxmaj marie xxmaj windsor , xxmaj beverly xxmaj garland , and xxmaj jil xxmaj xxunk in prison . xxmaj the \" xxmaj gang of xxmaj four \" escape , and</td>\n",
       "    </tr>\n",
       "    <tr>\n",
       "      <td>2</td>\n",
       "      <td>xxmaj flynn . xxmaj when i think of xxmaj western heroes , i generally xxup don't think about them starring someone from \" xxmaj down xxmaj under \" , but this really was n't a problem . xxmaj flynn was just fine . \\n \\n  xxmaj for me , part of the reason the film worked was its marvelous supporting cast . xxmaj my favorite of xxmaj flynn 's</td>\n",
       "    </tr>\n",
       "    <tr>\n",
       "      <td>3</td>\n",
       "      <td>you are familiar with xxmaj john xxmaj lennon 's early life , including the development of his various bands , and the evolution of the xxmaj beatles through xxmaj germany and the xxmaj liverpool scene , then this movie does n't offer much in the way of history . xxmaj the history is accurate by most accounts . xxmaj the actors portraying the xxmaj beatles a relatively similar in looks</td>\n",
       "    </tr>\n",
       "    <tr>\n",
       "      <td>4</td>\n",
       "      <td>after watching \" xxup hot xxup fuzz \" ( which is amazing by the way ) but it did n't make me laugh . xxmaj for the first time ever i have tried to get my money back from the cinema and believe me i have seen some bad films but this took the biscuit . xxmaj please do n't waste your money on this film and encourage more .</td>\n",
       "    </tr>\n",
       "  </tbody>\n",
       "</table>"
      ],
      "text/plain": [
       "<IPython.core.display.HTML object>"
      ]
     },
     "metadata": {},
     "output_type": "display_data"
    }
   ],
   "source": [
    "data_lm.show_batch()"
   ]
  },
  {
   "cell_type": "markdown",
   "metadata": {},
   "source": [
    "Create a `language_model_learner` with architecture `AWD_LSTM` and `drop_mult` of 0.3."
   ]
  },
  {
   "cell_type": "code",
   "execution_count": 21,
   "metadata": {},
   "outputs": [],
   "source": [
    "learn = language_model_learner(data_lm, AWD_LSTM, drop_mult=0.3)"
   ]
  },
  {
   "cell_type": "markdown",
   "metadata": {},
   "source": [
    "Run the learning rate finder and pick an LR (you should land somewhere around 1e-2)."
   ]
  },
  {
   "cell_type": "code",
   "execution_count": 65,
   "metadata": {},
   "outputs": [
    {
     "data": {
      "text/html": [],
      "text/plain": [
       "<IPython.core.display.HTML object>"
      ]
     },
     "metadata": {},
     "output_type": "display_data"
    },
    {
     "name": "stdout",
     "output_type": "stream",
     "text": [
      "LR Finder is complete, type {learner_name}.recorder.plot() to see the graph.\n"
     ]
    }
   ],
   "source": [
    "learn.lr_find()"
   ]
  },
  {
   "cell_type": "code",
   "execution_count": 71,
   "metadata": {},
   "outputs": [
    {
     "data": {
      "image/png": "[encoded data removed]",
      "text/plain": [
       "<Figure size 432x288 with 1 Axes>"
      ]
     },
     "metadata": {
      "needs_background": "light"
     },
     "output_type": "display_data"
    }
   ],
   "source": [
    "learn.recorder.plot(skip_end=20)"
   ]
  },
  {
   "cell_type": "markdown",
   "metadata": {},
   "source": [
    "Fit the model, using the lr computed above, with `moms=(0.8,0.7)`."
   ]
  },
  {
   "cell_type": "code",
   "execution_count": 72,
   "metadata": {},
   "outputs": [
    {
     "data": {
      "text/html": [
       "Total time: 57:27 <p><table border=\"1\" class=\"dataframe\">\n",
       "  <thead>\n",
       "    <tr style=\"text-align: left;\">\n",
       "      <th>epoch</th>\n",
       "      <th>train_loss</th>\n",
       "      <th>valid_loss</th>\n",
       "      <th>accuracy</th>\n",
       "      <th>time</th>\n",
       "    </tr>\n",
       "  </thead>\n",
       "  <tbody>\n",
       "    <tr>\n",
       "      <td>0</td>\n",
       "      <td>4.178954</td>\n",
       "      <td>4.053694</td>\n",
       "      <td>0.293334</td>\n",
       "      <td>57:27</td>\n",
       "    </tr>\n",
       "  </tbody>\n",
       "</table>"
      ],
      "text/plain": [
       "<IPython.core.display.HTML object>"
      ]
     },
     "metadata": {},
     "output_type": "display_data"
    }
   ],
   "source": [
    "learn.fit_one_cycle(1, 1e-2, moms=(0.8,0.7))"
   ]
  },
  {
   "cell_type": "markdown",
   "metadata": {},
   "source": [
    "Save the model to `fit_head`."
   ]
  },
  {
   "cell_type": "code",
   "execution_count": 75,
   "metadata": {},
   "outputs": [],
   "source": [
    "learn.save('fit_head')"
   ]
  },
  {
   "cell_type": "markdown",
   "metadata": {},
   "source": [
    "Load the model from `fit_head`."
   ]
  },
  {
   "cell_type": "code",
   "execution_count": 22,
   "metadata": {},
   "outputs": [
    {
     "data": {
      "text/plain": [
       "LanguageLearner(data=TextLMDataBunch;\n",
       "\n",
       "Train: LabelList (60000 items)\n",
       "x: LMTextList\n",
       "xxbos \" xxmaj my xxmaj favorite xxmaj year \" is a very funny and charming piece of nostalgia that wears just a little bit too much of its sincerity on its sleeve . xxmaj the opening shots of the classic xxmaj new xxmaj york skyline bring back fond memories of films set in xxmaj new xxmaj york like \" xxmaj on the xxmaj town \" and \" xxmaj bells xxmaj are xxmaj ringing \" , both of which opened with very similar views ( and both of which had lyrics by xxmaj adolph xxmaj green , who appears in the film as xxmaj leo ) . xxmaj there are many parallels to classic comedy in a broader sense as well , like the relationship between has - been swashbuckling icon xxmaj alan xxmaj swann ( xxmaj peter o'toole ) and his chauffeur / manservant which mirrors the classic xxmaj jeeves and xxmaj wooster dichotomy loosely . \n",
       " \n",
       "  xxmaj the story is very straightforward  xxmaj swann must make an appearance on a xxup tv variety show hosted by xxmaj king xxmaj kaiser ( xxmaj joe xxmaj bologna ) to appease the xxup irs . xxmaj when he shows up \" plastered \" ( \" so are some of the best erections in xxmaj europe \" ! he exclaims ) for the first rehearsal he risks losing the job but is saved by nerdy writer xxmaj benjy xxmaj stone ( xxmaj mark xxmaj linn - xxmaj baker ) , who must act as his chaperone for the rest of the week in xxup nyc . xxmaj in the course of that week xxmaj stone somewhat accidentally teaches xxmaj swann that what he 's missing the most is a solid family relationship , and xxmaj swann teaches xxmaj stone how to be more confident and go after the things that he wants at all costs . xxmaj there 's also an interesting theme here concerning what we choose to show to other people . xxmaj stone confesses that his name is \" xxmaj xxunk \" or something like that , a very xxmaj jewish name , and xxmaj swann confesses about his child whom he has not seen in years . xxmaj the idea i think is that no one would guess that these two very hyper - kinetic and funny individuals were harboring such pain and guilt , but they are able to tell each other because of the mutual respect that exists between friends . \n",
       " \n",
       "  i thought the movie was very funny although in the end the plot about xxmaj swann 's family becomes a bit too obvious and sentimental . xxmaj but there are just too many hilarious moments to complain too much . xxmaj the only other comedy i 've seen with o'toole was \" xxmaj what 's xxmaj new xxmaj pussycat ? \" , which i thought was kind of lame . xxmaj he was very , very funny in this one . xxmaj an even bigger surprise is xxmaj joe xxmaj bologna in the role of a xxmaj sid xxmaj caesar - esquire comedian full of swagger and arrogance , a man who would probably blame the pope if he slipped on a banana peal in the xxmaj vatican . xxmaj the scene where he squares up with a tough gangster ( played by the appropriately surly xxmaj cameron xxmaj mitchell , taking quite a big step up from his recent films like \" xxmaj tool xxmaj box xxmaj murders \" ) is one for the ages . xxmaj and unlike a lot of show- business comedies that end in \" the big show \" ( even \" xxmaj the xxmaj producers ) the conclusion of this film was far from a let - down . \n",
       " \n",
       "  i really felt like i was watching a film from the classic era  not just because of the high quality of the script and the actors , but because this film knows how to present an innocent kind of charm in a sophisticated way ; it 's a far cry from the juvenile ( though occasionally hilarious ) films being pumped out of the teenage movie factory that xxmaj hollywood became in the 1980s . xxmaj in other words , it 's a film with class and integrity . xxmaj and speaking of \" xxmaj the xxmaj producers \" , i think a musical version of this film might be a very good idea .,xxbos xxmaj in xxup wwii xxmaj england a troop of xxunk are dispatched into a characteristically happy - go - lucky and scenic village , though really they are a select assemblage of xxmaj german officers with orders to seize control of the township on the horizon of a covert xxmaj german attack in a few days . xxmaj director xxmaj alberto xxmaj xxunk is smart . xxmaj rather than this information creeping up on us like a twist , we grasp this from the start . xxmaj when one of the villagers grows suspicious , we are in an enhanced state of tension . xxmaj the xxmaj germans hijack the parish , a handful among which refuse to lose hope of alerting the unsuspecting free world around them . \n",
       " \n",
       "  xxmaj do not make the mistake of presuming that it is an insincere propaganda yarn , considering its era . xxmaj this is in fact quite an electrifying tale of survival . xxmaj if so many can overlook the propaganda of obsolete films like xxmaj battleship xxmaj potemkin , there is certainly room for this picture . xxmaj it stands out , owing much to its unexpected flashes of violence that are sincerely exhilarating and often frank and uncompromising in terms of the drama . xxmaj it is not gritty like most modern war films . xxmaj the xxunk timeless xxmaj english ambiance , and the consistent theme of it maintaining its spry morale , is a clever and natural juxtaposition to the taut aggression of the conflict , which is thus more well - defined . xxmaj the relatively unfamiliar cast is plainly high- quality . \n",
       " \n",
       "  xxmaj at its hub , yes , it 's a work of propaganda exploiting a thriller story to enrapture its xxup wwii - era xxmaj british spectators . xxmaj but mind you , it is based on a story by xxmaj english writer and xxup wwii xxup mi6 spy xxmaj graham xxmaj greene . xxmaj nevertheless , the xxmaj english were righteous in that war , remaining the only xxmaj european country the xxmaj germans intended to occupy but never could . xxmaj this piece grows to be as riveting as any other good movie , and what 's more , its unexpected violence causes it to project with particular prominence .,xxbos i heard so many good things about this movie that i thought \" xxmaj oh , i 've got to see that \" . xxmaj then i realised i 'd rented it a couple of weeks before and rather enjoyed it . i can usually remember films very clearly but this one is so predictable that it had just evaporated from my memory . xxmaj still , it 's certainly a well - acted story of social change in a small town ( despite the loathsome , stodgy music - i hate brass bands ) and worth a look . xxmaj incidentally , it 's interesting that most of the pro - xxmaj thatcher comments have been written by xxmaj americans who would be unlikely to tolerate her born - to - rule attitude . xxmaj an institution like the xxmaj house of xxmaj lords would n't last a nanosecond in the liberty - loving xxup usa , thank xxmaj god !,xxbos i 'm at a total loss when i read the other reviews about this movie . i 'm seriously wondering if we all watched the same movie . \n",
       " \n",
       "  xxmaj now , what in particular was the points which dragged the movie down ? \n",
       " \n",
       "  1 ) xxmaj the tempo was god - awful slow . \n",
       " \n",
       "  2 ) xxmaj the plot was as original as the xxunk western flick in late 1979 . \n",
       " \n",
       "  3 ) xxmaj the acting was horrible with the exception of xxmaj ben xxmaj cross which was the only real actor in this debacle . \n",
       " \n",
       "  4 ) xxmaj dolph had as many ( and well thought out ) lines in this flick as he did as xxmaj drago in xxmaj rocky xxup iv . \n",
       " \n",
       "  5 ) xxmaj the budget was almost non - existent which means that this film did not even have the normal cushion to fall back on like it 's fellow titles in the trash bin , a $ 50 million effects and props budget . \n",
       " \n",
       "  xxmaj in short , the director of this movie seem to have aspired to reach the grandeur of an xxmaj uwe xxmaj boll production . xxmaj really says it all , does n't it ?,xxbos xxup lol , i know i stole that line from i love the 70 's , but i just thought it was so true and that was my exact thought from the first minute i started watching xxmaj the xxmaj bad xxmaj news xxmaj bears . xxmaj now to the movie , xxmaj the xxmaj bad xxmaj news xxmaj bears is one of the funniest movies i have seen in a long time , i almost died laughing throughout the whole movie . i obviously heard about this movie from the show i love the 70 's on xxup vh1 , way before the remake with xxmaj billy xxmaj bob xxmaj thorton . xxmaj it always slipped my mind though when i wanted to rent it , but finally i remembered and i am so glad that i got the chance to see it , because this is one of the best comedies to come out of the 70 's . \n",
       " \n",
       "  xxmaj buttermaker is a has been baseball player and now an alcoholic , he is given the job of a little league coach for the xxmaj bears since no other fathers are taking the job . xxmaj but he 's definitely taken back when he finds out that the team he is coaching are kids who are , well , i guess you could say \" lacking \" in the department of knowing how to play baseball . xxmaj but he just wants to get paid and get the job over with , but when their first game comes along , the kids get creamed 26 - 0 , xxmaj buttermaker is pressured to drop the team out of the league , but instead teaches the kids how to play and recruits a couple of new kids , a girl who 's mother he used to date , and a rebel without a cause . xxmaj the kids get better in each game , but it 's a matter of xxmaj buttermaker getting his priorities straight when he lets the game get the worst of him ... and he 's an alcoholic ! \n",
       " \n",
       "  xxmaj the xxmaj bad xxmaj news xxmaj bears is just so funny , xxmaj walter xxmaj matthau was just too perfect for this role as xxmaj buttermaker , he was so believable . i think my favorite xxmaj bear was xxmaj tanner , because the role could have been over done , but the kid did it just right , not to mention his last line of the film is just classic and fit the movie just right . i loved how the film was n't your traditional your favorite team is always going to be out of no where champions , this was an awesome comedy that anyone would just fall in love with . \n",
       " \n",
       "  9 / 10\n",
       "y: LMLabelList\n",
       ",,,,\n",
       "Path: /home/paperspace/.fastai/data/imdb;\n",
       "\n",
       "Valid: LabelList (15000 items)\n",
       "x: LMTextList\n",
       "xxbos xxmaj check out the film 's website , more time was put into making that than in the writing of the script for this movie . xxmaj it could n't be more off in it 's boasting . xxmaj original story ? xxmaj original ? xxmaj they must have found the script tucked away between the old testament , or face legal xxunk for that bit of horn - tooting . xxmaj high - end special effects ? xxmaj come on , i could do better with an xxmaj atari xxunk and a jug of xxunk . xxmaj stylish cinematography ? xxmaj oh yes , the xxmaj america 's funniest home video look is still a classic . i 'm sure they had little money available for this title , so of course the sf are n't really that good , or a bit bad now and then , or just plain hilarious , but it 's the story that makes this film a waste of time and money . 4 stories rolled into one and all of them brainless bits of seen - xxunk and done - already 's .,xxbos xxmaj from imdb : \" xxmaj hercule xxmaj poirot finds himself trying to solve the mystery of the xxmaj cloade family . xxmaj rosaleen is the young widow of xxmaj gordon xxmaj cloade who was killed in a gas explosion in his xxmaj london home . xxmaj rosaleen has inherited her late husband 's substantial fortune and she and her brother xxmaj david xxmaj hunter are refusing to share it with other members of xxmaj gordon xxmaj cloade 's family . xxmaj there have been persistent rumors that xxmaj rosaleen 's first husband , an intrepid explorer , is still alive and as such would nullify her marriage to xxmaj gordon . xxmaj what xxmaj poirot learns however is of a far greater deception that will alter everyone 's perception of what they believe to their reality . \" \n",
       " \n",
       "  xxmaj taken at the xxmaj flood has to be one of my very least favorite of the entire xxmaj poirot series ( i disliked it so much that i did n't even bother to write my own plot synopsis ) . i was never a huge fan of the book , but this adaptation has some real weaknesses and problems that i just ca n't get past . xxmaj chief among them is that it never \" feels \" like an xxmaj agatha xxmaj christie story . xxmaj who decided to sauce up xxmaj christie 's work with all the sex and talk of abortion ? i suppose it was done in an attempt to attract the more modern viewer . xxmaj what about those of us who watch these movies because they are n't filled with the same garbage you can find in every other modern movie ? xxmaj beyond the bastardization of xxmaj xxunk 's novel , the denouement is terribly disappointing . xxmaj poirot brings up things about a murder that happened years ago that , not only would xxmaj poirot have had no way of knowing , the audience could n't begin to come up with the solution . xxmaj xxunk could n't have come up with half the things xxmaj poirot reveals . xxmaj and it 's not as much fun when you ca n't play along . i realize that xxmaj christie would often spring a surprise or two during one of xxmaj poirot 's final monologues , but here xxmaj poirot offers no proof . xxmaj based on the evidence , his accusations seems to be little more than wild speculation .,xxbos xxmaj the story is somewhat stilted , what with the main character 's sudden reversals of fortune , but xxmaj leslie xxmaj howard and xxmaj bette xxmaj davis 's portrayals of xxmaj philip xxmaj carey , the naïve obsessed lover and xxmaj mildred xxmaj rogers , the unworthy object of his affections , raise this film considerably above standard melodrama . \n",
       " \n",
       "  xxmaj sensitive , cultured xxmaj philip , who for most of the picture is in bondage to first his infatuation and then his pity for xxmaj mildred is not unlike a character xxmaj howard was to play a few years later -- xxmaj ashley xxmaj wilkes , the xxmaj southern gentleman too refined and decent to make it in the rough xxmaj reconstruction era . xxmaj philip in fact seems resigned to disappointment even before xxmaj mildred enters the xxunk does n't even seem particularly surprised when his art teacher tells him he 'll never make it as a painter . xxmaj it is perhaps this passivity , these lowered expectations that makes him put up with the selfish xxmaj cockney waitress for as long as he does . \n",
       " \n",
       "  xxmaj although xxmaj leslie xxmaj howard is memorable , today \" xxmaj of xxmaj human xxmaj bondage \" is mainly thought of as a xxmaj bette xxmaj davis picture , perhaps because of the well known story of how she had to fight xxmaj jack xxmaj warner to get the part of xxmaj mildred , and perhaps too because movie audiences tend to prefer characters with her sort of brash energy . xxmaj mildred may have a grating voice , but she also has the ethereal beauty of a stained glass angel , making it somewhat understandable why xxmaj philip let himself be strung along for as long as he did . xxmaj although man eating xxmaj mildred may at times seem one dimensional , she does evoke sympathy in the viewer from time to time as when she becomes ill and belatedly realizes that xxmaj philip is the only decent man who ever cared for her . xxmaj one may also think she is on to something when she accuses xxmaj philip of looking down on her for not being \" fine \" enough . ( xxmaj the scene in which xxmaj philip and xxmaj norah dismiss romance magazines as trash for kitchen maids seems to confirm this ) . \n",
       " \n",
       "  xxmaj most of the supporting characters are also effective , particularly xxmaj norah the sensible romance writer who loves xxmaj philip but knows she can never compete with xxmaj mildred and xxmaj sally who has xxmaj mildred 's beauty and xxmaj norah 's decency and emerges as the deserving woman xxmaj philip is rewarded with in the end . xxmaj the only character i found hollow was xxmaj sally 's eccentric , ale slurping aristocratic father who seems like a stock character from an earlier era . \n",
       " \n",
       "  a classic that deserves it reputation .,xxbos xxmaj either i 'm getting too old and out of touch with reality or most of the reviews and votes on this website are done by industry paid shills . xxmaj this is certainly the worst movie i 've seen in a while . xxmaj xxunk 's deadpan can be funny but only when he 's juxtaposed with either an outrageous situation ( xxmaj ground xxmaj hog xxmaj day ) or with outrageous people ( xxmaj ghostbusters ) . xxmaj in this case it just does n't work . \n",
       " \n",
       "  i know that actors have to take chances on scripts and that sometimes it pays off . xxmaj this time it did n't . i feel embarrassed for xxmaj dafoe , xxmaj blanchett and the rest . xxmaj oh well . xxmaj this thing is a turkey . xxmaj you 've been warned !,xxbos i never met a single person ( out of hundreds ) who hated this movie . xxmaj bet that anyone who votes it down is a petty saboteur , or a victim of one . xxmaj this film has everything . xxmaj ask yourself , \" xxmaj are you a fan of . . . ? \" xxmaj then go see \" xxmaj laputa \" . \n",
       " \n",
       "  xxmaj it 's not my favorite movie , but my favorite xxup is directed by the same person ( xxmaj hayao xxmaj miyazaki ) . xxmaj in any case , this one ranks among my top five . xxmaj and i 've seen a xxup lot of movies .\n",
       "y: LMLabelList\n",
       ",,,,\n",
       "Path: /home/paperspace/.fastai/data/imdb;\n",
       "\n",
       "Test: None, model=SequentialRNN(\n",
       "  (0): AWD_LSTM(\n",
       "    (encoder): Embedding(57171, 400, padding_idx=1)\n",
       "    (encoder_dp): EmbeddingDropout(\n",
       "      (emb): Embedding(57171, 400, padding_idx=1)\n",
       "    )\n",
       "    (rnns): ModuleList(\n",
       "      (0): WeightDropout(\n",
       "        (module): LSTM(400, 1150, batch_first=True)\n",
       "      )\n",
       "      (1): WeightDropout(\n",
       "        (module): LSTM(1150, 1150, batch_first=True)\n",
       "      )\n",
       "      (2): WeightDropout(\n",
       "        (module): LSTM(1150, 400, batch_first=True)\n",
       "      )\n",
       "    )\n",
       "    (input_dp): RNNDropout()\n",
       "    (hidden_dps): ModuleList(\n",
       "      (0): RNNDropout()\n",
       "      (1): RNNDropout()\n",
       "      (2): RNNDropout()\n",
       "    )\n",
       "  )\n",
       "  (1): LinearDecoder(\n",
       "    (decoder): Linear(in_features=400, out_features=57171, bias=True)\n",
       "    (output_dp): RNNDropout()\n",
       "  )\n",
       "), opt_func=functools.partial(<class 'torch.optim.adam.Adam'>, betas=(0.9, 0.99)), loss_func=FlattenedLoss of CrossEntropyLoss(), metrics=[<function accuracy at 0x7fcfe3261d90>], true_wd=True, bn_wd=True, wd=0.01, train_bn=True, path=PosixPath('/home/paperspace/.fastai/data/imdb'), model_dir='models', callback_fns=[functools.partial(<class 'fastai.basic_train.Recorder'>, add_time=True, silent=False)], callbacks=[RNNTrainer\n",
       "learn: LanguageLearner(data=TextLMDataBunch;\n",
       "\n",
       "Train: LabelList (60000 items)\n",
       "x: LMTextList\n",
       "xxbos \" xxmaj my xxmaj favorite xxmaj year \" is a very funny and charming piece of nostalgia that wears just a little bit too much of its sincerity on its sleeve . xxmaj the opening shots of the classic xxmaj new xxmaj york skyline bring back fond memories of films set in xxmaj new xxmaj york like \" xxmaj on the xxmaj town \" and \" xxmaj bells xxmaj are xxmaj ringing \" , both of which opened with very similar views ( and both of which had lyrics by xxmaj adolph xxmaj green , who appears in the film as xxmaj leo ) . xxmaj there are many parallels to classic comedy in a broader sense as well , like the relationship between has - been swashbuckling icon xxmaj alan xxmaj swann ( xxmaj peter o'toole ) and his chauffeur / manservant which mirrors the classic xxmaj jeeves and xxmaj wooster dichotomy loosely . \n",
       " \n",
       "  xxmaj the story is very straightforward  xxmaj swann must make an appearance on a xxup tv variety show hosted by xxmaj king xxmaj kaiser ( xxmaj joe xxmaj bologna ) to appease the xxup irs . xxmaj when he shows up \" plastered \" ( \" so are some of the best erections in xxmaj europe \" ! he exclaims ) for the first rehearsal he risks losing the job but is saved by nerdy writer xxmaj benjy xxmaj stone ( xxmaj mark xxmaj linn - xxmaj baker ) , who must act as his chaperone for the rest of the week in xxup nyc . xxmaj in the course of that week xxmaj stone somewhat accidentally teaches xxmaj swann that what he 's missing the most is a solid family relationship , and xxmaj swann teaches xxmaj stone how to be more confident and go after the things that he wants at all costs . xxmaj there 's also an interesting theme here concerning what we choose to show to other people . xxmaj stone confesses that his name is \" xxmaj xxunk \" or something like that , a very xxmaj jewish name , and xxmaj swann confesses about his child whom he has not seen in years . xxmaj the idea i think is that no one would guess that these two very hyper - kinetic and funny individuals were harboring such pain and guilt , but they are able to tell each other because of the mutual respect that exists between friends . \n",
       " \n",
       "  i thought the movie was very funny although in the end the plot about xxmaj swann 's family becomes a bit too obvious and sentimental . xxmaj but there are just too many hilarious moments to complain too much . xxmaj the only other comedy i 've seen with o'toole was \" xxmaj what 's xxmaj new xxmaj pussycat ? \" , which i thought was kind of lame . xxmaj he was very , very funny in this one . xxmaj an even bigger surprise is xxmaj joe xxmaj bologna in the role of a xxmaj sid xxmaj caesar - esquire comedian full of swagger and arrogance , a man who would probably blame the pope if he slipped on a banana peal in the xxmaj vatican . xxmaj the scene where he squares up with a tough gangster ( played by the appropriately surly xxmaj cameron xxmaj mitchell , taking quite a big step up from his recent films like \" xxmaj tool xxmaj box xxmaj murders \" ) is one for the ages . xxmaj and unlike a lot of show- business comedies that end in \" the big show \" ( even \" xxmaj the xxmaj producers ) the conclusion of this film was far from a let - down . \n",
       " \n",
       "  i really felt like i was watching a film from the classic era  not just because of the high quality of the script and the actors , but because this film knows how to present an innocent kind of charm in a sophisticated way ; it 's a far cry from the juvenile ( though occasionally hilarious ) films being pumped out of the teenage movie factory that xxmaj hollywood became in the 1980s . xxmaj in other words , it 's a film with class and integrity . xxmaj and speaking of \" xxmaj the xxmaj producers \" , i think a musical version of this film might be a very good idea .,xxbos xxmaj in xxup wwii xxmaj england a troop of xxunk are dispatched into a characteristically happy - go - lucky and scenic village , though really they are a select assemblage of xxmaj german officers with orders to seize control of the township on the horizon of a covert xxmaj german attack in a few days . xxmaj director xxmaj alberto xxmaj xxunk is smart . xxmaj rather than this information creeping up on us like a twist , we grasp this from the start . xxmaj when one of the villagers grows suspicious , we are in an enhanced state of tension . xxmaj the xxmaj germans hijack the parish , a handful among which refuse to lose hope of alerting the unsuspecting free world around them . \n",
       " \n",
       "  xxmaj do not make the mistake of presuming that it is an insincere propaganda yarn , considering its era . xxmaj this is in fact quite an electrifying tale of survival . xxmaj if so many can overlook the propaganda of obsolete films like xxmaj battleship xxmaj potemkin , there is certainly room for this picture . xxmaj it stands out , owing much to its unexpected flashes of violence that are sincerely exhilarating and often frank and uncompromising in terms of the drama . xxmaj it is not gritty like most modern war films . xxmaj the xxunk timeless xxmaj english ambiance , and the consistent theme of it maintaining its spry morale , is a clever and natural juxtaposition to the taut aggression of the conflict , which is thus more well - defined . xxmaj the relatively unfamiliar cast is plainly high- quality . \n",
       " \n",
       "  xxmaj at its hub , yes , it 's a work of propaganda exploiting a thriller story to enrapture its xxup wwii - era xxmaj british spectators . xxmaj but mind you , it is based on a story by xxmaj english writer and xxup wwii xxup mi6 spy xxmaj graham xxmaj greene . xxmaj nevertheless , the xxmaj english were righteous in that war , remaining the only xxmaj european country the xxmaj germans intended to occupy but never could . xxmaj this piece grows to be as riveting as any other good movie , and what 's more , its unexpected violence causes it to project with particular prominence .,xxbos i heard so many good things about this movie that i thought \" xxmaj oh , i 've got to see that \" . xxmaj then i realised i 'd rented it a couple of weeks before and rather enjoyed it . i can usually remember films very clearly but this one is so predictable that it had just evaporated from my memory . xxmaj still , it 's certainly a well - acted story of social change in a small town ( despite the loathsome , stodgy music - i hate brass bands ) and worth a look . xxmaj incidentally , it 's interesting that most of the pro - xxmaj thatcher comments have been written by xxmaj americans who would be unlikely to tolerate her born - to - rule attitude . xxmaj an institution like the xxmaj house of xxmaj lords would n't last a nanosecond in the liberty - loving xxup usa , thank xxmaj god !,xxbos i 'm at a total loss when i read the other reviews about this movie . i 'm seriously wondering if we all watched the same movie . \n",
       " \n",
       "  xxmaj now , what in particular was the points which dragged the movie down ? \n",
       " \n",
       "  1 ) xxmaj the tempo was god - awful slow . \n",
       " \n",
       "  2 ) xxmaj the plot was as original as the xxunk western flick in late 1979 . \n",
       " \n",
       "  3 ) xxmaj the acting was horrible with the exception of xxmaj ben xxmaj cross which was the only real actor in this debacle . \n",
       " \n",
       "  4 ) xxmaj dolph had as many ( and well thought out ) lines in this flick as he did as xxmaj drago in xxmaj rocky xxup iv . \n",
       " \n",
       "  5 ) xxmaj the budget was almost non - existent which means that this film did not even have the normal cushion to fall back on like it 's fellow titles in the trash bin , a $ 50 million effects and props budget . \n",
       " \n",
       "  xxmaj in short , the director of this movie seem to have aspired to reach the grandeur of an xxmaj uwe xxmaj boll production . xxmaj really says it all , does n't it ?,xxbos xxup lol , i know i stole that line from i love the 70 's , but i just thought it was so true and that was my exact thought from the first minute i started watching xxmaj the xxmaj bad xxmaj news xxmaj bears . xxmaj now to the movie , xxmaj the xxmaj bad xxmaj news xxmaj bears is one of the funniest movies i have seen in a long time , i almost died laughing throughout the whole movie . i obviously heard about this movie from the show i love the 70 's on xxup vh1 , way before the remake with xxmaj billy xxmaj bob xxmaj thorton . xxmaj it always slipped my mind though when i wanted to rent it , but finally i remembered and i am so glad that i got the chance to see it , because this is one of the best comedies to come out of the 70 's . \n",
       " \n",
       "  xxmaj buttermaker is a has been baseball player and now an alcoholic , he is given the job of a little league coach for the xxmaj bears since no other fathers are taking the job . xxmaj but he 's definitely taken back when he finds out that the team he is coaching are kids who are , well , i guess you could say \" lacking \" in the department of knowing how to play baseball . xxmaj but he just wants to get paid and get the job over with , but when their first game comes along , the kids get creamed 26 - 0 , xxmaj buttermaker is pressured to drop the team out of the league , but instead teaches the kids how to play and recruits a couple of new kids , a girl who 's mother he used to date , and a rebel without a cause . xxmaj the kids get better in each game , but it 's a matter of xxmaj buttermaker getting his priorities straight when he lets the game get the worst of him ... and he 's an alcoholic ! \n",
       " \n",
       "  xxmaj the xxmaj bad xxmaj news xxmaj bears is just so funny , xxmaj walter xxmaj matthau was just too perfect for this role as xxmaj buttermaker , he was so believable . i think my favorite xxmaj bear was xxmaj tanner , because the role could have been over done , but the kid did it just right , not to mention his last line of the film is just classic and fit the movie just right . i loved how the film was n't your traditional your favorite team is always going to be out of no where champions , this was an awesome comedy that anyone would just fall in love with . \n",
       " \n",
       "  9 / 10\n",
       "y: LMLabelList\n",
       ",,,,\n",
       "Path: /home/paperspace/.fastai/data/imdb;\n",
       "\n",
       "Valid: LabelList (15000 items)\n",
       "x: LMTextList\n",
       "xxbos xxmaj check out the film 's website , more time was put into making that than in the writing of the script for this movie . xxmaj it could n't be more off in it 's boasting . xxmaj original story ? xxmaj original ? xxmaj they must have found the script tucked away between the old testament , or face legal xxunk for that bit of horn - tooting . xxmaj high - end special effects ? xxmaj come on , i could do better with an xxmaj atari xxunk and a jug of xxunk . xxmaj stylish cinematography ? xxmaj oh yes , the xxmaj america 's funniest home video look is still a classic . i 'm sure they had little money available for this title , so of course the sf are n't really that good , or a bit bad now and then , or just plain hilarious , but it 's the story that makes this film a waste of time and money . 4 stories rolled into one and all of them brainless bits of seen - xxunk and done - already 's .,xxbos xxmaj from imdb : \" xxmaj hercule xxmaj poirot finds himself trying to solve the mystery of the xxmaj cloade family . xxmaj rosaleen is the young widow of xxmaj gordon xxmaj cloade who was killed in a gas explosion in his xxmaj london home . xxmaj rosaleen has inherited her late husband 's substantial fortune and she and her brother xxmaj david xxmaj hunter are refusing to share it with other members of xxmaj gordon xxmaj cloade 's family . xxmaj there have been persistent rumors that xxmaj rosaleen 's first husband , an intrepid explorer , is still alive and as such would nullify her marriage to xxmaj gordon . xxmaj what xxmaj poirot learns however is of a far greater deception that will alter everyone 's perception of what they believe to their reality . \" \n",
       " \n",
       "  xxmaj taken at the xxmaj flood has to be one of my very least favorite of the entire xxmaj poirot series ( i disliked it so much that i did n't even bother to write my own plot synopsis ) . i was never a huge fan of the book , but this adaptation has some real weaknesses and problems that i just ca n't get past . xxmaj chief among them is that it never \" feels \" like an xxmaj agatha xxmaj christie story . xxmaj who decided to sauce up xxmaj christie 's work with all the sex and talk of abortion ? i suppose it was done in an attempt to attract the more modern viewer . xxmaj what about those of us who watch these movies because they are n't filled with the same garbage you can find in every other modern movie ? xxmaj beyond the bastardization of xxmaj xxunk 's novel , the denouement is terribly disappointing . xxmaj poirot brings up things about a murder that happened years ago that , not only would xxmaj poirot have had no way of knowing , the audience could n't begin to come up with the solution . xxmaj xxunk could n't have come up with half the things xxmaj poirot reveals . xxmaj and it 's not as much fun when you ca n't play along . i realize that xxmaj christie would often spring a surprise or two during one of xxmaj poirot 's final monologues , but here xxmaj poirot offers no proof . xxmaj based on the evidence , his accusations seems to be little more than wild speculation .,xxbos xxmaj the story is somewhat stilted , what with the main character 's sudden reversals of fortune , but xxmaj leslie xxmaj howard and xxmaj bette xxmaj davis 's portrayals of xxmaj philip xxmaj carey , the naïve obsessed lover and xxmaj mildred xxmaj rogers , the unworthy object of his affections , raise this film considerably above standard melodrama . \n",
       " \n",
       "  xxmaj sensitive , cultured xxmaj philip , who for most of the picture is in bondage to first his infatuation and then his pity for xxmaj mildred is not unlike a character xxmaj howard was to play a few years later -- xxmaj ashley xxmaj wilkes , the xxmaj southern gentleman too refined and decent to make it in the rough xxmaj reconstruction era . xxmaj philip in fact seems resigned to disappointment even before xxmaj mildred enters the xxunk does n't even seem particularly surprised when his art teacher tells him he 'll never make it as a painter . xxmaj it is perhaps this passivity , these lowered expectations that makes him put up with the selfish xxmaj cockney waitress for as long as he does . \n",
       " \n",
       "  xxmaj although xxmaj leslie xxmaj howard is memorable , today \" xxmaj of xxmaj human xxmaj bondage \" is mainly thought of as a xxmaj bette xxmaj davis picture , perhaps because of the well known story of how she had to fight xxmaj jack xxmaj warner to get the part of xxmaj mildred , and perhaps too because movie audiences tend to prefer characters with her sort of brash energy . xxmaj mildred may have a grating voice , but she also has the ethereal beauty of a stained glass angel , making it somewhat understandable why xxmaj philip let himself be strung along for as long as he did . xxmaj although man eating xxmaj mildred may at times seem one dimensional , she does evoke sympathy in the viewer from time to time as when she becomes ill and belatedly realizes that xxmaj philip is the only decent man who ever cared for her . xxmaj one may also think she is on to something when she accuses xxmaj philip of looking down on her for not being \" fine \" enough . ( xxmaj the scene in which xxmaj philip and xxmaj norah dismiss romance magazines as trash for kitchen maids seems to confirm this ) . \n",
       " \n",
       "  xxmaj most of the supporting characters are also effective , particularly xxmaj norah the sensible romance writer who loves xxmaj philip but knows she can never compete with xxmaj mildred and xxmaj sally who has xxmaj mildred 's beauty and xxmaj norah 's decency and emerges as the deserving woman xxmaj philip is rewarded with in the end . xxmaj the only character i found hollow was xxmaj sally 's eccentric , ale slurping aristocratic father who seems like a stock character from an earlier era . \n",
       " \n",
       "  a classic that deserves it reputation .,xxbos xxmaj either i 'm getting too old and out of touch with reality or most of the reviews and votes on this website are done by industry paid shills . xxmaj this is certainly the worst movie i 've seen in a while . xxmaj xxunk 's deadpan can be funny but only when he 's juxtaposed with either an outrageous situation ( xxmaj ground xxmaj hog xxmaj day ) or with outrageous people ( xxmaj ghostbusters ) . xxmaj in this case it just does n't work . \n",
       " \n",
       "  i know that actors have to take chances on scripts and that sometimes it pays off . xxmaj this time it did n't . i feel embarrassed for xxmaj dafoe , xxmaj blanchett and the rest . xxmaj oh well . xxmaj this thing is a turkey . xxmaj you 've been warned !,xxbos i never met a single person ( out of hundreds ) who hated this movie . xxmaj bet that anyone who votes it down is a petty saboteur , or a victim of one . xxmaj this film has everything . xxmaj ask yourself , \" xxmaj are you a fan of . . . ? \" xxmaj then go see \" xxmaj laputa \" . \n",
       " \n",
       "  xxmaj it 's not my favorite movie , but my favorite xxup is directed by the same person ( xxmaj hayao xxmaj miyazaki ) . xxmaj in any case , this one ranks among my top five . xxmaj and i 've seen a xxup lot of movies .\n",
       "y: LMLabelList\n",
       ",,,,\n",
       "Path: /home/paperspace/.fastai/data/imdb;\n",
       "\n",
       "Test: None, model=SequentialRNN(\n",
       "  (0): AWD_LSTM(\n",
       "    (encoder): Embedding(57171, 400, padding_idx=1)\n",
       "    (encoder_dp): EmbeddingDropout(\n",
       "      (emb): Embedding(57171, 400, padding_idx=1)\n",
       "    )\n",
       "    (rnns): ModuleList(\n",
       "      (0): WeightDropout(\n",
       "        (module): LSTM(400, 1150, batch_first=True)\n",
       "      )\n",
       "      (1): WeightDropout(\n",
       "        (module): LSTM(1150, 1150, batch_first=True)\n",
       "      )\n",
       "      (2): WeightDropout(\n",
       "        (module): LSTM(1150, 400, batch_first=True)\n",
       "      )\n",
       "    )\n",
       "    (input_dp): RNNDropout()\n",
       "    (hidden_dps): ModuleList(\n",
       "      (0): RNNDropout()\n",
       "      (1): RNNDropout()\n",
       "      (2): RNNDropout()\n",
       "    )\n",
       "  )\n",
       "  (1): LinearDecoder(\n",
       "    (decoder): Linear(in_features=400, out_features=57171, bias=True)\n",
       "    (output_dp): RNNDropout()\n",
       "  )\n",
       "), opt_func=functools.partial(<class 'torch.optim.adam.Adam'>, betas=(0.9, 0.99)), loss_func=FlattenedLoss of CrossEntropyLoss(), metrics=[<function accuracy at 0x7fcfe3261d90>], true_wd=True, bn_wd=True, wd=0.01, train_bn=True, path=PosixPath('/home/paperspace/.fastai/data/imdb'), model_dir='models', callback_fns=[functools.partial(<class 'fastai.basic_train.Recorder'>, add_time=True, silent=False)], callbacks=[...], layer_groups=[Sequential(\n",
       "  (0): WeightDropout(\n",
       "    (module): LSTM(400, 1150, batch_first=True)\n",
       "  )\n",
       "  (1): RNNDropout()\n",
       "), Sequential(\n",
       "  (0): WeightDropout(\n",
       "    (module): LSTM(1150, 1150, batch_first=True)\n",
       "  )\n",
       "  (1): RNNDropout()\n",
       "), Sequential(\n",
       "  (0): WeightDropout(\n",
       "    (module): LSTM(1150, 400, batch_first=True)\n",
       "  )\n",
       "  (1): RNNDropout()\n",
       "), Sequential(\n",
       "  (0): Embedding(57171, 400, padding_idx=1)\n",
       "  (1): EmbeddingDropout(\n",
       "    (emb): Embedding(57171, 400, padding_idx=1)\n",
       "  )\n",
       "  (2): LinearDecoder(\n",
       "    (decoder): Linear(in_features=400, out_features=57171, bias=True)\n",
       "    (output_dp): RNNDropout()\n",
       "  )\n",
       ")], add_time=True, silent=None)\n",
       "alpha: 2.0\n",
       "beta: 1.0], layer_groups=[Sequential(\n",
       "  (0): WeightDropout(\n",
       "    (module): LSTM(400, 1150, batch_first=True)\n",
       "  )\n",
       "  (1): RNNDropout()\n",
       "), Sequential(\n",
       "  (0): WeightDropout(\n",
       "    (module): LSTM(1150, 1150, batch_first=True)\n",
       "  )\n",
       "  (1): RNNDropout()\n",
       "), Sequential(\n",
       "  (0): WeightDropout(\n",
       "    (module): LSTM(1150, 400, batch_first=True)\n",
       "  )\n",
       "  (1): RNNDropout()\n",
       "), Sequential(\n",
       "  (0): Embedding(57171, 400, padding_idx=1)\n",
       "  (1): EmbeddingDropout(\n",
       "    (emb): Embedding(57171, 400, padding_idx=1)\n",
       "  )\n",
       "  (2): LinearDecoder(\n",
       "    (decoder): Linear(in_features=400, out_features=57171, bias=True)\n",
       "    (output_dp): RNNDropout()\n",
       "  )\n",
       ")], add_time=True, silent=None)"
      ]
     },
     "execution_count": 22,
     "metadata": {},
     "output_type": "execute_result"
    }
   ],
   "source": [
    "learn.load('fit_head')"
   ]
  },
  {
   "cell_type": "markdown",
   "metadata": {},
   "source": [
    "Unfreeze the model and run for 10 epochs with a lr that is 10% of the one you used last (same `moms`)."
   ]
  },
  {
   "cell_type": "code",
   "execution_count": 23,
   "metadata": {},
   "outputs": [
    {
     "data": {
      "text/html": [
       "Total time: 57:08 <p><table border=\"1\" class=\"dataframe\">\n",
       "  <thead>\n",
       "    <tr style=\"text-align: left;\">\n",
       "      <th>epoch</th>\n",
       "      <th>train_loss</th>\n",
       "      <th>valid_loss</th>\n",
       "      <th>accuracy</th>\n",
       "      <th>time</th>\n",
       "    </tr>\n",
       "  </thead>\n",
       "  <tbody>\n",
       "    <tr>\n",
       "      <td>0</td>\n",
       "      <td>4.117712</td>\n",
       "      <td>4.029732</td>\n",
       "      <td>0.295634</td>\n",
       "      <td>57:08</td>\n",
       "    </tr>\n",
       "  </tbody>\n",
       "</table>"
      ],
      "text/plain": [
       "<IPython.core.display.HTML object>"
      ]
     },
     "metadata": {},
     "output_type": "display_data"
    }
   ],
   "source": [
    "# %%capture output\n",
    "learn.fit_one_cycle(1, 1e-3, moms=(0.8, 0.7))"
   ]
  },
  {
   "cell_type": "markdown",
   "metadata": {},
   "source": [
    "Save this model to `fine_tuned`."
   ]
  },
  {
   "cell_type": "code",
   "execution_count": 24,
   "metadata": {},
   "outputs": [],
   "source": [
    "learn.save('fine_tuned')"
   ]
  },
  {
   "cell_type": "markdown",
   "metadata": {},
   "source": [
    "Load the model from `fine_tuned`."
   ]
  },
  {
   "cell_type": "code",
   "execution_count": 25,
   "metadata": {},
   "outputs": [
    {
     "data": {
      "text/plain": [
       "LanguageLearner(data=TextLMDataBunch;\n",
       "\n",
       "Train: LabelList (60000 items)\n",
       "x: LMTextList\n",
       "xxbos \" xxmaj my xxmaj favorite xxmaj year \" is a very funny and charming piece of nostalgia that wears just a little bit too much of its sincerity on its sleeve . xxmaj the opening shots of the classic xxmaj new xxmaj york skyline bring back fond memories of films set in xxmaj new xxmaj york like \" xxmaj on the xxmaj town \" and \" xxmaj bells xxmaj are xxmaj ringing \" , both of which opened with very similar views ( and both of which had lyrics by xxmaj adolph xxmaj green , who appears in the film as xxmaj leo ) . xxmaj there are many parallels to classic comedy in a broader sense as well , like the relationship between has - been swashbuckling icon xxmaj alan xxmaj swann ( xxmaj peter o'toole ) and his chauffeur / manservant which mirrors the classic xxmaj jeeves and xxmaj wooster dichotomy loosely . \n",
       " \n",
       "  xxmaj the story is very straightforward  xxmaj swann must make an appearance on a xxup tv variety show hosted by xxmaj king xxmaj kaiser ( xxmaj joe xxmaj bologna ) to appease the xxup irs . xxmaj when he shows up \" plastered \" ( \" so are some of the best erections in xxmaj europe \" ! he exclaims ) for the first rehearsal he risks losing the job but is saved by nerdy writer xxmaj benjy xxmaj stone ( xxmaj mark xxmaj linn - xxmaj baker ) , who must act as his chaperone for the rest of the week in xxup nyc . xxmaj in the course of that week xxmaj stone somewhat accidentally teaches xxmaj swann that what he 's missing the most is a solid family relationship , and xxmaj swann teaches xxmaj stone how to be more confident and go after the things that he wants at all costs . xxmaj there 's also an interesting theme here concerning what we choose to show to other people . xxmaj stone confesses that his name is \" xxmaj xxunk \" or something like that , a very xxmaj jewish name , and xxmaj swann confesses about his child whom he has not seen in years . xxmaj the idea i think is that no one would guess that these two very hyper - kinetic and funny individuals were harboring such pain and guilt , but they are able to tell each other because of the mutual respect that exists between friends . \n",
       " \n",
       "  i thought the movie was very funny although in the end the plot about xxmaj swann 's family becomes a bit too obvious and sentimental . xxmaj but there are just too many hilarious moments to complain too much . xxmaj the only other comedy i 've seen with o'toole was \" xxmaj what 's xxmaj new xxmaj pussycat ? \" , which i thought was kind of lame . xxmaj he was very , very funny in this one . xxmaj an even bigger surprise is xxmaj joe xxmaj bologna in the role of a xxmaj sid xxmaj caesar - esquire comedian full of swagger and arrogance , a man who would probably blame the pope if he slipped on a banana peal in the xxmaj vatican . xxmaj the scene where he squares up with a tough gangster ( played by the appropriately surly xxmaj cameron xxmaj mitchell , taking quite a big step up from his recent films like \" xxmaj tool xxmaj box xxmaj murders \" ) is one for the ages . xxmaj and unlike a lot of show- business comedies that end in \" the big show \" ( even \" xxmaj the xxmaj producers ) the conclusion of this film was far from a let - down . \n",
       " \n",
       "  i really felt like i was watching a film from the classic era  not just because of the high quality of the script and the actors , but because this film knows how to present an innocent kind of charm in a sophisticated way ; it 's a far cry from the juvenile ( though occasionally hilarious ) films being pumped out of the teenage movie factory that xxmaj hollywood became in the 1980s . xxmaj in other words , it 's a film with class and integrity . xxmaj and speaking of \" xxmaj the xxmaj producers \" , i think a musical version of this film might be a very good idea .,xxbos xxmaj in xxup wwii xxmaj england a troop of xxunk are dispatched into a characteristically happy - go - lucky and scenic village , though really they are a select assemblage of xxmaj german officers with orders to seize control of the township on the horizon of a covert xxmaj german attack in a few days . xxmaj director xxmaj alberto xxmaj xxunk is smart . xxmaj rather than this information creeping up on us like a twist , we grasp this from the start . xxmaj when one of the villagers grows suspicious , we are in an enhanced state of tension . xxmaj the xxmaj germans hijack the parish , a handful among which refuse to lose hope of alerting the unsuspecting free world around them . \n",
       " \n",
       "  xxmaj do not make the mistake of presuming that it is an insincere propaganda yarn , considering its era . xxmaj this is in fact quite an electrifying tale of survival . xxmaj if so many can overlook the propaganda of obsolete films like xxmaj battleship xxmaj potemkin , there is certainly room for this picture . xxmaj it stands out , owing much to its unexpected flashes of violence that are sincerely exhilarating and often frank and uncompromising in terms of the drama . xxmaj it is not gritty like most modern war films . xxmaj the xxunk timeless xxmaj english ambiance , and the consistent theme of it maintaining its spry morale , is a clever and natural juxtaposition to the taut aggression of the conflict , which is thus more well - defined . xxmaj the relatively unfamiliar cast is plainly high- quality . \n",
       " \n",
       "  xxmaj at its hub , yes , it 's a work of propaganda exploiting a thriller story to enrapture its xxup wwii - era xxmaj british spectators . xxmaj but mind you , it is based on a story by xxmaj english writer and xxup wwii xxup mi6 spy xxmaj graham xxmaj greene . xxmaj nevertheless , the xxmaj english were righteous in that war , remaining the only xxmaj european country the xxmaj germans intended to occupy but never could . xxmaj this piece grows to be as riveting as any other good movie , and what 's more , its unexpected violence causes it to project with particular prominence .,xxbos i heard so many good things about this movie that i thought \" xxmaj oh , i 've got to see that \" . xxmaj then i realised i 'd rented it a couple of weeks before and rather enjoyed it . i can usually remember films very clearly but this one is so predictable that it had just evaporated from my memory . xxmaj still , it 's certainly a well - acted story of social change in a small town ( despite the loathsome , stodgy music - i hate brass bands ) and worth a look . xxmaj incidentally , it 's interesting that most of the pro - xxmaj thatcher comments have been written by xxmaj americans who would be unlikely to tolerate her born - to - rule attitude . xxmaj an institution like the xxmaj house of xxmaj lords would n't last a nanosecond in the liberty - loving xxup usa , thank xxmaj god !,xxbos i 'm at a total loss when i read the other reviews about this movie . i 'm seriously wondering if we all watched the same movie . \n",
       " \n",
       "  xxmaj now , what in particular was the points which dragged the movie down ? \n",
       " \n",
       "  1 ) xxmaj the tempo was god - awful slow . \n",
       " \n",
       "  2 ) xxmaj the plot was as original as the xxunk western flick in late 1979 . \n",
       " \n",
       "  3 ) xxmaj the acting was horrible with the exception of xxmaj ben xxmaj cross which was the only real actor in this debacle . \n",
       " \n",
       "  4 ) xxmaj dolph had as many ( and well thought out ) lines in this flick as he did as xxmaj drago in xxmaj rocky xxup iv . \n",
       " \n",
       "  5 ) xxmaj the budget was almost non - existent which means that this film did not even have the normal cushion to fall back on like it 's fellow titles in the trash bin , a $ 50 million effects and props budget . \n",
       " \n",
       "  xxmaj in short , the director of this movie seem to have aspired to reach the grandeur of an xxmaj uwe xxmaj boll production . xxmaj really says it all , does n't it ?,xxbos xxup lol , i know i stole that line from i love the 70 's , but i just thought it was so true and that was my exact thought from the first minute i started watching xxmaj the xxmaj bad xxmaj news xxmaj bears . xxmaj now to the movie , xxmaj the xxmaj bad xxmaj news xxmaj bears is one of the funniest movies i have seen in a long time , i almost died laughing throughout the whole movie . i obviously heard about this movie from the show i love the 70 's on xxup vh1 , way before the remake with xxmaj billy xxmaj bob xxmaj thorton . xxmaj it always slipped my mind though when i wanted to rent it , but finally i remembered and i am so glad that i got the chance to see it , because this is one of the best comedies to come out of the 70 's . \n",
       " \n",
       "  xxmaj buttermaker is a has been baseball player and now an alcoholic , he is given the job of a little league coach for the xxmaj bears since no other fathers are taking the job . xxmaj but he 's definitely taken back when he finds out that the team he is coaching are kids who are , well , i guess you could say \" lacking \" in the department of knowing how to play baseball . xxmaj but he just wants to get paid and get the job over with , but when their first game comes along , the kids get creamed 26 - 0 , xxmaj buttermaker is pressured to drop the team out of the league , but instead teaches the kids how to play and recruits a couple of new kids , a girl who 's mother he used to date , and a rebel without a cause . xxmaj the kids get better in each game , but it 's a matter of xxmaj buttermaker getting his priorities straight when he lets the game get the worst of him ... and he 's an alcoholic ! \n",
       " \n",
       "  xxmaj the xxmaj bad xxmaj news xxmaj bears is just so funny , xxmaj walter xxmaj matthau was just too perfect for this role as xxmaj buttermaker , he was so believable . i think my favorite xxmaj bear was xxmaj tanner , because the role could have been over done , but the kid did it just right , not to mention his last line of the film is just classic and fit the movie just right . i loved how the film was n't your traditional your favorite team is always going to be out of no where champions , this was an awesome comedy that anyone would just fall in love with . \n",
       " \n",
       "  9 / 10\n",
       "y: LMLabelList\n",
       ",,,,\n",
       "Path: /home/paperspace/.fastai/data/imdb;\n",
       "\n",
       "Valid: LabelList (15000 items)\n",
       "x: LMTextList\n",
       "xxbos xxmaj check out the film 's website , more time was put into making that than in the writing of the script for this movie . xxmaj it could n't be more off in it 's boasting . xxmaj original story ? xxmaj original ? xxmaj they must have found the script tucked away between the old testament , or face legal xxunk for that bit of horn - tooting . xxmaj high - end special effects ? xxmaj come on , i could do better with an xxmaj atari xxunk and a jug of xxunk . xxmaj stylish cinematography ? xxmaj oh yes , the xxmaj america 's funniest home video look is still a classic . i 'm sure they had little money available for this title , so of course the sf are n't really that good , or a bit bad now and then , or just plain hilarious , but it 's the story that makes this film a waste of time and money . 4 stories rolled into one and all of them brainless bits of seen - xxunk and done - already 's .,xxbos xxmaj from imdb : \" xxmaj hercule xxmaj poirot finds himself trying to solve the mystery of the xxmaj cloade family . xxmaj rosaleen is the young widow of xxmaj gordon xxmaj cloade who was killed in a gas explosion in his xxmaj london home . xxmaj rosaleen has inherited her late husband 's substantial fortune and she and her brother xxmaj david xxmaj hunter are refusing to share it with other members of xxmaj gordon xxmaj cloade 's family . xxmaj there have been persistent rumors that xxmaj rosaleen 's first husband , an intrepid explorer , is still alive and as such would nullify her marriage to xxmaj gordon . xxmaj what xxmaj poirot learns however is of a far greater deception that will alter everyone 's perception of what they believe to their reality . \" \n",
       " \n",
       "  xxmaj taken at the xxmaj flood has to be one of my very least favorite of the entire xxmaj poirot series ( i disliked it so much that i did n't even bother to write my own plot synopsis ) . i was never a huge fan of the book , but this adaptation has some real weaknesses and problems that i just ca n't get past . xxmaj chief among them is that it never \" feels \" like an xxmaj agatha xxmaj christie story . xxmaj who decided to sauce up xxmaj christie 's work with all the sex and talk of abortion ? i suppose it was done in an attempt to attract the more modern viewer . xxmaj what about those of us who watch these movies because they are n't filled with the same garbage you can find in every other modern movie ? xxmaj beyond the bastardization of xxmaj xxunk 's novel , the denouement is terribly disappointing . xxmaj poirot brings up things about a murder that happened years ago that , not only would xxmaj poirot have had no way of knowing , the audience could n't begin to come up with the solution . xxmaj xxunk could n't have come up with half the things xxmaj poirot reveals . xxmaj and it 's not as much fun when you ca n't play along . i realize that xxmaj christie would often spring a surprise or two during one of xxmaj poirot 's final monologues , but here xxmaj poirot offers no proof . xxmaj based on the evidence , his accusations seems to be little more than wild speculation .,xxbos xxmaj the story is somewhat stilted , what with the main character 's sudden reversals of fortune , but xxmaj leslie xxmaj howard and xxmaj bette xxmaj davis 's portrayals of xxmaj philip xxmaj carey , the naïve obsessed lover and xxmaj mildred xxmaj rogers , the unworthy object of his affections , raise this film considerably above standard melodrama . \n",
       " \n",
       "  xxmaj sensitive , cultured xxmaj philip , who for most of the picture is in bondage to first his infatuation and then his pity for xxmaj mildred is not unlike a character xxmaj howard was to play a few years later -- xxmaj ashley xxmaj wilkes , the xxmaj southern gentleman too refined and decent to make it in the rough xxmaj reconstruction era . xxmaj philip in fact seems resigned to disappointment even before xxmaj mildred enters the xxunk does n't even seem particularly surprised when his art teacher tells him he 'll never make it as a painter . xxmaj it is perhaps this passivity , these lowered expectations that makes him put up with the selfish xxmaj cockney waitress for as long as he does . \n",
       " \n",
       "  xxmaj although xxmaj leslie xxmaj howard is memorable , today \" xxmaj of xxmaj human xxmaj bondage \" is mainly thought of as a xxmaj bette xxmaj davis picture , perhaps because of the well known story of how she had to fight xxmaj jack xxmaj warner to get the part of xxmaj mildred , and perhaps too because movie audiences tend to prefer characters with her sort of brash energy . xxmaj mildred may have a grating voice , but she also has the ethereal beauty of a stained glass angel , making it somewhat understandable why xxmaj philip let himself be strung along for as long as he did . xxmaj although man eating xxmaj mildred may at times seem one dimensional , she does evoke sympathy in the viewer from time to time as when she becomes ill and belatedly realizes that xxmaj philip is the only decent man who ever cared for her . xxmaj one may also think she is on to something when she accuses xxmaj philip of looking down on her for not being \" fine \" enough . ( xxmaj the scene in which xxmaj philip and xxmaj norah dismiss romance magazines as trash for kitchen maids seems to confirm this ) . \n",
       " \n",
       "  xxmaj most of the supporting characters are also effective , particularly xxmaj norah the sensible romance writer who loves xxmaj philip but knows she can never compete with xxmaj mildred and xxmaj sally who has xxmaj mildred 's beauty and xxmaj norah 's decency and emerges as the deserving woman xxmaj philip is rewarded with in the end . xxmaj the only character i found hollow was xxmaj sally 's eccentric , ale slurping aristocratic father who seems like a stock character from an earlier era . \n",
       " \n",
       "  a classic that deserves it reputation .,xxbos xxmaj either i 'm getting too old and out of touch with reality or most of the reviews and votes on this website are done by industry paid shills . xxmaj this is certainly the worst movie i 've seen in a while . xxmaj xxunk 's deadpan can be funny but only when he 's juxtaposed with either an outrageous situation ( xxmaj ground xxmaj hog xxmaj day ) or with outrageous people ( xxmaj ghostbusters ) . xxmaj in this case it just does n't work . \n",
       " \n",
       "  i know that actors have to take chances on scripts and that sometimes it pays off . xxmaj this time it did n't . i feel embarrassed for xxmaj dafoe , xxmaj blanchett and the rest . xxmaj oh well . xxmaj this thing is a turkey . xxmaj you 've been warned !,xxbos i never met a single person ( out of hundreds ) who hated this movie . xxmaj bet that anyone who votes it down is a petty saboteur , or a victim of one . xxmaj this film has everything . xxmaj ask yourself , \" xxmaj are you a fan of . . . ? \" xxmaj then go see \" xxmaj laputa \" . \n",
       " \n",
       "  xxmaj it 's not my favorite movie , but my favorite xxup is directed by the same person ( xxmaj hayao xxmaj miyazaki ) . xxmaj in any case , this one ranks among my top five . xxmaj and i 've seen a xxup lot of movies .\n",
       "y: LMLabelList\n",
       ",,,,\n",
       "Path: /home/paperspace/.fastai/data/imdb;\n",
       "\n",
       "Test: None, model=SequentialRNN(\n",
       "  (0): AWD_LSTM(\n",
       "    (encoder): Embedding(57171, 400, padding_idx=1)\n",
       "    (encoder_dp): EmbeddingDropout(\n",
       "      (emb): Embedding(57171, 400, padding_idx=1)\n",
       "    )\n",
       "    (rnns): ModuleList(\n",
       "      (0): WeightDropout(\n",
       "        (module): LSTM(400, 1150, batch_first=True)\n",
       "      )\n",
       "      (1): WeightDropout(\n",
       "        (module): LSTM(1150, 1150, batch_first=True)\n",
       "      )\n",
       "      (2): WeightDropout(\n",
       "        (module): LSTM(1150, 400, batch_first=True)\n",
       "      )\n",
       "    )\n",
       "    (input_dp): RNNDropout()\n",
       "    (hidden_dps): ModuleList(\n",
       "      (0): RNNDropout()\n",
       "      (1): RNNDropout()\n",
       "      (2): RNNDropout()\n",
       "    )\n",
       "  )\n",
       "  (1): LinearDecoder(\n",
       "    (decoder): Linear(in_features=400, out_features=57171, bias=True)\n",
       "    (output_dp): RNNDropout()\n",
       "  )\n",
       "), opt_func=functools.partial(<class 'torch.optim.adam.Adam'>, betas=(0.9, 0.99)), loss_func=FlattenedLoss of CrossEntropyLoss(), metrics=[<function accuracy at 0x7fcfe3261d90>], true_wd=True, bn_wd=True, wd=0.01, train_bn=True, path=PosixPath('/home/paperspace/.fastai/data/imdb'), model_dir='models', callback_fns=[functools.partial(<class 'fastai.basic_train.Recorder'>, add_time=True, silent=False)], callbacks=[RNNTrainer\n",
       "learn: LanguageLearner(data=TextLMDataBunch;\n",
       "\n",
       "Train: LabelList (60000 items)\n",
       "x: LMTextList\n",
       "xxbos \" xxmaj my xxmaj favorite xxmaj year \" is a very funny and charming piece of nostalgia that wears just a little bit too much of its sincerity on its sleeve . xxmaj the opening shots of the classic xxmaj new xxmaj york skyline bring back fond memories of films set in xxmaj new xxmaj york like \" xxmaj on the xxmaj town \" and \" xxmaj bells xxmaj are xxmaj ringing \" , both of which opened with very similar views ( and both of which had lyrics by xxmaj adolph xxmaj green , who appears in the film as xxmaj leo ) . xxmaj there are many parallels to classic comedy in a broader sense as well , like the relationship between has - been swashbuckling icon xxmaj alan xxmaj swann ( xxmaj peter o'toole ) and his chauffeur / manservant which mirrors the classic xxmaj jeeves and xxmaj wooster dichotomy loosely . \n",
       " \n",
       "  xxmaj the story is very straightforward  xxmaj swann must make an appearance on a xxup tv variety show hosted by xxmaj king xxmaj kaiser ( xxmaj joe xxmaj bologna ) to appease the xxup irs . xxmaj when he shows up \" plastered \" ( \" so are some of the best erections in xxmaj europe \" ! he exclaims ) for the first rehearsal he risks losing the job but is saved by nerdy writer xxmaj benjy xxmaj stone ( xxmaj mark xxmaj linn - xxmaj baker ) , who must act as his chaperone for the rest of the week in xxup nyc . xxmaj in the course of that week xxmaj stone somewhat accidentally teaches xxmaj swann that what he 's missing the most is a solid family relationship , and xxmaj swann teaches xxmaj stone how to be more confident and go after the things that he wants at all costs . xxmaj there 's also an interesting theme here concerning what we choose to show to other people . xxmaj stone confesses that his name is \" xxmaj xxunk \" or something like that , a very xxmaj jewish name , and xxmaj swann confesses about his child whom he has not seen in years . xxmaj the idea i think is that no one would guess that these two very hyper - kinetic and funny individuals were harboring such pain and guilt , but they are able to tell each other because of the mutual respect that exists between friends . \n",
       " \n",
       "  i thought the movie was very funny although in the end the plot about xxmaj swann 's family becomes a bit too obvious and sentimental . xxmaj but there are just too many hilarious moments to complain too much . xxmaj the only other comedy i 've seen with o'toole was \" xxmaj what 's xxmaj new xxmaj pussycat ? \" , which i thought was kind of lame . xxmaj he was very , very funny in this one . xxmaj an even bigger surprise is xxmaj joe xxmaj bologna in the role of a xxmaj sid xxmaj caesar - esquire comedian full of swagger and arrogance , a man who would probably blame the pope if he slipped on a banana peal in the xxmaj vatican . xxmaj the scene where he squares up with a tough gangster ( played by the appropriately surly xxmaj cameron xxmaj mitchell , taking quite a big step up from his recent films like \" xxmaj tool xxmaj box xxmaj murders \" ) is one for the ages . xxmaj and unlike a lot of show- business comedies that end in \" the big show \" ( even \" xxmaj the xxmaj producers ) the conclusion of this film was far from a let - down . \n",
       " \n",
       "  i really felt like i was watching a film from the classic era  not just because of the high quality of the script and the actors , but because this film knows how to present an innocent kind of charm in a sophisticated way ; it 's a far cry from the juvenile ( though occasionally hilarious ) films being pumped out of the teenage movie factory that xxmaj hollywood became in the 1980s . xxmaj in other words , it 's a film with class and integrity . xxmaj and speaking of \" xxmaj the xxmaj producers \" , i think a musical version of this film might be a very good idea .,xxbos xxmaj in xxup wwii xxmaj england a troop of xxunk are dispatched into a characteristically happy - go - lucky and scenic village , though really they are a select assemblage of xxmaj german officers with orders to seize control of the township on the horizon of a covert xxmaj german attack in a few days . xxmaj director xxmaj alberto xxmaj xxunk is smart . xxmaj rather than this information creeping up on us like a twist , we grasp this from the start . xxmaj when one of the villagers grows suspicious , we are in an enhanced state of tension . xxmaj the xxmaj germans hijack the parish , a handful among which refuse to lose hope of alerting the unsuspecting free world around them . \n",
       " \n",
       "  xxmaj do not make the mistake of presuming that it is an insincere propaganda yarn , considering its era . xxmaj this is in fact quite an electrifying tale of survival . xxmaj if so many can overlook the propaganda of obsolete films like xxmaj battleship xxmaj potemkin , there is certainly room for this picture . xxmaj it stands out , owing much to its unexpected flashes of violence that are sincerely exhilarating and often frank and uncompromising in terms of the drama . xxmaj it is not gritty like most modern war films . xxmaj the xxunk timeless xxmaj english ambiance , and the consistent theme of it maintaining its spry morale , is a clever and natural juxtaposition to the taut aggression of the conflict , which is thus more well - defined . xxmaj the relatively unfamiliar cast is plainly high- quality . \n",
       " \n",
       "  xxmaj at its hub , yes , it 's a work of propaganda exploiting a thriller story to enrapture its xxup wwii - era xxmaj british spectators . xxmaj but mind you , it is based on a story by xxmaj english writer and xxup wwii xxup mi6 spy xxmaj graham xxmaj greene . xxmaj nevertheless , the xxmaj english were righteous in that war , remaining the only xxmaj european country the xxmaj germans intended to occupy but never could . xxmaj this piece grows to be as riveting as any other good movie , and what 's more , its unexpected violence causes it to project with particular prominence .,xxbos i heard so many good things about this movie that i thought \" xxmaj oh , i 've got to see that \" . xxmaj then i realised i 'd rented it a couple of weeks before and rather enjoyed it . i can usually remember films very clearly but this one is so predictable that it had just evaporated from my memory . xxmaj still , it 's certainly a well - acted story of social change in a small town ( despite the loathsome , stodgy music - i hate brass bands ) and worth a look . xxmaj incidentally , it 's interesting that most of the pro - xxmaj thatcher comments have been written by xxmaj americans who would be unlikely to tolerate her born - to - rule attitude . xxmaj an institution like the xxmaj house of xxmaj lords would n't last a nanosecond in the liberty - loving xxup usa , thank xxmaj god !,xxbos i 'm at a total loss when i read the other reviews about this movie . i 'm seriously wondering if we all watched the same movie . \n",
       " \n",
       "  xxmaj now , what in particular was the points which dragged the movie down ? \n",
       " \n",
       "  1 ) xxmaj the tempo was god - awful slow . \n",
       " \n",
       "  2 ) xxmaj the plot was as original as the xxunk western flick in late 1979 . \n",
       " \n",
       "  3 ) xxmaj the acting was horrible with the exception of xxmaj ben xxmaj cross which was the only real actor in this debacle . \n",
       " \n",
       "  4 ) xxmaj dolph had as many ( and well thought out ) lines in this flick as he did as xxmaj drago in xxmaj rocky xxup iv . \n",
       " \n",
       "  5 ) xxmaj the budget was almost non - existent which means that this film did not even have the normal cushion to fall back on like it 's fellow titles in the trash bin , a $ 50 million effects and props budget . \n",
       " \n",
       "  xxmaj in short , the director of this movie seem to have aspired to reach the grandeur of an xxmaj uwe xxmaj boll production . xxmaj really says it all , does n't it ?,xxbos xxup lol , i know i stole that line from i love the 70 's , but i just thought it was so true and that was my exact thought from the first minute i started watching xxmaj the xxmaj bad xxmaj news xxmaj bears . xxmaj now to the movie , xxmaj the xxmaj bad xxmaj news xxmaj bears is one of the funniest movies i have seen in a long time , i almost died laughing throughout the whole movie . i obviously heard about this movie from the show i love the 70 's on xxup vh1 , way before the remake with xxmaj billy xxmaj bob xxmaj thorton . xxmaj it always slipped my mind though when i wanted to rent it , but finally i remembered and i am so glad that i got the chance to see it , because this is one of the best comedies to come out of the 70 's . \n",
       " \n",
       "  xxmaj buttermaker is a has been baseball player and now an alcoholic , he is given the job of a little league coach for the xxmaj bears since no other fathers are taking the job . xxmaj but he 's definitely taken back when he finds out that the team he is coaching are kids who are , well , i guess you could say \" lacking \" in the department of knowing how to play baseball . xxmaj but he just wants to get paid and get the job over with , but when their first game comes along , the kids get creamed 26 - 0 , xxmaj buttermaker is pressured to drop the team out of the league , but instead teaches the kids how to play and recruits a couple of new kids , a girl who 's mother he used to date , and a rebel without a cause . xxmaj the kids get better in each game , but it 's a matter of xxmaj buttermaker getting his priorities straight when he lets the game get the worst of him ... and he 's an alcoholic ! \n",
       " \n",
       "  xxmaj the xxmaj bad xxmaj news xxmaj bears is just so funny , xxmaj walter xxmaj matthau was just too perfect for this role as xxmaj buttermaker , he was so believable . i think my favorite xxmaj bear was xxmaj tanner , because the role could have been over done , but the kid did it just right , not to mention his last line of the film is just classic and fit the movie just right . i loved how the film was n't your traditional your favorite team is always going to be out of no where champions , this was an awesome comedy that anyone would just fall in love with . \n",
       " \n",
       "  9 / 10\n",
       "y: LMLabelList\n",
       ",,,,\n",
       "Path: /home/paperspace/.fastai/data/imdb;\n",
       "\n",
       "Valid: LabelList (15000 items)\n",
       "x: LMTextList\n",
       "xxbos xxmaj check out the film 's website , more time was put into making that than in the writing of the script for this movie . xxmaj it could n't be more off in it 's boasting . xxmaj original story ? xxmaj original ? xxmaj they must have found the script tucked away between the old testament , or face legal xxunk for that bit of horn - tooting . xxmaj high - end special effects ? xxmaj come on , i could do better with an xxmaj atari xxunk and a jug of xxunk . xxmaj stylish cinematography ? xxmaj oh yes , the xxmaj america 's funniest home video look is still a classic . i 'm sure they had little money available for this title , so of course the sf are n't really that good , or a bit bad now and then , or just plain hilarious , but it 's the story that makes this film a waste of time and money . 4 stories rolled into one and all of them brainless bits of seen - xxunk and done - already 's .,xxbos xxmaj from imdb : \" xxmaj hercule xxmaj poirot finds himself trying to solve the mystery of the xxmaj cloade family . xxmaj rosaleen is the young widow of xxmaj gordon xxmaj cloade who was killed in a gas explosion in his xxmaj london home . xxmaj rosaleen has inherited her late husband 's substantial fortune and she and her brother xxmaj david xxmaj hunter are refusing to share it with other members of xxmaj gordon xxmaj cloade 's family . xxmaj there have been persistent rumors that xxmaj rosaleen 's first husband , an intrepid explorer , is still alive and as such would nullify her marriage to xxmaj gordon . xxmaj what xxmaj poirot learns however is of a far greater deception that will alter everyone 's perception of what they believe to their reality . \" \n",
       " \n",
       "  xxmaj taken at the xxmaj flood has to be one of my very least favorite of the entire xxmaj poirot series ( i disliked it so much that i did n't even bother to write my own plot synopsis ) . i was never a huge fan of the book , but this adaptation has some real weaknesses and problems that i just ca n't get past . xxmaj chief among them is that it never \" feels \" like an xxmaj agatha xxmaj christie story . xxmaj who decided to sauce up xxmaj christie 's work with all the sex and talk of abortion ? i suppose it was done in an attempt to attract the more modern viewer . xxmaj what about those of us who watch these movies because they are n't filled with the same garbage you can find in every other modern movie ? xxmaj beyond the bastardization of xxmaj xxunk 's novel , the denouement is terribly disappointing . xxmaj poirot brings up things about a murder that happened years ago that , not only would xxmaj poirot have had no way of knowing , the audience could n't begin to come up with the solution . xxmaj xxunk could n't have come up with half the things xxmaj poirot reveals . xxmaj and it 's not as much fun when you ca n't play along . i realize that xxmaj christie would often spring a surprise or two during one of xxmaj poirot 's final monologues , but here xxmaj poirot offers no proof . xxmaj based on the evidence , his accusations seems to be little more than wild speculation .,xxbos xxmaj the story is somewhat stilted , what with the main character 's sudden reversals of fortune , but xxmaj leslie xxmaj howard and xxmaj bette xxmaj davis 's portrayals of xxmaj philip xxmaj carey , the naïve obsessed lover and xxmaj mildred xxmaj rogers , the unworthy object of his affections , raise this film considerably above standard melodrama . \n",
       " \n",
       "  xxmaj sensitive , cultured xxmaj philip , who for most of the picture is in bondage to first his infatuation and then his pity for xxmaj mildred is not unlike a character xxmaj howard was to play a few years later -- xxmaj ashley xxmaj wilkes , the xxmaj southern gentleman too refined and decent to make it in the rough xxmaj reconstruction era . xxmaj philip in fact seems resigned to disappointment even before xxmaj mildred enters the xxunk does n't even seem particularly surprised when his art teacher tells him he 'll never make it as a painter . xxmaj it is perhaps this passivity , these lowered expectations that makes him put up with the selfish xxmaj cockney waitress for as long as he does . \n",
       " \n",
       "  xxmaj although xxmaj leslie xxmaj howard is memorable , today \" xxmaj of xxmaj human xxmaj bondage \" is mainly thought of as a xxmaj bette xxmaj davis picture , perhaps because of the well known story of how she had to fight xxmaj jack xxmaj warner to get the part of xxmaj mildred , and perhaps too because movie audiences tend to prefer characters with her sort of brash energy . xxmaj mildred may have a grating voice , but she also has the ethereal beauty of a stained glass angel , making it somewhat understandable why xxmaj philip let himself be strung along for as long as he did . xxmaj although man eating xxmaj mildred may at times seem one dimensional , she does evoke sympathy in the viewer from time to time as when she becomes ill and belatedly realizes that xxmaj philip is the only decent man who ever cared for her . xxmaj one may also think she is on to something when she accuses xxmaj philip of looking down on her for not being \" fine \" enough . ( xxmaj the scene in which xxmaj philip and xxmaj norah dismiss romance magazines as trash for kitchen maids seems to confirm this ) . \n",
       " \n",
       "  xxmaj most of the supporting characters are also effective , particularly xxmaj norah the sensible romance writer who loves xxmaj philip but knows she can never compete with xxmaj mildred and xxmaj sally who has xxmaj mildred 's beauty and xxmaj norah 's decency and emerges as the deserving woman xxmaj philip is rewarded with in the end . xxmaj the only character i found hollow was xxmaj sally 's eccentric , ale slurping aristocratic father who seems like a stock character from an earlier era . \n",
       " \n",
       "  a classic that deserves it reputation .,xxbos xxmaj either i 'm getting too old and out of touch with reality or most of the reviews and votes on this website are done by industry paid shills . xxmaj this is certainly the worst movie i 've seen in a while . xxmaj xxunk 's deadpan can be funny but only when he 's juxtaposed with either an outrageous situation ( xxmaj ground xxmaj hog xxmaj day ) or with outrageous people ( xxmaj ghostbusters ) . xxmaj in this case it just does n't work . \n",
       " \n",
       "  i know that actors have to take chances on scripts and that sometimes it pays off . xxmaj this time it did n't . i feel embarrassed for xxmaj dafoe , xxmaj blanchett and the rest . xxmaj oh well . xxmaj this thing is a turkey . xxmaj you 've been warned !,xxbos i never met a single person ( out of hundreds ) who hated this movie . xxmaj bet that anyone who votes it down is a petty saboteur , or a victim of one . xxmaj this film has everything . xxmaj ask yourself , \" xxmaj are you a fan of . . . ? \" xxmaj then go see \" xxmaj laputa \" . \n",
       " \n",
       "  xxmaj it 's not my favorite movie , but my favorite xxup is directed by the same person ( xxmaj hayao xxmaj miyazaki ) . xxmaj in any case , this one ranks among my top five . xxmaj and i 've seen a xxup lot of movies .\n",
       "y: LMLabelList\n",
       ",,,,\n",
       "Path: /home/paperspace/.fastai/data/imdb;\n",
       "\n",
       "Test: None, model=SequentialRNN(\n",
       "  (0): AWD_LSTM(\n",
       "    (encoder): Embedding(57171, 400, padding_idx=1)\n",
       "    (encoder_dp): EmbeddingDropout(\n",
       "      (emb): Embedding(57171, 400, padding_idx=1)\n",
       "    )\n",
       "    (rnns): ModuleList(\n",
       "      (0): WeightDropout(\n",
       "        (module): LSTM(400, 1150, batch_first=True)\n",
       "      )\n",
       "      (1): WeightDropout(\n",
       "        (module): LSTM(1150, 1150, batch_first=True)\n",
       "      )\n",
       "      (2): WeightDropout(\n",
       "        (module): LSTM(1150, 400, batch_first=True)\n",
       "      )\n",
       "    )\n",
       "    (input_dp): RNNDropout()\n",
       "    (hidden_dps): ModuleList(\n",
       "      (0): RNNDropout()\n",
       "      (1): RNNDropout()\n",
       "      (2): RNNDropout()\n",
       "    )\n",
       "  )\n",
       "  (1): LinearDecoder(\n",
       "    (decoder): Linear(in_features=400, out_features=57171, bias=True)\n",
       "    (output_dp): RNNDropout()\n",
       "  )\n",
       "), opt_func=functools.partial(<class 'torch.optim.adam.Adam'>, betas=(0.9, 0.99)), loss_func=FlattenedLoss of CrossEntropyLoss(), metrics=[<function accuracy at 0x7fcfe3261d90>], true_wd=True, bn_wd=True, wd=0.01, train_bn=True, path=PosixPath('/home/paperspace/.fastai/data/imdb'), model_dir='models', callback_fns=[functools.partial(<class 'fastai.basic_train.Recorder'>, add_time=True, silent=False)], callbacks=[...], layer_groups=[Sequential(\n",
       "  (0): WeightDropout(\n",
       "    (module): LSTM(400, 1150, batch_first=True)\n",
       "  )\n",
       "  (1): RNNDropout()\n",
       "), Sequential(\n",
       "  (0): WeightDropout(\n",
       "    (module): LSTM(1150, 1150, batch_first=True)\n",
       "  )\n",
       "  (1): RNNDropout()\n",
       "), Sequential(\n",
       "  (0): WeightDropout(\n",
       "    (module): LSTM(1150, 400, batch_first=True)\n",
       "  )\n",
       "  (1): RNNDropout()\n",
       "), Sequential(\n",
       "  (0): Embedding(57171, 400, padding_idx=1)\n",
       "  (1): EmbeddingDropout(\n",
       "    (emb): Embedding(57171, 400, padding_idx=1)\n",
       "  )\n",
       "  (2): LinearDecoder(\n",
       "    (decoder): Linear(in_features=400, out_features=57171, bias=True)\n",
       "    (output_dp): RNNDropout()\n",
       "  )\n",
       ")], add_time=True, silent=None)\n",
       "alpha: 2.0\n",
       "beta: 1.0], layer_groups=[Sequential(\n",
       "  (0): WeightDropout(\n",
       "    (module): LSTM(400, 1150, batch_first=True)\n",
       "  )\n",
       "  (1): RNNDropout()\n",
       "), Sequential(\n",
       "  (0): WeightDropout(\n",
       "    (module): LSTM(1150, 1150, batch_first=True)\n",
       "  )\n",
       "  (1): RNNDropout()\n",
       "), Sequential(\n",
       "  (0): WeightDropout(\n",
       "    (module): LSTM(1150, 400, batch_first=True)\n",
       "  )\n",
       "  (1): RNNDropout()\n",
       "), Sequential(\n",
       "  (0): Embedding(57171, 400, padding_idx=1)\n",
       "  (1): EmbeddingDropout(\n",
       "    (emb): Embedding(57171, 400, padding_idx=1)\n",
       "  )\n",
       "  (2): LinearDecoder(\n",
       "    (decoder): Linear(in_features=400, out_features=57171, bias=True)\n",
       "    (output_dp): RNNDropout()\n",
       "  )\n",
       ")], add_time=True, silent=None)"
      ]
     },
     "execution_count": 25,
     "metadata": {},
     "output_type": "execute_result"
    }
   ],
   "source": [
    "learn.load('fine_tuned')"
   ]
  },
  {
   "cell_type": "code",
   "execution_count": 26,
   "metadata": {},
   "outputs": [],
   "source": [
    "TEXT = \"I liked this movie because\"\n",
    "N_WORDS = 40\n",
    "N_SENTENCES = 2"
   ]
  },
  {
   "cell_type": "code",
   "execution_count": 40,
   "metadata": {},
   "outputs": [
    {
     "data": {
      "text/plain": [
       "'I liked this movie because i was a huge fan of \"                                                 the  old \" .     i also liked the series the first time i have seen \"                                                                                a            \" mad scientist .      i was looking forward to his performance'"
      ]
     },
     "execution_count": 40,
     "metadata": {},
     "output_type": "execute_result"
    }
   ],
   "source": [
    "def speak(words):\n",
    "    if len(words.split()) == N_WORDS:\n",
    "        return words \n",
    "    return speak(learn.predict(words, temperature=0.75))\n",
    "\n",
    "speak(TEXT)"
   ]
  },
  {
   "cell_type": "markdown",
   "metadata": {},
   "source": [
    "    Using the variables above, create a stream of text using `learn.predict` with a temperature of 0.75. "
   ]
  },
  {
   "cell_type": "markdown",
   "metadata": {},
   "source": [
    "Save the encoder (the part the updates the hidden state) to `fine_tuned_enc`."
   ]
  },
  {
   "cell_type": "code",
   "execution_count": 41,
   "metadata": {},
   "outputs": [],
   "source": [
    "learn.save_encoder('fine_tuned_enc')"
   ]
  },
  {
   "cell_type": "markdown",
   "metadata": {},
   "source": [
    "## Classifier"
   ]
  },
  {
   "cell_type": "markdown",
   "metadata": {},
   "source": [
    "Once again untar the data from `URLs.IMDB` and save the path to `path`."
   ]
  },
  {
   "cell_type": "code",
   "execution_count": 12,
   "metadata": {},
   "outputs": [],
   "source": [
    "cls_path = untar_data(URLs.IMDB)"
   ]
  },
  {
   "cell_type": "markdown",
   "metadata": {},
   "source": [
    "Create a data bunch with the following characteristics:\n",
    "- Should start as a `TextList` from the folder at `path` above, with vocab specified to be `data_lm.vocab`\n",
    "- Should split data by folder, where the test data comes from the `test` directory\n",
    "- Label by folder (`pos` or `neg`)\n",
    "- Batch size should be `bs`, which was created earlier\n",
    "\n",
    "This should be assigned to the variable `data_clas`, and then saved to `data_clas.pkl`."
   ]
  },
  {
   "cell_type": "code",
   "execution_count": 15,
   "metadata": {},
   "outputs": [
    {
     "data": {
      "text/plain": [
       "[PosixPath('/home/paperspace/.fastai/data/imdb/data_clas.pkl'),\n",
       " PosixPath('/home/paperspace/.fastai/data/imdb/data_save.pkl'),\n",
       " PosixPath('/home/paperspace/.fastai/data/imdb/tmp_lm'),\n",
       " PosixPath('/home/paperspace/.fastai/data/imdb/test'),\n",
       " PosixPath('/home/paperspace/.fastai/data/imdb/tmp_clas'),\n",
       " PosixPath('/home/paperspace/.fastai/data/imdb/README'),\n",
       " PosixPath('/home/paperspace/.fastai/data/imdb/imdb.vocab'),\n",
       " PosixPath('/home/paperspace/.fastai/data/imdb/unsup'),\n",
       " PosixPath('/home/paperspace/.fastai/data/imdb/data_clas'),\n",
       " PosixPath('/home/paperspace/.fastai/data/imdb/models'),\n",
       " PosixPath('/home/paperspace/.fastai/data/imdb/data_lm.pkl'),\n",
       " PosixPath('/home/paperspace/.fastai/data/imdb/data_lm'),\n",
       " PosixPath('/home/paperspace/.fastai/data/imdb/train')]"
      ]
     },
     "execution_count": 15,
     "metadata": {},
     "output_type": "execute_result"
    }
   ],
   "source": [
    "path.ls()"
   ]
  },
  {
   "cell_type": "code",
   "execution_count": 20,
   "metadata": {},
   "outputs": [],
   "source": [
    "data_clas = (TextList.from_folder(path, vocab=data_lm.vocab)\n",
    "             .split_by_folder(valid='test')\n",
    "             .label_from_folder()\n",
    "             .databunch(bs=bs//2))"
   ]
  },
  {
   "cell_type": "code",
   "execution_count": 58,
   "metadata": {},
   "outputs": [],
   "source": [
    "data_clas.save('data_clas')"
   ]
  },
  {
   "cell_type": "markdown",
   "metadata": {},
   "source": [
    "Load the data from `data_clas.pkl` with batch size `bs`."
   ]
  },
  {
   "cell_type": "code",
   "execution_count": 16,
   "metadata": {},
   "outputs": [],
   "source": [
    "data_clas = load_data(path, 'data_clas.pkl', bs=bs)"
   ]
  },
  {
   "cell_type": "markdown",
   "metadata": {},
   "source": [
    "Show a batch. "
   ]
  },
  {
   "cell_type": "code",
   "execution_count": 17,
   "metadata": {},
   "outputs": [
    {
     "data": {
      "text/html": [
       "<table border=\"1\" class=\"dataframe\">\n",
       "  <thead>\n",
       "    <tr style=\"text-align: right;\">\n",
       "      <th>text</th>\n",
       "      <th>target</th>\n",
       "    </tr>\n",
       "  </thead>\n",
       "  <tbody>\n",
       "    <tr>\n",
       "      <td>xxbos xxmaj match 1 : xxmaj tag xxmaj team xxmaj table xxmaj match xxmaj bubba xxmaj ray and xxmaj spike xxmaj dudley vs xxmaj eddie xxmaj guerrero and xxmaj chris xxmaj benoit xxmaj bubba xxmaj ray and xxmaj spike xxmaj dudley started things off with a xxmaj tag xxmaj team xxmaj table xxmaj match against xxmaj eddie xxmaj guerrero and xxmaj chris xxmaj benoit . xxmaj according to the rules</td>\n",
       "      <td>pos</td>\n",
       "    </tr>\n",
       "    <tr>\n",
       "      <td>xxbos * * * xxmaj warning - this review contains \" plot spoilers , \" though nothing could \" spoil \" this movie any more than it already is . xxmaj it really xxup is that bad . * * * \\n \\n  xxmaj before i begin , i 'd like to let everyone know that this definitely is one of those so - incredibly - bad - that</td>\n",
       "      <td>neg</td>\n",
       "    </tr>\n",
       "    <tr>\n",
       "      <td>xxbos xxmaj jim xxmaj carrey is back to much the same role that he played in xxmaj the xxmaj mask , a timid guy who is trying to get ahead in the world but who seems to be plagued with bad luck . xxmaj even when he tries to help a homeless guy from being harassed by a bunch of hoodlums ( and of course they have to be xxmaj</td>\n",
       "      <td>pos</td>\n",
       "    </tr>\n",
       "    <tr>\n",
       "      <td>xxbos xxmaj this film reminds me of 42nd xxmaj street starring xxmaj bebe xxmaj daniels and xxmaj ruby xxmaj keeler . xxmaj when i watch this film a lot of it reminded me of 42nd xxmaj street , especially the character xxmaj eloise who 's a temperamental star and she ends up falling and breaks her ankle , like xxmaj bebe xxmaj daniels did in 42nd xxmaj street and another</td>\n",
       "      <td>pos</td>\n",
       "    </tr>\n",
       "    <tr>\n",
       "      <td>xxbos xxmaj despite loving xxmaj rita xxmaj hayworth , finding the final few sequences of the film intriguing and being able to appreciate some of the subtler \" symbolic \" aspects of the cinematography , xxmaj the xxmaj lady from xxmaj shanghai did n't quite work for me . i had a problem with most of the performances , the script and the overall structure . xxmaj and in a</td>\n",
       "      <td>pos</td>\n",
       "    </tr>\n",
       "  </tbody>\n",
       "</table>"
      ],
      "text/plain": [
       "<IPython.core.display.HTML object>"
      ]
     },
     "metadata": {},
     "output_type": "display_data"
    }
   ],
   "source": [
    "data_clas.show_batch()"
   ]
  },
  {
   "cell_type": "markdown",
   "metadata": {},
   "source": [
    "Create a `text_classifier_learner` assigned to variable `learn` using `data_clas`, with arch `AWD_LSTM` and `drop_mult` of 0.5. Load the encoder that was fine-tuned earlier (from `fine_tuned_enc`)."
   ]
  },
  {
   "cell_type": "code",
   "execution_count": 21,
   "metadata": {},
   "outputs": [],
   "source": [
    "learn = text_classifier_learner(data_clas, AWD_LSTM, drop_mult=0.5)"
   ]
  },
  {
   "cell_type": "code",
   "execution_count": 22,
   "metadata": {},
   "outputs": [],
   "source": [
    "learn.load_encoder('fine_tuned_enc')"
   ]
  },
  {
   "cell_type": "markdown",
   "metadata": {},
   "source": [
    "Find the LR. Should land somewhere around 2e-2. You should land at an accuracy around 0.92696 and a loss of 0.1972."
   ]
  },
  {
   "cell_type": "code",
   "execution_count": 66,
   "metadata": {},
   "outputs": [
    {
     "data": {
      "text/html": [],
      "text/plain": [
       "<IPython.core.display.HTML object>"
      ]
     },
     "metadata": {},
     "output_type": "display_data"
    },
    {
     "name": "stdout",
     "output_type": "stream",
     "text": [
      "LR Finder is complete, type {learner_name}.recorder.plot() to see the graph.\n"
     ]
    }
   ],
   "source": [
    "learn.lr_find()"
   ]
  },
  {
   "cell_type": "code",
   "execution_count": 67,
   "metadata": {},
   "outputs": [
    {
     "data": {
      "image/png": "[encoded data removed]",
      "text/plain": [
       "<Figure size 432x288 with 1 Axes>"
      ]
     },
     "metadata": {
      "needs_background": "light"
     },
     "output_type": "display_data"
    }
   ],
   "source": [
    "learn.recorder.plot()"
   ]
  },
  {
   "cell_type": "markdown",
   "metadata": {},
   "source": [
    "Fit one cycle, again with `moms=(0.8,0.7)`."
   ]
  },
  {
   "cell_type": "code",
   "execution_count": 69,
   "metadata": {},
   "outputs": [
    {
     "data": {
      "text/html": [
       "Total time: 09:01 <p><table border=\"1\" class=\"dataframe\">\n",
       "  <thead>\n",
       "    <tr style=\"text-align: left;\">\n",
       "      <th>epoch</th>\n",
       "      <th>train_loss</th>\n",
       "      <th>valid_loss</th>\n",
       "      <th>accuracy</th>\n",
       "      <th>time</th>\n",
       "    </tr>\n",
       "  </thead>\n",
       "  <tbody>\n",
       "    <tr>\n",
       "      <td>0</td>\n",
       "      <td>0.432185</td>\n",
       "      <td>0.342155</td>\n",
       "      <td>0.856800</td>\n",
       "      <td>09:01</td>\n",
       "    </tr>\n",
       "  </tbody>\n",
       "</table>"
      ],
      "text/plain": [
       "<IPython.core.display.HTML object>"
      ]
     },
     "metadata": {},
     "output_type": "display_data"
    }
   ],
   "source": [
    "learn.fit_one_cycle(1, 2e-2, moms=(0.8,0.7))"
   ]
  },
  {
   "cell_type": "markdown",
   "metadata": {},
   "source": [
    "Save the model to `first`."
   ]
  },
  {
   "cell_type": "code",
   "execution_count": 70,
   "metadata": {},
   "outputs": [],
   "source": [
    "learn.save('first')"
   ]
  },
  {
   "cell_type": "markdown",
   "metadata": {},
   "source": [
    "Load the model from `first`."
   ]
  },
  {
   "cell_type": "code",
   "execution_count": 71,
   "metadata": {},
   "outputs": [
    {
     "data": {
      "text/plain": [
       "RNNLearner(data=TextClasDataBunch;\n",
       "\n",
       "Train: LabelList (25000 items)\n",
       "x: TextList\n",
       "xxbos xxmaj basically , xxmaj cruel xxmaj intentions 2 is xxmaj cruel xxmaj intentions 1 , again , only poorly done . xxmaj the story is exactly the same as the first one ( even some of the lines ) , with only a few exceptions . xxmaj the cast is more unknown , and definitely less talented . xxmaj instead of being seductive and drawing me into watching it , i ended up feeling dirty because it compares to watching a soft - core porn . i 'm not sure whether to blame some of the idiotic lines on the actors or the writers ... and i always feel bad saying that , because i know how hard it is to do both ... but it was basically a two - hour waste of my life . xxmaj it literally amazes me that some movies get made , and this is no exception ... i ca n't believe they 'd make a third one .,xxbos i had been subjected to this movie for a relationship class in my school . xxmaj as figured it was nothing captivating and nothing new . xxmaj though it tries to be original by focusing on the teen father instead of the mother showing the problems that the dad would go through . xxmaj it had an interesting side to it but it just does n't live up to its originality due to the fact nothing else in this movie was original . xxmaj we have the main character who has the older sister who like in every other movie like this has a thing against him , we have the stay at home mother who expects too much and when he gives more she feels offended and leaves him in the dust , then we have the father who is always gone . xxmaj then the girls side we have the parents who want everything and expect her to be perfect at all she does . xxmaj on to the story like i said it was interesting but the lack of good acting from the entire cast and the lack of any good writing or storytelling . xxmaj everything about this fell into cliché the little nerd kid in school starts studying with girl , they get together , have sex and then boom we have a little kid . xxmaj perhaps it could 've been better had the writing been well better and had the acting been improved i 've seriously gotten more emotion out of xxmaj leatherface and his chainsaw than i did out of any actor in this film and that 's pretty bad seeing as the xxmaj leatherface movies are crap and horridly acted . xxmaj so far the only interesting teen pregnancy movie i 've seen was xxmaj juno . xxmaj so far the comical side of this serious situation has proved more entertaining while still giving the same message . xxmaj like i said the idea was original most of these films focus on the teen mother but this one chose not to instead it focuses on the drama of the father but again the originality does not save this movie from mediocrity . i really hope someone decides to either re - make this movie with a better cast and a better writer or just make another similar film because this one was wasted potential .,xxbos i just saw this movie on xxmaj flix after timer - taping it . i grew up watching f xxmaj troop and had a major hard for xxmaj wrangler xxmaj jane so i was shocked , literally shocked , to find out after seeing this film that the degenerate homicidal nurse was xxmaj melody xxmaj patterson , who looks pretty good but also looks completely different and is unfortunately poorly photographed . i would never have guessed it was her in a million years . xxmaj what the hell is she doing in a picture like this ? i agree with the guys here that the movie lacks what it 's pushing . xxmaj no sex , no gore , no tease . xxmaj it 's also a remake of the xxmaj atomic xxmaj brain aka xxmaj monstrosity ( 1964 or thereabouts ) . xxmaj most of the action is tedious ; the main character spends enormous amounts of time running around the crazed doctor 's house and basement , and the neighborhood in general , or being roughed up by the cop , all of it boring and time - filling . xxmaj now if the xxmaj italians would have made this , half the film would have been the xxmaj slingblade / xxmaj uncle xxmaj ernest / xxmaj jack xxmaj elam henchman fondling the unconscious nude girls . xxmaj but you only get that for 20 seconds .,xxbos xxmaj absolutely awful movie . xxmaj utter waste of time . \n",
       " \n",
       "  background music is so loud that you can not understand speech . xxmaj well if you really listen closely , whatever they speak is actually unintelligible . \n",
       " \n",
       "  xxmaj camera work is bad , editing is not present , background score gives a headache , action is shoddy , dialogs are unintelligible , xxmaj acting is abysmal and well xxmaj kareena used to look like a wrestler , now she looks like a starved wrestler . xxmaj hell you can slim down but you can not gain grace . \n",
       " \n",
       "  xxmaj after spending three hours watching a movie i want to like it , but this movie would not even allow me that pleasure . \n",
       " \n",
       "  xxmaj please if you want to torture yourself , go ahead watch this .,xxbos xxmaj kubrick meets xxmaj king . xxmaj it sounded so promising back in the spring of 1980 , i remember . xxmaj then the movie came out , and the xxmaj kubrick cultists have been bickering with the xxmaj king cultists ever since . \n",
       " \n",
       "  xxmaj the xxmaj king cultists say xxmaj stanley xxmaj kubrick took a great horror tale and ruined it . xxmaj the xxmaj kubrick cultists do n't give a damn about xxmaj king 's story . xxmaj they talk about xxmaj xxunk , tracking shots , camera angles . xxmaj this is a film , they insist : xxmaj it should be considered on its own . xxmaj as it happens , both camps are correct . xxmaj unfortunately . \n",
       " \n",
       "  xxmaj if one views it purely as an adaptation of xxmaj king 's novel , \" xxmaj the xxmaj shining \" is indeed a failure , a wasted opportunity , a series of botched narrative gambits . \n",
       " \n",
       "  i used to blame that on xxmaj kubrick 's screenwriter . xxmaj the writer xxmaj diane xxmaj johnson ( author of xxmaj le xxmaj marriage , xxunk , xxmaj le xxmaj divorce , etc . ) has a reputation as an novelist of social manners . xxmaj maybe she was chosen for her subtle grasp of conjugal relations or family dynamics . xxmaj but the little blue - collar town of xxmaj sidewinder , xxmaj colorado does n't exist on any map in her xxmaj xxunk universe . \n",
       " \n",
       "  xxmaj kubrick the xxmaj anglophile probably found her congenial , however . xxmaj he , of course , is the real auteur . xxmaj and considered on its own merits , his screenplay for \" xxmaj the xxmaj shining \" -- with its mishmash of abnormal psychology , rationalism , supernaturalism , and implied reincarnation -- just does n't stand up to logical analysis . \n",
       " \n",
       "  i 'm willing to consider xxmaj kubrick 's \" xxmaj shining \" on its own terms . i 'm even willing to take it as something other than a conventional horror - genre movie . xxmaj but it does n't succeed as a naturalistic study of isolation , alienation , and madness either . xxmaj xxunk either way , the film pretty much falls apart . \n",
       " \n",
       "  xxmaj are the horrors of the xxmaj overlook xxmaj hotel real ? xxmaj or do they exist only in the mind -- first as prescient nightmares suffered by little xxmaj danny xxmaj torrance , then as the hallucinations of his father ? xxmaj one notes how whenever xxmaj jack xxmaj torrance is seen talking to a \" ghost \" he is in fact looking into a mirror . xxmaj one notes how the hotel 's frozen xxunk - hedge maze appears to symbolize xxmaj jack 's stunted , convoluted psyche . xxmaj very deep stuff . \n",
       " \n",
       "  xxmaj but if indeed the xxmaj overlook 's \" ghosts \" are purely manifestations of xxmaj jack xxmaj torrance 's growing insanity , then who exactly lets the trapped xxmaj jack out of the hotel kitchen 's dead - bolted xxunk in closet , so that he can go on his climactic ax - wielding rampage ? \n",
       " \n",
       "  xxmaj and can xxup anyone explain , with a straight face , that black - and - white photograph ( helpfully labelled \" 1921 \" ) of xxmaj nicholson as a xxunk party - goer that pops up out of left field and onto a hotel - ballroom wall during the film 's closing seconds ? xxmaj are we to seriously conclude that xxmaj jack xxmaj torrance 's xxmaj bad xxmaj craziness stems from a some sort of \" past life \" experience ? ( xxmaj and if you swallow that , since when are reincarnated people supposed to be exact physical replicas their past selves ? ) \n",
       " \n",
       "  xxmaj maybe xxmaj kubrick did n't care about his storyline . xxmaj maybe only wanted to evoke a mood of horror . xxmaj whatever the case , the film tries to hedge its narrative bets -- to have it both ways , rational and supernatural . xxmaj as a result , the story is a mess . xxmaj this movie has n't improved with age , and it certainly does n't improve with repeated viewings . \n",
       " \n",
       "  i do n't deny that a few moments of fear , claustrophobia , and general creepiness are scattered throughout this long , long film . xxmaj but those gushing xxmaj elevators o ' xxmaj blood , seen repeatedly in little xxmaj danny 's visions , are absurd and laughable . xxmaj and xxmaj jack xxmaj torrance 's infamous tag lines ( \" xxmaj wendy , i 'm home ! \" and \" h xxrep 6 e re 's xxup johnny ! \" ) merely puncture the movie 's dramatic tension and dissipate its narrative energy . ( i know : i sat in the theater and heard the audience laugh in comic relief : \" xxmaj whew ! xxmaj glad we do n't have to take this stuff seriously ! \" ) xxmaj finally , xxmaj kubrick is completely at sea -- or else utterly cynical -- during those scenes in which xxmaj wendy wanders around the empty hotel while her husband tries to puree their son . a foyer full of mummified guests , all sitting there dead in their party hats ? xxmaj yikes , now i really am afraid . \n",
       " \n",
       "  xxmaj given xxmaj jack xxmaj nicholson 's brilliance over the years , one can only assume that he gave just the sort of eyeball - rolling , eyebrow - wiggling , scenery - chomping performance that the director wanted . xxmaj the performance of xxmaj shelley xxmaj duvall , as a sort of female version of xxmaj don xxmaj knotts in \" xxmaj the xxmaj ghost and xxmaj mr. xxmaj chicken , \" is best passed over in silence . \n",
       " \n",
       "  xxmaj this movie simply does n't succeed -- not as an adaptation , not on its own terms . xxmaj it probably merits a 3 out of 10 , but i 'm giving it a 1 because it has been so xxup grotesquely over - rated in this forum .\n",
       "y: CategoryList\n",
       "neg,neg,neg,neg,neg\n",
       "Path: /home/paperspace/.fastai/data/imdb;\n",
       "\n",
       "Valid: LabelList (25000 items)\n",
       "x: TextList\n",
       "xxbos xxmaj robot xxmaj holocaust is about the lamest , most pathetic attempt at making a post - apocalyptic movie that i 've seen . xxmaj and i thought the xxmaj italians were the masters of wretched xxmaj mad xxmaj max wannabes . xxmaj some of those movies like xxmaj escape 2000 are positively brilliant in comparison with this piece of poo . xxmaj the plot is nonsensical  even with a narrator setting up every scene . xxmaj and boy does it drag . xxmaj scene after scene with nothing of any interest happening . xxmaj the special effects ( and i use the word \" special \" loosely ) consist of sock puppets . xxmaj yes , that 's right  sock puppets ! xxmaj the acting is abysmal . xxmaj xxunk xxmaj xxunk is in the running for worst performance i 've ever seen . xxmaj sure , she 's xxmaj french or xxmaj german or whatever  but man is she bad . i can not think of a single positive thing to say about the movie . xxmaj so i 'll stop there because ten sentences on this junk is about ten too many . \n",
       " \n",
       "  xxmaj however , and fortunately for me , i saw the xxup mst3 k version of xxmaj robot xxmaj holocaust . xxmaj some of the things that made the movie so bad helped make this xxup mst3 k episode a winner . xxmaj for a season one episode , the riffs come fast and furious and hit their mark just about every time . xxmaj on my xxup mst3 k rating scale , i give this episode a 4 / 5  seek it out .,xxbos i have a question for the writers and producers of \" xxmaj prozac xxmaj nation \" : xxmaj what is the root cause and what is the solution to the widespread problem of personal depression in xxmaj america ? xxmaj in the moving performance of xxmaj christina xxmaj ricci as xxmaj liz xxmaj xxunk , the film portrays a young woman with unlimited potential as a xxmaj harvard student and as a writer . xxmaj but this is not a story of success , only one of self - destruction as we watch xxmaj liz bring misery into the lives everyone who comes in contact with her . xxmaj the film examines divorce , family dysfunction , drugs , alcohol , and prescription medication as possible reasons for xxmaj liz 's unhappiness . xxmaj but none of those superficial explanations are satisfactory . \n",
       " \n",
       "  xxmaj at some point in the film , it would have been helpful to suggest that xxmaj liz needs to take responsibility for her life and her problems . xxmaj no light was shed on what the film alleged to be a runaway problem in \" xxmaj the xxmaj united xxmaj states of xxmaj depression . \" xxmaj in the story , xxmaj liz had a caring therapist ( xxmaj anne xxmaj heche ) , a caring roommate ( xxmaj michele xxmaj williams ) , a caring boyfriend ( xxmaj jason xxmaj biggs ) , and a troubled but caring parent ( xxmaj jessica xxmaj lange ) . xxmaj in a key scene in the film , xxmaj liz is lying in a hospital bed watching the break - up of the space shuttle xxmaj challenger . xxmaj instead of equating xxmaj challenger with xxmaj liz 's life , the film should have used the image as a starting point for her healing and recovery . \n",
       " \n",
       "  xxmaj this film reminded me of a generic made - for - cable \" victim \" film on the xxmaj lifetime network . xxmaj an excellent cast was wasted , especially in the earnest performance of xxmaj christina xxmaj ricci . xxmaj the real - life xxmaj elizabeth xxmaj xxunk obviously found within herself the resources to cope with her depression and become a successful author . xxmaj it is unfortunate that the film could not offer us even the slightest glimpse into her courageous spirit .,xxbos i 'm working my way through the xxmaj horror xxmaj classics 50 xxmaj movie xxmaj pack xxmaj collection and xxup the xxup mad xxup monster is one of the movies in the set . \n",
       " \n",
       "  i am sure that xxmaj george xxmaj zucco was a good actor ; but , this was only the second film in which i saw him , the first being xxup dead xxup men xxup walk , in which he played two parts . xxmaj however , even good acting could n't save xxup the xxup mad xxup monster . \n",
       " \n",
       "  xxmaj zucco plays a mad scientist , xxmaj dr. xxmaj cameron ( who was banned from academia because of his unethical and inhumane experiments ) . xxmaj he believes that he can control evolution by bringing out the characteristics of one animal into another . \n",
       " \n",
       "  xxmaj in this case , like so many others of its ilk , it is a transfusion of ( i assume ) wolf 's blood into humans . xxmaj his goal is to create an invincible army , which he can control through the antidote . xxmaj the subject of his experiments is his hired hand , a retarded gardener , whose dialogue slows down this snail - paced classic to almost a full - stop . \n",
       " \n",
       "  xxmaj beyond his experiments , xxmaj dr. xxmaj cameron also plots revenge on those who discredited him , using his transformed gardener . xxmaj however , he loses control of his subject , who begins to transform without the transfusion -- yikes ! \n",
       " \n",
       "  xxmaj the werewolf transformations are classic xxmaj hollywood stop - action / makeup effects . xxmaj no doubt these were groundbreaking techniques of the time ; but , in today 's digital age it 's hard to imagine audiences being scared by this .,xxbos xxmaj retro xxmaj puppet xxmaj master is complete and utter xxunk particular , the puppets look stupid , and crappy . xxmaj the acting was unforgivable and the story was rancid . xxmaj this movie goes back into the the past , where the dolls where first created , thats not xxmaj puppet xxmaj master . xxmaj retro xxmaj puppet xxmaj master is rated xxunk first xxmaj puppet xxmaj master to be rated xxunk movie contains no horror , or suspense . xxmaj the fact that this movie was a xxmaj puppet xxmaj master film boggles the mind , because this installment does nt have the buckets of blood , good acting , or any xxunk like the previous movies did . xxmaj dont see this movie , dont rent it , and do nt even watch it f its on xxup tv , because this film is stale , not violent , and completely xxunk out of xxunk a xxmaj puppet xxmaj master fan , i am disappointed ... seriously .,xxbos i did have some expectations from this film because 1 . xxmaj it was a xxmaj yash raj production 2 . xxmaj when the songs were first shown on xxup tv , they seemed catchy 3 . xxmaj the star ( ? ? ! ) cast was new . xxmaj well , i must tell u that i just could n't sit through this movie . xxmaj xxunk , ( with his red lips - what were the make up artists thinking ? ? ? ! ) tries hard to look cool but fails miserably . i wo n't even get started on his acting ( if u can call it that ) . ' xxmaj cleavage queen ' xxmaj xxunk with all her screaming and ranting n raving just makes you want to pull your hair out in frustration . i think xxmaj xxunk was slightly more tolerable than her ! xxmaj she seriously needs to take acting lessons from her sister . xxmaj the story is pathetic ... the same old tried and tested formula . xxmaj absolutely no originality . xxmaj there is nothing worth watching in this movie . xxmaj makes me wonder why it was made in the first place !\n",
       "y: CategoryList\n",
       "neg,neg,neg,neg,neg\n",
       "Path: /home/paperspace/.fastai/data/imdb;\n",
       "\n",
       "Test: None, model=SequentialRNN(\n",
       "  (0): MultiBatchEncoder(\n",
       "    (module): AWD_LSTM(\n",
       "      (encoder): Embedding(57171, 400, padding_idx=1)\n",
       "      (encoder_dp): EmbeddingDropout(\n",
       "        (emb): Embedding(57171, 400, padding_idx=1)\n",
       "      )\n",
       "      (rnns): ModuleList(\n",
       "        (0): WeightDropout(\n",
       "          (module): LSTM(400, 1150, batch_first=True)\n",
       "        )\n",
       "        (1): WeightDropout(\n",
       "          (module): LSTM(1150, 1150, batch_first=True)\n",
       "        )\n",
       "        (2): WeightDropout(\n",
       "          (module): LSTM(1150, 400, batch_first=True)\n",
       "        )\n",
       "      )\n",
       "      (input_dp): RNNDropout()\n",
       "      (hidden_dps): ModuleList(\n",
       "        (0): RNNDropout()\n",
       "        (1): RNNDropout()\n",
       "        (2): RNNDropout()\n",
       "      )\n",
       "    )\n",
       "  )\n",
       "  (1): PoolingLinearClassifier(\n",
       "    (layers): Sequential(\n",
       "      (0): BatchNorm1d(1200, eps=1e-05, momentum=0.1, affine=True, track_running_stats=True)\n",
       "      (1): Dropout(p=0.2)\n",
       "      (2): Linear(in_features=1200, out_features=50, bias=True)\n",
       "      (3): ReLU(inplace)\n",
       "      (4): BatchNorm1d(50, eps=1e-05, momentum=0.1, affine=True, track_running_stats=True)\n",
       "      (5): Dropout(p=0.1)\n",
       "      (6): Linear(in_features=50, out_features=2, bias=True)\n",
       "    )\n",
       "  )\n",
       "), opt_func=functools.partial(<class 'torch.optim.adam.Adam'>, betas=(0.9, 0.99)), loss_func=FlattenedLoss of CrossEntropyLoss(), metrics=[<function accuracy at 0x7fcfe3261d90>], true_wd=True, bn_wd=True, wd=0.01, train_bn=True, path=PosixPath('/home/paperspace/.fastai/data/imdb'), model_dir='models', callback_fns=[functools.partial(<class 'fastai.basic_train.Recorder'>, add_time=True, silent=False)], callbacks=[RNNTrainer\n",
       "learn: RNNLearner(data=TextClasDataBunch;\n",
       "\n",
       "Train: LabelList (25000 items)\n",
       "x: TextList\n",
       "xxbos xxmaj basically , xxmaj cruel xxmaj intentions 2 is xxmaj cruel xxmaj intentions 1 , again , only poorly done . xxmaj the story is exactly the same as the first one ( even some of the lines ) , with only a few exceptions . xxmaj the cast is more unknown , and definitely less talented . xxmaj instead of being seductive and drawing me into watching it , i ended up feeling dirty because it compares to watching a soft - core porn . i 'm not sure whether to blame some of the idiotic lines on the actors or the writers ... and i always feel bad saying that , because i know how hard it is to do both ... but it was basically a two - hour waste of my life . xxmaj it literally amazes me that some movies get made , and this is no exception ... i ca n't believe they 'd make a third one .,xxbos i had been subjected to this movie for a relationship class in my school . xxmaj as figured it was nothing captivating and nothing new . xxmaj though it tries to be original by focusing on the teen father instead of the mother showing the problems that the dad would go through . xxmaj it had an interesting side to it but it just does n't live up to its originality due to the fact nothing else in this movie was original . xxmaj we have the main character who has the older sister who like in every other movie like this has a thing against him , we have the stay at home mother who expects too much and when he gives more she feels offended and leaves him in the dust , then we have the father who is always gone . xxmaj then the girls side we have the parents who want everything and expect her to be perfect at all she does . xxmaj on to the story like i said it was interesting but the lack of good acting from the entire cast and the lack of any good writing or storytelling . xxmaj everything about this fell into cliché the little nerd kid in school starts studying with girl , they get together , have sex and then boom we have a little kid . xxmaj perhaps it could 've been better had the writing been well better and had the acting been improved i 've seriously gotten more emotion out of xxmaj leatherface and his chainsaw than i did out of any actor in this film and that 's pretty bad seeing as the xxmaj leatherface movies are crap and horridly acted . xxmaj so far the only interesting teen pregnancy movie i 've seen was xxmaj juno . xxmaj so far the comical side of this serious situation has proved more entertaining while still giving the same message . xxmaj like i said the idea was original most of these films focus on the teen mother but this one chose not to instead it focuses on the drama of the father but again the originality does not save this movie from mediocrity . i really hope someone decides to either re - make this movie with a better cast and a better writer or just make another similar film because this one was wasted potential .,xxbos i just saw this movie on xxmaj flix after timer - taping it . i grew up watching f xxmaj troop and had a major hard for xxmaj wrangler xxmaj jane so i was shocked , literally shocked , to find out after seeing this film that the degenerate homicidal nurse was xxmaj melody xxmaj patterson , who looks pretty good but also looks completely different and is unfortunately poorly photographed . i would never have guessed it was her in a million years . xxmaj what the hell is she doing in a picture like this ? i agree with the guys here that the movie lacks what it 's pushing . xxmaj no sex , no gore , no tease . xxmaj it 's also a remake of the xxmaj atomic xxmaj brain aka xxmaj monstrosity ( 1964 or thereabouts ) . xxmaj most of the action is tedious ; the main character spends enormous amounts of time running around the crazed doctor 's house and basement , and the neighborhood in general , or being roughed up by the cop , all of it boring and time - filling . xxmaj now if the xxmaj italians would have made this , half the film would have been the xxmaj slingblade / xxmaj uncle xxmaj ernest / xxmaj jack xxmaj elam henchman fondling the unconscious nude girls . xxmaj but you only get that for 20 seconds .,xxbos xxmaj absolutely awful movie . xxmaj utter waste of time . \n",
       " \n",
       "  background music is so loud that you can not understand speech . xxmaj well if you really listen closely , whatever they speak is actually unintelligible . \n",
       " \n",
       "  xxmaj camera work is bad , editing is not present , background score gives a headache , action is shoddy , dialogs are unintelligible , xxmaj acting is abysmal and well xxmaj kareena used to look like a wrestler , now she looks like a starved wrestler . xxmaj hell you can slim down but you can not gain grace . \n",
       " \n",
       "  xxmaj after spending three hours watching a movie i want to like it , but this movie would not even allow me that pleasure . \n",
       " \n",
       "  xxmaj please if you want to torture yourself , go ahead watch this .,xxbos xxmaj kubrick meets xxmaj king . xxmaj it sounded so promising back in the spring of 1980 , i remember . xxmaj then the movie came out , and the xxmaj kubrick cultists have been bickering with the xxmaj king cultists ever since . \n",
       " \n",
       "  xxmaj the xxmaj king cultists say xxmaj stanley xxmaj kubrick took a great horror tale and ruined it . xxmaj the xxmaj kubrick cultists do n't give a damn about xxmaj king 's story . xxmaj they talk about xxmaj xxunk , tracking shots , camera angles . xxmaj this is a film , they insist : xxmaj it should be considered on its own . xxmaj as it happens , both camps are correct . xxmaj unfortunately . \n",
       " \n",
       "  xxmaj if one views it purely as an adaptation of xxmaj king 's novel , \" xxmaj the xxmaj shining \" is indeed a failure , a wasted opportunity , a series of botched narrative gambits . \n",
       " \n",
       "  i used to blame that on xxmaj kubrick 's screenwriter . xxmaj the writer xxmaj diane xxmaj johnson ( author of xxmaj le xxmaj marriage , xxunk , xxmaj le xxmaj divorce , etc . ) has a reputation as an novelist of social manners . xxmaj maybe she was chosen for her subtle grasp of conjugal relations or family dynamics . xxmaj but the little blue - collar town of xxmaj sidewinder , xxmaj colorado does n't exist on any map in her xxmaj xxunk universe . \n",
       " \n",
       "  xxmaj kubrick the xxmaj anglophile probably found her congenial , however . xxmaj he , of course , is the real auteur . xxmaj and considered on its own merits , his screenplay for \" xxmaj the xxmaj shining \" -- with its mishmash of abnormal psychology , rationalism , supernaturalism , and implied reincarnation -- just does n't stand up to logical analysis . \n",
       " \n",
       "  i 'm willing to consider xxmaj kubrick 's \" xxmaj shining \" on its own terms . i 'm even willing to take it as something other than a conventional horror - genre movie . xxmaj but it does n't succeed as a naturalistic study of isolation , alienation , and madness either . xxmaj xxunk either way , the film pretty much falls apart . \n",
       " \n",
       "  xxmaj are the horrors of the xxmaj overlook xxmaj hotel real ? xxmaj or do they exist only in the mind -- first as prescient nightmares suffered by little xxmaj danny xxmaj torrance , then as the hallucinations of his father ? xxmaj one notes how whenever xxmaj jack xxmaj torrance is seen talking to a \" ghost \" he is in fact looking into a mirror . xxmaj one notes how the hotel 's frozen xxunk - hedge maze appears to symbolize xxmaj jack 's stunted , convoluted psyche . xxmaj very deep stuff . \n",
       " \n",
       "  xxmaj but if indeed the xxmaj overlook 's \" ghosts \" are purely manifestations of xxmaj jack xxmaj torrance 's growing insanity , then who exactly lets the trapped xxmaj jack out of the hotel kitchen 's dead - bolted xxunk in closet , so that he can go on his climactic ax - wielding rampage ? \n",
       " \n",
       "  xxmaj and can xxup anyone explain , with a straight face , that black - and - white photograph ( helpfully labelled \" 1921 \" ) of xxmaj nicholson as a xxunk party - goer that pops up out of left field and onto a hotel - ballroom wall during the film 's closing seconds ? xxmaj are we to seriously conclude that xxmaj jack xxmaj torrance 's xxmaj bad xxmaj craziness stems from a some sort of \" past life \" experience ? ( xxmaj and if you swallow that , since when are reincarnated people supposed to be exact physical replicas their past selves ? ) \n",
       " \n",
       "  xxmaj maybe xxmaj kubrick did n't care about his storyline . xxmaj maybe only wanted to evoke a mood of horror . xxmaj whatever the case , the film tries to hedge its narrative bets -- to have it both ways , rational and supernatural . xxmaj as a result , the story is a mess . xxmaj this movie has n't improved with age , and it certainly does n't improve with repeated viewings . \n",
       " \n",
       "  i do n't deny that a few moments of fear , claustrophobia , and general creepiness are scattered throughout this long , long film . xxmaj but those gushing xxmaj elevators o ' xxmaj blood , seen repeatedly in little xxmaj danny 's visions , are absurd and laughable . xxmaj and xxmaj jack xxmaj torrance 's infamous tag lines ( \" xxmaj wendy , i 'm home ! \" and \" h xxrep 6 e re 's xxup johnny ! \" ) merely puncture the movie 's dramatic tension and dissipate its narrative energy . ( i know : i sat in the theater and heard the audience laugh in comic relief : \" xxmaj whew ! xxmaj glad we do n't have to take this stuff seriously ! \" ) xxmaj finally , xxmaj kubrick is completely at sea -- or else utterly cynical -- during those scenes in which xxmaj wendy wanders around the empty hotel while her husband tries to puree their son . a foyer full of mummified guests , all sitting there dead in their party hats ? xxmaj yikes , now i really am afraid . \n",
       " \n",
       "  xxmaj given xxmaj jack xxmaj nicholson 's brilliance over the years , one can only assume that he gave just the sort of eyeball - rolling , eyebrow - wiggling , scenery - chomping performance that the director wanted . xxmaj the performance of xxmaj shelley xxmaj duvall , as a sort of female version of xxmaj don xxmaj knotts in \" xxmaj the xxmaj ghost and xxmaj mr. xxmaj chicken , \" is best passed over in silence . \n",
       " \n",
       "  xxmaj this movie simply does n't succeed -- not as an adaptation , not on its own terms . xxmaj it probably merits a 3 out of 10 , but i 'm giving it a 1 because it has been so xxup grotesquely over - rated in this forum .\n",
       "y: CategoryList\n",
       "neg,neg,neg,neg,neg\n",
       "Path: /home/paperspace/.fastai/data/imdb;\n",
       "\n",
       "Valid: LabelList (25000 items)\n",
       "x: TextList\n",
       "xxbos xxmaj robot xxmaj holocaust is about the lamest , most pathetic attempt at making a post - apocalyptic movie that i 've seen . xxmaj and i thought the xxmaj italians were the masters of wretched xxmaj mad xxmaj max wannabes . xxmaj some of those movies like xxmaj escape 2000 are positively brilliant in comparison with this piece of poo . xxmaj the plot is nonsensical  even with a narrator setting up every scene . xxmaj and boy does it drag . xxmaj scene after scene with nothing of any interest happening . xxmaj the special effects ( and i use the word \" special \" loosely ) consist of sock puppets . xxmaj yes , that 's right  sock puppets ! xxmaj the acting is abysmal . xxmaj xxunk xxmaj xxunk is in the running for worst performance i 've ever seen . xxmaj sure , she 's xxmaj french or xxmaj german or whatever  but man is she bad . i can not think of a single positive thing to say about the movie . xxmaj so i 'll stop there because ten sentences on this junk is about ten too many . \n",
       " \n",
       "  xxmaj however , and fortunately for me , i saw the xxup mst3 k version of xxmaj robot xxmaj holocaust . xxmaj some of the things that made the movie so bad helped make this xxup mst3 k episode a winner . xxmaj for a season one episode , the riffs come fast and furious and hit their mark just about every time . xxmaj on my xxup mst3 k rating scale , i give this episode a 4 / 5  seek it out .,xxbos i have a question for the writers and producers of \" xxmaj prozac xxmaj nation \" : xxmaj what is the root cause and what is the solution to the widespread problem of personal depression in xxmaj america ? xxmaj in the moving performance of xxmaj christina xxmaj ricci as xxmaj liz xxmaj xxunk , the film portrays a young woman with unlimited potential as a xxmaj harvard student and as a writer . xxmaj but this is not a story of success , only one of self - destruction as we watch xxmaj liz bring misery into the lives everyone who comes in contact with her . xxmaj the film examines divorce , family dysfunction , drugs , alcohol , and prescription medication as possible reasons for xxmaj liz 's unhappiness . xxmaj but none of those superficial explanations are satisfactory . \n",
       " \n",
       "  xxmaj at some point in the film , it would have been helpful to suggest that xxmaj liz needs to take responsibility for her life and her problems . xxmaj no light was shed on what the film alleged to be a runaway problem in \" xxmaj the xxmaj united xxmaj states of xxmaj depression . \" xxmaj in the story , xxmaj liz had a caring therapist ( xxmaj anne xxmaj heche ) , a caring roommate ( xxmaj michele xxmaj williams ) , a caring boyfriend ( xxmaj jason xxmaj biggs ) , and a troubled but caring parent ( xxmaj jessica xxmaj lange ) . xxmaj in a key scene in the film , xxmaj liz is lying in a hospital bed watching the break - up of the space shuttle xxmaj challenger . xxmaj instead of equating xxmaj challenger with xxmaj liz 's life , the film should have used the image as a starting point for her healing and recovery . \n",
       " \n",
       "  xxmaj this film reminded me of a generic made - for - cable \" victim \" film on the xxmaj lifetime network . xxmaj an excellent cast was wasted , especially in the earnest performance of xxmaj christina xxmaj ricci . xxmaj the real - life xxmaj elizabeth xxmaj xxunk obviously found within herself the resources to cope with her depression and become a successful author . xxmaj it is unfortunate that the film could not offer us even the slightest glimpse into her courageous spirit .,xxbos i 'm working my way through the xxmaj horror xxmaj classics 50 xxmaj movie xxmaj pack xxmaj collection and xxup the xxup mad xxup monster is one of the movies in the set . \n",
       " \n",
       "  i am sure that xxmaj george xxmaj zucco was a good actor ; but , this was only the second film in which i saw him , the first being xxup dead xxup men xxup walk , in which he played two parts . xxmaj however , even good acting could n't save xxup the xxup mad xxup monster . \n",
       " \n",
       "  xxmaj zucco plays a mad scientist , xxmaj dr. xxmaj cameron ( who was banned from academia because of his unethical and inhumane experiments ) . xxmaj he believes that he can control evolution by bringing out the characteristics of one animal into another . \n",
       " \n",
       "  xxmaj in this case , like so many others of its ilk , it is a transfusion of ( i assume ) wolf 's blood into humans . xxmaj his goal is to create an invincible army , which he can control through the antidote . xxmaj the subject of his experiments is his hired hand , a retarded gardener , whose dialogue slows down this snail - paced classic to almost a full - stop . \n",
       " \n",
       "  xxmaj beyond his experiments , xxmaj dr. xxmaj cameron also plots revenge on those who discredited him , using his transformed gardener . xxmaj however , he loses control of his subject , who begins to transform without the transfusion -- yikes ! \n",
       " \n",
       "  xxmaj the werewolf transformations are classic xxmaj hollywood stop - action / makeup effects . xxmaj no doubt these were groundbreaking techniques of the time ; but , in today 's digital age it 's hard to imagine audiences being scared by this .,xxbos xxmaj retro xxmaj puppet xxmaj master is complete and utter xxunk particular , the puppets look stupid , and crappy . xxmaj the acting was unforgivable and the story was rancid . xxmaj this movie goes back into the the past , where the dolls where first created , thats not xxmaj puppet xxmaj master . xxmaj retro xxmaj puppet xxmaj master is rated xxunk first xxmaj puppet xxmaj master to be rated xxunk movie contains no horror , or suspense . xxmaj the fact that this movie was a xxmaj puppet xxmaj master film boggles the mind , because this installment does nt have the buckets of blood , good acting , or any xxunk like the previous movies did . xxmaj dont see this movie , dont rent it , and do nt even watch it f its on xxup tv , because this film is stale , not violent , and completely xxunk out of xxunk a xxmaj puppet xxmaj master fan , i am disappointed ... seriously .,xxbos i did have some expectations from this film because 1 . xxmaj it was a xxmaj yash raj production 2 . xxmaj when the songs were first shown on xxup tv , they seemed catchy 3 . xxmaj the star ( ? ? ! ) cast was new . xxmaj well , i must tell u that i just could n't sit through this movie . xxmaj xxunk , ( with his red lips - what were the make up artists thinking ? ? ? ! ) tries hard to look cool but fails miserably . i wo n't even get started on his acting ( if u can call it that ) . ' xxmaj cleavage queen ' xxmaj xxunk with all her screaming and ranting n raving just makes you want to pull your hair out in frustration . i think xxmaj xxunk was slightly more tolerable than her ! xxmaj she seriously needs to take acting lessons from her sister . xxmaj the story is pathetic ... the same old tried and tested formula . xxmaj absolutely no originality . xxmaj there is nothing worth watching in this movie . xxmaj makes me wonder why it was made in the first place !\n",
       "y: CategoryList\n",
       "neg,neg,neg,neg,neg\n",
       "Path: /home/paperspace/.fastai/data/imdb;\n",
       "\n",
       "Test: None, model=SequentialRNN(\n",
       "  (0): MultiBatchEncoder(\n",
       "    (module): AWD_LSTM(\n",
       "      (encoder): Embedding(57171, 400, padding_idx=1)\n",
       "      (encoder_dp): EmbeddingDropout(\n",
       "        (emb): Embedding(57171, 400, padding_idx=1)\n",
       "      )\n",
       "      (rnns): ModuleList(\n",
       "        (0): WeightDropout(\n",
       "          (module): LSTM(400, 1150, batch_first=True)\n",
       "        )\n",
       "        (1): WeightDropout(\n",
       "          (module): LSTM(1150, 1150, batch_first=True)\n",
       "        )\n",
       "        (2): WeightDropout(\n",
       "          (module): LSTM(1150, 400, batch_first=True)\n",
       "        )\n",
       "      )\n",
       "      (input_dp): RNNDropout()\n",
       "      (hidden_dps): ModuleList(\n",
       "        (0): RNNDropout()\n",
       "        (1): RNNDropout()\n",
       "        (2): RNNDropout()\n",
       "      )\n",
       "    )\n",
       "  )\n",
       "  (1): PoolingLinearClassifier(\n",
       "    (layers): Sequential(\n",
       "      (0): BatchNorm1d(1200, eps=1e-05, momentum=0.1, affine=True, track_running_stats=True)\n",
       "      (1): Dropout(p=0.2)\n",
       "      (2): Linear(in_features=1200, out_features=50, bias=True)\n",
       "      (3): ReLU(inplace)\n",
       "      (4): BatchNorm1d(50, eps=1e-05, momentum=0.1, affine=True, track_running_stats=True)\n",
       "      (5): Dropout(p=0.1)\n",
       "      (6): Linear(in_features=50, out_features=2, bias=True)\n",
       "    )\n",
       "  )\n",
       "), opt_func=functools.partial(<class 'torch.optim.adam.Adam'>, betas=(0.9, 0.99)), loss_func=FlattenedLoss of CrossEntropyLoss(), metrics=[<function accuracy at 0x7fcfe3261d90>], true_wd=True, bn_wd=True, wd=0.01, train_bn=True, path=PosixPath('/home/paperspace/.fastai/data/imdb'), model_dir='models', callback_fns=[functools.partial(<class 'fastai.basic_train.Recorder'>, add_time=True, silent=False)], callbacks=[...], layer_groups=[Sequential(\n",
       "  (0): Embedding(57171, 400, padding_idx=1)\n",
       "  (1): EmbeddingDropout(\n",
       "    (emb): Embedding(57171, 400, padding_idx=1)\n",
       "  )\n",
       "), Sequential(\n",
       "  (0): WeightDropout(\n",
       "    (module): LSTM(400, 1150, batch_first=True)\n",
       "  )\n",
       "  (1): RNNDropout()\n",
       "), Sequential(\n",
       "  (0): WeightDropout(\n",
       "    (module): LSTM(1150, 1150, batch_first=True)\n",
       "  )\n",
       "  (1): RNNDropout()\n",
       "), Sequential(\n",
       "  (0): WeightDropout(\n",
       "    (module): LSTM(1150, 400, batch_first=True)\n",
       "  )\n",
       "  (1): RNNDropout()\n",
       "), Sequential(\n",
       "  (0): PoolingLinearClassifier(\n",
       "    (layers): Sequential(\n",
       "      (0): BatchNorm1d(1200, eps=1e-05, momentum=0.1, affine=True, track_running_stats=True)\n",
       "      (1): Dropout(p=0.2)\n",
       "      (2): Linear(in_features=1200, out_features=50, bias=True)\n",
       "      (3): ReLU(inplace)\n",
       "      (4): BatchNorm1d(50, eps=1e-05, momentum=0.1, affine=True, track_running_stats=True)\n",
       "      (5): Dropout(p=0.1)\n",
       "      (6): Linear(in_features=50, out_features=2, bias=True)\n",
       "    )\n",
       "  )\n",
       ")], add_time=True, silent=None)\n",
       "alpha: 2.0\n",
       "beta: 1.0], layer_groups=[Sequential(\n",
       "  (0): Embedding(57171, 400, padding_idx=1)\n",
       "  (1): EmbeddingDropout(\n",
       "    (emb): Embedding(57171, 400, padding_idx=1)\n",
       "  )\n",
       "), Sequential(\n",
       "  (0): WeightDropout(\n",
       "    (module): LSTM(400, 1150, batch_first=True)\n",
       "  )\n",
       "  (1): RNNDropout()\n",
       "), Sequential(\n",
       "  (0): WeightDropout(\n",
       "    (module): LSTM(1150, 1150, batch_first=True)\n",
       "  )\n",
       "  (1): RNNDropout()\n",
       "), Sequential(\n",
       "  (0): WeightDropout(\n",
       "    (module): LSTM(1150, 400, batch_first=True)\n",
       "  )\n",
       "  (1): RNNDropout()\n",
       "), Sequential(\n",
       "  (0): PoolingLinearClassifier(\n",
       "    (layers): Sequential(\n",
       "      (0): BatchNorm1d(1200, eps=1e-05, momentum=0.1, affine=True, track_running_stats=True)\n",
       "      (1): Dropout(p=0.2)\n",
       "      (2): Linear(in_features=1200, out_features=50, bias=True)\n",
       "      (3): ReLU(inplace)\n",
       "      (4): BatchNorm1d(50, eps=1e-05, momentum=0.1, affine=True, track_running_stats=True)\n",
       "      (5): Dropout(p=0.1)\n",
       "      (6): Linear(in_features=50, out_features=2, bias=True)\n",
       "    )\n",
       "  )\n",
       ")], add_time=True, silent=None)"
      ]
     },
     "execution_count": 71,
     "metadata": {},
     "output_type": "execute_result"
    }
   ],
   "source": [
    "learn.load('first')"
   ]
  },
  {
   "cell_type": "markdown",
   "metadata": {},
   "source": [
    "Freeze the model up to layer -2, and fit another cycle, this time with lrs `slice(1e-2/(2.6**4),1e-2)`. You should land at an accuracy around 0.9378 and a loss of 0.1692."
   ]
  },
  {
   "cell_type": "code",
   "execution_count": 72,
   "metadata": {},
   "outputs": [],
   "source": [
    "learn.freeze_to(-2)"
   ]
  },
  {
   "cell_type": "code",
   "execution_count": 73,
   "metadata": {},
   "outputs": [
    {
     "data": {
      "text/html": [
       "Total time: 11:43 <p><table border=\"1\" class=\"dataframe\">\n",
       "  <thead>\n",
       "    <tr style=\"text-align: left;\">\n",
       "      <th>epoch</th>\n",
       "      <th>train_loss</th>\n",
       "      <th>valid_loss</th>\n",
       "      <th>accuracy</th>\n",
       "      <th>time</th>\n",
       "    </tr>\n",
       "  </thead>\n",
       "  <tbody>\n",
       "    <tr>\n",
       "      <td>0</td>\n",
       "      <td>0.360961</td>\n",
       "      <td>0.259589</td>\n",
       "      <td>0.893920</td>\n",
       "      <td>11:43</td>\n",
       "    </tr>\n",
       "  </tbody>\n",
       "</table>"
      ],
      "text/plain": [
       "<IPython.core.display.HTML object>"
      ]
     },
     "metadata": {},
     "output_type": "display_data"
    }
   ],
   "source": [
    "learn.fit_one_cycle(1, slice(1e-2/(2.6**4),1e-2), moms=(0.7,0.8))"
   ]
  },
  {
   "cell_type": "markdown",
   "metadata": {},
   "source": [
    "Save the model to `second`."
   ]
  },
  {
   "cell_type": "code",
   "execution_count": 74,
   "metadata": {},
   "outputs": [],
   "source": [
    "learn.save('second')"
   ]
  },
  {
   "cell_type": "markdown",
   "metadata": {},
   "source": [
    "Load the model from `second`."
   ]
  },
  {
   "cell_type": "code",
   "execution_count": 17,
   "metadata": {},
   "outputs": [
    {
     "data": {
      "text/plain": [
       "RNNLearner(data=TextClasDataBunch;\n",
       "\n",
       "Train: LabelList (25000 items)\n",
       "x: TextList\n",
       "xxbos xxmaj basically , xxmaj cruel xxmaj intentions 2 is xxmaj cruel xxmaj intentions 1 , again , only poorly done . xxmaj the story is exactly the same as the first one ( even some of the lines ) , with only a few exceptions . xxmaj the cast is more unknown , and definitely less talented . xxmaj instead of being seductive and drawing me into watching it , i ended up feeling dirty because it compares to watching a soft - core porn . i 'm not sure whether to blame some of the idiotic lines on the actors or the writers ... and i always feel bad saying that , because i know how hard it is to do both ... but it was basically a two - hour waste of my life . xxmaj it literally amazes me that some movies get made , and this is no exception ... i ca n't believe they 'd make a third one .,xxbos i had been subjected to this movie for a relationship class in my school . xxmaj as figured it was nothing captivating and nothing new . xxmaj though it tries to be original by focusing on the teen father instead of the mother showing the problems that the dad would go through . xxmaj it had an interesting side to it but it just does n't live up to its originality due to the fact nothing else in this movie was original . xxmaj we have the main character who has the older sister who like in every other movie like this has a thing against him , we have the stay at home mother who expects too much and when he gives more she feels offended and leaves him in the dust , then we have the father who is always gone . xxmaj then the girls side we have the parents who want everything and expect her to be perfect at all she does . xxmaj on to the story like i said it was interesting but the lack of good acting from the entire cast and the lack of any good writing or storytelling . xxmaj everything about this fell into cliché the little nerd kid in school starts studying with girl , they get together , have sex and then boom we have a little kid . xxmaj perhaps it could 've been better had the writing been well better and had the acting been improved i 've seriously gotten more emotion out of xxmaj leatherface and his chainsaw than i did out of any actor in this film and that 's pretty bad seeing as the xxmaj leatherface movies are crap and horridly acted . xxmaj so far the only interesting teen pregnancy movie i 've seen was xxmaj juno . xxmaj so far the comical side of this serious situation has proved more entertaining while still giving the same message . xxmaj like i said the idea was original most of these films focus on the teen mother but this one chose not to instead it focuses on the drama of the father but again the originality does not save this movie from mediocrity . i really hope someone decides to either re - make this movie with a better cast and a better writer or just make another similar film because this one was wasted potential .,xxbos i just saw this movie on xxmaj flix after timer - taping it . i grew up watching f xxmaj troop and had a major hard for xxmaj wrangler xxmaj jane so i was shocked , literally shocked , to find out after seeing this film that the degenerate homicidal nurse was xxmaj melody xxmaj patterson , who looks pretty good but also looks completely different and is unfortunately poorly photographed . i would never have guessed it was her in a million years . xxmaj what the hell is she doing in a picture like this ? i agree with the guys here that the movie lacks what it 's pushing . xxmaj no sex , no gore , no tease . xxmaj it 's also a remake of the xxmaj atomic xxmaj brain aka xxmaj monstrosity ( 1964 or thereabouts ) . xxmaj most of the action is tedious ; the main character spends enormous amounts of time running around the crazed doctor 's house and basement , and the neighborhood in general , or being roughed up by the cop , all of it boring and time - filling . xxmaj now if the xxmaj italians would have made this , half the film would have been the xxmaj slingblade / xxmaj uncle xxmaj ernest / xxmaj jack xxmaj elam henchman fondling the unconscious nude girls . xxmaj but you only get that for 20 seconds .,xxbos xxmaj absolutely awful movie . xxmaj utter waste of time . \n",
       " \n",
       "  background music is so loud that you can not understand speech . xxmaj well if you really listen closely , whatever they speak is actually unintelligible . \n",
       " \n",
       "  xxmaj camera work is bad , editing is not present , background score gives a headache , action is shoddy , dialogs are unintelligible , xxmaj acting is abysmal and well xxmaj kareena used to look like a wrestler , now she looks like a starved wrestler . xxmaj hell you can slim down but you can not gain grace . \n",
       " \n",
       "  xxmaj after spending three hours watching a movie i want to like it , but this movie would not even allow me that pleasure . \n",
       " \n",
       "  xxmaj please if you want to torture yourself , go ahead watch this .,xxbos xxmaj kubrick meets xxmaj king . xxmaj it sounded so promising back in the spring of 1980 , i remember . xxmaj then the movie came out , and the xxmaj kubrick cultists have been bickering with the xxmaj king cultists ever since . \n",
       " \n",
       "  xxmaj the xxmaj king cultists say xxmaj stanley xxmaj kubrick took a great horror tale and ruined it . xxmaj the xxmaj kubrick cultists do n't give a damn about xxmaj king 's story . xxmaj they talk about xxmaj xxunk , tracking shots , camera angles . xxmaj this is a film , they insist : xxmaj it should be considered on its own . xxmaj as it happens , both camps are correct . xxmaj unfortunately . \n",
       " \n",
       "  xxmaj if one views it purely as an adaptation of xxmaj king 's novel , \" xxmaj the xxmaj shining \" is indeed a failure , a wasted opportunity , a series of botched narrative gambits . \n",
       " \n",
       "  i used to blame that on xxmaj kubrick 's screenwriter . xxmaj the writer xxmaj diane xxmaj johnson ( author of xxmaj le xxmaj marriage , xxunk , xxmaj le xxmaj divorce , etc . ) has a reputation as an novelist of social manners . xxmaj maybe she was chosen for her subtle grasp of conjugal relations or family dynamics . xxmaj but the little blue - collar town of xxmaj sidewinder , xxmaj colorado does n't exist on any map in her xxmaj xxunk universe . \n",
       " \n",
       "  xxmaj kubrick the xxmaj anglophile probably found her congenial , however . xxmaj he , of course , is the real auteur . xxmaj and considered on its own merits , his screenplay for \" xxmaj the xxmaj shining \" -- with its mishmash of abnormal psychology , rationalism , supernaturalism , and implied reincarnation -- just does n't stand up to logical analysis . \n",
       " \n",
       "  i 'm willing to consider xxmaj kubrick 's \" xxmaj shining \" on its own terms . i 'm even willing to take it as something other than a conventional horror - genre movie . xxmaj but it does n't succeed as a naturalistic study of isolation , alienation , and madness either . xxmaj xxunk either way , the film pretty much falls apart . \n",
       " \n",
       "  xxmaj are the horrors of the xxmaj overlook xxmaj hotel real ? xxmaj or do they exist only in the mind -- first as prescient nightmares suffered by little xxmaj danny xxmaj torrance , then as the hallucinations of his father ? xxmaj one notes how whenever xxmaj jack xxmaj torrance is seen talking to a \" ghost \" he is in fact looking into a mirror . xxmaj one notes how the hotel 's frozen xxunk - hedge maze appears to symbolize xxmaj jack 's stunted , convoluted psyche . xxmaj very deep stuff . \n",
       " \n",
       "  xxmaj but if indeed the xxmaj overlook 's \" ghosts \" are purely manifestations of xxmaj jack xxmaj torrance 's growing insanity , then who exactly lets the trapped xxmaj jack out of the hotel kitchen 's dead - bolted xxunk in closet , so that he can go on his climactic ax - wielding rampage ? \n",
       " \n",
       "  xxmaj and can xxup anyone explain , with a straight face , that black - and - white photograph ( helpfully labelled \" 1921 \" ) of xxmaj nicholson as a xxunk party - goer that pops up out of left field and onto a hotel - ballroom wall during the film 's closing seconds ? xxmaj are we to seriously conclude that xxmaj jack xxmaj torrance 's xxmaj bad xxmaj craziness stems from a some sort of \" past life \" experience ? ( xxmaj and if you swallow that , since when are reincarnated people supposed to be exact physical replicas their past selves ? ) \n",
       " \n",
       "  xxmaj maybe xxmaj kubrick did n't care about his storyline . xxmaj maybe only wanted to evoke a mood of horror . xxmaj whatever the case , the film tries to hedge its narrative bets -- to have it both ways , rational and supernatural . xxmaj as a result , the story is a mess . xxmaj this movie has n't improved with age , and it certainly does n't improve with repeated viewings . \n",
       " \n",
       "  i do n't deny that a few moments of fear , claustrophobia , and general creepiness are scattered throughout this long , long film . xxmaj but those gushing xxmaj elevators o ' xxmaj blood , seen repeatedly in little xxmaj danny 's visions , are absurd and laughable . xxmaj and xxmaj jack xxmaj torrance 's infamous tag lines ( \" xxmaj wendy , i 'm home ! \" and \" h xxrep 6 e re 's xxup johnny ! \" ) merely puncture the movie 's dramatic tension and dissipate its narrative energy . ( i know : i sat in the theater and heard the audience laugh in comic relief : \" xxmaj whew ! xxmaj glad we do n't have to take this stuff seriously ! \" ) xxmaj finally , xxmaj kubrick is completely at sea -- or else utterly cynical -- during those scenes in which xxmaj wendy wanders around the empty hotel while her husband tries to puree their son . a foyer full of mummified guests , all sitting there dead in their party hats ? xxmaj yikes , now i really am afraid . \n",
       " \n",
       "  xxmaj given xxmaj jack xxmaj nicholson 's brilliance over the years , one can only assume that he gave just the sort of eyeball - rolling , eyebrow - wiggling , scenery - chomping performance that the director wanted . xxmaj the performance of xxmaj shelley xxmaj duvall , as a sort of female version of xxmaj don xxmaj knotts in \" xxmaj the xxmaj ghost and xxmaj mr. xxmaj chicken , \" is best passed over in silence . \n",
       " \n",
       "  xxmaj this movie simply does n't succeed -- not as an adaptation , not on its own terms . xxmaj it probably merits a 3 out of 10 , but i 'm giving it a 1 because it has been so xxup grotesquely over - rated in this forum .\n",
       "y: CategoryList\n",
       "neg,neg,neg,neg,neg\n",
       "Path: /home/paperspace/.fastai/data/imdb;\n",
       "\n",
       "Valid: LabelList (25000 items)\n",
       "x: TextList\n",
       "xxbos xxmaj robot xxmaj holocaust is about the lamest , most pathetic attempt at making a post - apocalyptic movie that i 've seen . xxmaj and i thought the xxmaj italians were the masters of wretched xxmaj mad xxmaj max wannabes . xxmaj some of those movies like xxmaj escape 2000 are positively brilliant in comparison with this piece of poo . xxmaj the plot is nonsensical  even with a narrator setting up every scene . xxmaj and boy does it drag . xxmaj scene after scene with nothing of any interest happening . xxmaj the special effects ( and i use the word \" special \" loosely ) consist of sock puppets . xxmaj yes , that 's right  sock puppets ! xxmaj the acting is abysmal . xxmaj xxunk xxmaj xxunk is in the running for worst performance i 've ever seen . xxmaj sure , she 's xxmaj french or xxmaj german or whatever  but man is she bad . i can not think of a single positive thing to say about the movie . xxmaj so i 'll stop there because ten sentences on this junk is about ten too many . \n",
       " \n",
       "  xxmaj however , and fortunately for me , i saw the xxup mst3 k version of xxmaj robot xxmaj holocaust . xxmaj some of the things that made the movie so bad helped make this xxup mst3 k episode a winner . xxmaj for a season one episode , the riffs come fast and furious and hit their mark just about every time . xxmaj on my xxup mst3 k rating scale , i give this episode a 4 / 5  seek it out .,xxbos i have a question for the writers and producers of \" xxmaj prozac xxmaj nation \" : xxmaj what is the root cause and what is the solution to the widespread problem of personal depression in xxmaj america ? xxmaj in the moving performance of xxmaj christina xxmaj ricci as xxmaj liz xxmaj xxunk , the film portrays a young woman with unlimited potential as a xxmaj harvard student and as a writer . xxmaj but this is not a story of success , only one of self - destruction as we watch xxmaj liz bring misery into the lives everyone who comes in contact with her . xxmaj the film examines divorce , family dysfunction , drugs , alcohol , and prescription medication as possible reasons for xxmaj liz 's unhappiness . xxmaj but none of those superficial explanations are satisfactory . \n",
       " \n",
       "  xxmaj at some point in the film , it would have been helpful to suggest that xxmaj liz needs to take responsibility for her life and her problems . xxmaj no light was shed on what the film alleged to be a runaway problem in \" xxmaj the xxmaj united xxmaj states of xxmaj depression . \" xxmaj in the story , xxmaj liz had a caring therapist ( xxmaj anne xxmaj heche ) , a caring roommate ( xxmaj michele xxmaj williams ) , a caring boyfriend ( xxmaj jason xxmaj biggs ) , and a troubled but caring parent ( xxmaj jessica xxmaj lange ) . xxmaj in a key scene in the film , xxmaj liz is lying in a hospital bed watching the break - up of the space shuttle xxmaj challenger . xxmaj instead of equating xxmaj challenger with xxmaj liz 's life , the film should have used the image as a starting point for her healing and recovery . \n",
       " \n",
       "  xxmaj this film reminded me of a generic made - for - cable \" victim \" film on the xxmaj lifetime network . xxmaj an excellent cast was wasted , especially in the earnest performance of xxmaj christina xxmaj ricci . xxmaj the real - life xxmaj elizabeth xxmaj xxunk obviously found within herself the resources to cope with her depression and become a successful author . xxmaj it is unfortunate that the film could not offer us even the slightest glimpse into her courageous spirit .,xxbos i 'm working my way through the xxmaj horror xxmaj classics 50 xxmaj movie xxmaj pack xxmaj collection and xxup the xxup mad xxup monster is one of the movies in the set . \n",
       " \n",
       "  i am sure that xxmaj george xxmaj zucco was a good actor ; but , this was only the second film in which i saw him , the first being xxup dead xxup men xxup walk , in which he played two parts . xxmaj however , even good acting could n't save xxup the xxup mad xxup monster . \n",
       " \n",
       "  xxmaj zucco plays a mad scientist , xxmaj dr. xxmaj cameron ( who was banned from academia because of his unethical and inhumane experiments ) . xxmaj he believes that he can control evolution by bringing out the characteristics of one animal into another . \n",
       " \n",
       "  xxmaj in this case , like so many others of its ilk , it is a transfusion of ( i assume ) wolf 's blood into humans . xxmaj his goal is to create an invincible army , which he can control through the antidote . xxmaj the subject of his experiments is his hired hand , a retarded gardener , whose dialogue slows down this snail - paced classic to almost a full - stop . \n",
       " \n",
       "  xxmaj beyond his experiments , xxmaj dr. xxmaj cameron also plots revenge on those who discredited him , using his transformed gardener . xxmaj however , he loses control of his subject , who begins to transform without the transfusion -- yikes ! \n",
       " \n",
       "  xxmaj the werewolf transformations are classic xxmaj hollywood stop - action / makeup effects . xxmaj no doubt these were groundbreaking techniques of the time ; but , in today 's digital age it 's hard to imagine audiences being scared by this .,xxbos xxmaj retro xxmaj puppet xxmaj master is complete and utter xxunk particular , the puppets look stupid , and crappy . xxmaj the acting was unforgivable and the story was rancid . xxmaj this movie goes back into the the past , where the dolls where first created , thats not xxmaj puppet xxmaj master . xxmaj retro xxmaj puppet xxmaj master is rated xxunk first xxmaj puppet xxmaj master to be rated xxunk movie contains no horror , or suspense . xxmaj the fact that this movie was a xxmaj puppet xxmaj master film boggles the mind , because this installment does nt have the buckets of blood , good acting , or any xxunk like the previous movies did . xxmaj dont see this movie , dont rent it , and do nt even watch it f its on xxup tv , because this film is stale , not violent , and completely xxunk out of xxunk a xxmaj puppet xxmaj master fan , i am disappointed ... seriously .,xxbos i did have some expectations from this film because 1 . xxmaj it was a xxmaj yash raj production 2 . xxmaj when the songs were first shown on xxup tv , they seemed catchy 3 . xxmaj the star ( ? ? ! ) cast was new . xxmaj well , i must tell u that i just could n't sit through this movie . xxmaj xxunk , ( with his red lips - what were the make up artists thinking ? ? ? ! ) tries hard to look cool but fails miserably . i wo n't even get started on his acting ( if u can call it that ) . ' xxmaj cleavage queen ' xxmaj xxunk with all her screaming and ranting n raving just makes you want to pull your hair out in frustration . i think xxmaj xxunk was slightly more tolerable than her ! xxmaj she seriously needs to take acting lessons from her sister . xxmaj the story is pathetic ... the same old tried and tested formula . xxmaj absolutely no originality . xxmaj there is nothing worth watching in this movie . xxmaj makes me wonder why it was made in the first place !\n",
       "y: CategoryList\n",
       "neg,neg,neg,neg,neg\n",
       "Path: /home/paperspace/.fastai/data/imdb;\n",
       "\n",
       "Test: None, model=SequentialRNN(\n",
       "  (0): MultiBatchEncoder(\n",
       "    (module): AWD_LSTM(\n",
       "      (encoder): Embedding(57171, 400, padding_idx=1)\n",
       "      (encoder_dp): EmbeddingDropout(\n",
       "        (emb): Embedding(57171, 400, padding_idx=1)\n",
       "      )\n",
       "      (rnns): ModuleList(\n",
       "        (0): WeightDropout(\n",
       "          (module): LSTM(400, 1150, batch_first=True)\n",
       "        )\n",
       "        (1): WeightDropout(\n",
       "          (module): LSTM(1150, 1150, batch_first=True)\n",
       "        )\n",
       "        (2): WeightDropout(\n",
       "          (module): LSTM(1150, 400, batch_first=True)\n",
       "        )\n",
       "      )\n",
       "      (input_dp): RNNDropout()\n",
       "      (hidden_dps): ModuleList(\n",
       "        (0): RNNDropout()\n",
       "        (1): RNNDropout()\n",
       "        (2): RNNDropout()\n",
       "      )\n",
       "    )\n",
       "  )\n",
       "  (1): PoolingLinearClassifier(\n",
       "    (layers): Sequential(\n",
       "      (0): BatchNorm1d(1200, eps=1e-05, momentum=0.1, affine=True, track_running_stats=True)\n",
       "      (1): Dropout(p=0.2)\n",
       "      (2): Linear(in_features=1200, out_features=50, bias=True)\n",
       "      (3): ReLU(inplace)\n",
       "      (4): BatchNorm1d(50, eps=1e-05, momentum=0.1, affine=True, track_running_stats=True)\n",
       "      (5): Dropout(p=0.1)\n",
       "      (6): Linear(in_features=50, out_features=2, bias=True)\n",
       "    )\n",
       "  )\n",
       "), opt_func=functools.partial(<class 'torch.optim.adam.Adam'>, betas=(0.9, 0.99)), loss_func=FlattenedLoss of CrossEntropyLoss(), metrics=[<function accuracy at 0x7fbed126eb70>], true_wd=True, bn_wd=True, wd=0.01, train_bn=True, path=PosixPath('/home/paperspace/.fastai/data/imdb'), model_dir='models', callback_fns=[functools.partial(<class 'fastai.basic_train.Recorder'>, add_time=True, silent=False)], callbacks=[RNNTrainer\n",
       "learn: RNNLearner(data=TextClasDataBunch;\n",
       "\n",
       "Train: LabelList (25000 items)\n",
       "x: TextList\n",
       "xxbos xxmaj basically , xxmaj cruel xxmaj intentions 2 is xxmaj cruel xxmaj intentions 1 , again , only poorly done . xxmaj the story is exactly the same as the first one ( even some of the lines ) , with only a few exceptions . xxmaj the cast is more unknown , and definitely less talented . xxmaj instead of being seductive and drawing me into watching it , i ended up feeling dirty because it compares to watching a soft - core porn . i 'm not sure whether to blame some of the idiotic lines on the actors or the writers ... and i always feel bad saying that , because i know how hard it is to do both ... but it was basically a two - hour waste of my life . xxmaj it literally amazes me that some movies get made , and this is no exception ... i ca n't believe they 'd make a third one .,xxbos i had been subjected to this movie for a relationship class in my school . xxmaj as figured it was nothing captivating and nothing new . xxmaj though it tries to be original by focusing on the teen father instead of the mother showing the problems that the dad would go through . xxmaj it had an interesting side to it but it just does n't live up to its originality due to the fact nothing else in this movie was original . xxmaj we have the main character who has the older sister who like in every other movie like this has a thing against him , we have the stay at home mother who expects too much and when he gives more she feels offended and leaves him in the dust , then we have the father who is always gone . xxmaj then the girls side we have the parents who want everything and expect her to be perfect at all she does . xxmaj on to the story like i said it was interesting but the lack of good acting from the entire cast and the lack of any good writing or storytelling . xxmaj everything about this fell into cliché the little nerd kid in school starts studying with girl , they get together , have sex and then boom we have a little kid . xxmaj perhaps it could 've been better had the writing been well better and had the acting been improved i 've seriously gotten more emotion out of xxmaj leatherface and his chainsaw than i did out of any actor in this film and that 's pretty bad seeing as the xxmaj leatherface movies are crap and horridly acted . xxmaj so far the only interesting teen pregnancy movie i 've seen was xxmaj juno . xxmaj so far the comical side of this serious situation has proved more entertaining while still giving the same message . xxmaj like i said the idea was original most of these films focus on the teen mother but this one chose not to instead it focuses on the drama of the father but again the originality does not save this movie from mediocrity . i really hope someone decides to either re - make this movie with a better cast and a better writer or just make another similar film because this one was wasted potential .,xxbos i just saw this movie on xxmaj flix after timer - taping it . i grew up watching f xxmaj troop and had a major hard for xxmaj wrangler xxmaj jane so i was shocked , literally shocked , to find out after seeing this film that the degenerate homicidal nurse was xxmaj melody xxmaj patterson , who looks pretty good but also looks completely different and is unfortunately poorly photographed . i would never have guessed it was her in a million years . xxmaj what the hell is she doing in a picture like this ? i agree with the guys here that the movie lacks what it 's pushing . xxmaj no sex , no gore , no tease . xxmaj it 's also a remake of the xxmaj atomic xxmaj brain aka xxmaj monstrosity ( 1964 or thereabouts ) . xxmaj most of the action is tedious ; the main character spends enormous amounts of time running around the crazed doctor 's house and basement , and the neighborhood in general , or being roughed up by the cop , all of it boring and time - filling . xxmaj now if the xxmaj italians would have made this , half the film would have been the xxmaj slingblade / xxmaj uncle xxmaj ernest / xxmaj jack xxmaj elam henchman fondling the unconscious nude girls . xxmaj but you only get that for 20 seconds .,xxbos xxmaj absolutely awful movie . xxmaj utter waste of time . \n",
       " \n",
       "  background music is so loud that you can not understand speech . xxmaj well if you really listen closely , whatever they speak is actually unintelligible . \n",
       " \n",
       "  xxmaj camera work is bad , editing is not present , background score gives a headache , action is shoddy , dialogs are unintelligible , xxmaj acting is abysmal and well xxmaj kareena used to look like a wrestler , now she looks like a starved wrestler . xxmaj hell you can slim down but you can not gain grace . \n",
       " \n",
       "  xxmaj after spending three hours watching a movie i want to like it , but this movie would not even allow me that pleasure . \n",
       " \n",
       "  xxmaj please if you want to torture yourself , go ahead watch this .,xxbos xxmaj kubrick meets xxmaj king . xxmaj it sounded so promising back in the spring of 1980 , i remember . xxmaj then the movie came out , and the xxmaj kubrick cultists have been bickering with the xxmaj king cultists ever since . \n",
       " \n",
       "  xxmaj the xxmaj king cultists say xxmaj stanley xxmaj kubrick took a great horror tale and ruined it . xxmaj the xxmaj kubrick cultists do n't give a damn about xxmaj king 's story . xxmaj they talk about xxmaj xxunk , tracking shots , camera angles . xxmaj this is a film , they insist : xxmaj it should be considered on its own . xxmaj as it happens , both camps are correct . xxmaj unfortunately . \n",
       " \n",
       "  xxmaj if one views it purely as an adaptation of xxmaj king 's novel , \" xxmaj the xxmaj shining \" is indeed a failure , a wasted opportunity , a series of botched narrative gambits . \n",
       " \n",
       "  i used to blame that on xxmaj kubrick 's screenwriter . xxmaj the writer xxmaj diane xxmaj johnson ( author of xxmaj le xxmaj marriage , xxunk , xxmaj le xxmaj divorce , etc . ) has a reputation as an novelist of social manners . xxmaj maybe she was chosen for her subtle grasp of conjugal relations or family dynamics . xxmaj but the little blue - collar town of xxmaj sidewinder , xxmaj colorado does n't exist on any map in her xxmaj xxunk universe . \n",
       " \n",
       "  xxmaj kubrick the xxmaj anglophile probably found her congenial , however . xxmaj he , of course , is the real auteur . xxmaj and considered on its own merits , his screenplay for \" xxmaj the xxmaj shining \" -- with its mishmash of abnormal psychology , rationalism , supernaturalism , and implied reincarnation -- just does n't stand up to logical analysis . \n",
       " \n",
       "  i 'm willing to consider xxmaj kubrick 's \" xxmaj shining \" on its own terms . i 'm even willing to take it as something other than a conventional horror - genre movie . xxmaj but it does n't succeed as a naturalistic study of isolation , alienation , and madness either . xxmaj xxunk either way , the film pretty much falls apart . \n",
       " \n",
       "  xxmaj are the horrors of the xxmaj overlook xxmaj hotel real ? xxmaj or do they exist only in the mind -- first as prescient nightmares suffered by little xxmaj danny xxmaj torrance , then as the hallucinations of his father ? xxmaj one notes how whenever xxmaj jack xxmaj torrance is seen talking to a \" ghost \" he is in fact looking into a mirror . xxmaj one notes how the hotel 's frozen xxunk - hedge maze appears to symbolize xxmaj jack 's stunted , convoluted psyche . xxmaj very deep stuff . \n",
       " \n",
       "  xxmaj but if indeed the xxmaj overlook 's \" ghosts \" are purely manifestations of xxmaj jack xxmaj torrance 's growing insanity , then who exactly lets the trapped xxmaj jack out of the hotel kitchen 's dead - bolted xxunk in closet , so that he can go on his climactic ax - wielding rampage ? \n",
       " \n",
       "  xxmaj and can xxup anyone explain , with a straight face , that black - and - white photograph ( helpfully labelled \" 1921 \" ) of xxmaj nicholson as a xxunk party - goer that pops up out of left field and onto a hotel - ballroom wall during the film 's closing seconds ? xxmaj are we to seriously conclude that xxmaj jack xxmaj torrance 's xxmaj bad xxmaj craziness stems from a some sort of \" past life \" experience ? ( xxmaj and if you swallow that , since when are reincarnated people supposed to be exact physical replicas their past selves ? ) \n",
       " \n",
       "  xxmaj maybe xxmaj kubrick did n't care about his storyline . xxmaj maybe only wanted to evoke a mood of horror . xxmaj whatever the case , the film tries to hedge its narrative bets -- to have it both ways , rational and supernatural . xxmaj as a result , the story is a mess . xxmaj this movie has n't improved with age , and it certainly does n't improve with repeated viewings . \n",
       " \n",
       "  i do n't deny that a few moments of fear , claustrophobia , and general creepiness are scattered throughout this long , long film . xxmaj but those gushing xxmaj elevators o ' xxmaj blood , seen repeatedly in little xxmaj danny 's visions , are absurd and laughable . xxmaj and xxmaj jack xxmaj torrance 's infamous tag lines ( \" xxmaj wendy , i 'm home ! \" and \" h xxrep 6 e re 's xxup johnny ! \" ) merely puncture the movie 's dramatic tension and dissipate its narrative energy . ( i know : i sat in the theater and heard the audience laugh in comic relief : \" xxmaj whew ! xxmaj glad we do n't have to take this stuff seriously ! \" ) xxmaj finally , xxmaj kubrick is completely at sea -- or else utterly cynical -- during those scenes in which xxmaj wendy wanders around the empty hotel while her husband tries to puree their son . a foyer full of mummified guests , all sitting there dead in their party hats ? xxmaj yikes , now i really am afraid . \n",
       " \n",
       "  xxmaj given xxmaj jack xxmaj nicholson 's brilliance over the years , one can only assume that he gave just the sort of eyeball - rolling , eyebrow - wiggling , scenery - chomping performance that the director wanted . xxmaj the performance of xxmaj shelley xxmaj duvall , as a sort of female version of xxmaj don xxmaj knotts in \" xxmaj the xxmaj ghost and xxmaj mr. xxmaj chicken , \" is best passed over in silence . \n",
       " \n",
       "  xxmaj this movie simply does n't succeed -- not as an adaptation , not on its own terms . xxmaj it probably merits a 3 out of 10 , but i 'm giving it a 1 because it has been so xxup grotesquely over - rated in this forum .\n",
       "y: CategoryList\n",
       "neg,neg,neg,neg,neg\n",
       "Path: /home/paperspace/.fastai/data/imdb;\n",
       "\n",
       "Valid: LabelList (25000 items)\n",
       "x: TextList\n",
       "xxbos xxmaj robot xxmaj holocaust is about the lamest , most pathetic attempt at making a post - apocalyptic movie that i 've seen . xxmaj and i thought the xxmaj italians were the masters of wretched xxmaj mad xxmaj max wannabes . xxmaj some of those movies like xxmaj escape 2000 are positively brilliant in comparison with this piece of poo . xxmaj the plot is nonsensical  even with a narrator setting up every scene . xxmaj and boy does it drag . xxmaj scene after scene with nothing of any interest happening . xxmaj the special effects ( and i use the word \" special \" loosely ) consist of sock puppets . xxmaj yes , that 's right  sock puppets ! xxmaj the acting is abysmal . xxmaj xxunk xxmaj xxunk is in the running for worst performance i 've ever seen . xxmaj sure , she 's xxmaj french or xxmaj german or whatever  but man is she bad . i can not think of a single positive thing to say about the movie . xxmaj so i 'll stop there because ten sentences on this junk is about ten too many . \n",
       " \n",
       "  xxmaj however , and fortunately for me , i saw the xxup mst3 k version of xxmaj robot xxmaj holocaust . xxmaj some of the things that made the movie so bad helped make this xxup mst3 k episode a winner . xxmaj for a season one episode , the riffs come fast and furious and hit their mark just about every time . xxmaj on my xxup mst3 k rating scale , i give this episode a 4 / 5  seek it out .,xxbos i have a question for the writers and producers of \" xxmaj prozac xxmaj nation \" : xxmaj what is the root cause and what is the solution to the widespread problem of personal depression in xxmaj america ? xxmaj in the moving performance of xxmaj christina xxmaj ricci as xxmaj liz xxmaj xxunk , the film portrays a young woman with unlimited potential as a xxmaj harvard student and as a writer . xxmaj but this is not a story of success , only one of self - destruction as we watch xxmaj liz bring misery into the lives everyone who comes in contact with her . xxmaj the film examines divorce , family dysfunction , drugs , alcohol , and prescription medication as possible reasons for xxmaj liz 's unhappiness . xxmaj but none of those superficial explanations are satisfactory . \n",
       " \n",
       "  xxmaj at some point in the film , it would have been helpful to suggest that xxmaj liz needs to take responsibility for her life and her problems . xxmaj no light was shed on what the film alleged to be a runaway problem in \" xxmaj the xxmaj united xxmaj states of xxmaj depression . \" xxmaj in the story , xxmaj liz had a caring therapist ( xxmaj anne xxmaj heche ) , a caring roommate ( xxmaj michele xxmaj williams ) , a caring boyfriend ( xxmaj jason xxmaj biggs ) , and a troubled but caring parent ( xxmaj jessica xxmaj lange ) . xxmaj in a key scene in the film , xxmaj liz is lying in a hospital bed watching the break - up of the space shuttle xxmaj challenger . xxmaj instead of equating xxmaj challenger with xxmaj liz 's life , the film should have used the image as a starting point for her healing and recovery . \n",
       " \n",
       "  xxmaj this film reminded me of a generic made - for - cable \" victim \" film on the xxmaj lifetime network . xxmaj an excellent cast was wasted , especially in the earnest performance of xxmaj christina xxmaj ricci . xxmaj the real - life xxmaj elizabeth xxmaj xxunk obviously found within herself the resources to cope with her depression and become a successful author . xxmaj it is unfortunate that the film could not offer us even the slightest glimpse into her courageous spirit .,xxbos i 'm working my way through the xxmaj horror xxmaj classics 50 xxmaj movie xxmaj pack xxmaj collection and xxup the xxup mad xxup monster is one of the movies in the set . \n",
       " \n",
       "  i am sure that xxmaj george xxmaj zucco was a good actor ; but , this was only the second film in which i saw him , the first being xxup dead xxup men xxup walk , in which he played two parts . xxmaj however , even good acting could n't save xxup the xxup mad xxup monster . \n",
       " \n",
       "  xxmaj zucco plays a mad scientist , xxmaj dr. xxmaj cameron ( who was banned from academia because of his unethical and inhumane experiments ) . xxmaj he believes that he can control evolution by bringing out the characteristics of one animal into another . \n",
       " \n",
       "  xxmaj in this case , like so many others of its ilk , it is a transfusion of ( i assume ) wolf 's blood into humans . xxmaj his goal is to create an invincible army , which he can control through the antidote . xxmaj the subject of his experiments is his hired hand , a retarded gardener , whose dialogue slows down this snail - paced classic to almost a full - stop . \n",
       " \n",
       "  xxmaj beyond his experiments , xxmaj dr. xxmaj cameron also plots revenge on those who discredited him , using his transformed gardener . xxmaj however , he loses control of his subject , who begins to transform without the transfusion -- yikes ! \n",
       " \n",
       "  xxmaj the werewolf transformations are classic xxmaj hollywood stop - action / makeup effects . xxmaj no doubt these were groundbreaking techniques of the time ; but , in today 's digital age it 's hard to imagine audiences being scared by this .,xxbos xxmaj retro xxmaj puppet xxmaj master is complete and utter xxunk particular , the puppets look stupid , and crappy . xxmaj the acting was unforgivable and the story was rancid . xxmaj this movie goes back into the the past , where the dolls where first created , thats not xxmaj puppet xxmaj master . xxmaj retro xxmaj puppet xxmaj master is rated xxunk first xxmaj puppet xxmaj master to be rated xxunk movie contains no horror , or suspense . xxmaj the fact that this movie was a xxmaj puppet xxmaj master film boggles the mind , because this installment does nt have the buckets of blood , good acting , or any xxunk like the previous movies did . xxmaj dont see this movie , dont rent it , and do nt even watch it f its on xxup tv , because this film is stale , not violent , and completely xxunk out of xxunk a xxmaj puppet xxmaj master fan , i am disappointed ... seriously .,xxbos i did have some expectations from this film because 1 . xxmaj it was a xxmaj yash raj production 2 . xxmaj when the songs were first shown on xxup tv , they seemed catchy 3 . xxmaj the star ( ? ? ! ) cast was new . xxmaj well , i must tell u that i just could n't sit through this movie . xxmaj xxunk , ( with his red lips - what were the make up artists thinking ? ? ? ! ) tries hard to look cool but fails miserably . i wo n't even get started on his acting ( if u can call it that ) . ' xxmaj cleavage queen ' xxmaj xxunk with all her screaming and ranting n raving just makes you want to pull your hair out in frustration . i think xxmaj xxunk was slightly more tolerable than her ! xxmaj she seriously needs to take acting lessons from her sister . xxmaj the story is pathetic ... the same old tried and tested formula . xxmaj absolutely no originality . xxmaj there is nothing worth watching in this movie . xxmaj makes me wonder why it was made in the first place !\n",
       "y: CategoryList\n",
       "neg,neg,neg,neg,neg\n",
       "Path: /home/paperspace/.fastai/data/imdb;\n",
       "\n",
       "Test: None, model=SequentialRNN(\n",
       "  (0): MultiBatchEncoder(\n",
       "    (module): AWD_LSTM(\n",
       "      (encoder): Embedding(57171, 400, padding_idx=1)\n",
       "      (encoder_dp): EmbeddingDropout(\n",
       "        (emb): Embedding(57171, 400, padding_idx=1)\n",
       "      )\n",
       "      (rnns): ModuleList(\n",
       "        (0): WeightDropout(\n",
       "          (module): LSTM(400, 1150, batch_first=True)\n",
       "        )\n",
       "        (1): WeightDropout(\n",
       "          (module): LSTM(1150, 1150, batch_first=True)\n",
       "        )\n",
       "        (2): WeightDropout(\n",
       "          (module): LSTM(1150, 400, batch_first=True)\n",
       "        )\n",
       "      )\n",
       "      (input_dp): RNNDropout()\n",
       "      (hidden_dps): ModuleList(\n",
       "        (0): RNNDropout()\n",
       "        (1): RNNDropout()\n",
       "        (2): RNNDropout()\n",
       "      )\n",
       "    )\n",
       "  )\n",
       "  (1): PoolingLinearClassifier(\n",
       "    (layers): Sequential(\n",
       "      (0): BatchNorm1d(1200, eps=1e-05, momentum=0.1, affine=True, track_running_stats=True)\n",
       "      (1): Dropout(p=0.2)\n",
       "      (2): Linear(in_features=1200, out_features=50, bias=True)\n",
       "      (3): ReLU(inplace)\n",
       "      (4): BatchNorm1d(50, eps=1e-05, momentum=0.1, affine=True, track_running_stats=True)\n",
       "      (5): Dropout(p=0.1)\n",
       "      (6): Linear(in_features=50, out_features=2, bias=True)\n",
       "    )\n",
       "  )\n",
       "), opt_func=functools.partial(<class 'torch.optim.adam.Adam'>, betas=(0.9, 0.99)), loss_func=FlattenedLoss of CrossEntropyLoss(), metrics=[<function accuracy at 0x7fbed126eb70>], true_wd=True, bn_wd=True, wd=0.01, train_bn=True, path=PosixPath('/home/paperspace/.fastai/data/imdb'), model_dir='models', callback_fns=[functools.partial(<class 'fastai.basic_train.Recorder'>, add_time=True, silent=False)], callbacks=[...], layer_groups=[Sequential(\n",
       "  (0): Embedding(57171, 400, padding_idx=1)\n",
       "  (1): EmbeddingDropout(\n",
       "    (emb): Embedding(57171, 400, padding_idx=1)\n",
       "  )\n",
       "), Sequential(\n",
       "  (0): WeightDropout(\n",
       "    (module): LSTM(400, 1150, batch_first=True)\n",
       "  )\n",
       "  (1): RNNDropout()\n",
       "), Sequential(\n",
       "  (0): WeightDropout(\n",
       "    (module): LSTM(1150, 1150, batch_first=True)\n",
       "  )\n",
       "  (1): RNNDropout()\n",
       "), Sequential(\n",
       "  (0): WeightDropout(\n",
       "    (module): LSTM(1150, 400, batch_first=True)\n",
       "  )\n",
       "  (1): RNNDropout()\n",
       "), Sequential(\n",
       "  (0): PoolingLinearClassifier(\n",
       "    (layers): Sequential(\n",
       "      (0): BatchNorm1d(1200, eps=1e-05, momentum=0.1, affine=True, track_running_stats=True)\n",
       "      (1): Dropout(p=0.2)\n",
       "      (2): Linear(in_features=1200, out_features=50, bias=True)\n",
       "      (3): ReLU(inplace)\n",
       "      (4): BatchNorm1d(50, eps=1e-05, momentum=0.1, affine=True, track_running_stats=True)\n",
       "      (5): Dropout(p=0.1)\n",
       "      (6): Linear(in_features=50, out_features=2, bias=True)\n",
       "    )\n",
       "  )\n",
       ")], add_time=True, silent=None)\n",
       "alpha: 2.0\n",
       "beta: 1.0], layer_groups=[Sequential(\n",
       "  (0): Embedding(57171, 400, padding_idx=1)\n",
       "  (1): EmbeddingDropout(\n",
       "    (emb): Embedding(57171, 400, padding_idx=1)\n",
       "  )\n",
       "), Sequential(\n",
       "  (0): WeightDropout(\n",
       "    (module): LSTM(400, 1150, batch_first=True)\n",
       "  )\n",
       "  (1): RNNDropout()\n",
       "), Sequential(\n",
       "  (0): WeightDropout(\n",
       "    (module): LSTM(1150, 1150, batch_first=True)\n",
       "  )\n",
       "  (1): RNNDropout()\n",
       "), Sequential(\n",
       "  (0): WeightDropout(\n",
       "    (module): LSTM(1150, 400, batch_first=True)\n",
       "  )\n",
       "  (1): RNNDropout()\n",
       "), Sequential(\n",
       "  (0): PoolingLinearClassifier(\n",
       "    (layers): Sequential(\n",
       "      (0): BatchNorm1d(1200, eps=1e-05, momentum=0.1, affine=True, track_running_stats=True)\n",
       "      (1): Dropout(p=0.2)\n",
       "      (2): Linear(in_features=1200, out_features=50, bias=True)\n",
       "      (3): ReLU(inplace)\n",
       "      (4): BatchNorm1d(50, eps=1e-05, momentum=0.1, affine=True, track_running_stats=True)\n",
       "      (5): Dropout(p=0.1)\n",
       "      (6): Linear(in_features=50, out_features=2, bias=True)\n",
       "    )\n",
       "  )\n",
       ")], add_time=True, silent=None)"
      ]
     },
     "execution_count": 17,
     "metadata": {},
     "output_type": "execute_result"
    }
   ],
   "source": [
    "learn.load('second')"
   ]
  },
  {
   "cell_type": "markdown",
   "metadata": {},
   "source": [
    "Freeze the model to layer -3. Fit another cycle with lrs `slice(5e-3/(2.6**4),5e-3)`. You should land at an accuracy around 0.9396 and a loss of 0.1657."
   ]
  },
  {
   "cell_type": "code",
   "execution_count": 23,
   "metadata": {},
   "outputs": [],
   "source": [
    "learn.freeze_to(-3)"
   ]
  },
  {
   "cell_type": "code",
   "execution_count": 24,
   "metadata": {},
   "outputs": [
    {
     "data": {
      "text/html": [
       "Total time: 17:41 <p><table border=\"1\" class=\"dataframe\">\n",
       "  <thead>\n",
       "    <tr style=\"text-align: left;\">\n",
       "      <th>epoch</th>\n",
       "      <th>train_loss</th>\n",
       "      <th>valid_loss</th>\n",
       "      <th>accuracy</th>\n",
       "      <th>time</th>\n",
       "    </tr>\n",
       "  </thead>\n",
       "  <tbody>\n",
       "    <tr>\n",
       "      <td>0</td>\n",
       "      <td>0.305979</td>\n",
       "      <td>0.218381</td>\n",
       "      <td>0.913920</td>\n",
       "      <td>17:41</td>\n",
       "    </tr>\n",
       "  </tbody>\n",
       "</table>"
      ],
      "text/plain": [
       "<IPython.core.display.HTML object>"
      ]
     },
     "metadata": {},
     "output_type": "display_data"
    }
   ],
   "source": [
    "learn.fit_one_cycle(1, slice(5e-3/(2.6**4),5e-3), moms=(0.8,0.7))"
   ]
  },
  {
   "cell_type": "markdown",
   "metadata": {},
   "source": [
    "Save the model to `third`."
   ]
  },
  {
   "cell_type": "code",
   "execution_count": 25,
   "metadata": {},
   "outputs": [],
   "source": [
    "learn.save('third')"
   ]
  },
  {
   "cell_type": "markdown",
   "metadata": {},
   "source": [
    "Load the model from `third`."
   ]
  },
  {
   "cell_type": "code",
   "execution_count": 26,
   "metadata": {},
   "outputs": [
    {
     "name": "stderr",
     "output_type": "stream",
     "text": [
      "/home/paperspace/anaconda3/envs/fastai/lib/python3.6/site-packages/fastai/basic_train.py:327: UserWarning: Wasn't able to properly load the optimizer state again.\n",
      "  except: warn(\"Wasn't able to properly load the optimizer state again.\")\n"
     ]
    },
    {
     "data": {
      "text/plain": [
       "RNNLearner(data=TextClasDataBunch;\n",
       "\n",
       "Train: LabelList (25000 items)\n",
       "x: TextList\n",
       "xxbos xxmaj basically , xxmaj cruel xxmaj intentions 2 is xxmaj cruel xxmaj intentions 1 , again , only poorly done . xxmaj the story is exactly the same as the first one ( even some of the lines ) , with only a few exceptions . xxmaj the cast is more unknown , and definitely less talented . xxmaj instead of being seductive and drawing me into watching it , i ended up feeling dirty because it compares to watching a soft - core porn . i 'm not sure whether to blame some of the idiotic lines on the actors or the writers ... and i always feel bad saying that , because i know how hard it is to do both ... but it was basically a two - hour waste of my life . xxmaj it literally amazes me that some movies get made , and this is no exception ... i ca n't believe they 'd make a third one .,xxbos i had been subjected to this movie for a relationship class in my school . xxmaj as figured it was nothing captivating and nothing new . xxmaj though it tries to be original by focusing on the teen father instead of the mother showing the problems that the dad would go through . xxmaj it had an interesting side to it but it just does n't live up to its originality due to the fact nothing else in this movie was original . xxmaj we have the main character who has the older sister who like in every other movie like this has a thing against him , we have the stay at home mother who expects too much and when he gives more she feels offended and leaves him in the dust , then we have the father who is always gone . xxmaj then the girls side we have the parents who want everything and expect her to be perfect at all she does . xxmaj on to the story like i said it was interesting but the lack of good acting from the entire cast and the lack of any good writing or storytelling . xxmaj everything about this fell into cliché the little nerd kid in school starts studying with girl , they get together , have sex and then boom we have a little kid . xxmaj perhaps it could 've been better had the writing been well better and had the acting been improved i 've seriously gotten more emotion out of xxmaj leatherface and his chainsaw than i did out of any actor in this film and that 's pretty bad seeing as the xxmaj leatherface movies are crap and horridly acted . xxmaj so far the only interesting teen pregnancy movie i 've seen was xxmaj juno . xxmaj so far the comical side of this serious situation has proved more entertaining while still giving the same message . xxmaj like i said the idea was original most of these films focus on the teen mother but this one chose not to instead it focuses on the drama of the father but again the originality does not save this movie from mediocrity . i really hope someone decides to either re - make this movie with a better cast and a better writer or just make another similar film because this one was wasted potential .,xxbos i just saw this movie on xxmaj flix after timer - taping it . i grew up watching f xxmaj troop and had a major hard for xxmaj wrangler xxmaj jane so i was shocked , literally shocked , to find out after seeing this film that the degenerate homicidal nurse was xxmaj melody xxmaj patterson , who looks pretty good but also looks completely different and is unfortunately poorly photographed . i would never have guessed it was her in a million years . xxmaj what the hell is she doing in a picture like this ? i agree with the guys here that the movie lacks what it 's pushing . xxmaj no sex , no gore , no tease . xxmaj it 's also a remake of the xxmaj atomic xxmaj brain aka xxmaj monstrosity ( 1964 or thereabouts ) . xxmaj most of the action is tedious ; the main character spends enormous amounts of time running around the crazed doctor 's house and basement , and the neighborhood in general , or being roughed up by the cop , all of it boring and time - filling . xxmaj now if the xxmaj italians would have made this , half the film would have been the xxmaj slingblade / xxmaj uncle xxmaj ernest / xxmaj jack xxmaj elam henchman fondling the unconscious nude girls . xxmaj but you only get that for 20 seconds .,xxbos xxmaj absolutely awful movie . xxmaj utter waste of time . \n",
       " \n",
       "  background music is so loud that you can not understand speech . xxmaj well if you really listen closely , whatever they speak is actually unintelligible . \n",
       " \n",
       "  xxmaj camera work is bad , editing is not present , background score gives a headache , action is shoddy , dialogs are unintelligible , xxmaj acting is abysmal and well xxmaj kareena used to look like a wrestler , now she looks like a starved wrestler . xxmaj hell you can slim down but you can not gain grace . \n",
       " \n",
       "  xxmaj after spending three hours watching a movie i want to like it , but this movie would not even allow me that pleasure . \n",
       " \n",
       "  xxmaj please if you want to torture yourself , go ahead watch this .,xxbos xxmaj kubrick meets xxmaj king . xxmaj it sounded so promising back in the spring of 1980 , i remember . xxmaj then the movie came out , and the xxmaj kubrick cultists have been bickering with the xxmaj king cultists ever since . \n",
       " \n",
       "  xxmaj the xxmaj king cultists say xxmaj stanley xxmaj kubrick took a great horror tale and ruined it . xxmaj the xxmaj kubrick cultists do n't give a damn about xxmaj king 's story . xxmaj they talk about xxmaj xxunk , tracking shots , camera angles . xxmaj this is a film , they insist : xxmaj it should be considered on its own . xxmaj as it happens , both camps are correct . xxmaj unfortunately . \n",
       " \n",
       "  xxmaj if one views it purely as an adaptation of xxmaj king 's novel , \" xxmaj the xxmaj shining \" is indeed a failure , a wasted opportunity , a series of botched narrative gambits . \n",
       " \n",
       "  i used to blame that on xxmaj kubrick 's screenwriter . xxmaj the writer xxmaj diane xxmaj johnson ( author of xxmaj le xxmaj marriage , xxunk , xxmaj le xxmaj divorce , etc . ) has a reputation as an novelist of social manners . xxmaj maybe she was chosen for her subtle grasp of conjugal relations or family dynamics . xxmaj but the little blue - collar town of xxmaj sidewinder , xxmaj colorado does n't exist on any map in her xxmaj xxunk universe . \n",
       " \n",
       "  xxmaj kubrick the xxmaj anglophile probably found her congenial , however . xxmaj he , of course , is the real auteur . xxmaj and considered on its own merits , his screenplay for \" xxmaj the xxmaj shining \" -- with its mishmash of abnormal psychology , rationalism , supernaturalism , and implied reincarnation -- just does n't stand up to logical analysis . \n",
       " \n",
       "  i 'm willing to consider xxmaj kubrick 's \" xxmaj shining \" on its own terms . i 'm even willing to take it as something other than a conventional horror - genre movie . xxmaj but it does n't succeed as a naturalistic study of isolation , alienation , and madness either . xxmaj xxunk either way , the film pretty much falls apart . \n",
       " \n",
       "  xxmaj are the horrors of the xxmaj overlook xxmaj hotel real ? xxmaj or do they exist only in the mind -- first as prescient nightmares suffered by little xxmaj danny xxmaj torrance , then as the hallucinations of his father ? xxmaj one notes how whenever xxmaj jack xxmaj torrance is seen talking to a \" ghost \" he is in fact looking into a mirror . xxmaj one notes how the hotel 's frozen xxunk - hedge maze appears to symbolize xxmaj jack 's stunted , convoluted psyche . xxmaj very deep stuff . \n",
       " \n",
       "  xxmaj but if indeed the xxmaj overlook 's \" ghosts \" are purely manifestations of xxmaj jack xxmaj torrance 's growing insanity , then who exactly lets the trapped xxmaj jack out of the hotel kitchen 's dead - bolted xxunk in closet , so that he can go on his climactic ax - wielding rampage ? \n",
       " \n",
       "  xxmaj and can xxup anyone explain , with a straight face , that black - and - white photograph ( helpfully labelled \" 1921 \" ) of xxmaj nicholson as a xxunk party - goer that pops up out of left field and onto a hotel - ballroom wall during the film 's closing seconds ? xxmaj are we to seriously conclude that xxmaj jack xxmaj torrance 's xxmaj bad xxmaj craziness stems from a some sort of \" past life \" experience ? ( xxmaj and if you swallow that , since when are reincarnated people supposed to be exact physical replicas their past selves ? ) \n",
       " \n",
       "  xxmaj maybe xxmaj kubrick did n't care about his storyline . xxmaj maybe only wanted to evoke a mood of horror . xxmaj whatever the case , the film tries to hedge its narrative bets -- to have it both ways , rational and supernatural . xxmaj as a result , the story is a mess . xxmaj this movie has n't improved with age , and it certainly does n't improve with repeated viewings . \n",
       " \n",
       "  i do n't deny that a few moments of fear , claustrophobia , and general creepiness are scattered throughout this long , long film . xxmaj but those gushing xxmaj elevators o ' xxmaj blood , seen repeatedly in little xxmaj danny 's visions , are absurd and laughable . xxmaj and xxmaj jack xxmaj torrance 's infamous tag lines ( \" xxmaj wendy , i 'm home ! \" and \" h xxrep 6 e re 's xxup johnny ! \" ) merely puncture the movie 's dramatic tension and dissipate its narrative energy . ( i know : i sat in the theater and heard the audience laugh in comic relief : \" xxmaj whew ! xxmaj glad we do n't have to take this stuff seriously ! \" ) xxmaj finally , xxmaj kubrick is completely at sea -- or else utterly cynical -- during those scenes in which xxmaj wendy wanders around the empty hotel while her husband tries to puree their son . a foyer full of mummified guests , all sitting there dead in their party hats ? xxmaj yikes , now i really am afraid . \n",
       " \n",
       "  xxmaj given xxmaj jack xxmaj nicholson 's brilliance over the years , one can only assume that he gave just the sort of eyeball - rolling , eyebrow - wiggling , scenery - chomping performance that the director wanted . xxmaj the performance of xxmaj shelley xxmaj duvall , as a sort of female version of xxmaj don xxmaj knotts in \" xxmaj the xxmaj ghost and xxmaj mr. xxmaj chicken , \" is best passed over in silence . \n",
       " \n",
       "  xxmaj this movie simply does n't succeed -- not as an adaptation , not on its own terms . xxmaj it probably merits a 3 out of 10 , but i 'm giving it a 1 because it has been so xxup grotesquely over - rated in this forum .\n",
       "y: CategoryList\n",
       "neg,neg,neg,neg,neg\n",
       "Path: /home/paperspace/.fastai/data/imdb;\n",
       "\n",
       "Valid: LabelList (25000 items)\n",
       "x: TextList\n",
       "xxbos xxmaj robot xxmaj holocaust is about the lamest , most pathetic attempt at making a post - apocalyptic movie that i 've seen . xxmaj and i thought the xxmaj italians were the masters of wretched xxmaj mad xxmaj max wannabes . xxmaj some of those movies like xxmaj escape 2000 are positively brilliant in comparison with this piece of poo . xxmaj the plot is nonsensical  even with a narrator setting up every scene . xxmaj and boy does it drag . xxmaj scene after scene with nothing of any interest happening . xxmaj the special effects ( and i use the word \" special \" loosely ) consist of sock puppets . xxmaj yes , that 's right  sock puppets ! xxmaj the acting is abysmal . xxmaj xxunk xxmaj xxunk is in the running for worst performance i 've ever seen . xxmaj sure , she 's xxmaj french or xxmaj german or whatever  but man is she bad . i can not think of a single positive thing to say about the movie . xxmaj so i 'll stop there because ten sentences on this junk is about ten too many . \n",
       " \n",
       "  xxmaj however , and fortunately for me , i saw the xxup mst3 k version of xxmaj robot xxmaj holocaust . xxmaj some of the things that made the movie so bad helped make this xxup mst3 k episode a winner . xxmaj for a season one episode , the riffs come fast and furious and hit their mark just about every time . xxmaj on my xxup mst3 k rating scale , i give this episode a 4 / 5  seek it out .,xxbos i have a question for the writers and producers of \" xxmaj prozac xxmaj nation \" : xxmaj what is the root cause and what is the solution to the widespread problem of personal depression in xxmaj america ? xxmaj in the moving performance of xxmaj christina xxmaj ricci as xxmaj liz xxmaj xxunk , the film portrays a young woman with unlimited potential as a xxmaj harvard student and as a writer . xxmaj but this is not a story of success , only one of self - destruction as we watch xxmaj liz bring misery into the lives everyone who comes in contact with her . xxmaj the film examines divorce , family dysfunction , drugs , alcohol , and prescription medication as possible reasons for xxmaj liz 's unhappiness . xxmaj but none of those superficial explanations are satisfactory . \n",
       " \n",
       "  xxmaj at some point in the film , it would have been helpful to suggest that xxmaj liz needs to take responsibility for her life and her problems . xxmaj no light was shed on what the film alleged to be a runaway problem in \" xxmaj the xxmaj united xxmaj states of xxmaj depression . \" xxmaj in the story , xxmaj liz had a caring therapist ( xxmaj anne xxmaj heche ) , a caring roommate ( xxmaj michele xxmaj williams ) , a caring boyfriend ( xxmaj jason xxmaj biggs ) , and a troubled but caring parent ( xxmaj jessica xxmaj lange ) . xxmaj in a key scene in the film , xxmaj liz is lying in a hospital bed watching the break - up of the space shuttle xxmaj challenger . xxmaj instead of equating xxmaj challenger with xxmaj liz 's life , the film should have used the image as a starting point for her healing and recovery . \n",
       " \n",
       "  xxmaj this film reminded me of a generic made - for - cable \" victim \" film on the xxmaj lifetime network . xxmaj an excellent cast was wasted , especially in the earnest performance of xxmaj christina xxmaj ricci . xxmaj the real - life xxmaj elizabeth xxmaj xxunk obviously found within herself the resources to cope with her depression and become a successful author . xxmaj it is unfortunate that the film could not offer us even the slightest glimpse into her courageous spirit .,xxbos i 'm working my way through the xxmaj horror xxmaj classics 50 xxmaj movie xxmaj pack xxmaj collection and xxup the xxup mad xxup monster is one of the movies in the set . \n",
       " \n",
       "  i am sure that xxmaj george xxmaj zucco was a good actor ; but , this was only the second film in which i saw him , the first being xxup dead xxup men xxup walk , in which he played two parts . xxmaj however , even good acting could n't save xxup the xxup mad xxup monster . \n",
       " \n",
       "  xxmaj zucco plays a mad scientist , xxmaj dr. xxmaj cameron ( who was banned from academia because of his unethical and inhumane experiments ) . xxmaj he believes that he can control evolution by bringing out the characteristics of one animal into another . \n",
       " \n",
       "  xxmaj in this case , like so many others of its ilk , it is a transfusion of ( i assume ) wolf 's blood into humans . xxmaj his goal is to create an invincible army , which he can control through the antidote . xxmaj the subject of his experiments is his hired hand , a retarded gardener , whose dialogue slows down this snail - paced classic to almost a full - stop . \n",
       " \n",
       "  xxmaj beyond his experiments , xxmaj dr. xxmaj cameron also plots revenge on those who discredited him , using his transformed gardener . xxmaj however , he loses control of his subject , who begins to transform without the transfusion -- yikes ! \n",
       " \n",
       "  xxmaj the werewolf transformations are classic xxmaj hollywood stop - action / makeup effects . xxmaj no doubt these were groundbreaking techniques of the time ; but , in today 's digital age it 's hard to imagine audiences being scared by this .,xxbos xxmaj retro xxmaj puppet xxmaj master is complete and utter xxunk particular , the puppets look stupid , and crappy . xxmaj the acting was unforgivable and the story was rancid . xxmaj this movie goes back into the the past , where the dolls where first created , thats not xxmaj puppet xxmaj master . xxmaj retro xxmaj puppet xxmaj master is rated xxunk first xxmaj puppet xxmaj master to be rated xxunk movie contains no horror , or suspense . xxmaj the fact that this movie was a xxmaj puppet xxmaj master film boggles the mind , because this installment does nt have the buckets of blood , good acting , or any xxunk like the previous movies did . xxmaj dont see this movie , dont rent it , and do nt even watch it f its on xxup tv , because this film is stale , not violent , and completely xxunk out of xxunk a xxmaj puppet xxmaj master fan , i am disappointed ... seriously .,xxbos i did have some expectations from this film because 1 . xxmaj it was a xxmaj yash raj production 2 . xxmaj when the songs were first shown on xxup tv , they seemed catchy 3 . xxmaj the star ( ? ? ! ) cast was new . xxmaj well , i must tell u that i just could n't sit through this movie . xxmaj xxunk , ( with his red lips - what were the make up artists thinking ? ? ? ! ) tries hard to look cool but fails miserably . i wo n't even get started on his acting ( if u can call it that ) . ' xxmaj cleavage queen ' xxmaj xxunk with all her screaming and ranting n raving just makes you want to pull your hair out in frustration . i think xxmaj xxunk was slightly more tolerable than her ! xxmaj she seriously needs to take acting lessons from her sister . xxmaj the story is pathetic ... the same old tried and tested formula . xxmaj absolutely no originality . xxmaj there is nothing worth watching in this movie . xxmaj makes me wonder why it was made in the first place !\n",
       "y: CategoryList\n",
       "neg,neg,neg,neg,neg\n",
       "Path: /home/paperspace/.fastai/data/imdb;\n",
       "\n",
       "Test: None, model=SequentialRNN(\n",
       "  (0): MultiBatchEncoder(\n",
       "    (module): AWD_LSTM(\n",
       "      (encoder): Embedding(57171, 400, padding_idx=1)\n",
       "      (encoder_dp): EmbeddingDropout(\n",
       "        (emb): Embedding(57171, 400, padding_idx=1)\n",
       "      )\n",
       "      (rnns): ModuleList(\n",
       "        (0): WeightDropout(\n",
       "          (module): LSTM(400, 1150, batch_first=True)\n",
       "        )\n",
       "        (1): WeightDropout(\n",
       "          (module): LSTM(1150, 1150, batch_first=True)\n",
       "        )\n",
       "        (2): WeightDropout(\n",
       "          (module): LSTM(1150, 400, batch_first=True)\n",
       "        )\n",
       "      )\n",
       "      (input_dp): RNNDropout()\n",
       "      (hidden_dps): ModuleList(\n",
       "        (0): RNNDropout()\n",
       "        (1): RNNDropout()\n",
       "        (2): RNNDropout()\n",
       "      )\n",
       "    )\n",
       "  )\n",
       "  (1): PoolingLinearClassifier(\n",
       "    (layers): Sequential(\n",
       "      (0): BatchNorm1d(1200, eps=1e-05, momentum=0.1, affine=True, track_running_stats=True)\n",
       "      (1): Dropout(p=0.2)\n",
       "      (2): Linear(in_features=1200, out_features=50, bias=True)\n",
       "      (3): ReLU(inplace)\n",
       "      (4): BatchNorm1d(50, eps=1e-05, momentum=0.1, affine=True, track_running_stats=True)\n",
       "      (5): Dropout(p=0.1)\n",
       "      (6): Linear(in_features=50, out_features=2, bias=True)\n",
       "    )\n",
       "  )\n",
       "), opt_func=functools.partial(<class 'torch.optim.adam.Adam'>, betas=(0.9, 0.99)), loss_func=FlattenedLoss of CrossEntropyLoss(), metrics=[<function accuracy at 0x7fa6f6d91d90>], true_wd=True, bn_wd=True, wd=0.01, train_bn=True, path=PosixPath('/home/paperspace/.fastai/data/imdb'), model_dir='models', callback_fns=[functools.partial(<class 'fastai.basic_train.Recorder'>, add_time=True, silent=False)], callbacks=[RNNTrainer\n",
       "learn: RNNLearner(data=TextClasDataBunch;\n",
       "\n",
       "Train: LabelList (25000 items)\n",
       "x: TextList\n",
       "xxbos xxmaj basically , xxmaj cruel xxmaj intentions 2 is xxmaj cruel xxmaj intentions 1 , again , only poorly done . xxmaj the story is exactly the same as the first one ( even some of the lines ) , with only a few exceptions . xxmaj the cast is more unknown , and definitely less talented . xxmaj instead of being seductive and drawing me into watching it , i ended up feeling dirty because it compares to watching a soft - core porn . i 'm not sure whether to blame some of the idiotic lines on the actors or the writers ... and i always feel bad saying that , because i know how hard it is to do both ... but it was basically a two - hour waste of my life . xxmaj it literally amazes me that some movies get made , and this is no exception ... i ca n't believe they 'd make a third one .,xxbos i had been subjected to this movie for a relationship class in my school . xxmaj as figured it was nothing captivating and nothing new . xxmaj though it tries to be original by focusing on the teen father instead of the mother showing the problems that the dad would go through . xxmaj it had an interesting side to it but it just does n't live up to its originality due to the fact nothing else in this movie was original . xxmaj we have the main character who has the older sister who like in every other movie like this has a thing against him , we have the stay at home mother who expects too much and when he gives more she feels offended and leaves him in the dust , then we have the father who is always gone . xxmaj then the girls side we have the parents who want everything and expect her to be perfect at all she does . xxmaj on to the story like i said it was interesting but the lack of good acting from the entire cast and the lack of any good writing or storytelling . xxmaj everything about this fell into cliché the little nerd kid in school starts studying with girl , they get together , have sex and then boom we have a little kid . xxmaj perhaps it could 've been better had the writing been well better and had the acting been improved i 've seriously gotten more emotion out of xxmaj leatherface and his chainsaw than i did out of any actor in this film and that 's pretty bad seeing as the xxmaj leatherface movies are crap and horridly acted . xxmaj so far the only interesting teen pregnancy movie i 've seen was xxmaj juno . xxmaj so far the comical side of this serious situation has proved more entertaining while still giving the same message . xxmaj like i said the idea was original most of these films focus on the teen mother but this one chose not to instead it focuses on the drama of the father but again the originality does not save this movie from mediocrity . i really hope someone decides to either re - make this movie with a better cast and a better writer or just make another similar film because this one was wasted potential .,xxbos i just saw this movie on xxmaj flix after timer - taping it . i grew up watching f xxmaj troop and had a major hard for xxmaj wrangler xxmaj jane so i was shocked , literally shocked , to find out after seeing this film that the degenerate homicidal nurse was xxmaj melody xxmaj patterson , who looks pretty good but also looks completely different and is unfortunately poorly photographed . i would never have guessed it was her in a million years . xxmaj what the hell is she doing in a picture like this ? i agree with the guys here that the movie lacks what it 's pushing . xxmaj no sex , no gore , no tease . xxmaj it 's also a remake of the xxmaj atomic xxmaj brain aka xxmaj monstrosity ( 1964 or thereabouts ) . xxmaj most of the action is tedious ; the main character spends enormous amounts of time running around the crazed doctor 's house and basement , and the neighborhood in general , or being roughed up by the cop , all of it boring and time - filling . xxmaj now if the xxmaj italians would have made this , half the film would have been the xxmaj slingblade / xxmaj uncle xxmaj ernest / xxmaj jack xxmaj elam henchman fondling the unconscious nude girls . xxmaj but you only get that for 20 seconds .,xxbos xxmaj absolutely awful movie . xxmaj utter waste of time . \n",
       " \n",
       "  background music is so loud that you can not understand speech . xxmaj well if you really listen closely , whatever they speak is actually unintelligible . \n",
       " \n",
       "  xxmaj camera work is bad , editing is not present , background score gives a headache , action is shoddy , dialogs are unintelligible , xxmaj acting is abysmal and well xxmaj kareena used to look like a wrestler , now she looks like a starved wrestler . xxmaj hell you can slim down but you can not gain grace . \n",
       " \n",
       "  xxmaj after spending three hours watching a movie i want to like it , but this movie would not even allow me that pleasure . \n",
       " \n",
       "  xxmaj please if you want to torture yourself , go ahead watch this .,xxbos xxmaj kubrick meets xxmaj king . xxmaj it sounded so promising back in the spring of 1980 , i remember . xxmaj then the movie came out , and the xxmaj kubrick cultists have been bickering with the xxmaj king cultists ever since . \n",
       " \n",
       "  xxmaj the xxmaj king cultists say xxmaj stanley xxmaj kubrick took a great horror tale and ruined it . xxmaj the xxmaj kubrick cultists do n't give a damn about xxmaj king 's story . xxmaj they talk about xxmaj xxunk , tracking shots , camera angles . xxmaj this is a film , they insist : xxmaj it should be considered on its own . xxmaj as it happens , both camps are correct . xxmaj unfortunately . \n",
       " \n",
       "  xxmaj if one views it purely as an adaptation of xxmaj king 's novel , \" xxmaj the xxmaj shining \" is indeed a failure , a wasted opportunity , a series of botched narrative gambits . \n",
       " \n",
       "  i used to blame that on xxmaj kubrick 's screenwriter . xxmaj the writer xxmaj diane xxmaj johnson ( author of xxmaj le xxmaj marriage , xxunk , xxmaj le xxmaj divorce , etc . ) has a reputation as an novelist of social manners . xxmaj maybe she was chosen for her subtle grasp of conjugal relations or family dynamics . xxmaj but the little blue - collar town of xxmaj sidewinder , xxmaj colorado does n't exist on any map in her xxmaj xxunk universe . \n",
       " \n",
       "  xxmaj kubrick the xxmaj anglophile probably found her congenial , however . xxmaj he , of course , is the real auteur . xxmaj and considered on its own merits , his screenplay for \" xxmaj the xxmaj shining \" -- with its mishmash of abnormal psychology , rationalism , supernaturalism , and implied reincarnation -- just does n't stand up to logical analysis . \n",
       " \n",
       "  i 'm willing to consider xxmaj kubrick 's \" xxmaj shining \" on its own terms . i 'm even willing to take it as something other than a conventional horror - genre movie . xxmaj but it does n't succeed as a naturalistic study of isolation , alienation , and madness either . xxmaj xxunk either way , the film pretty much falls apart . \n",
       " \n",
       "  xxmaj are the horrors of the xxmaj overlook xxmaj hotel real ? xxmaj or do they exist only in the mind -- first as prescient nightmares suffered by little xxmaj danny xxmaj torrance , then as the hallucinations of his father ? xxmaj one notes how whenever xxmaj jack xxmaj torrance is seen talking to a \" ghost \" he is in fact looking into a mirror . xxmaj one notes how the hotel 's frozen xxunk - hedge maze appears to symbolize xxmaj jack 's stunted , convoluted psyche . xxmaj very deep stuff . \n",
       " \n",
       "  xxmaj but if indeed the xxmaj overlook 's \" ghosts \" are purely manifestations of xxmaj jack xxmaj torrance 's growing insanity , then who exactly lets the trapped xxmaj jack out of the hotel kitchen 's dead - bolted xxunk in closet , so that he can go on his climactic ax - wielding rampage ? \n",
       " \n",
       "  xxmaj and can xxup anyone explain , with a straight face , that black - and - white photograph ( helpfully labelled \" 1921 \" ) of xxmaj nicholson as a xxunk party - goer that pops up out of left field and onto a hotel - ballroom wall during the film 's closing seconds ? xxmaj are we to seriously conclude that xxmaj jack xxmaj torrance 's xxmaj bad xxmaj craziness stems from a some sort of \" past life \" experience ? ( xxmaj and if you swallow that , since when are reincarnated people supposed to be exact physical replicas their past selves ? ) \n",
       " \n",
       "  xxmaj maybe xxmaj kubrick did n't care about his storyline . xxmaj maybe only wanted to evoke a mood of horror . xxmaj whatever the case , the film tries to hedge its narrative bets -- to have it both ways , rational and supernatural . xxmaj as a result , the story is a mess . xxmaj this movie has n't improved with age , and it certainly does n't improve with repeated viewings . \n",
       " \n",
       "  i do n't deny that a few moments of fear , claustrophobia , and general creepiness are scattered throughout this long , long film . xxmaj but those gushing xxmaj elevators o ' xxmaj blood , seen repeatedly in little xxmaj danny 's visions , are absurd and laughable . xxmaj and xxmaj jack xxmaj torrance 's infamous tag lines ( \" xxmaj wendy , i 'm home ! \" and \" h xxrep 6 e re 's xxup johnny ! \" ) merely puncture the movie 's dramatic tension and dissipate its narrative energy . ( i know : i sat in the theater and heard the audience laugh in comic relief : \" xxmaj whew ! xxmaj glad we do n't have to take this stuff seriously ! \" ) xxmaj finally , xxmaj kubrick is completely at sea -- or else utterly cynical -- during those scenes in which xxmaj wendy wanders around the empty hotel while her husband tries to puree their son . a foyer full of mummified guests , all sitting there dead in their party hats ? xxmaj yikes , now i really am afraid . \n",
       " \n",
       "  xxmaj given xxmaj jack xxmaj nicholson 's brilliance over the years , one can only assume that he gave just the sort of eyeball - rolling , eyebrow - wiggling , scenery - chomping performance that the director wanted . xxmaj the performance of xxmaj shelley xxmaj duvall , as a sort of female version of xxmaj don xxmaj knotts in \" xxmaj the xxmaj ghost and xxmaj mr. xxmaj chicken , \" is best passed over in silence . \n",
       " \n",
       "  xxmaj this movie simply does n't succeed -- not as an adaptation , not on its own terms . xxmaj it probably merits a 3 out of 10 , but i 'm giving it a 1 because it has been so xxup grotesquely over - rated in this forum .\n",
       "y: CategoryList\n",
       "neg,neg,neg,neg,neg\n",
       "Path: /home/paperspace/.fastai/data/imdb;\n",
       "\n",
       "Valid: LabelList (25000 items)\n",
       "x: TextList\n",
       "xxbos xxmaj robot xxmaj holocaust is about the lamest , most pathetic attempt at making a post - apocalyptic movie that i 've seen . xxmaj and i thought the xxmaj italians were the masters of wretched xxmaj mad xxmaj max wannabes . xxmaj some of those movies like xxmaj escape 2000 are positively brilliant in comparison with this piece of poo . xxmaj the plot is nonsensical  even with a narrator setting up every scene . xxmaj and boy does it drag . xxmaj scene after scene with nothing of any interest happening . xxmaj the special effects ( and i use the word \" special \" loosely ) consist of sock puppets . xxmaj yes , that 's right  sock puppets ! xxmaj the acting is abysmal . xxmaj xxunk xxmaj xxunk is in the running for worst performance i 've ever seen . xxmaj sure , she 's xxmaj french or xxmaj german or whatever  but man is she bad . i can not think of a single positive thing to say about the movie . xxmaj so i 'll stop there because ten sentences on this junk is about ten too many . \n",
       " \n",
       "  xxmaj however , and fortunately for me , i saw the xxup mst3 k version of xxmaj robot xxmaj holocaust . xxmaj some of the things that made the movie so bad helped make this xxup mst3 k episode a winner . xxmaj for a season one episode , the riffs come fast and furious and hit their mark just about every time . xxmaj on my xxup mst3 k rating scale , i give this episode a 4 / 5  seek it out .,xxbos i have a question for the writers and producers of \" xxmaj prozac xxmaj nation \" : xxmaj what is the root cause and what is the solution to the widespread problem of personal depression in xxmaj america ? xxmaj in the moving performance of xxmaj christina xxmaj ricci as xxmaj liz xxmaj xxunk , the film portrays a young woman with unlimited potential as a xxmaj harvard student and as a writer . xxmaj but this is not a story of success , only one of self - destruction as we watch xxmaj liz bring misery into the lives everyone who comes in contact with her . xxmaj the film examines divorce , family dysfunction , drugs , alcohol , and prescription medication as possible reasons for xxmaj liz 's unhappiness . xxmaj but none of those superficial explanations are satisfactory . \n",
       " \n",
       "  xxmaj at some point in the film , it would have been helpful to suggest that xxmaj liz needs to take responsibility for her life and her problems . xxmaj no light was shed on what the film alleged to be a runaway problem in \" xxmaj the xxmaj united xxmaj states of xxmaj depression . \" xxmaj in the story , xxmaj liz had a caring therapist ( xxmaj anne xxmaj heche ) , a caring roommate ( xxmaj michele xxmaj williams ) , a caring boyfriend ( xxmaj jason xxmaj biggs ) , and a troubled but caring parent ( xxmaj jessica xxmaj lange ) . xxmaj in a key scene in the film , xxmaj liz is lying in a hospital bed watching the break - up of the space shuttle xxmaj challenger . xxmaj instead of equating xxmaj challenger with xxmaj liz 's life , the film should have used the image as a starting point for her healing and recovery . \n",
       " \n",
       "  xxmaj this film reminded me of a generic made - for - cable \" victim \" film on the xxmaj lifetime network . xxmaj an excellent cast was wasted , especially in the earnest performance of xxmaj christina xxmaj ricci . xxmaj the real - life xxmaj elizabeth xxmaj xxunk obviously found within herself the resources to cope with her depression and become a successful author . xxmaj it is unfortunate that the film could not offer us even the slightest glimpse into her courageous spirit .,xxbos i 'm working my way through the xxmaj horror xxmaj classics 50 xxmaj movie xxmaj pack xxmaj collection and xxup the xxup mad xxup monster is one of the movies in the set . \n",
       " \n",
       "  i am sure that xxmaj george xxmaj zucco was a good actor ; but , this was only the second film in which i saw him , the first being xxup dead xxup men xxup walk , in which he played two parts . xxmaj however , even good acting could n't save xxup the xxup mad xxup monster . \n",
       " \n",
       "  xxmaj zucco plays a mad scientist , xxmaj dr. xxmaj cameron ( who was banned from academia because of his unethical and inhumane experiments ) . xxmaj he believes that he can control evolution by bringing out the characteristics of one animal into another . \n",
       " \n",
       "  xxmaj in this case , like so many others of its ilk , it is a transfusion of ( i assume ) wolf 's blood into humans . xxmaj his goal is to create an invincible army , which he can control through the antidote . xxmaj the subject of his experiments is his hired hand , a retarded gardener , whose dialogue slows down this snail - paced classic to almost a full - stop . \n",
       " \n",
       "  xxmaj beyond his experiments , xxmaj dr. xxmaj cameron also plots revenge on those who discredited him , using his transformed gardener . xxmaj however , he loses control of his subject , who begins to transform without the transfusion -- yikes ! \n",
       " \n",
       "  xxmaj the werewolf transformations are classic xxmaj hollywood stop - action / makeup effects . xxmaj no doubt these were groundbreaking techniques of the time ; but , in today 's digital age it 's hard to imagine audiences being scared by this .,xxbos xxmaj retro xxmaj puppet xxmaj master is complete and utter xxunk particular , the puppets look stupid , and crappy . xxmaj the acting was unforgivable and the story was rancid . xxmaj this movie goes back into the the past , where the dolls where first created , thats not xxmaj puppet xxmaj master . xxmaj retro xxmaj puppet xxmaj master is rated xxunk first xxmaj puppet xxmaj master to be rated xxunk movie contains no horror , or suspense . xxmaj the fact that this movie was a xxmaj puppet xxmaj master film boggles the mind , because this installment does nt have the buckets of blood , good acting , or any xxunk like the previous movies did . xxmaj dont see this movie , dont rent it , and do nt even watch it f its on xxup tv , because this film is stale , not violent , and completely xxunk out of xxunk a xxmaj puppet xxmaj master fan , i am disappointed ... seriously .,xxbos i did have some expectations from this film because 1 . xxmaj it was a xxmaj yash raj production 2 . xxmaj when the songs were first shown on xxup tv , they seemed catchy 3 . xxmaj the star ( ? ? ! ) cast was new . xxmaj well , i must tell u that i just could n't sit through this movie . xxmaj xxunk , ( with his red lips - what were the make up artists thinking ? ? ? ! ) tries hard to look cool but fails miserably . i wo n't even get started on his acting ( if u can call it that ) . ' xxmaj cleavage queen ' xxmaj xxunk with all her screaming and ranting n raving just makes you want to pull your hair out in frustration . i think xxmaj xxunk was slightly more tolerable than her ! xxmaj she seriously needs to take acting lessons from her sister . xxmaj the story is pathetic ... the same old tried and tested formula . xxmaj absolutely no originality . xxmaj there is nothing worth watching in this movie . xxmaj makes me wonder why it was made in the first place !\n",
       "y: CategoryList\n",
       "neg,neg,neg,neg,neg\n",
       "Path: /home/paperspace/.fastai/data/imdb;\n",
       "\n",
       "Test: None, model=SequentialRNN(\n",
       "  (0): MultiBatchEncoder(\n",
       "    (module): AWD_LSTM(\n",
       "      (encoder): Embedding(57171, 400, padding_idx=1)\n",
       "      (encoder_dp): EmbeddingDropout(\n",
       "        (emb): Embedding(57171, 400, padding_idx=1)\n",
       "      )\n",
       "      (rnns): ModuleList(\n",
       "        (0): WeightDropout(\n",
       "          (module): LSTM(400, 1150, batch_first=True)\n",
       "        )\n",
       "        (1): WeightDropout(\n",
       "          (module): LSTM(1150, 1150, batch_first=True)\n",
       "        )\n",
       "        (2): WeightDropout(\n",
       "          (module): LSTM(1150, 400, batch_first=True)\n",
       "        )\n",
       "      )\n",
       "      (input_dp): RNNDropout()\n",
       "      (hidden_dps): ModuleList(\n",
       "        (0): RNNDropout()\n",
       "        (1): RNNDropout()\n",
       "        (2): RNNDropout()\n",
       "      )\n",
       "    )\n",
       "  )\n",
       "  (1): PoolingLinearClassifier(\n",
       "    (layers): Sequential(\n",
       "      (0): BatchNorm1d(1200, eps=1e-05, momentum=0.1, affine=True, track_running_stats=True)\n",
       "      (1): Dropout(p=0.2)\n",
       "      (2): Linear(in_features=1200, out_features=50, bias=True)\n",
       "      (3): ReLU(inplace)\n",
       "      (4): BatchNorm1d(50, eps=1e-05, momentum=0.1, affine=True, track_running_stats=True)\n",
       "      (5): Dropout(p=0.1)\n",
       "      (6): Linear(in_features=50, out_features=2, bias=True)\n",
       "    )\n",
       "  )\n",
       "), opt_func=functools.partial(<class 'torch.optim.adam.Adam'>, betas=(0.9, 0.99)), loss_func=FlattenedLoss of CrossEntropyLoss(), metrics=[<function accuracy at 0x7fa6f6d91d90>], true_wd=True, bn_wd=True, wd=0.01, train_bn=True, path=PosixPath('/home/paperspace/.fastai/data/imdb'), model_dir='models', callback_fns=[functools.partial(<class 'fastai.basic_train.Recorder'>, add_time=True, silent=False)], callbacks=[...], layer_groups=[Sequential(\n",
       "  (0): Embedding(57171, 400, padding_idx=1)\n",
       "  (1): EmbeddingDropout(\n",
       "    (emb): Embedding(57171, 400, padding_idx=1)\n",
       "  )\n",
       "), Sequential(\n",
       "  (0): WeightDropout(\n",
       "    (module): LSTM(400, 1150, batch_first=True)\n",
       "  )\n",
       "  (1): RNNDropout()\n",
       "), Sequential(\n",
       "  (0): WeightDropout(\n",
       "    (module): LSTM(1150, 1150, batch_first=True)\n",
       "  )\n",
       "  (1): RNNDropout()\n",
       "), Sequential(\n",
       "  (0): WeightDropout(\n",
       "    (module): LSTM(1150, 400, batch_first=True)\n",
       "  )\n",
       "  (1): RNNDropout()\n",
       "), Sequential(\n",
       "  (0): PoolingLinearClassifier(\n",
       "    (layers): Sequential(\n",
       "      (0): BatchNorm1d(1200, eps=1e-05, momentum=0.1, affine=True, track_running_stats=True)\n",
       "      (1): Dropout(p=0.2)\n",
       "      (2): Linear(in_features=1200, out_features=50, bias=True)\n",
       "      (3): ReLU(inplace)\n",
       "      (4): BatchNorm1d(50, eps=1e-05, momentum=0.1, affine=True, track_running_stats=True)\n",
       "      (5): Dropout(p=0.1)\n",
       "      (6): Linear(in_features=50, out_features=2, bias=True)\n",
       "    )\n",
       "  )\n",
       ")], add_time=True, silent=None)\n",
       "alpha: 2.0\n",
       "beta: 1.0], layer_groups=[Sequential(\n",
       "  (0): Embedding(57171, 400, padding_idx=1)\n",
       "  (1): EmbeddingDropout(\n",
       "    (emb): Embedding(57171, 400, padding_idx=1)\n",
       "  )\n",
       "), Sequential(\n",
       "  (0): WeightDropout(\n",
       "    (module): LSTM(400, 1150, batch_first=True)\n",
       "  )\n",
       "  (1): RNNDropout()\n",
       "), Sequential(\n",
       "  (0): WeightDropout(\n",
       "    (module): LSTM(1150, 1150, batch_first=True)\n",
       "  )\n",
       "  (1): RNNDropout()\n",
       "), Sequential(\n",
       "  (0): WeightDropout(\n",
       "    (module): LSTM(1150, 400, batch_first=True)\n",
       "  )\n",
       "  (1): RNNDropout()\n",
       "), Sequential(\n",
       "  (0): PoolingLinearClassifier(\n",
       "    (layers): Sequential(\n",
       "      (0): BatchNorm1d(1200, eps=1e-05, momentum=0.1, affine=True, track_running_stats=True)\n",
       "      (1): Dropout(p=0.2)\n",
       "      (2): Linear(in_features=1200, out_features=50, bias=True)\n",
       "      (3): ReLU(inplace)\n",
       "      (4): BatchNorm1d(50, eps=1e-05, momentum=0.1, affine=True, track_running_stats=True)\n",
       "      (5): Dropout(p=0.1)\n",
       "      (6): Linear(in_features=50, out_features=2, bias=True)\n",
       "    )\n",
       "  )\n",
       ")], add_time=True, silent=None)"
      ]
     },
     "execution_count": 26,
     "metadata": {},
     "output_type": "execute_result"
    }
   ],
   "source": [
    "learn.load('third')"
   ]
  },
  {
   "cell_type": "markdown",
   "metadata": {},
   "source": [
    "Unfreeze the model, and fit 2 cycles with lr `slice(1e-3/(2.6**4),1e-3)`. You should land at an accuracy around 0.9439 and a loss around 0.1534."
   ]
  },
  {
   "cell_type": "code",
   "execution_count": null,
   "metadata": {},
   "outputs": [
    {
     "data": {
      "text/html": [
       "\n",
       "    <div>\n",
       "        <style>\n",
       "            /* Turns off some styling */\n",
       "            progress {\n",
       "                /* gets rid of default border in Firefox and Opera. */\n",
       "                border: none;\n",
       "                /* Needs to be in here for Safari polyfill so background images work as expected. */\n",
       "                background-size: auto;\n",
       "            }\n",
       "            .progress-bar-interrupted, .progress-bar-interrupted::-webkit-progress-bar {\n",
       "                background: #F44336;\n",
       "            }\n",
       "        </style>\n",
       "      <progress value='1' class='' max='2', style='width:300px; height:20px; vertical-align: middle;'></progress>\n",
       "      50.00% [1/2 21:24<21:24]\n",
       "    </div>\n",
       "    \n",
       "<table border=\"1\" class=\"dataframe\">\n",
       "  <thead>\n",
       "    <tr style=\"text-align: left;\">\n",
       "      <th>epoch</th>\n",
       "      <th>train_loss</th>\n",
       "      <th>valid_loss</th>\n",
       "      <th>accuracy</th>\n",
       "      <th>time</th>\n",
       "    </tr>\n",
       "  </thead>\n",
       "  <tbody>\n",
       "    <tr>\n",
       "      <td>0</td>\n",
       "      <td>0.288769</td>\n",
       "      <td>0.201997</td>\n",
       "      <td>0.920880</td>\n",
       "      <td>21:24</td>\n",
       "    </tr>\n",
       "  </tbody>\n",
       "</table><p>\n",
       "\n",
       "    <div>\n",
       "        <style>\n",
       "            /* Turns off some styling */\n",
       "            progress {\n",
       "                /* gets rid of default border in Firefox and Opera. */\n",
       "                border: none;\n",
       "                /* Needs to be in here for Safari polyfill so background images work as expected. */\n",
       "                background-size: auto;\n",
       "            }\n",
       "            .progress-bar-interrupted, .progress-bar-interrupted::-webkit-progress-bar {\n",
       "                background: #F44336;\n",
       "            }\n",
       "        </style>\n",
       "      <progress value='280' class='' max='1041', style='width:300px; height:20px; vertical-align: middle;'></progress>\n",
       "      26.90% [280/1041 05:41<15:29 0.2686]\n",
       "    </div>\n",
       "    "
      ],
      "text/plain": [
       "<IPython.core.display.HTML object>"
      ]
     },
     "metadata": {},
     "output_type": "display_data"
    }
   ],
   "source": [
    "learn.unfreeze()\n",
    "learn.fit_one_cycle(2, slice(1e-3/(2.6**4),1e-3), moms=(0.8,0.7))"
   ]
  },
  {
   "cell_type": "markdown",
   "metadata": {},
   "source": [
    "Make a prediction on the string \"I really loved that movie, it was awesome!\"."
   ]
  },
  {
   "cell_type": "code",
   "execution_count": 28,
   "metadata": {},
   "outputs": [
    {
     "data": {
      "text/plain": [
       "(Category pos, tensor(1), tensor([0.0054, 0.9946]))"
      ]
     },
     "execution_count": 28,
     "metadata": {},
     "output_type": "execute_result"
    }
   ],
   "source": [
    "learn.predict(\"I really loved that movie, it was awesome!\")"
   ]
  },
  {
   "cell_type": "code",
   "execution_count": 29,
   "metadata": {},
   "outputs": [
    {
     "data": {
      "text/plain": [
       "(Category neg, tensor(0), tensor([0.7802, 0.2198]))"
      ]
     },
     "execution_count": 29,
     "metadata": {},
     "output_type": "execute_result"
    }
   ],
   "source": [
    "learn.predict(\"That movie sucked\")"
   ]
  }
 ],
 "metadata": {
  "kernelspec": {
   "display_name": "Python 3",
   "language": "python",
   "name": "python3"
  },
  "language_info": {
   "codemirror_mode": {
    "name": "ipython",
    "version": 3
   },
   "file_extension": ".py",
   "mimetype": "text/x-python",
   "name": "python",
   "nbconvert_exporter": "python",
   "pygments_lexer": "ipython3",
   "version": "3.6.8"
  }
 },
 "nbformat": 4,
 "nbformat_minor": 2
}
