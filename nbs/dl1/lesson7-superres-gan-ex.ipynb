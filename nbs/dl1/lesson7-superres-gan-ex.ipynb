{
 "cells": [
  {
   "cell_type": "markdown",
   "metadata": {},
   "source": [
    "## Pretrained GAN"
   ]
  },
  {
   "cell_type": "code",
   "execution_count": 1,
   "metadata": {
    "collapsed": true
   },
   "outputs": [],
   "source": [
    "import fastai\n",
    "from fastai.vision import *\n",
    "from fastai.callbacks import *\n",
    "from fastai.vision.gan import *"
   ]
  },
  {
   "cell_type": "markdown",
   "metadata": {},
   "source": [
    "Untar the data at `URLs.PETS` and save the path to `path`."
   ]
  },
  {
   "cell_type": "markdown",
   "metadata": {},
   "source": [
    "## Crappified data"
   ]
  },
  {
   "cell_type": "code",
   "execution_count": 3,
   "metadata": {
    "collapsed": true
   },
   "outputs": [],
   "source": [
    "from crappify import *"
   ]
  },
  {
   "cell_type": "markdown",
   "metadata": {},
   "source": [
    "Set `il` to an `ImageList` from the folder `path_hr`. In parallel call `crappifier` with `path_lr` aand `path_hr` as arguments over `il.items`."
   ]
  },
  {
   "cell_type": "markdown",
   "metadata": {},
   "source": [
    "Set `bs,size` to `32, 128`. Set `arch` to a resnet34."
   ]
  },
  {
   "cell_type": "markdown",
   "metadata": {},
   "source": [
    "## Pre-train generator"
   ]
  },
  {
   "cell_type": "markdown",
   "metadata": {},
   "source": [
    "Now let's pretrain the generator."
   ]
  },
  {
   "cell_type": "markdown",
   "metadata": {},
   "source": [
    "Set arch to a resnet34. Create an `ImageItemList` from the folder `path_lr`, split it by a random (10) percent with a random seed of 42. Assign it to `src`."
   ]
  },
  {
   "cell_type": "markdown",
   "metadata": {},
   "source": [
    "Create a function `get_data` that takes `src`, labels from a one-arg function that connects `path_hr` and `arg.name`, transform it with `get_transforms(max_zoom=2.)`, size is what you set above, and `tfm_y` should be `True` (Why is the last part important?); we should then call `databunch` using our `bs` from eaarlier, normalize with `imagenet_stats` and normalize the `y` values as well. Set `data.c` to 3 (can you explain why?) and return `data`."
   ]
  },
  {
   "cell_type": "markdown",
   "metadata": {},
   "source": [
    "Set `data_gen` to `get_data(bs, size)`."
   ]
  },
  {
   "cell_type": "markdown",
   "metadata": {},
   "source": [
    "Show 4 examples from the next batch."
   ]
  },
  {
   "cell_type": "code",
   "execution_count": 10,
   "metadata": {
    "collapsed": true
   },
   "outputs": [],
   "source": [
    "%matplotlib inline"
   ]
  },
  {
   "cell_type": "markdown",
   "metadata": {},
   "source": [
    "Set `wd` to `1e-3`."
   ]
  },
  {
   "cell_type": "markdown",
   "metadata": {},
   "source": [
    "Set the `y_range` to `(-3., 3.)`."
   ]
  },
  {
   "cell_type": "markdown",
   "metadata": {},
   "source": [
    "Set `loss_gen` to `MSELossFlat`."
   ]
  },
  {
   "cell_type": "markdown",
   "metadata": {},
   "source": [
    "Create a function `create_gen_learner` that creates a `unet_learner` that uses `data_gen`, `arch`, `wd`, sets `blur` to True (what does this do?), `norm_type=NormType.Weight` (what does this do?), `self_attention=True` (what does this do?), `y_range` and `loss_func=loss_gen`."
   ]
  },
  {
   "cell_type": "markdown",
   "metadata": {},
   "source": [
    "create_gen_learner and assign it to `learn_gen`."
   ]
  },
  {
   "cell_type": "markdown",
   "metadata": {},
   "source": [
    "Fit a cycle with 2 epochs and `pct_start=0.8`. What does `pct_start` do?"
   ]
  },
  {
   "cell_type": "markdown",
   "metadata": {},
   "source": [
    "Unfreeze the model."
   ]
  },
  {
   "cell_type": "markdown",
   "metadata": {},
   "source": [
    "Train it again for another 3-epoch cycle with an lr slice from 1e-6 to 1e-3."
   ]
  },
  {
   "cell_type": "markdown",
   "metadata": {},
   "source": [
    "Show the results with 4 rows."
   ]
  },
  {
   "cell_type": "markdown",
   "metadata": {},
   "source": [
    "Save the learner to gen-pre2."
   ]
  },
  {
   "cell_type": "markdown",
   "metadata": {},
   "source": [
    "## Save generated images"
   ]
  },
  {
   "cell_type": "markdown",
   "metadata": {},
   "source": [
    "Load the learner `gen-pre2`."
   ]
  },
  {
   "cell_type": "markdown",
   "metadata": {},
   "source": [
    "Set `name_gen` to `image_gen`, and set `path_gen` to `path/name_gen`."
   ]
  },
  {
   "cell_type": "markdown",
   "metadata": {},
   "source": [
    "Create `path_gen` (Hint: check out the `mkdir` method of a path object). What does `exist_ok` do?"
   ]
  },
  {
   "cell_type": "markdown",
   "metadata": {},
   "source": [
    "Write a function `save_preds` that takes in a data loader `dl`, iterates over the batches in that data loader, predicts images over each batch, and saves each image to `path_gen` with the same name as it had in the original dataset. Take advantage of `dl.dataset.items` to get the list of names from the data loader. Hint: you'll have to do a bit of looping here."
   ]
  },
  {
   "cell_type": "markdown",
   "metadata": {},
   "source": [
    "Call `save_preds` on `data_gen.fix_dl`. What does `fix_dl` do?"
   ]
  },
  {
   "cell_type": "markdown",
   "metadata": {},
   "source": [
    "Use `PIL` to open the first image in `path_gen`."
   ]
  },
  {
   "cell_type": "markdown",
   "metadata": {},
   "source": [
    "## Train critic"
   ]
  },
  {
   "cell_type": "markdown",
   "metadata": {},
   "source": [
    "Set `learn_gen` to `None`. Call `gc.collect`."
   ]
  },
  {
   "cell_type": "markdown",
   "metadata": {},
   "source": [
    "Create a function `get_crit_data` that takes as arguments `classes`, `bs`, `size`. It will:\n",
    "- Take an ImageList and split away a random 10% for validation with a random seed of 42\n",
    "- Transform with the default transforms except `max_zoom=2.`, size=size\n",
    "- turn it into a databunch with batch size bs anr normalize with imagenet stats\n",
    "- set the number of categories to 3"
   ]
  },
  {
   "cell_type": "markdown",
   "metadata": {},
   "source": [
    "set `data_crit` to the result of `get_crit_data` with arguments `[name_gen, 'images']`, `bs=bs`, `size=size`.  "
   ]
  },
  {
   "cell_type": "markdown",
   "metadata": {},
   "source": [
    "Show a batch over 3 rows with ds type `Train` and imgsize=3."
   ]
  },
  {
   "cell_type": "markdown",
   "metadata": {},
   "source": [
    "Set `loss_critic` to `AdaptiveLoss` with argument `nn.BCEWithLogitsLoss()`. What is this doing?"
   ]
  },
  {
   "cell_type": "markdown",
   "metadata": {},
   "source": [
    "Create a function `create_critic_learner` that takes arguments `data`, `metrics`. It should return a `Learner` object with arguments `data`, `gan_critic()`, `metrics=metrics`, `loss_function=loss_critic`, `wd=wd`. Can you explain what each of these is doing?"
   ]
  },
  {
   "cell_type": "markdown",
   "metadata": {},
   "source": [
    "Use `create_critic_learner` to create a learner `learn_critic`."
   ]
  },
  {
   "cell_type": "markdown",
   "metadata": {},
   "source": [
    "Fit a 6-epoch cycle with a max lr of 1e-3."
   ]
  },
  {
   "cell_type": "markdown",
   "metadata": {},
   "source": [
    "Save the model as `critic-pre2`."
   ]
  },
  {
   "cell_type": "markdown",
   "metadata": {},
   "source": [
    "## GAN"
   ]
  },
  {
   "cell_type": "markdown",
   "metadata": {},
   "source": [
    "Set `learn_crit` and `learn_gen` to `None`, and do another round of GPU garbage collection."
   ]
  },
  {
   "cell_type": "markdown",
   "metadata": {},
   "source": [
    "Load the crit data from dirs `['crappy', 'images']`, `bs=bs`, `size=size`."
   ]
  },
  {
   "cell_type": "markdown",
   "metadata": {},
   "source": [
    "Recreate the critic learner from the dad you just loaded with no metrics, and load `critic-pre2`."
   ]
  },
  {
   "cell_type": "markdown",
   "metadata": {},
   "source": [
    "Create a gen learner and load `gen-pre2`."
   ]
  },
  {
   "cell_type": "markdown",
   "metadata": {},
   "source": [
    "Create a `GANLearner`. There are a few pieces here:\n",
    "- Create a partial function based on `AdaptiveGANSwitcher` where `critic_thresh` = 0.65. Can you explain what the critic threshold is?\n",
    "- Create learner `learn` using `GANLearner.from_learners` with `learn_gen`, `learn_crit`, `weights_gen`=(1., 50.), `show_img=False`, `switcher=switcher`, `opt_func=partial(optim.Adam, betas=(0.,0.99))`, `wd=wd`. Explain what each of these means.\n",
    "- Append a partial function based on `GANDiscriminativeLR` with `mult_lr=5.` to the learner's callback functions. What does this do? "
   ]
  },
  {
   "cell_type": "markdown",
   "metadata": {},
   "source": [
    "Set the `lr` to `1e-4`."
   ]
  },
  {
   "cell_type": "markdown",
   "metadata": {},
   "source": [
    "Fit for 40 epochs with the lr above. This will take about an hour."
   ]
  },
  {
   "cell_type": "markdown",
   "metadata": {},
   "source": [
    "Save the model as `gan-lc`."
   ]
  },
  {
   "cell_type": "markdown",
   "metadata": {},
   "source": [
    "Set learn.data to a dataset with batch size 16 and image size 192. Hint: use `get_data`."
   ]
  },
  {
   "cell_type": "markdown",
   "metadata": {},
   "source": [
    "Fit for 10 epochs at half the lr you last used."
   ]
  },
  {
   "cell_type": "markdown",
   "metadata": {},
   "source": [
    "Show the results over 16 rows."
   ]
  },
  {
   "cell_type": "markdown",
   "metadata": {},
   "source": [
    "Save the results to `gan-1c`."
   ]
  },
  {
   "cell_type": "markdown",
   "metadata": {},
   "source": [
    "## fin"
   ]
  },
  {
   "cell_type": "code",
   "execution_count": null,
   "metadata": {
    "collapsed": true
   },
   "outputs": [],
   "source": []
  }
 ],
 "metadata": {
  "kernelspec": {
   "display_name": "Python 3",
   "language": "python",
   "name": "python3"
  },
  "language_info": {
   "codemirror_mode": {
    "name": "ipython",
    "version": 3
   },
   "file_extension": ".py",
   "mimetype": "text/x-python",
   "name": "python",
   "nbconvert_exporter": "python",
   "pygments_lexer": "ipython3",
   "version": "3.6.8"
  }
 },
 "nbformat": 4,
 "nbformat_minor": 2
}
