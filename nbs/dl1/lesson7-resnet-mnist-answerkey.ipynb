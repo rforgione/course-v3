{
 "cells": [
  {
   "cell_type": "markdown",
   "metadata": {},
   "source": [
    "## MNIST CNN"
   ]
  },
  {
   "cell_type": "code",
   "execution_count": 1,
   "metadata": {
    "collapsed": true
   },
   "outputs": [],
   "source": [
    "%reload_ext autoreload\n",
    "%autoreload 2\n",
    "%matplotlib inline"
   ]
  },
  {
   "cell_type": "code",
   "execution_count": 2,
   "metadata": {
    "collapsed": true
   },
   "outputs": [],
   "source": [
    "from fastai.vision import *"
   ]
  },
  {
   "cell_type": "markdown",
   "metadata": {},
   "source": [
    "### Data"
   ]
  },
  {
   "cell_type": "markdown",
   "metadata": {},
   "source": [
    "Untar the data for the MNIST dataset; save the path to `path`."
   ]
  },
  {
   "cell_type": "code",
   "execution_count": 3,
   "metadata": {
    "collapsed": true
   },
   "outputs": [],
   "source": [
    "path = untar_data(URLs.MNIST)"
   ]
  },
  {
   "cell_type": "markdown",
   "metadata": {},
   "source": [
    "Show the contents of the `path` directory."
   ]
  },
  {
   "cell_type": "code",
   "execution_count": 4,
   "metadata": {},
   "outputs": [
    {
     "data": {
      "text/plain": [
       "[PosixPath('/home/paperspace/.fastai/data/mnist_png/testing'),\n",
       " PosixPath('/home/paperspace/.fastai/data/mnist_png/training'),\n",
       " PosixPath('/home/paperspace/.fastai/data/mnist_png/models')]"
      ]
     },
     "execution_count": 4,
     "metadata": {},
     "output_type": "execute_result"
    }
   ],
   "source": [
    "path.ls()"
   ]
  },
  {
   "cell_type": "markdown",
   "metadata": {},
   "source": [
    "Create an `ImageList` from the folder `path`. Set `convert_mode` to `L`. Save it to variable `il`. What does this do?"
   ]
  },
  {
   "cell_type": "code",
   "execution_count": 5,
   "metadata": {
    "collapsed": true
   },
   "outputs": [],
   "source": [
    "il = ImageList.from_folder(path, convert_mode='L')"
   ]
  },
  {
   "cell_type": "markdown",
   "metadata": {},
   "source": [
    "Show the first element in the `items` attribute in `il`."
   ]
  },
  {
   "cell_type": "code",
   "execution_count": 6,
   "metadata": {},
   "outputs": [
    {
     "data": {
      "text/plain": [
       "PosixPath('/home/paperspace/.fastai/data/mnist_png/testing/6/4239.png')"
      ]
     },
     "execution_count": 6,
     "metadata": {},
     "output_type": "execute_result"
    }
   ],
   "source": [
    "il.items[0]"
   ]
  },
  {
   "cell_type": "markdown",
   "metadata": {},
   "source": [
    "Set `defaults.cmap` to `'binary'`. What does this do?"
   ]
  },
  {
   "cell_type": "code",
   "execution_count": 7,
   "metadata": {
    "collapsed": true
   },
   "outputs": [],
   "source": [
    "# cmap is the colormap to use when plotting.\n",
    "# when set to binary, it prints stuff out in black and white. \n",
    "defaults.cmap='binary'"
   ]
  },
  {
   "cell_type": "markdown",
   "metadata": {},
   "source": [
    "Take a look at `il`."
   ]
  },
  {
   "cell_type": "code",
   "execution_count": 8,
   "metadata": {},
   "outputs": [
    {
     "data": {
      "text/plain": [
       "ImageList (70000 items)\n",
       "Image (1, 28, 28),Image (1, 28, 28),Image (1, 28, 28),Image (1, 28, 28),Image (1, 28, 28)\n",
       "Path: /home/paperspace/.fastai/data/mnist_png"
      ]
     },
     "execution_count": 8,
     "metadata": {},
     "output_type": "execute_result"
    }
   ],
   "source": [
    "il"
   ]
  },
  {
   "cell_type": "markdown",
   "metadata": {},
   "source": [
    "Show the image in the first element of `il`. What's the difference in `il[0]` and `il.items[0]`?"
   ]
  },
  {
   "cell_type": "code",
   "execution_count": 9,
   "metadata": {},
   "outputs": [
    {
     "data": {
      "image/png": "[encoded data removed]",
      "text/plain": [
       "<Figure size 216x216 with 1 Axes>"
      ]
     },
     "metadata": {},
     "output_type": "display_data"
    }
   ],
   "source": [
    "# the .items property is the list of filenames. indexing into the \n",
    "# image directly actually opens the image.\n",
    "il[0].show()"
   ]
  },
  {
   "cell_type": "markdown",
   "metadata": {},
   "source": [
    "Split the imagelist by folder with training folder `training` and validation folder `testing`. Save to variable `sd`. "
   ]
  },
  {
   "cell_type": "code",
   "execution_count": 10,
   "metadata": {
    "collapsed": true
   },
   "outputs": [],
   "source": [
    "sd = il.split_by_folder(train='training', valid='testing')"
   ]
  },
  {
   "cell_type": "markdown",
   "metadata": {},
   "source": [
    "Show `sd`."
   ]
  },
  {
   "cell_type": "code",
   "execution_count": 11,
   "metadata": {},
   "outputs": [
    {
     "data": {
      "text/plain": [
       "ItemLists;\n",
       "\n",
       "Train: ImageList (60000 items)\n",
       "Image (1, 28, 28),Image (1, 28, 28),Image (1, 28, 28),Image (1, 28, 28),Image (1, 28, 28)\n",
       "Path: /home/paperspace/.fastai/data/mnist_png;\n",
       "\n",
       "Valid: ImageList (10000 items)\n",
       "Image (1, 28, 28),Image (1, 28, 28),Image (1, 28, 28),Image (1, 28, 28),Image (1, 28, 28)\n",
       "Path: /home/paperspace/.fastai/data/mnist_png;\n",
       "\n",
       "Test: None"
      ]
     },
     "execution_count": 11,
     "metadata": {},
     "output_type": "execute_result"
    }
   ],
   "source": [
    "sd"
   ]
  },
  {
   "cell_type": "markdown",
   "metadata": {},
   "source": [
    "Show the contents of `path/'training'`."
   ]
  },
  {
   "cell_type": "code",
   "execution_count": 12,
   "metadata": {},
   "outputs": [
    {
     "data": {
      "text/plain": [
       "[PosixPath('/home/paperspace/.fastai/data/mnist_png/training/6'),\n",
       " PosixPath('/home/paperspace/.fastai/data/mnist_png/training/4'),\n",
       " PosixPath('/home/paperspace/.fastai/data/mnist_png/training/0'),\n",
       " PosixPath('/home/paperspace/.fastai/data/mnist_png/training/2'),\n",
       " PosixPath('/home/paperspace/.fastai/data/mnist_png/training/3'),\n",
       " PosixPath('/home/paperspace/.fastai/data/mnist_png/training/5'),\n",
       " PosixPath('/home/paperspace/.fastai/data/mnist_png/training/7'),\n",
       " PosixPath('/home/paperspace/.fastai/data/mnist_png/training/1'),\n",
       " PosixPath('/home/paperspace/.fastai/data/mnist_png/training/8'),\n",
       " PosixPath('/home/paperspace/.fastai/data/mnist_png/training/9')]"
      ]
     },
     "execution_count": 12,
     "metadata": {},
     "output_type": "execute_result"
    }
   ],
   "source": [
    "(path/'training').ls()"
   ]
  },
  {
   "cell_type": "markdown",
   "metadata": {},
   "source": [
    "Label the examples from the folder they're in, and save the resulting `LabelLists` to `ll`. How do we call `label_from_folder` on an `ItemLists` when it's not actually a method on `ItemLists` (and `ItemLists` doesn't inherit from anything)?"
   ]
  },
  {
   "cell_type": "code",
   "execution_count": 13,
   "metadata": {
    "collapsed": true
   },
   "outputs": [],
   "source": [
    "ll = sd.label_from_folder()"
   ]
  },
  {
   "cell_type": "markdown",
   "metadata": {},
   "source": [
    "Show `ll`."
   ]
  },
  {
   "cell_type": "code",
   "execution_count": 14,
   "metadata": {},
   "outputs": [
    {
     "data": {
      "text/plain": [
       "LabelLists;\n",
       "\n",
       "Train: LabelList (60000 items)\n",
       "x: ImageList\n",
       "Image (1, 28, 28),Image (1, 28, 28),Image (1, 28, 28),Image (1, 28, 28),Image (1, 28, 28)\n",
       "y: CategoryList\n",
       "6,6,6,6,6\n",
       "Path: /home/paperspace/.fastai/data/mnist_png;\n",
       "\n",
       "Valid: LabelList (10000 items)\n",
       "x: ImageList\n",
       "Image (1, 28, 28),Image (1, 28, 28),Image (1, 28, 28),Image (1, 28, 28),Image (1, 28, 28)\n",
       "y: CategoryList\n",
       "6,6,6,6,6\n",
       "Path: /home/paperspace/.fastai/data/mnist_png;\n",
       "\n",
       "Test: None"
      ]
     },
     "execution_count": 14,
     "metadata": {},
     "output_type": "execute_result"
    }
   ],
   "source": [
    "ll"
   ]
  },
  {
   "cell_type": "markdown",
   "metadata": {},
   "source": [
    "Unpack the first item in the `train` property of `ll` into `x, y`."
   ]
  },
  {
   "cell_type": "code",
   "execution_count": 15,
   "metadata": {
    "collapsed": true
   },
   "outputs": [],
   "source": [
    "x,y = ll.train[0]"
   ]
  },
  {
   "cell_type": "markdown",
   "metadata": {},
   "source": [
    "Show `x`. Print the shapes of `x` and `y`. "
   ]
  },
  {
   "cell_type": "markdown",
   "metadata": {},
   "source": [
    "Can you explain the relationships between `ItemList`, `ItemLists`, `LabelList`, and `LabelLists`?"
   ]
  },
  {
   "cell_type": "code",
   "execution_count": 16,
   "metadata": {
    "collapsed": true
   },
   "outputs": [],
   "source": [
    "# ItemList is simply a list of items. These can be anything you'd expect to pass to a machine learning\n",
    "# model for training or inference.\n",
    "# ItemLists represents a training, validation, and (optionally) a test set grouped together in object.\n",
    "# LabelList represents a pair of ItemList objects, one as the x value (input) and one as the y val"
   ]
  },
  {
   "cell_type": "code",
   "execution_count": 17,
   "metadata": {},
   "outputs": [
    {
     "name": "stdout",
     "output_type": "stream",
     "text": [
      "6 torch.Size([1, 28, 28])\n"
     ]
    },
    {
     "data": {
      "image/png": "[encoded data removed]",
      "text/plain": [
       "<Figure size 216x216 with 1 Axes>"
      ]
     },
     "metadata": {},
     "output_type": "display_data"
    }
   ],
   "source": [
    "x.show()\n",
    "print(y,x.shape)"
   ]
  },
  {
   "cell_type": "markdown",
   "metadata": {},
   "source": [
    "Create a 2-tuple of lists of transformations, one for training and one for validation. The training transformations should be `[*rand_pad(padding=3, size=28, mode='zeros')]` and the validation ones should be empty. "
   ]
  },
  {
   "cell_type": "code",
   "execution_count": 18,
   "metadata": {
    "collapsed": true
   },
   "outputs": [],
   "source": [
    "tfms = ([*rand_pad(padding=3, size=28, mode='zeros')], [])"
   ]
  },
  {
   "cell_type": "markdown",
   "metadata": {},
   "source": [
    "Overwrite `ll` with the `transform`ed version of `ll` using `tfms`."
   ]
  },
  {
   "cell_type": "code",
   "execution_count": 19,
   "metadata": {
    "collapsed": true
   },
   "outputs": [],
   "source": [
    "ll = ll.transform(tfms)"
   ]
  },
  {
   "cell_type": "markdown",
   "metadata": {},
   "source": [
    "Set `bs=128`."
   ]
  },
  {
   "cell_type": "code",
   "execution_count": 20,
   "metadata": {
    "collapsed": true
   },
   "outputs": [],
   "source": [
    "bs = 128"
   ]
  },
  {
   "cell_type": "markdown",
   "metadata": {},
   "source": [
    "Set `data` to a `databunch` from `ll`, using `bs`, and normalize it. Note that we're not using `imagenet_stats` here because we're not using a pretrained model. What's the difference between a databunch and a `LabelLists`?"
   ]
  },
  {
   "cell_type": "code",
   "execution_count": 21,
   "metadata": {
    "collapsed": true
   },
   "outputs": [],
   "source": [
    "# not using imagenet_stats because not using pretrained model\n",
    "data = ll.databunch(bs=bs).normalize()"
   ]
  },
  {
   "cell_type": "markdown",
   "metadata": {},
   "source": [
    "Set `x` and `y` to the values in the first element in `data.train_ds`."
   ]
  },
  {
   "cell_type": "code",
   "execution_count": 22,
   "metadata": {
    "collapsed": true
   },
   "outputs": [],
   "source": [
    "x,y = data.train_ds[0]"
   ]
  },
  {
   "cell_type": "markdown",
   "metadata": {},
   "source": [
    "Show x. Print y."
   ]
  },
  {
   "cell_type": "code",
   "execution_count": 23,
   "metadata": {},
   "outputs": [
    {
     "name": "stdout",
     "output_type": "stream",
     "text": [
      "6\n"
     ]
    },
    {
     "data": {
      "image/png": "[encoded data removed]",
      "text/plain": [
       "<Figure size 216x216 with 1 Axes>"
      ]
     },
     "metadata": {},
     "output_type": "display_data"
    }
   ],
   "source": [
    "x.show()\n",
    "print(y)"
   ]
  },
  {
   "cell_type": "markdown",
   "metadata": {},
   "source": [
    "Define a function `_plot` that takes a row `i` a column `j` and a matplotlib axis `ax` and the first x value in `train_ds` with the cmap `gray`."
   ]
  },
  {
   "cell_type": "code",
   "execution_count": 24,
   "metadata": {},
   "outputs": [
    {
     "data": {
      "image/png": "[encoded data removed]",
      "text/plain": [
       "<Figure size 576x576 with 9 Axes>"
      ]
     },
     "metadata": {},
     "output_type": "display_data"
    }
   ],
   "source": [
    "def _plot(i,j,ax): data.train_ds[0][0].show(ax, cmap='gray')\n",
    "plot_multi(_plot, 3, 3, figsize=(8,8))"
   ]
  },
  {
   "cell_type": "markdown",
   "metadata": {},
   "source": [
    "Assign a batch of data to `xb` and `yb`."
   ]
  },
  {
   "cell_type": "code",
   "execution_count": 25,
   "metadata": {},
   "outputs": [
    {
     "data": {
      "text/plain": [
       "(torch.Size([128, 1, 28, 28]), torch.Size([128]))"
      ]
     },
     "execution_count": 25,
     "metadata": {},
     "output_type": "execute_result"
    }
   ],
   "source": [
    "xb,yb = data.one_batch()\n",
    "xb.shape,yb.shape"
   ]
  },
  {
   "cell_type": "markdown",
   "metadata": {},
   "source": [
    "Show the batch over three rows with a figsize of (5,5)."
   ]
  },
  {
   "cell_type": "code",
   "execution_count": 26,
   "metadata": {},
   "outputs": [
    {
     "data": {
      "image/png": "[encoded data removed]",
      "text/plain": [
       "<Figure size 360x360 with 9 Axes>"
      ]
     },
     "metadata": {},
     "output_type": "display_data"
    }
   ],
   "source": [
    "data.show_batch(rows=3, figsize=(5,5))"
   ]
  },
  {
   "cell_type": "markdown",
   "metadata": {},
   "source": [
    "### Basic CNN with batchnorm"
   ]
  },
  {
   "cell_type": "markdown",
   "metadata": {},
   "source": [
    "Define a function `conv` with arguments `ni` and `nf` that creates a `nn.Conv2d` filter with `ni` inputs, `nf` filters, a kernel size of 3, stride of 2, and padding of 1."
   ]
  },
  {
   "cell_type": "code",
   "execution_count": 27,
   "metadata": {
    "collapsed": true
   },
   "outputs": [],
   "source": [
    "def conv(ni,nf): return nn.Conv2d(ni, nf, kernel_size=3, stride=2, padding=1)"
   ]
  },
  {
   "cell_type": "markdown",
   "metadata": {},
   "source": [
    "create a `nn.Sequential` that takes a 28x28 and starts with `ni` and `nf` of 1 and 8 respectively and adds blocks of (conv, batchnorm2d, relu) until there are 10 filters of size (1,1), and then flatten that."
   ]
  },
  {
   "cell_type": "code",
   "execution_count": 28,
   "metadata": {
    "collapsed": true
   },
   "outputs": [],
   "source": [
    "model = nn.Sequential(\n",
    "    conv(1, 8), # 14\n",
    "    nn.BatchNorm2d(8),\n",
    "    nn.ReLU(),\n",
    "    conv(8, 16), # 7\n",
    "    nn.BatchNorm2d(16),\n",
    "    nn.ReLU(),\n",
    "    conv(16, 32), # 4\n",
    "    nn.BatchNorm2d(32),\n",
    "    nn.ReLU(),\n",
    "    conv(32, 16), # 2\n",
    "    nn.BatchNorm2d(16),\n",
    "    nn.ReLU(),\n",
    "    conv(16, 10), # 1\n",
    "    nn.BatchNorm2d(10),\n",
    "    Flatten()     # remove (1,1) grid\n",
    ")"
   ]
  },
  {
   "cell_type": "markdown",
   "metadata": {},
   "source": [
    "Instantiate a learner object that takes our data, model, a loss func of `nn.CrossEntropyLoss` and the `accuracy` metric."
   ]
  },
  {
   "cell_type": "code",
   "execution_count": 29,
   "metadata": {
    "collapsed": true
   },
   "outputs": [],
   "source": [
    "learn = Learner(data, model, loss_func = nn.CrossEntropyLoss(), metrics=accuracy)"
   ]
  },
  {
   "cell_type": "markdown",
   "metadata": {},
   "source": [
    "Print a summary of your model and look it over."
   ]
  },
  {
   "cell_type": "code",
   "execution_count": 30,
   "metadata": {},
   "outputs": [
    {
     "name": "stdout",
     "output_type": "stream",
     "text": [
      "======================================================================\n",
      "Layer (type)         Output Shape         Param #    Trainable \n",
      "======================================================================\n",
      "Conv2d               [8, 14, 14]          80         True      \n",
      "______________________________________________________________________\n",
      "BatchNorm2d          [8, 14, 14]          16         True      \n",
      "______________________________________________________________________\n",
      "ReLU                 [8, 14, 14]          0          False     \n",
      "______________________________________________________________________\n",
      "Conv2d               [16, 7, 7]           1,168      True      \n",
      "______________________________________________________________________\n",
      "BatchNorm2d          [16, 7, 7]           32         True      \n",
      "______________________________________________________________________\n",
      "ReLU                 [16, 7, 7]           0          False     \n",
      "______________________________________________________________________\n",
      "Conv2d               [32, 4, 4]           4,640      True      \n",
      "______________________________________________________________________\n",
      "BatchNorm2d          [32, 4, 4]           64         True      \n",
      "______________________________________________________________________\n",
      "ReLU                 [32, 4, 4]           0          False     \n",
      "______________________________________________________________________\n",
      "Conv2d               [16, 2, 2]           4,624      True      \n",
      "______________________________________________________________________\n",
      "BatchNorm2d          [16, 2, 2]           32         True      \n",
      "______________________________________________________________________\n",
      "ReLU                 [16, 2, 2]           0          False     \n",
      "______________________________________________________________________\n",
      "Conv2d               [10, 1, 1]           1,450      True      \n",
      "______________________________________________________________________\n",
      "BatchNorm2d          [10, 1, 1]           20         True      \n",
      "______________________________________________________________________\n",
      "Flatten              [10]                 0          False     \n",
      "______________________________________________________________________\n",
      "\n",
      "Total params: 12,126\n",
      "Total trainable params: 12,126\n",
      "Total non-trainable params: 0\n",
      "\n"
     ]
    }
   ],
   "source": [
    "print(learn.summary())"
   ]
  },
  {
   "cell_type": "markdown",
   "metadata": {},
   "source": [
    "Put `xb` on the GPU."
   ]
  },
  {
   "cell_type": "code",
   "execution_count": 31,
   "metadata": {
    "collapsed": true
   },
   "outputs": [],
   "source": [
    "xb = xb.cuda()"
   ]
  },
  {
   "cell_type": "markdown",
   "metadata": {},
   "source": [
    "Do `model(xb).shape`."
   ]
  },
  {
   "cell_type": "code",
   "execution_count": 32,
   "metadata": {},
   "outputs": [
    {
     "data": {
      "text/plain": [
       "torch.Size([128, 10])"
      ]
     },
     "execution_count": 32,
     "metadata": {},
     "output_type": "execute_result"
    }
   ],
   "source": [
    "model(xb).shape"
   ]
  },
  {
   "cell_type": "markdown",
   "metadata": {},
   "source": [
    "Find an lr (end_lr=100; what does this do?)"
   ]
  },
  {
   "cell_type": "code",
   "execution_count": 33,
   "metadata": {},
   "outputs": [
    {
     "data": {
      "text/html": [],
      "text/plain": [
       "<IPython.core.display.HTML object>"
      ]
     },
     "metadata": {},
     "output_type": "display_data"
    },
    {
     "name": "stdout",
     "output_type": "stream",
     "text": [
      "LR Finder is complete, type {learner_name}.recorder.plot() to see the graph.\n"
     ]
    }
   ],
   "source": [
    "# end_lr shows the maximum LR that our learning rate finder will explore.\n",
    "learn.lr_find(end_lr=100)"
   ]
  },
  {
   "cell_type": "markdown",
   "metadata": {},
   "source": [
    "Plot the learning rates. You shoudl land somewhere around 1e-2."
   ]
  },
  {
   "cell_type": "code",
   "execution_count": 34,
   "metadata": {},
   "outputs": [
    {
     "data": {
      "image/png": "[encoded data removed]",
      "text/plain": [
       "<Figure size 432x288 with 1 Axes>"
      ]
     },
     "metadata": {},
     "output_type": "display_data"
    }
   ],
   "source": [
    "learn.recorder.plot()"
   ]
  },
  {
   "cell_type": "markdown",
   "metadata": {},
   "source": [
    "Fit a cycle with 3 epochs and a max_lr of 0.1."
   ]
  },
  {
   "cell_type": "code",
   "execution_count": 35,
   "metadata": {},
   "outputs": [
    {
     "data": {
      "text/html": [
       "Total time: 00:59 <p><table style='width:375px; margin-bottom:10px'>\n",
       "  <tr>\n",
       "    <th>epoch</th>\n",
       "    <th>train_loss</th>\n",
       "    <th>valid_loss</th>\n",
       "    <th>accuracy</th>\n",
       "    <th>time</th>\n",
       "  </tr>\n",
       "  <tr>\n",
       "    <th>0</th>\n",
       "    <th>0.231801</th>\n",
       "    <th>0.284263</th>\n",
       "    <th>0.911900</th>\n",
       "    <th>00:30</th>\n",
       "  </tr>\n",
       "  <tr>\n",
       "    <th>1</th>\n",
       "    <th>0.144532</th>\n",
       "    <th>0.121787</th>\n",
       "    <th>0.962100</th>\n",
       "    <th>00:15</th>\n",
       "  </tr>\n",
       "  <tr>\n",
       "    <th>2</th>\n",
       "    <th>0.073218</th>\n",
       "    <th>0.043479</th>\n",
       "    <th>0.986700</th>\n",
       "    <th>00:13</th>\n",
       "  </tr>\n",
       "</table>\n"
      ],
      "text/plain": [
       "<IPython.core.display.HTML object>"
      ]
     },
     "metadata": {},
     "output_type": "display_data"
    }
   ],
   "source": [
    "learn.fit_one_cycle(3, max_lr=0.1)"
   ]
  },
  {
   "cell_type": "markdown",
   "metadata": {},
   "source": [
    "### Refactor"
   ]
  },
  {
   "cell_type": "markdown",
   "metadata": {},
   "source": [
    "Take a look at the documentation for `conv_layer`."
   ]
  },
  {
   "cell_type": "code",
   "execution_count": 36,
   "metadata": {
    "collapsed": true
   },
   "outputs": [],
   "source": [
    "doc(conv_layer)"
   ]
  },
  {
   "cell_type": "markdown",
   "metadata": {},
   "source": [
    "Define a new function `conv2` that takes in `ni`, the number of inputs, and `nf`, the number of filters, and creates a new conv layer with `stride=2`."
   ]
  },
  {
   "cell_type": "code",
   "execution_count": 37,
   "metadata": {
    "collapsed": true
   },
   "outputs": [],
   "source": [
    "def conv2(ni,nf): return conv_layer(ni,nf,stride=2)"
   ]
  },
  {
   "cell_type": "markdown",
   "metadata": {},
   "source": [
    "Rewrite the model above in terms of `conv2`. For each layer, add a comment with the length/width of the square image."
   ]
  },
  {
   "cell_type": "code",
   "execution_count": 38,
   "metadata": {
    "collapsed": true
   },
   "outputs": [],
   "source": [
    "model = nn.Sequential(\n",
    "    conv2(1, 8),   # 14\n",
    "    conv2(8, 16),  # 7\n",
    "    conv2(16, 32), # 4\n",
    "    conv2(32, 16), # 2\n",
    "    conv2(16, 10), # 1\n",
    "    Flatten()      # remove (1,1) grid\n",
    ")"
   ]
  },
  {
   "cell_type": "markdown",
   "metadata": {},
   "source": [
    "Create a learner (named `learn`) from the new model, same specs as above."
   ]
  },
  {
   "cell_type": "code",
   "execution_count": 39,
   "metadata": {
    "collapsed": true
   },
   "outputs": [],
   "source": [
    "learn = Learner(data, model, loss_func = nn.CrossEntropyLoss(), metrics=accuracy)"
   ]
  },
  {
   "cell_type": "markdown",
   "metadata": {},
   "source": [
    "Show `learn.summary`."
   ]
  },
  {
   "cell_type": "code",
   "execution_count": 40,
   "metadata": {},
   "outputs": [
    {
     "data": {
      "text/plain": [
       "======================================================================\n",
       "Layer (type)         Output Shape         Param #    Trainable \n",
       "======================================================================\n",
       "Conv2d               [8, 14, 14]          72         True      \n",
       "______________________________________________________________________\n",
       "ReLU                 [8, 14, 14]          0          False     \n",
       "______________________________________________________________________\n",
       "BatchNorm2d          [8, 14, 14]          16         True      \n",
       "______________________________________________________________________\n",
       "Conv2d               [16, 7, 7]           1,152      True      \n",
       "______________________________________________________________________\n",
       "ReLU                 [16, 7, 7]           0          False     \n",
       "______________________________________________________________________\n",
       "BatchNorm2d          [16, 7, 7]           32         True      \n",
       "______________________________________________________________________\n",
       "Conv2d               [32, 4, 4]           4,608      True      \n",
       "______________________________________________________________________\n",
       "ReLU                 [32, 4, 4]           0          False     \n",
       "______________________________________________________________________\n",
       "BatchNorm2d          [32, 4, 4]           64         True      \n",
       "______________________________________________________________________\n",
       "Conv2d               [16, 2, 2]           4,608      True      \n",
       "______________________________________________________________________\n",
       "ReLU                 [16, 2, 2]           0          False     \n",
       "______________________________________________________________________\n",
       "BatchNorm2d          [16, 2, 2]           32         True      \n",
       "______________________________________________________________________\n",
       "Conv2d               [10, 1, 1]           1,440      True      \n",
       "______________________________________________________________________\n",
       "ReLU                 [10, 1, 1]           0          False     \n",
       "______________________________________________________________________\n",
       "BatchNorm2d          [10, 1, 1]           20         True      \n",
       "______________________________________________________________________\n",
       "Flatten              [10]                 0          False     \n",
       "______________________________________________________________________\n",
       "\n",
       "Total params: 12,044\n",
       "Total trainable params: 12,044\n",
       "Total non-trainable params: 0"
      ]
     },
     "execution_count": 40,
     "metadata": {},
     "output_type": "execute_result"
    }
   ],
   "source": [
    "learn.summary()"
   ]
  },
  {
   "cell_type": "markdown",
   "metadata": {},
   "source": [
    "Fit a cycle with 10 epochs, max_lr=0.1"
   ]
  },
  {
   "cell_type": "code",
   "execution_count": 41,
   "metadata": {},
   "outputs": [
    {
     "data": {
      "text/html": [
       "Total time: 02:38 <p><table style='width:375px; margin-bottom:10px'>\n",
       "  <tr>\n",
       "    <th>epoch</th>\n",
       "    <th>train_loss</th>\n",
       "    <th>valid_loss</th>\n",
       "    <th>accuracy</th>\n",
       "    <th>time</th>\n",
       "  </tr>\n",
       "  <tr>\n",
       "    <th>0</th>\n",
       "    <th>0.238741</th>\n",
       "    <th>0.198119</th>\n",
       "    <th>0.936900</th>\n",
       "    <th>00:14</th>\n",
       "  </tr>\n",
       "  <tr>\n",
       "    <th>1</th>\n",
       "    <th>0.183715</th>\n",
       "    <th>0.165070</th>\n",
       "    <th>0.947600</th>\n",
       "    <th>00:16</th>\n",
       "  </tr>\n",
       "  <tr>\n",
       "    <th>2</th>\n",
       "    <th>0.168344</th>\n",
       "    <th>0.247575</th>\n",
       "    <th>0.919000</th>\n",
       "    <th>00:13</th>\n",
       "  </tr>\n",
       "  <tr>\n",
       "    <th>3</th>\n",
       "    <th>0.150107</th>\n",
       "    <th>0.091140</th>\n",
       "    <th>0.972300</th>\n",
       "    <th>00:18</th>\n",
       "  </tr>\n",
       "  <tr>\n",
       "    <th>4</th>\n",
       "    <th>0.111284</th>\n",
       "    <th>0.091909</th>\n",
       "    <th>0.970300</th>\n",
       "    <th>00:14</th>\n",
       "  </tr>\n",
       "  <tr>\n",
       "    <th>5</th>\n",
       "    <th>0.113711</th>\n",
       "    <th>0.065415</th>\n",
       "    <th>0.980500</th>\n",
       "    <th>00:14</th>\n",
       "  </tr>\n",
       "  <tr>\n",
       "    <th>6</th>\n",
       "    <th>0.082892</th>\n",
       "    <th>0.053101</th>\n",
       "    <th>0.983600</th>\n",
       "    <th>00:17</th>\n",
       "  </tr>\n",
       "  <tr>\n",
       "    <th>7</th>\n",
       "    <th>0.067486</th>\n",
       "    <th>0.038310</th>\n",
       "    <th>0.987600</th>\n",
       "    <th>00:18</th>\n",
       "  </tr>\n",
       "  <tr>\n",
       "    <th>8</th>\n",
       "    <th>0.055851</th>\n",
       "    <th>0.028660</th>\n",
       "    <th>0.989900</th>\n",
       "    <th>00:15</th>\n",
       "  </tr>\n",
       "  <tr>\n",
       "    <th>9</th>\n",
       "    <th>0.042318</th>\n",
       "    <th>0.028251</th>\n",
       "    <th>0.991300</th>\n",
       "    <th>00:13</th>\n",
       "  </tr>\n",
       "</table>\n"
      ],
      "text/plain": [
       "<IPython.core.display.HTML object>"
      ]
     },
     "metadata": {},
     "output_type": "display_data"
    }
   ],
   "source": [
    "learn.fit_one_cycle(10, max_lr=0.1)"
   ]
  },
  {
   "cell_type": "markdown",
   "metadata": {},
   "source": [
    "### Resnet-ish"
   ]
  },
  {
   "cell_type": "code",
   "execution_count": 42,
   "metadata": {
    "collapsed": true
   },
   "outputs": [],
   "source": [
    "class ResBlock(nn.Module):\n",
    "    def __init__(self, nf):\n",
    "        super().__init__()\n",
    "        self.conv1 = conv_layer(nf,nf)\n",
    "        self.conv2 = conv_layer(nf,nf)\n",
    "        \n",
    "    def forward(self, x): return x + self.conv2(self.conv1(x))"
   ]
  },
  {
   "cell_type": "code",
   "execution_count": 45,
   "metadata": {},
   "outputs": [
    {
     "name": "stdout",
     "output_type": "stream",
     "text": [
      "Help on function conv_layer in module fastai.layers:\n",
      "\n",
      "conv_layer(ni:int, nf:int, ks:int=3, stride:int=1, padding:int=None, bias:bool=None, is_1d:bool=False, norm_type:Union[fastai.layers.NormType, NoneType]=<NormType.Batch: 1>, use_activ:bool=True, leaky:float=None, transpose:bool=False, init:Callable=<function kaiming_normal_ at 0x7f02f05f9f28>, self_attention:bool=False)\n",
      "    Create a sequence of convolutional (`ni` to `nf`), ReLU (if `use_activ`) and batchnorm (if `bn`) layers.\n",
      "\n"
     ]
    }
   ],
   "source": [
    "help(conv_layer)"
   ]
  },
  {
   "cell_type": "markdown",
   "metadata": {},
   "source": [
    "Get help with `res_block`."
   ]
  },
  {
   "cell_type": "code",
   "execution_count": 50,
   "metadata": {},
   "outputs": [
    {
     "name": "stdout",
     "output_type": "stream",
     "text": [
      "Help on function res_block in module fastai.layers:\n",
      "\n",
      "res_block(nf, dense:bool=False, norm_type:Union[fastai.layers.NormType, NoneType]=<NormType.Batch: 1>, bottle:bool=False, **conv_kwargs)\n",
      "    Resnet block of `nf` features. `conv_kwargs` are passed to `conv_layer`.\n",
      "\n"
     ]
    }
   ],
   "source": [
    "help(res_block)"
   ]
  },
  {
   "cell_type": "markdown",
   "metadata": {},
   "source": [
    "Show the documentation for `res_block`."
   ]
  },
  {
   "cell_type": "code",
   "execution_count": 46,
   "metadata": {
    "collapsed": true
   },
   "outputs": [],
   "source": [
    "doc(res_block)"
   ]
  },
  {
   "cell_type": "markdown",
   "metadata": {},
   "source": [
    "Create a model thaat alternates a conv2 with a res_block until you get down to a vector of outputs."
   ]
  },
  {
   "cell_type": "code",
   "execution_count": 47,
   "metadata": {
    "collapsed": true
   },
   "outputs": [],
   "source": [
    "model = nn.Sequential(\n",
    "    conv2(1, 8),   # 14 x 14 x 8\n",
    "    res_block(8),  # 14 x 14 x 8\n",
    "    conv2(8, 16),  # 7 x 7 x 16\n",
    "    res_block(16), # 7 x 7 x 16\n",
    "    conv2(16, 32), # 4 x 4 x 32\n",
    "    res_block(32), # 4 x 4 x 32\n",
    "    conv2(32, 16), # 2 x 2 x 16\n",
    "    res_block(16), # 2 x 2 x 16\n",
    "    conv2(16, 10), # 1 x 1 x 10\n",
    "    Flatten()      # 1 x 10\n",
    ")"
   ]
  },
  {
   "cell_type": "markdown",
   "metadata": {},
   "source": [
    "Show the documentation for `res_block`."
   ]
  },
  {
   "cell_type": "code",
   "execution_count": 44,
   "metadata": {
    "collapsed": true
   },
   "outputs": [],
   "source": [
    "doc(res_block)"
   ]
  },
  {
   "cell_type": "markdown",
   "metadata": {},
   "source": [
    "Create a function `conv_and_res` that takes `ni` and `nf` and returns a sequential model with a `conv2` with ni, nf and a res_block with `nf`."
   ]
  },
  {
   "cell_type": "code",
   "execution_count": 45,
   "metadata": {
    "collapsed": true
   },
   "outputs": [],
   "source": [
    "def conv_and_res(ni,nf): return nn.Sequential(conv2(ni, nf), res_block(nf))"
   ]
  },
  {
   "cell_type": "markdown",
   "metadata": {},
   "source": [
    "Rewrite the model in terms of `conv_and_res` and `conv2`."
   ]
  },
  {
   "cell_type": "code",
   "execution_count": 60,
   "metadata": {
    "collapsed": true
   },
   "outputs": [],
   "source": [
    "model = nn.Sequential(\n",
    "    conv_and_res(1, 8),\n",
    "    conv_and_res(8, 16),\n",
    "    conv_and_res(16, 32),\n",
    "    conv_and_res(32, 16),\n",
    "    conv2(16, 10),\n",
    "    Flatten()\n",
    ")"
   ]
  },
  {
   "cell_type": "markdown",
   "metadata": {},
   "source": [
    "Create a `learn`er."
   ]
  },
  {
   "cell_type": "code",
   "execution_count": 61,
   "metadata": {
    "collapsed": true
   },
   "outputs": [],
   "source": [
    "learn = Learner(data, model, loss_func = nn.CrossEntropyLoss(), metrics=accuracy)"
   ]
  },
  {
   "cell_type": "markdown",
   "metadata": {},
   "source": [
    "Show a summary of the learner."
   ]
  },
  {
   "cell_type": "code",
   "execution_count": 62,
   "metadata": {},
   "outputs": [
    {
     "data": {
      "text/plain": [
       "======================================================================\n",
       "Layer (type)         Output Shape         Param #    Trainable \n",
       "======================================================================\n",
       "Conv2d               [8, 14, 14]          72         True      \n",
       "______________________________________________________________________\n",
       "ReLU                 [8, 14, 14]          0          False     \n",
       "______________________________________________________________________\n",
       "BatchNorm2d          [8, 14, 14]          16         True      \n",
       "______________________________________________________________________\n",
       "Conv2d               [8, 14, 14]          576        True      \n",
       "______________________________________________________________________\n",
       "ReLU                 [8, 14, 14]          0          False     \n",
       "______________________________________________________________________\n",
       "BatchNorm2d          [8, 14, 14]          16         True      \n",
       "______________________________________________________________________\n",
       "Conv2d               [8, 14, 14]          576        True      \n",
       "______________________________________________________________________\n",
       "ReLU                 [8, 14, 14]          0          False     \n",
       "______________________________________________________________________\n",
       "BatchNorm2d          [8, 14, 14]          16         True      \n",
       "______________________________________________________________________\n",
       "MergeLayer           [8, 14, 14]          0          False     \n",
       "______________________________________________________________________\n",
       "Conv2d               [16, 7, 7]           1,152      True      \n",
       "______________________________________________________________________\n",
       "ReLU                 [16, 7, 7]           0          False     \n",
       "______________________________________________________________________\n",
       "BatchNorm2d          [16, 7, 7]           32         True      \n",
       "______________________________________________________________________\n",
       "Conv2d               [16, 7, 7]           2,304      True      \n",
       "______________________________________________________________________\n",
       "ReLU                 [16, 7, 7]           0          False     \n",
       "______________________________________________________________________\n",
       "BatchNorm2d          [16, 7, 7]           32         True      \n",
       "______________________________________________________________________\n",
       "Conv2d               [16, 7, 7]           2,304      True      \n",
       "______________________________________________________________________\n",
       "ReLU                 [16, 7, 7]           0          False     \n",
       "______________________________________________________________________\n",
       "BatchNorm2d          [16, 7, 7]           32         True      \n",
       "______________________________________________________________________\n",
       "MergeLayer           [16, 7, 7]           0          False     \n",
       "______________________________________________________________________\n",
       "Conv2d               [32, 4, 4]           4,608      True      \n",
       "______________________________________________________________________\n",
       "ReLU                 [32, 4, 4]           0          False     \n",
       "______________________________________________________________________\n",
       "BatchNorm2d          [32, 4, 4]           64         True      \n",
       "______________________________________________________________________\n",
       "Conv2d               [32, 4, 4]           9,216      True      \n",
       "______________________________________________________________________\n",
       "ReLU                 [32, 4, 4]           0          False     \n",
       "______________________________________________________________________\n",
       "BatchNorm2d          [32, 4, 4]           64         True      \n",
       "______________________________________________________________________\n",
       "Conv2d               [32, 4, 4]           9,216      True      \n",
       "______________________________________________________________________\n",
       "ReLU                 [32, 4, 4]           0          False     \n",
       "______________________________________________________________________\n",
       "BatchNorm2d          [32, 4, 4]           64         True      \n",
       "______________________________________________________________________\n",
       "MergeLayer           [32, 4, 4]           0          False     \n",
       "______________________________________________________________________\n",
       "Conv2d               [16, 2, 2]           4,608      True      \n",
       "______________________________________________________________________\n",
       "ReLU                 [16, 2, 2]           0          False     \n",
       "______________________________________________________________________\n",
       "BatchNorm2d          [16, 2, 2]           32         True      \n",
       "______________________________________________________________________\n",
       "Conv2d               [16, 2, 2]           2,304      True      \n",
       "______________________________________________________________________\n",
       "ReLU                 [16, 2, 2]           0          False     \n",
       "______________________________________________________________________\n",
       "BatchNorm2d          [16, 2, 2]           32         True      \n",
       "______________________________________________________________________\n",
       "Conv2d               [16, 2, 2]           2,304      True      \n",
       "______________________________________________________________________\n",
       "ReLU                 [16, 2, 2]           0          False     \n",
       "______________________________________________________________________\n",
       "BatchNorm2d          [16, 2, 2]           32         True      \n",
       "______________________________________________________________________\n",
       "MergeLayer           [16, 2, 2]           0          False     \n",
       "______________________________________________________________________\n",
       "Conv2d               [10, 1, 1]           1,440      True      \n",
       "______________________________________________________________________\n",
       "ReLU                 [10, 1, 1]           0          False     \n",
       "______________________________________________________________________\n",
       "BatchNorm2d          [10, 1, 1]           20         True      \n",
       "______________________________________________________________________\n",
       "Flatten              [10]                 0          False     \n",
       "______________________________________________________________________\n",
       "\n",
       "Total params: 41,132\n",
       "Total trainable params: 41,132\n",
       "Total non-trainable params: 0"
      ]
     },
     "execution_count": 62,
     "metadata": {},
     "output_type": "execute_result"
    }
   ],
   "source": [
    "learn.summary()"
   ]
  },
  {
   "cell_type": "markdown",
   "metadata": {},
   "source": [
    "Find the learning rate (Hint: `end_lr=100`)"
   ]
  },
  {
   "cell_type": "code",
   "execution_count": 48,
   "metadata": {},
   "outputs": [
    {
     "data": {
      "text/html": [],
      "text/plain": [
       "<IPython.core.display.HTML object>"
      ]
     },
     "metadata": {},
     "output_type": "display_data"
    },
    {
     "name": "stdout",
     "output_type": "stream",
     "text": [
      "LR Finder is complete, type {learner_name}.recorder.plot() to see the graph.\n"
     ]
    },
    {
     "data": {
      "image/png": "[encoded data removed]",
      "text/plain": [
       "<Figure size 432x288 with 1 Axes>"
      ]
     },
     "metadata": {},
     "output_type": "display_data"
    }
   ],
   "source": [
    "learn.lr_find(end_lr=100)\n",
    "learn.recorder.plot()"
   ]
  },
  {
   "cell_type": "markdown",
   "metadata": {},
   "source": [
    "Fit a 12-epoch cycle with max_lr=0.05 (or whatever you just found for learning rate)"
   ]
  },
  {
   "cell_type": "code",
   "execution_count": 49,
   "metadata": {},
   "outputs": [
    {
     "data": {
      "text/html": [
       "Total time: 01:48 <p><table style='width:375px; margin-bottom:10px'>\n",
       "  <tr>\n",
       "    <th>epoch</th>\n",
       "    <th>train_loss</th>\n",
       "    <th>valid_loss</th>\n",
       "    <th>accuracy</th>\n",
       "    <th>time</th>\n",
       "  </tr>\n",
       "  <tr>\n",
       "    <th>0</th>\n",
       "    <th>0.239462</th>\n",
       "    <th>0.147293</th>\n",
       "    <th>0.960100</th>\n",
       "    <th>00:09</th>\n",
       "  </tr>\n",
       "  <tr>\n",
       "    <th>1</th>\n",
       "    <th>0.129276</th>\n",
       "    <th>0.124540</th>\n",
       "    <th>0.962200</th>\n",
       "    <th>00:09</th>\n",
       "  </tr>\n",
       "  <tr>\n",
       "    <th>2</th>\n",
       "    <th>0.102527</th>\n",
       "    <th>0.118418</th>\n",
       "    <th>0.965100</th>\n",
       "    <th>00:09</th>\n",
       "  </tr>\n",
       "  <tr>\n",
       "    <th>3</th>\n",
       "    <th>0.083226</th>\n",
       "    <th>0.093571</th>\n",
       "    <th>0.972400</th>\n",
       "    <th>00:09</th>\n",
       "  </tr>\n",
       "  <tr>\n",
       "    <th>4</th>\n",
       "    <th>0.067582</th>\n",
       "    <th>0.072308</th>\n",
       "    <th>0.976500</th>\n",
       "    <th>00:09</th>\n",
       "  </tr>\n",
       "  <tr>\n",
       "    <th>5</th>\n",
       "    <th>0.063371</th>\n",
       "    <th>0.051599</th>\n",
       "    <th>0.984400</th>\n",
       "    <th>00:08</th>\n",
       "  </tr>\n",
       "  <tr>\n",
       "    <th>6</th>\n",
       "    <th>0.055439</th>\n",
       "    <th>0.059813</th>\n",
       "    <th>0.980800</th>\n",
       "    <th>00:09</th>\n",
       "  </tr>\n",
       "  <tr>\n",
       "    <th>7</th>\n",
       "    <th>0.049826</th>\n",
       "    <th>0.031558</th>\n",
       "    <th>0.990100</th>\n",
       "    <th>00:09</th>\n",
       "  </tr>\n",
       "  <tr>\n",
       "    <th>8</th>\n",
       "    <th>0.033731</th>\n",
       "    <th>0.023663</th>\n",
       "    <th>0.992100</th>\n",
       "    <th>00:09</th>\n",
       "  </tr>\n",
       "  <tr>\n",
       "    <th>9</th>\n",
       "    <th>0.025412</th>\n",
       "    <th>0.018348</th>\n",
       "    <th>0.993500</th>\n",
       "    <th>00:09</th>\n",
       "  </tr>\n",
       "  <tr>\n",
       "    <th>10</th>\n",
       "    <th>0.023201</th>\n",
       "    <th>0.015772</th>\n",
       "    <th>0.994400</th>\n",
       "    <th>00:09</th>\n",
       "  </tr>\n",
       "  <tr>\n",
       "    <th>11</th>\n",
       "    <th>0.015963</th>\n",
       "    <th>0.015342</th>\n",
       "    <th>0.994900</th>\n",
       "    <th>00:09</th>\n",
       "  </tr>\n",
       "</table>\n"
      ],
      "text/plain": [
       "<IPython.core.display.HTML object>"
      ]
     },
     "metadata": {},
     "output_type": "display_data"
    }
   ],
   "source": [
    "learn.fit_one_cycle(12, max_lr=0.05)"
   ]
  },
  {
   "cell_type": "markdown",
   "metadata": {},
   "source": [
    "Show the learner summary one more time."
   ]
  },
  {
   "cell_type": "code",
   "execution_count": 64,
   "metadata": {},
   "outputs": [
    {
     "name": "stdout",
     "output_type": "stream",
     "text": [
      "======================================================================\n",
      "Layer (type)         Output Shape         Param #    Trainable \n",
      "======================================================================\n",
      "Conv2d               [8, 14, 14]          72         True      \n",
      "______________________________________________________________________\n",
      "ReLU                 [8, 14, 14]          0          False     \n",
      "______________________________________________________________________\n",
      "BatchNorm2d          [8, 14, 14]          16         True      \n",
      "______________________________________________________________________\n",
      "Conv2d               [8, 14, 14]          576        True      \n",
      "______________________________________________________________________\n",
      "ReLU                 [8, 14, 14]          0          False     \n",
      "______________________________________________________________________\n",
      "BatchNorm2d          [8, 14, 14]          16         True      \n",
      "______________________________________________________________________\n",
      "Conv2d               [8, 14, 14]          576        True      \n",
      "______________________________________________________________________\n",
      "ReLU                 [8, 14, 14]          0          False     \n",
      "______________________________________________________________________\n",
      "BatchNorm2d          [8, 14, 14]          16         True      \n",
      "______________________________________________________________________\n",
      "MergeLayer           [8, 14, 14]          0          False     \n",
      "______________________________________________________________________\n",
      "Conv2d               [16, 7, 7]           1,152      True      \n",
      "______________________________________________________________________\n",
      "ReLU                 [16, 7, 7]           0          False     \n",
      "______________________________________________________________________\n",
      "BatchNorm2d          [16, 7, 7]           32         True      \n",
      "______________________________________________________________________\n",
      "Conv2d               [16, 7, 7]           2,304      True      \n",
      "______________________________________________________________________\n",
      "ReLU                 [16, 7, 7]           0          False     \n",
      "______________________________________________________________________\n",
      "BatchNorm2d          [16, 7, 7]           32         True      \n",
      "______________________________________________________________________\n",
      "Conv2d               [16, 7, 7]           2,304      True      \n",
      "______________________________________________________________________\n",
      "ReLU                 [16, 7, 7]           0          False     \n",
      "______________________________________________________________________\n",
      "BatchNorm2d          [16, 7, 7]           32         True      \n",
      "______________________________________________________________________\n",
      "MergeLayer           [16, 7, 7]           0          False     \n",
      "______________________________________________________________________\n",
      "Conv2d               [32, 4, 4]           4,608      True      \n",
      "______________________________________________________________________\n",
      "ReLU                 [32, 4, 4]           0          False     \n",
      "______________________________________________________________________\n",
      "BatchNorm2d          [32, 4, 4]           64         True      \n",
      "______________________________________________________________________\n",
      "Conv2d               [32, 4, 4]           9,216      True      \n",
      "______________________________________________________________________\n",
      "ReLU                 [32, 4, 4]           0          False     \n",
      "______________________________________________________________________\n",
      "BatchNorm2d          [32, 4, 4]           64         True      \n",
      "______________________________________________________________________\n",
      "Conv2d               [32, 4, 4]           9,216      True      \n",
      "______________________________________________________________________\n",
      "ReLU                 [32, 4, 4]           0          False     \n",
      "______________________________________________________________________\n",
      "BatchNorm2d          [32, 4, 4]           64         True      \n",
      "______________________________________________________________________\n",
      "MergeLayer           [32, 4, 4]           0          False     \n",
      "______________________________________________________________________\n",
      "Conv2d               [16, 2, 2]           4,608      True      \n",
      "______________________________________________________________________\n",
      "ReLU                 [16, 2, 2]           0          False     \n",
      "______________________________________________________________________\n",
      "BatchNorm2d          [16, 2, 2]           32         True      \n",
      "______________________________________________________________________\n",
      "Conv2d               [16, 2, 2]           2,304      True      \n",
      "______________________________________________________________________\n",
      "ReLU                 [16, 2, 2]           0          False     \n",
      "______________________________________________________________________\n",
      "BatchNorm2d          [16, 2, 2]           32         True      \n",
      "______________________________________________________________________\n",
      "Conv2d               [16, 2, 2]           2,304      True      \n",
      "______________________________________________________________________\n",
      "ReLU                 [16, 2, 2]           0          False     \n",
      "______________________________________________________________________\n",
      "BatchNorm2d          [16, 2, 2]           32         True      \n",
      "______________________________________________________________________\n",
      "MergeLayer           [16, 2, 2]           0          False     \n",
      "______________________________________________________________________\n",
      "Conv2d               [10, 1, 1]           1,440      True      \n",
      "______________________________________________________________________\n",
      "ReLU                 [10, 1, 1]           0          False     \n",
      "______________________________________________________________________\n",
      "BatchNorm2d          [10, 1, 1]           20         True      \n",
      "______________________________________________________________________\n",
      "Flatten              [10]                 0          False     \n",
      "______________________________________________________________________\n",
      "\n",
      "Total params: 41,132\n",
      "Total trainable params: 41,132\n",
      "Total non-trainable params: 0\n",
      "\n"
     ]
    }
   ],
   "source": [
    "print(learn.summary())"
   ]
  },
  {
   "cell_type": "markdown",
   "metadata": {},
   "source": [
    "## fin"
   ]
  },
  {
   "cell_type": "code",
   "execution_count": null,
   "metadata": {
    "collapsed": true
   },
   "outputs": [],
   "source": []
  }
 ],
 "metadata": {
  "kernelspec": {
   "display_name": "Python 3",
   "language": "python",
   "name": "python3"
  },
  "language_info": {
   "codemirror_mode": {
    "name": "ipython",
    "version": 3
   },
   "file_extension": ".py",
   "mimetype": "text/x-python",
   "name": "python",
   "nbconvert_exporter": "python",
   "pygments_lexer": "ipython3",
   "version": "3.6.8"
  }
 },
 "nbformat": 4,
 "nbformat_minor": 1
}
